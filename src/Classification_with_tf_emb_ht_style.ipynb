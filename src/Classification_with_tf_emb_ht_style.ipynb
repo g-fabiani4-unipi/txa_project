{
 "cells": [
  {
   "cell_type": "code",
   "execution_count": 40,
   "id": "initial_id",
   "metadata": {
    "collapsed": true,
    "ExecuteTime": {
     "end_time": "2024-11-29T15:15:14.674560400Z",
     "start_time": "2024-11-29T15:15:14.659153500Z"
    }
   },
   "outputs": [],
   "source": [
    "import pandas as pd\n",
    "import os\n",
    "import numpy as np\n",
    "import pickle\n",
    "import string\n",
    "from nltk.corpus import stopwords\n",
    "from collections import Counter\n",
    "from sklearn.feature_extraction.text import TfidfTransformer\n",
    "import re"
   ]
  },
  {
   "cell_type": "code",
   "execution_count": 65,
   "outputs": [],
   "source": [
    "results_dir = '../results'\n",
    "style_csv = 'style_feats_train.csv'\n",
    "embs_csv = 'embs_all_train.csv'\n",
    "proc_train_pkl = 'stanza_proc_train.pkl'\n",
    "\n",
    "data_dir = \"../data\"\n",
    "training_sets_dir = \"haspeede2_dev\"\n",
    "training_file = \"haspeede2_dev_taskAB.tsv\"\n",
    "badwords_txt = \"lista_badwords.txt\""
   ],
   "metadata": {
    "collapsed": false,
    "ExecuteTime": {
     "end_time": "2024-11-29T15:30:55.044060300Z",
     "start_time": "2024-11-29T15:30:55.034102300Z"
    }
   },
   "id": "9afa40e72784a5c9"
  },
  {
   "cell_type": "code",
   "execution_count": 67,
   "outputs": [],
   "source": [
    "style_df = pd.read_csv(os.path.join(results_dir, style_csv), index_col=0)\n",
    "embs_df = pd.read_csv(os.path.join(results_dir, embs_csv), index_col=0)\n",
    "train_df = pd.read_table(os.path.join(data_dir, training_sets_dir, training_file), header= 0)\n",
    "with open(os.path.join(results_dir, proc_train_pkl), 'rb') as infile:\n",
    "    proc_train = pickle.load(infile)\n",
    "with open(os.path.join(data_dir, badwords_txt), 'r') as infile:\n",
    "    badwords = infile.readlines()\n",
    "    badwords = set([word.replace('\\n', '') for word in badwords])"
   ],
   "metadata": {
    "collapsed": false,
    "ExecuteTime": {
     "end_time": "2024-11-29T15:31:52.853117500Z",
     "start_time": "2024-11-29T15:31:48.900437300Z"
    }
   },
   "id": "b5dea55af372d5e0"
  },
  {
   "cell_type": "markdown",
   "source": [
    "Rapida estrazione dei lemmi mentre aspetto che Marco carichi la sua versione completa"
   ],
   "metadata": {
    "collapsed": false
   },
   "id": "658f25d82b4f89ac"
  },
  {
   "cell_type": "code",
   "execution_count": 11,
   "outputs": [
    {
     "name": "stdout",
     "output_type": "stream",
     "text": [
      "CPU times: total: 1min 5s\n",
      "Wall time: 1min 6s\n"
     ]
    },
    {
     "data": {
      "text/plain": "(6837, 5978)"
     },
     "execution_count": 11,
     "metadata": {},
     "output_type": "execute_result"
    }
   ],
   "source": [
    "%%time\n",
    "\n",
    "custom_punctuation = string.punctuation + \"’‘\" + '’' + '' + '``' + \"''\" + '..' + '....' + '“”' + '…' + '«»' + '–' + '\\\\\"'\n",
    "token_list = list()\n",
    "for row in proc_train:\n",
    "    for sentence in row['proc_text'].sentences:\n",
    "        for word in sentence.words:\n",
    "            if word.lemma.lower() not in stopwords.words('italian') and word.lemma.lower() not in custom_punctuation:\n",
    "                token_list.append(word.lemma.lower())\n",
    "token_set = set([word for word, count in Counter(token_list).items() if count>=2])\n",
    "token_df = []\n",
    "for row in proc_train:\n",
    "    token_row = {token: 0 for token in token_set}\n",
    "    for sentence in row['proc_text'].sentences:\n",
    "        for word in sentence.words:\n",
    "            if word.lemma.lower() in token_set:\n",
    "                token_row[word.lemma.lower()] += 1\n",
    "    token_df.append(token_row)\n",
    "\n",
    "token_df = pd.DataFrame(token_df)\n",
    "token_df.shape"
   ],
   "metadata": {
    "collapsed": false,
    "ExecuteTime": {
     "end_time": "2024-11-29T15:05:52.351838100Z",
     "start_time": "2024-11-29T15:04:46.250640700Z"
    }
   },
   "id": "61f8d04c835d1f51"
  },
  {
   "cell_type": "code",
   "execution_count": 39,
   "outputs": [],
   "source": [
    "tfidf_transformer = TfidfTransformer()\n",
    "tfidf_matrix = tfidf_transformer.fit_transform(token_df)\n",
    "token_tfidf_df = pd.DataFrame(tfidf_matrix.toarray(), columns=token_df.columns)"
   ],
   "metadata": {
    "collapsed": false,
    "ExecuteTime": {
     "end_time": "2024-11-29T15:14:56.006028400Z",
     "start_time": "2024-11-29T15:14:54.653499600Z"
    }
   },
   "id": "e5aa987252a0d6e2"
  },
  {
   "cell_type": "markdown",
   "source": [
    "hashtags?"
   ],
   "metadata": {
    "collapsed": false
   },
   "id": "7a62d1eb6da8f7b7"
  },
  {
   "cell_type": "code",
   "execution_count": 61,
   "outputs": [
    {
     "data": {
      "text/plain": "(6837, 97)"
     },
     "execution_count": 61,
     "metadata": {},
     "output_type": "execute_result"
    }
   ],
   "source": [
    "hashtag_re = re.compile(r'#([\\w]+)')\n",
    "texts = train_df['text '].values\n",
    "ht_list = []\n",
    "ht_rows = []\n",
    "\n",
    "for tweet in texts:\n",
    "    hts = [ht.lower() for ht in hashtag_re.findall(tweet)]\n",
    "    ht_list += hts\n",
    "    ht_rows.append(hts)\n",
    "    \n",
    "ht_set = set([ht for ht, count in Counter(ht_list).items() if count >= 2])\n",
    "# we remove hashtags that are also lemmas (avrà senso?)\n",
    "ht_set -= token_set\n",
    "\n",
    "hashtag_df = []\n",
    "for ht_list in ht_rows:\n",
    "    row = {ht: 0 for ht in ht_set}\n",
    "    for hashtag in ht_list:\n",
    "        if hashtag in ht_set:\n",
    "            row[hashtag] += 1\n",
    "    hashtag_df.append(row)\n",
    "\n",
    "hashtag_df = pd.DataFrame(hashtag_df)\n",
    "hashtag_df.shape"
   ],
   "metadata": {
    "collapsed": false,
    "ExecuteTime": {
     "end_time": "2024-11-29T15:26:04.635845800Z",
     "start_time": "2024-11-29T15:26:04.424185800Z"
    }
   },
   "id": "9ddeeaa5268766c3"
  },
  {
   "cell_type": "markdown",
   "source": [
    "badwords?"
   ],
   "metadata": {
    "collapsed": false
   },
   "id": "dbbd935c9d13b082"
  },
  {
   "cell_type": "code",
   "execution_count": 70,
   "outputs": [],
   "source": [
    "badwords_0_1 = []\n",
    "for row in proc_train:\n",
    "    counter = 0\n",
    "    for sentence in row['proc_text'].sentences:\n",
    "        for word in sentence.words:\n",
    "            if word.lemma.lower() in badwords:\n",
    "                counter += 1\n",
    "    badwords_0_1.append(counter)\n",
    "style_df['badwords_count'] = badwords_0_1"
   ],
   "metadata": {
    "collapsed": false,
    "ExecuteTime": {
     "end_time": "2024-11-29T15:33:55.588615300Z",
     "start_time": "2024-11-29T15:33:55.501966Z"
    }
   },
   "id": "e8cb3e70a9e9f792"
  },
  {
   "cell_type": "markdown",
   "source": [
    "merge dfs"
   ],
   "metadata": {
    "collapsed": false
   },
   "id": "437a14f396c1b486"
  },
  {
   "cell_type": "code",
   "execution_count": 71,
   "outputs": [
    {
     "data": {
      "text/plain": "((6837, 95), (6837, 128), (6837, 5978), (6837, 97))"
     },
     "execution_count": 71,
     "metadata": {},
     "output_type": "execute_result"
    }
   ],
   "source": [
    "style_df.shape, embs_df.shape, token_tfidf_df.shape, hashtag_df.shape"
   ],
   "metadata": {
    "collapsed": false,
    "ExecuteTime": {
     "end_time": "2024-11-29T15:33:59.428597Z",
     "start_time": "2024-11-29T15:33:59.418529100Z"
    }
   },
   "id": "b1fa206fb8ba6813"
  },
  {
   "cell_type": "code",
   "execution_count": 72,
   "outputs": [
    {
     "data": {
      "text/plain": "(6837, 6298)"
     },
     "execution_count": 72,
     "metadata": {},
     "output_type": "execute_result"
    }
   ],
   "source": [
    "style_df = style_df.reset_index(drop=True)\n",
    "embs_df = embs_df.reset_index(drop=True)\n",
    "token_tfidf_df = token_tfidf_df.reset_index(drop=True)\n",
    "hashtag_df = hashtag_df.reset_index(drop=True)\n",
    "train_df = pd.concat([style_df, embs_df, token_tfidf_df, hashtag_df], axis=1)\n",
    "train_df.shape"
   ],
   "metadata": {
    "collapsed": false,
    "ExecuteTime": {
     "end_time": "2024-11-29T15:34:02.748083700Z",
     "start_time": "2024-11-29T15:34:02.587847600Z"
    }
   },
   "id": "6eb3f3ebcda9bd3b"
  },
  {
   "cell_type": "markdown",
   "source": [
    "## model"
   ],
   "metadata": {
    "collapsed": false
   },
   "id": "3676abe0a456bca8"
  },
  {
   "cell_type": "code",
   "execution_count": 89,
   "outputs": [],
   "source": [
    "from sklearn.preprocessing import MinMaxScaler\n",
    "from sklearn.svm import LinearSVC, SVC\n",
    "from sklearn.pipeline import Pipeline\n",
    "from sklearn.model_selection import cross_validate, StratifiedKFold, cross_val_predict\n",
    "from sklearn.metrics import make_scorer, precision_score, recall_score, f1_score, ConfusionMatrixDisplay\n",
    "import matplotlib.pyplot as plt"
   ],
   "metadata": {
    "collapsed": false,
    "ExecuteTime": {
     "end_time": "2024-11-29T15:54:09.143629100Z",
     "start_time": "2024-11-29T15:54:06.445735500Z"
    }
   },
   "id": "75d5be81d6c1aae1"
  },
  {
   "cell_type": "code",
   "execution_count": 75,
   "outputs": [],
   "source": [
    "train_X = train_df.drop(['hs', 'stereotype', 'raw_text'], axis=1)\n",
    "train_y = train_df['hs']"
   ],
   "metadata": {
    "collapsed": false,
    "ExecuteTime": {
     "end_time": "2024-11-29T15:35:21.996628100Z",
     "start_time": "2024-11-29T15:35:21.906464400Z"
    }
   },
   "id": "8dc6806b611d3f6e"
  },
  {
   "cell_type": "code",
   "execution_count": 91,
   "outputs": [
    {
     "data": {
      "text/plain": "Pipeline(steps=[('scaler', MinMaxScaler()),\n                ('clf',\n                 SVC(C=1000.0, degree=4, gamma=0.0001, kernel='sigmoid',\n                     max_iter=5000))],\n         verbose=True)",
      "text/html": "<style>#sk-container-id-3 {\n  /* Definition of color scheme common for light and dark mode */\n  --sklearn-color-text: black;\n  --sklearn-color-line: gray;\n  /* Definition of color scheme for unfitted estimators */\n  --sklearn-color-unfitted-level-0: #fff5e6;\n  --sklearn-color-unfitted-level-1: #f6e4d2;\n  --sklearn-color-unfitted-level-2: #ffe0b3;\n  --sklearn-color-unfitted-level-3: chocolate;\n  /* Definition of color scheme for fitted estimators */\n  --sklearn-color-fitted-level-0: #f0f8ff;\n  --sklearn-color-fitted-level-1: #d4ebff;\n  --sklearn-color-fitted-level-2: #b3dbfd;\n  --sklearn-color-fitted-level-3: cornflowerblue;\n\n  /* Specific color for light theme */\n  --sklearn-color-text-on-default-background: var(--sg-text-color, var(--theme-code-foreground, var(--jp-content-font-color1, black)));\n  --sklearn-color-background: var(--sg-background-color, var(--theme-background, var(--jp-layout-color0, white)));\n  --sklearn-color-border-box: var(--sg-text-color, var(--theme-code-foreground, var(--jp-content-font-color1, black)));\n  --sklearn-color-icon: #696969;\n\n  @media (prefers-color-scheme: dark) {\n    /* Redefinition of color scheme for dark theme */\n    --sklearn-color-text-on-default-background: var(--sg-text-color, var(--theme-code-foreground, var(--jp-content-font-color1, white)));\n    --sklearn-color-background: var(--sg-background-color, var(--theme-background, var(--jp-layout-color0, #111)));\n    --sklearn-color-border-box: var(--sg-text-color, var(--theme-code-foreground, var(--jp-content-font-color1, white)));\n    --sklearn-color-icon: #878787;\n  }\n}\n\n#sk-container-id-3 {\n  color: var(--sklearn-color-text);\n}\n\n#sk-container-id-3 pre {\n  padding: 0;\n}\n\n#sk-container-id-3 input.sk-hidden--visually {\n  border: 0;\n  clip: rect(1px 1px 1px 1px);\n  clip: rect(1px, 1px, 1px, 1px);\n  height: 1px;\n  margin: -1px;\n  overflow: hidden;\n  padding: 0;\n  position: absolute;\n  width: 1px;\n}\n\n#sk-container-id-3 div.sk-dashed-wrapped {\n  border: 1px dashed var(--sklearn-color-line);\n  margin: 0 0.4em 0.5em 0.4em;\n  box-sizing: border-box;\n  padding-bottom: 0.4em;\n  background-color: var(--sklearn-color-background);\n}\n\n#sk-container-id-3 div.sk-container {\n  /* jupyter's `normalize.less` sets `[hidden] { display: none; }`\n     but bootstrap.min.css set `[hidden] { display: none !important; }`\n     so we also need the `!important` here to be able to override the\n     default hidden behavior on the sphinx rendered scikit-learn.org.\n     See: https://github.com/scikit-learn/scikit-learn/issues/21755 */\n  display: inline-block !important;\n  position: relative;\n}\n\n#sk-container-id-3 div.sk-text-repr-fallback {\n  display: none;\n}\n\ndiv.sk-parallel-item,\ndiv.sk-serial,\ndiv.sk-item {\n  /* draw centered vertical line to link estimators */\n  background-image: linear-gradient(var(--sklearn-color-text-on-default-background), var(--sklearn-color-text-on-default-background));\n  background-size: 2px 100%;\n  background-repeat: no-repeat;\n  background-position: center center;\n}\n\n/* Parallel-specific style estimator block */\n\n#sk-container-id-3 div.sk-parallel-item::after {\n  content: \"\";\n  width: 100%;\n  border-bottom: 2px solid var(--sklearn-color-text-on-default-background);\n  flex-grow: 1;\n}\n\n#sk-container-id-3 div.sk-parallel {\n  display: flex;\n  align-items: stretch;\n  justify-content: center;\n  background-color: var(--sklearn-color-background);\n  position: relative;\n}\n\n#sk-container-id-3 div.sk-parallel-item {\n  display: flex;\n  flex-direction: column;\n}\n\n#sk-container-id-3 div.sk-parallel-item:first-child::after {\n  align-self: flex-end;\n  width: 50%;\n}\n\n#sk-container-id-3 div.sk-parallel-item:last-child::after {\n  align-self: flex-start;\n  width: 50%;\n}\n\n#sk-container-id-3 div.sk-parallel-item:only-child::after {\n  width: 0;\n}\n\n/* Serial-specific style estimator block */\n\n#sk-container-id-3 div.sk-serial {\n  display: flex;\n  flex-direction: column;\n  align-items: center;\n  background-color: var(--sklearn-color-background);\n  padding-right: 1em;\n  padding-left: 1em;\n}\n\n\n/* Toggleable style: style used for estimator/Pipeline/ColumnTransformer box that is\nclickable and can be expanded/collapsed.\n- Pipeline and ColumnTransformer use this feature and define the default style\n- Estimators will overwrite some part of the style using the `sk-estimator` class\n*/\n\n/* Pipeline and ColumnTransformer style (default) */\n\n#sk-container-id-3 div.sk-toggleable {\n  /* Default theme specific background. It is overwritten whether we have a\n  specific estimator or a Pipeline/ColumnTransformer */\n  background-color: var(--sklearn-color-background);\n}\n\n/* Toggleable label */\n#sk-container-id-3 label.sk-toggleable__label {\n  cursor: pointer;\n  display: block;\n  width: 100%;\n  margin-bottom: 0;\n  padding: 0.5em;\n  box-sizing: border-box;\n  text-align: center;\n}\n\n#sk-container-id-3 label.sk-toggleable__label-arrow:before {\n  /* Arrow on the left of the label */\n  content: \"▸\";\n  float: left;\n  margin-right: 0.25em;\n  color: var(--sklearn-color-icon);\n}\n\n#sk-container-id-3 label.sk-toggleable__label-arrow:hover:before {\n  color: var(--sklearn-color-text);\n}\n\n/* Toggleable content - dropdown */\n\n#sk-container-id-3 div.sk-toggleable__content {\n  max-height: 0;\n  max-width: 0;\n  overflow: hidden;\n  text-align: left;\n  /* unfitted */\n  background-color: var(--sklearn-color-unfitted-level-0);\n}\n\n#sk-container-id-3 div.sk-toggleable__content.fitted {\n  /* fitted */\n  background-color: var(--sklearn-color-fitted-level-0);\n}\n\n#sk-container-id-3 div.sk-toggleable__content pre {\n  margin: 0.2em;\n  border-radius: 0.25em;\n  color: var(--sklearn-color-text);\n  /* unfitted */\n  background-color: var(--sklearn-color-unfitted-level-0);\n}\n\n#sk-container-id-3 div.sk-toggleable__content.fitted pre {\n  /* unfitted */\n  background-color: var(--sklearn-color-fitted-level-0);\n}\n\n#sk-container-id-3 input.sk-toggleable__control:checked~div.sk-toggleable__content {\n  /* Expand drop-down */\n  max-height: 200px;\n  max-width: 100%;\n  overflow: auto;\n}\n\n#sk-container-id-3 input.sk-toggleable__control:checked~label.sk-toggleable__label-arrow:before {\n  content: \"▾\";\n}\n\n/* Pipeline/ColumnTransformer-specific style */\n\n#sk-container-id-3 div.sk-label input.sk-toggleable__control:checked~label.sk-toggleable__label {\n  color: var(--sklearn-color-text);\n  background-color: var(--sklearn-color-unfitted-level-2);\n}\n\n#sk-container-id-3 div.sk-label.fitted input.sk-toggleable__control:checked~label.sk-toggleable__label {\n  background-color: var(--sklearn-color-fitted-level-2);\n}\n\n/* Estimator-specific style */\n\n/* Colorize estimator box */\n#sk-container-id-3 div.sk-estimator input.sk-toggleable__control:checked~label.sk-toggleable__label {\n  /* unfitted */\n  background-color: var(--sklearn-color-unfitted-level-2);\n}\n\n#sk-container-id-3 div.sk-estimator.fitted input.sk-toggleable__control:checked~label.sk-toggleable__label {\n  /* fitted */\n  background-color: var(--sklearn-color-fitted-level-2);\n}\n\n#sk-container-id-3 div.sk-label label.sk-toggleable__label,\n#sk-container-id-3 div.sk-label label {\n  /* The background is the default theme color */\n  color: var(--sklearn-color-text-on-default-background);\n}\n\n/* On hover, darken the color of the background */\n#sk-container-id-3 div.sk-label:hover label.sk-toggleable__label {\n  color: var(--sklearn-color-text);\n  background-color: var(--sklearn-color-unfitted-level-2);\n}\n\n/* Label box, darken color on hover, fitted */\n#sk-container-id-3 div.sk-label.fitted:hover label.sk-toggleable__label.fitted {\n  color: var(--sklearn-color-text);\n  background-color: var(--sklearn-color-fitted-level-2);\n}\n\n/* Estimator label */\n\n#sk-container-id-3 div.sk-label label {\n  font-family: monospace;\n  font-weight: bold;\n  display: inline-block;\n  line-height: 1.2em;\n}\n\n#sk-container-id-3 div.sk-label-container {\n  text-align: center;\n}\n\n/* Estimator-specific */\n#sk-container-id-3 div.sk-estimator {\n  font-family: monospace;\n  border: 1px dotted var(--sklearn-color-border-box);\n  border-radius: 0.25em;\n  box-sizing: border-box;\n  margin-bottom: 0.5em;\n  /* unfitted */\n  background-color: var(--sklearn-color-unfitted-level-0);\n}\n\n#sk-container-id-3 div.sk-estimator.fitted {\n  /* fitted */\n  background-color: var(--sklearn-color-fitted-level-0);\n}\n\n/* on hover */\n#sk-container-id-3 div.sk-estimator:hover {\n  /* unfitted */\n  background-color: var(--sklearn-color-unfitted-level-2);\n}\n\n#sk-container-id-3 div.sk-estimator.fitted:hover {\n  /* fitted */\n  background-color: var(--sklearn-color-fitted-level-2);\n}\n\n/* Specification for estimator info (e.g. \"i\" and \"?\") */\n\n/* Common style for \"i\" and \"?\" */\n\n.sk-estimator-doc-link,\na:link.sk-estimator-doc-link,\na:visited.sk-estimator-doc-link {\n  float: right;\n  font-size: smaller;\n  line-height: 1em;\n  font-family: monospace;\n  background-color: var(--sklearn-color-background);\n  border-radius: 1em;\n  height: 1em;\n  width: 1em;\n  text-decoration: none !important;\n  margin-left: 1ex;\n  /* unfitted */\n  border: var(--sklearn-color-unfitted-level-1) 1pt solid;\n  color: var(--sklearn-color-unfitted-level-1);\n}\n\n.sk-estimator-doc-link.fitted,\na:link.sk-estimator-doc-link.fitted,\na:visited.sk-estimator-doc-link.fitted {\n  /* fitted */\n  border: var(--sklearn-color-fitted-level-1) 1pt solid;\n  color: var(--sklearn-color-fitted-level-1);\n}\n\n/* On hover */\ndiv.sk-estimator:hover .sk-estimator-doc-link:hover,\n.sk-estimator-doc-link:hover,\ndiv.sk-label-container:hover .sk-estimator-doc-link:hover,\n.sk-estimator-doc-link:hover {\n  /* unfitted */\n  background-color: var(--sklearn-color-unfitted-level-3);\n  color: var(--sklearn-color-background);\n  text-decoration: none;\n}\n\ndiv.sk-estimator.fitted:hover .sk-estimator-doc-link.fitted:hover,\n.sk-estimator-doc-link.fitted:hover,\ndiv.sk-label-container:hover .sk-estimator-doc-link.fitted:hover,\n.sk-estimator-doc-link.fitted:hover {\n  /* fitted */\n  background-color: var(--sklearn-color-fitted-level-3);\n  color: var(--sklearn-color-background);\n  text-decoration: none;\n}\n\n/* Span, style for the box shown on hovering the info icon */\n.sk-estimator-doc-link span {\n  display: none;\n  z-index: 9999;\n  position: relative;\n  font-weight: normal;\n  right: .2ex;\n  padding: .5ex;\n  margin: .5ex;\n  width: min-content;\n  min-width: 20ex;\n  max-width: 50ex;\n  color: var(--sklearn-color-text);\n  box-shadow: 2pt 2pt 4pt #999;\n  /* unfitted */\n  background: var(--sklearn-color-unfitted-level-0);\n  border: .5pt solid var(--sklearn-color-unfitted-level-3);\n}\n\n.sk-estimator-doc-link.fitted span {\n  /* fitted */\n  background: var(--sklearn-color-fitted-level-0);\n  border: var(--sklearn-color-fitted-level-3);\n}\n\n.sk-estimator-doc-link:hover span {\n  display: block;\n}\n\n/* \"?\"-specific style due to the `<a>` HTML tag */\n\n#sk-container-id-3 a.estimator_doc_link {\n  float: right;\n  font-size: 1rem;\n  line-height: 1em;\n  font-family: monospace;\n  background-color: var(--sklearn-color-background);\n  border-radius: 1rem;\n  height: 1rem;\n  width: 1rem;\n  text-decoration: none;\n  /* unfitted */\n  color: var(--sklearn-color-unfitted-level-1);\n  border: var(--sklearn-color-unfitted-level-1) 1pt solid;\n}\n\n#sk-container-id-3 a.estimator_doc_link.fitted {\n  /* fitted */\n  border: var(--sklearn-color-fitted-level-1) 1pt solid;\n  color: var(--sklearn-color-fitted-level-1);\n}\n\n/* On hover */\n#sk-container-id-3 a.estimator_doc_link:hover {\n  /* unfitted */\n  background-color: var(--sklearn-color-unfitted-level-3);\n  color: var(--sklearn-color-background);\n  text-decoration: none;\n}\n\n#sk-container-id-3 a.estimator_doc_link.fitted:hover {\n  /* fitted */\n  background-color: var(--sklearn-color-fitted-level-3);\n}\n</style><div id=\"sk-container-id-3\" class=\"sk-top-container\"><div class=\"sk-text-repr-fallback\"><pre>Pipeline(steps=[(&#x27;scaler&#x27;, MinMaxScaler()),\n                (&#x27;clf&#x27;,\n                 SVC(C=1000.0, degree=4, gamma=0.0001, kernel=&#x27;sigmoid&#x27;,\n                     max_iter=5000))],\n         verbose=True)</pre><b>In a Jupyter environment, please rerun this cell to show the HTML representation or trust the notebook. <br />On GitHub, the HTML representation is unable to render, please try loading this page with nbviewer.org.</b></div><div class=\"sk-container\" hidden><div class=\"sk-item sk-dashed-wrapped\"><div class=\"sk-label-container\"><div class=\"sk-label  sk-toggleable\"><input class=\"sk-toggleable__control sk-hidden--visually\" id=\"sk-estimator-id-7\" type=\"checkbox\" ><label for=\"sk-estimator-id-7\" class=\"sk-toggleable__label  sk-toggleable__label-arrow \">&nbsp;&nbsp;Pipeline<a class=\"sk-estimator-doc-link \" rel=\"noreferrer\" target=\"_blank\" href=\"https://scikit-learn.org/1.5/modules/generated/sklearn.pipeline.Pipeline.html\">?<span>Documentation for Pipeline</span></a><span class=\"sk-estimator-doc-link \">i<span>Not fitted</span></span></label><div class=\"sk-toggleable__content \"><pre>Pipeline(steps=[(&#x27;scaler&#x27;, MinMaxScaler()),\n                (&#x27;clf&#x27;,\n                 SVC(C=1000.0, degree=4, gamma=0.0001, kernel=&#x27;sigmoid&#x27;,\n                     max_iter=5000))],\n         verbose=True)</pre></div> </div></div><div class=\"sk-serial\"><div class=\"sk-item\"><div class=\"sk-estimator  sk-toggleable\"><input class=\"sk-toggleable__control sk-hidden--visually\" id=\"sk-estimator-id-8\" type=\"checkbox\" ><label for=\"sk-estimator-id-8\" class=\"sk-toggleable__label  sk-toggleable__label-arrow \">&nbsp;MinMaxScaler<a class=\"sk-estimator-doc-link \" rel=\"noreferrer\" target=\"_blank\" href=\"https://scikit-learn.org/1.5/modules/generated/sklearn.preprocessing.MinMaxScaler.html\">?<span>Documentation for MinMaxScaler</span></a></label><div class=\"sk-toggleable__content \"><pre>MinMaxScaler()</pre></div> </div></div><div class=\"sk-item\"><div class=\"sk-estimator  sk-toggleable\"><input class=\"sk-toggleable__control sk-hidden--visually\" id=\"sk-estimator-id-9\" type=\"checkbox\" ><label for=\"sk-estimator-id-9\" class=\"sk-toggleable__label  sk-toggleable__label-arrow \">&nbsp;SVC<a class=\"sk-estimator-doc-link \" rel=\"noreferrer\" target=\"_blank\" href=\"https://scikit-learn.org/1.5/modules/generated/sklearn.svm.SVC.html\">?<span>Documentation for SVC</span></a></label><div class=\"sk-toggleable__content \"><pre>SVC(C=1000.0, degree=4, gamma=0.0001, kernel=&#x27;sigmoid&#x27;, max_iter=5000)</pre></div> </div></div></div></div></div></div>"
     },
     "execution_count": 91,
     "metadata": {},
     "output_type": "execute_result"
    }
   ],
   "source": [
    "# avevo fatto un po' di hyperparameter tuning\n",
    "\n",
    "pipeline = Pipeline([\n",
    "    ('scaler', MinMaxScaler()),\n",
    "    ('clf', SVC(max_iter=5000, kernel='sigmoid', gamma=0.0001, degree=4, C=1000.0))\n",
    "    ], verbose=True)\n",
    "\n",
    "pipeline"
   ],
   "metadata": {
    "collapsed": false,
    "ExecuteTime": {
     "end_time": "2024-11-29T15:56:00.397130900Z",
     "start_time": "2024-11-29T15:56:00.382239900Z"
    }
   },
   "id": "cb42ef0a1b0e58"
  },
  {
   "cell_type": "code",
   "execution_count": 81,
   "outputs": [],
   "source": [
    "splitter = StratifiedKFold(n_splits=5, shuffle=True, random_state=42)\n",
    "scoring = {\n",
    "    'accuracy': 'accuracy',\n",
    "    'precision_macro': make_scorer(precision_score, average='macro', zero_division=0),\n",
    "    'recall_macro': make_scorer(recall_score, average='macro', zero_division=0),\n",
    "    'f1_macro': make_scorer(f1_score, average='macro', zero_division=0),\n",
    "    'f1_positive': make_scorer(f1_score, pos_label=1, zero_division=0)\n",
    "}"
   ],
   "metadata": {
    "collapsed": false,
    "ExecuteTime": {
     "end_time": "2024-11-29T15:37:25.149285900Z",
     "start_time": "2024-11-29T15:37:25.138192800Z"
    }
   },
   "id": "2e53d1e441da6b94"
  },
  {
   "cell_type": "code",
   "execution_count": 83,
   "outputs": [
    {
     "name": "stdout",
     "output_type": "stream",
     "text": [
      "[Pipeline] ............ (step 1 of 2) Processing scaler, total=   0.7s\n",
      "[Pipeline] ............... (step 2 of 2) Processing clf, total=  46.0s\n",
      "[Pipeline] ............ (step 1 of 2) Processing scaler, total=   0.4s\n",
      "[Pipeline] ............... (step 2 of 2) Processing clf, total=  47.9s\n",
      "[Pipeline] ............ (step 1 of 2) Processing scaler, total=   0.4s\n",
      "[Pipeline] ............... (step 2 of 2) Processing clf, total=  49.0s\n",
      "[Pipeline] ............ (step 1 of 2) Processing scaler, total=   0.4s\n",
      "[Pipeline] ............... (step 2 of 2) Processing clf, total=  48.0s\n",
      "[Pipeline] ............ (step 1 of 2) Processing scaler, total=   0.4s\n",
      "[Pipeline] ............... (step 2 of 2) Processing clf, total=  48.0s\n",
      "Mean macro-f1: 0.777\n",
      "Standard deviation macro-f1: 0.008\n",
      "CPU times: total: 5min\n",
      "Wall time: 5min\n"
     ]
    }
   ],
   "source": [
    "%%time\n",
    "\n",
    "scores = cross_validate(pipeline, train_X, train_y, scoring=scoring, cv=splitter)\n",
    "print(\"Mean macro-f1:\", np.mean(scores['test_f1_macro']).round(3))\n",
    "print(\"Standard deviation macro-f1:\", np.std(scores['test_f1_macro']).round(3))"
   ],
   "metadata": {
    "collapsed": false,
    "ExecuteTime": {
     "end_time": "2024-11-29T15:44:50.878822100Z",
     "start_time": "2024-11-29T15:39:50.738253800Z"
    }
   },
   "id": "da7df8ebaa09f6b8"
  },
  {
   "cell_type": "code",
   "execution_count": 92,
   "outputs": [
    {
     "name": "stdout",
     "output_type": "stream",
     "text": [
      "[Pipeline] ............ (step 1 of 2) Processing scaler, total=   0.4s\n",
      "[Pipeline] ............... (step 2 of 2) Processing clf, total=  49.8s\n",
      "[Pipeline] ............ (step 1 of 2) Processing scaler, total=   0.4s\n",
      "[Pipeline] ............... (step 2 of 2) Processing clf, total=  49.8s\n",
      "[Pipeline] ............ (step 1 of 2) Processing scaler, total=   0.4s\n",
      "[Pipeline] ............... (step 2 of 2) Processing clf, total=  49.7s\n",
      "[Pipeline] ............ (step 1 of 2) Processing scaler, total=   0.4s\n",
      "[Pipeline] ............... (step 2 of 2) Processing clf, total=  51.8s\n",
      "[Pipeline] ............ (step 1 of 2) Processing scaler, total=   0.4s\n",
      "[Pipeline] ............... (step 2 of 2) Processing clf, total=  54.6s\n"
     ]
    },
    {
     "data": {
      "text/plain": "<Figure size 640x480 with 2 Axes>",
      "image/png": "[encoded data removed]"
     },
     "metadata": {},
     "output_type": "display_data"
    }
   ],
   "source": [
    "y_pred = cross_val_predict(pipeline, train_X, train_y, cv=splitter)\n",
    "ConfusionMatrixDisplay.from_predictions(y_pred=y_pred, y_true=train_y, cmap='Greens', normalize='true')\n",
    "plt.show()"
   ],
   "metadata": {
    "collapsed": false,
    "ExecuteTime": {
     "end_time": "2024-11-29T16:01:23.419342700Z",
     "start_time": "2024-11-29T15:56:03.267568Z"
    }
   },
   "id": "5850824084edaf8b"
  },
  {
   "cell_type": "code",
   "execution_count": null,
   "outputs": [],
   "source": [],
   "metadata": {
    "collapsed": false
   },
   "id": "b17929c1a5d286d7"
  },
  {
   "cell_type": "code",
   "execution_count": null,
   "outputs": [],
   "source": [],
   "metadata": {
    "collapsed": false
   },
   "id": "ccbe9fc2015abd1a"
  }
 ],
 "metadata": {
  "kernelspec": {
   "display_name": "Python 3",
   "language": "python",
   "name": "python3"
  },
  "language_info": {
   "codemirror_mode": {
    "name": "ipython",
    "version": 2
   },
   "file_extension": ".py",
   "mimetype": "text/x-python",
   "name": "python",
   "nbconvert_exporter": "python",
   "pygments_lexer": "ipython2",
   "version": "2.7.6"
  }
 },
 "nbformat": 4,
 "nbformat_minor": 5
}
