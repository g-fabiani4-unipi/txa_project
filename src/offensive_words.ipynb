{
 "cells": [
  {
   "cell_type": "code",
   "execution_count": 1,
   "metadata": {},
   "outputs": [],
   "source": [
    "from pathlib import Path\n",
    "import csv\n",
    "import pickle"
   ]
  },
  {
   "cell_type": "markdown",
   "metadata": {},
   "source": [
    "## Load the dataset"
   ]
  },
  {
   "cell_type": "code",
   "execution_count": 2,
   "metadata": {},
   "outputs": [],
   "source": [
    "data_dir = Path(\"../data\")\n",
    "hurtlex_file = \"revised_hurtlex.tsv\"\n",
    "\n",
    "lexicon_list = []\n",
    "with open(data_dir / hurtlex_file) as infile:\n",
    "    reader = csv.DictReader(infile, delimiter='\\t')\n",
    "    for row in reader:\n",
    "        lexicon_list.append(row)"
   ]
  },
  {
   "cell_type": "code",
   "execution_count": 3,
   "metadata": {},
   "outputs": [
    {
     "data": {
      "text/plain": [
       "dict_keys(['pos', 'category', 'lemma', 'offensiveness_score'])"
      ]
     },
     "execution_count": 3,
     "metadata": {},
     "output_type": "execute_result"
    }
   ],
   "source": [
    "lexicon_list[0].keys()"
   ]
  },
  {
   "cell_type": "code",
   "execution_count": 4,
   "metadata": {},
   "outputs": [
    {
     "data": {
      "text/plain": [
       "['qas', 'ddf', '']"
      ]
     },
     "execution_count": 4,
     "metadata": {},
     "output_type": "execute_result"
    }
   ],
   "source": [
    "lexicon_list[10]['category'].split(';')"
   ]
  },
  {
   "cell_type": "code",
   "execution_count": 5,
   "metadata": {},
   "outputs": [],
   "source": [
    "def get_score(item):\n",
    "    try:\n",
    "        score = float(item['offensiveness_score'])\n",
    "    except TypeError:\n",
    "        score = 0\n",
    "    return score"
   ]
  },
  {
   "cell_type": "code",
   "execution_count": 6,
   "metadata": {},
   "outputs": [],
   "source": [
    "def get_categories(item):\n",
    "    category_list = item['category'].split(';')\n",
    "    categories = [cat.strip() for cat in category_list if cat]\n",
    "    return categories"
   ]
  },
  {
   "cell_type": "code",
   "execution_count": 7,
   "metadata": {},
   "outputs": [
    {
     "data": {
      "text/plain": [
       "{'an',\n",
       " 'asf',\n",
       " 'asm',\n",
       " 'cds',\n",
       " 'ddf',\n",
       " 'ddp',\n",
       " 'dfc',\n",
       " 'dm',\n",
       " 'dmc',\n",
       " 'is',\n",
       " 'mal',\n",
       " 'mi',\n",
       " 'min',\n",
       " 'om',\n",
       " 'op',\n",
       " 'or',\n",
       " 'pa',\n",
       " 'pr',\n",
       " 'ps',\n",
       " 'qas',\n",
       " 'rci',\n",
       " 're',\n",
       " 'svp'}"
      ]
     },
     "execution_count": 7,
     "metadata": {},
     "output_type": "execute_result"
    }
   ],
   "source": [
    "set([cat\n",
    "     for item in lexicon_list\n",
    "     for cat in get_categories(item)])"
   ]
  },
  {
   "cell_type": "code",
   "execution_count": 8,
   "metadata": {},
   "outputs": [],
   "source": [
    "lexicon_dict = {\n",
    "    item['lemma'] : (get_score(item), get_categories(item))\n",
    "    for item in lexicon_list\n",
    "}"
   ]
  },
  {
   "cell_type": "code",
   "execution_count": 9,
   "metadata": {},
   "outputs": [
    {
     "data": {
      "text/plain": [
       "(1.9338529209592425, ['qas'])"
      ]
     },
     "execution_count": 9,
     "metadata": {},
     "output_type": "execute_result"
    }
   ],
   "source": [
    "lexicon_dict.get(\"zavorra\")"
   ]
  },
  {
   "cell_type": "markdown",
   "metadata": {},
   "source": [
    "## Annotate Documents"
   ]
  },
  {
   "cell_type": "markdown",
   "metadata": {},
   "source": [
    "### Global offensiveness score"
   ]
  },
  {
   "cell_type": "markdown",
   "metadata": {},
   "source": [
    "We simply attribute to each document an offensiveness score which is the sum of the scores of all lemmas in the document.\n",
    "\n",
    "We use the text already lemmatized with the Stanza pipeline."
   ]
  },
  {
   "cell_type": "code",
   "execution_count": 10,
   "metadata": {},
   "outputs": [
    {
     "name": "stderr",
     "output_type": "stream",
     "text": [
      "/home/fab/.anaconda3/envs/txa_project/lib/python3.12/site-packages/tqdm/auto.py:21: TqdmWarning: IProgress not found. Please update jupyter and ipywidgets. See https://ipywidgets.readthedocs.io/en/stable/user_install.html\n",
      "  from .autonotebook import tqdm as notebook_tqdm\n"
     ]
    }
   ],
   "source": [
    "results_dir = Path(\"../results\")\n",
    "pickle_file = \"stanza_proc_train.pkl\"\n",
    "\n",
    "with open(results_dir / pickle_file, 'rb') as infile:\n",
    "    train_set = pickle.load(infile)"
   ]
  },
  {
   "cell_type": "code",
   "execution_count": 11,
   "metadata": {},
   "outputs": [],
   "source": [
    "doc = train_set[100]['proc_text']"
   ]
  },
  {
   "cell_type": "code",
   "execution_count": 12,
   "metadata": {},
   "outputs": [],
   "source": [
    "def get_offensiveness_score(document):\n",
    "    score = 0\n",
    "    for word in document['proc_text'].iter_words():\n",
    "        score += lexicon_dict.get(word.lemma, (0, None))[0]\n",
    "    return score, score / document['proc_text'].num_tokens"
   ]
  },
  {
   "cell_type": "code",
   "execution_count": 13,
   "metadata": {},
   "outputs": [],
   "source": [
    "scores = []\n",
    "\n",
    "for document in train_set:\n",
    "    scores.append(get_offensiveness_score(document))"
   ]
  },
  {
   "cell_type": "code",
   "execution_count": 14,
   "metadata": {},
   "outputs": [
    {
     "data": {
      "text/html": [
       "<div>\n",
       "<style scoped>\n",
       "    .dataframe tbody tr th:only-of-type {\n",
       "        vertical-align: middle;\n",
       "    }\n",
       "\n",
       "    .dataframe tbody tr th {\n",
       "        vertical-align: top;\n",
       "    }\n",
       "\n",
       "    .dataframe thead th {\n",
       "        text-align: right;\n",
       "    }\n",
       "</style>\n",
       "<table border=\"1\" class=\"dataframe\">\n",
       "  <thead>\n",
       "    <tr style=\"text-align: right;\">\n",
       "      <th></th>\n",
       "      <th>offensiveness_score</th>\n",
       "      <th>offensiveness_score_norm</th>\n",
       "    </tr>\n",
       "  </thead>\n",
       "  <tbody>\n",
       "    <tr>\n",
       "      <th>7595</th>\n",
       "      <td>20.456301</td>\n",
       "      <td>1.859664</td>\n",
       "    </tr>\n",
       "    <tr>\n",
       "      <th>8366</th>\n",
       "      <td>13.909649</td>\n",
       "      <td>1.390965</td>\n",
       "    </tr>\n",
       "    <tr>\n",
       "      <th>5152</th>\n",
       "      <td>15.309219</td>\n",
       "      <td>1.275768</td>\n",
       "    </tr>\n",
       "    <tr>\n",
       "      <th>2412</th>\n",
       "      <td>5.000000</td>\n",
       "      <td>1.250000</td>\n",
       "    </tr>\n",
       "    <tr>\n",
       "      <th>8389</th>\n",
       "      <td>16.007915</td>\n",
       "      <td>1.231378</td>\n",
       "    </tr>\n",
       "    <tr>\n",
       "      <th>4191</th>\n",
       "      <td>4.731971</td>\n",
       "      <td>1.182993</td>\n",
       "    </tr>\n",
       "    <tr>\n",
       "      <th>1976</th>\n",
       "      <td>3.293039</td>\n",
       "      <td>1.097680</td>\n",
       "    </tr>\n",
       "    <tr>\n",
       "      <th>7663</th>\n",
       "      <td>10.451695</td>\n",
       "      <td>1.045170</td>\n",
       "    </tr>\n",
       "    <tr>\n",
       "      <th>6829</th>\n",
       "      <td>11.370017</td>\n",
       "      <td>1.033638</td>\n",
       "    </tr>\n",
       "    <tr>\n",
       "      <th>2280</th>\n",
       "      <td>13.311769</td>\n",
       "      <td>1.023982</td>\n",
       "    </tr>\n",
       "    <tr>\n",
       "      <th>9484</th>\n",
       "      <td>10.095653</td>\n",
       "      <td>1.009565</td>\n",
       "    </tr>\n",
       "    <tr>\n",
       "      <th>1828</th>\n",
       "      <td>9.731971</td>\n",
       "      <td>0.973197</td>\n",
       "    </tr>\n",
       "    <tr>\n",
       "      <th>6531</th>\n",
       "      <td>18.334900</td>\n",
       "      <td>0.964995</td>\n",
       "    </tr>\n",
       "    <tr>\n",
       "      <th>8413</th>\n",
       "      <td>13.429256</td>\n",
       "      <td>0.959233</td>\n",
       "    </tr>\n",
       "    <tr>\n",
       "      <th>5875</th>\n",
       "      <td>10.305832</td>\n",
       "      <td>0.936894</td>\n",
       "    </tr>\n",
       "    <tr>\n",
       "      <th>2665</th>\n",
       "      <td>13.012133</td>\n",
       "      <td>0.929438</td>\n",
       "    </tr>\n",
       "    <tr>\n",
       "      <th>6399</th>\n",
       "      <td>12.808950</td>\n",
       "      <td>0.914925</td>\n",
       "    </tr>\n",
       "    <tr>\n",
       "      <th>6639</th>\n",
       "      <td>12.793880</td>\n",
       "      <td>0.913849</td>\n",
       "    </tr>\n",
       "    <tr>\n",
       "      <th>6757</th>\n",
       "      <td>17.164435</td>\n",
       "      <td>0.903391</td>\n",
       "    </tr>\n",
       "    <tr>\n",
       "      <th>1006</th>\n",
       "      <td>8.126974</td>\n",
       "      <td>0.902997</td>\n",
       "    </tr>\n",
       "  </tbody>\n",
       "</table>\n",
       "</div>"
      ],
      "text/plain": [
       "      offensiveness_score  offensiveness_score_norm\n",
       "7595            20.456301                  1.859664\n",
       "8366            13.909649                  1.390965\n",
       "5152            15.309219                  1.275768\n",
       "2412             5.000000                  1.250000\n",
       "8389            16.007915                  1.231378\n",
       "4191             4.731971                  1.182993\n",
       "1976             3.293039                  1.097680\n",
       "7663            10.451695                  1.045170\n",
       "6829            11.370017                  1.033638\n",
       "2280            13.311769                  1.023982\n",
       "9484            10.095653                  1.009565\n",
       "1828             9.731971                  0.973197\n",
       "6531            18.334900                  0.964995\n",
       "8413            13.429256                  0.959233\n",
       "5875            10.305832                  0.936894\n",
       "2665            13.012133                  0.929438\n",
       "6399            12.808950                  0.914925\n",
       "6639            12.793880                  0.913849\n",
       "6757            17.164435                  0.903391\n",
       "1006             8.126974                  0.902997"
      ]
     },
     "execution_count": 14,
     "metadata": {},
     "output_type": "execute_result"
    }
   ],
   "source": [
    "import pandas as pd\n",
    "\n",
    "scores_df = pd.DataFrame(scores, index=[doc['id'] for doc in train_set], columns=['offensiveness_score', 'offensiveness_score_norm'])\n",
    "scores_df.sort_values('offensiveness_score_norm', ascending=False).head(20)"
   ]
  },
  {
   "cell_type": "code",
   "execution_count": 15,
   "metadata": {},
   "outputs": [],
   "source": [
    "scores_df.to_csv(results_dir / 'offensiveness_train.csv')"
   ]
  },
  {
   "cell_type": "markdown",
   "metadata": {},
   "source": [
    "### Offensiveness by category\n",
    "\n",
    "Each offensive term in the hurtlex lexicon is related to one or more categories.\n",
    "We want to compute the offensiveness of each document with reference to each category."
   ]
  },
  {
   "cell_type": "code",
   "execution_count": 16,
   "metadata": {},
   "outputs": [],
   "source": [
    "def get_offensiveness_score_by_cat(document):\n",
    "    scores = dict()\n",
    "    for word in document['proc_text'].iter_words():\n",
    "        score, categories = lexicon_dict.get(word.lemma, (0, None))\n",
    "        if score:\n",
    "            try:\n",
    "                for cat in categories:\n",
    "                    scores[cat] = scores.get(cat, 0) + score\n",
    "            except Exception:\n",
    "                print(categories)\n",
    "                break\n",
    "    return scores"
   ]
  },
  {
   "cell_type": "code",
   "execution_count": 17,
   "metadata": {},
   "outputs": [],
   "source": [
    "scores = []\n",
    "for document in train_set:\n",
    "    scores.append(get_offensiveness_score_by_cat(document))"
   ]
  },
  {
   "cell_type": "code",
   "execution_count": 18,
   "metadata": {},
   "outputs": [
    {
     "data": {
      "text/plain": [
       "Index(['rci', 'ps', 'ddp', 'qas', 'dmc', 'cds', 're', 'svp', 'is', 'an', 'min',\n",
       "       'op', 'dfc', 'pr', 'asf', 'mi', 'asm', 'ddf', 'pa', 'mal', 'or', 'om'],\n",
       "      dtype='object')"
      ]
     },
     "execution_count": 18,
     "metadata": {},
     "output_type": "execute_result"
    }
   ],
   "source": [
    "scores_by_cat_df = pd.DataFrame(scores, index=[doc['id'] for doc in train_set]).fillna(0)\n",
    "scores_by_cat_df.columns"
   ]
  },
  {
   "cell_type": "code",
   "execution_count": 19,
   "metadata": {},
   "outputs": [],
   "source": [
    "scores_by_cat_df.to_csv(results_dir / 'offensiveness_by_cat_train.csv')"
   ]
  },
  {
   "cell_type": "markdown",
   "metadata": {},
   "source": [
    "## Offensiveness of newspaper headlines"
   ]
  },
  {
   "cell_type": "code",
   "execution_count": 20,
   "metadata": {},
   "outputs": [],
   "source": [
    "pickle_file = \"stanza_proc_train_headlines.pkl\"\n",
    "\n",
    "with open(results_dir / pickle_file, 'rb') as infile:\n",
    "    headlines = pickle.load(infile)"
   ]
  },
  {
   "cell_type": "code",
   "execution_count": 21,
   "metadata": {},
   "outputs": [
    {
     "data": {
      "text/html": [
       "<div>\n",
       "<style scoped>\n",
       "    .dataframe tbody tr th:only-of-type {\n",
       "        vertical-align: middle;\n",
       "    }\n",
       "\n",
       "    .dataframe tbody tr th {\n",
       "        vertical-align: top;\n",
       "    }\n",
       "\n",
       "    .dataframe thead th {\n",
       "        text-align: right;\n",
       "    }\n",
       "</style>\n",
       "<table border=\"1\" class=\"dataframe\">\n",
       "  <thead>\n",
       "    <tr style=\"text-align: right;\">\n",
       "      <th></th>\n",
       "      <th>offensiveness_score</th>\n",
       "      <th>offensiveness_score_norm</th>\n",
       "    </tr>\n",
       "  </thead>\n",
       "  <tbody>\n",
       "    <tr>\n",
       "      <th>H57</th>\n",
       "      <td>11.036522</td>\n",
       "      <td>1.226280</td>\n",
       "    </tr>\n",
       "    <tr>\n",
       "      <th>H541</th>\n",
       "      <td>8.293039</td>\n",
       "      <td>0.637926</td>\n",
       "    </tr>\n",
       "    <tr>\n",
       "      <th>H407</th>\n",
       "      <td>11.383455</td>\n",
       "      <td>0.599129</td>\n",
       "    </tr>\n",
       "    <tr>\n",
       "      <th>H748</th>\n",
       "      <td>8.293039</td>\n",
       "      <td>0.592360</td>\n",
       "    </tr>\n",
       "    <tr>\n",
       "      <th>H409</th>\n",
       "      <td>6.351990</td>\n",
       "      <td>0.577454</td>\n",
       "    </tr>\n",
       "    <tr>\n",
       "      <th>H314</th>\n",
       "      <td>5.597935</td>\n",
       "      <td>0.559793</td>\n",
       "    </tr>\n",
       "    <tr>\n",
       "      <th>H583</th>\n",
       "      <td>3.293039</td>\n",
       "      <td>0.548840</td>\n",
       "    </tr>\n",
       "    <tr>\n",
       "      <th>H584</th>\n",
       "      <td>10.224168</td>\n",
       "      <td>0.538114</td>\n",
       "    </tr>\n",
       "    <tr>\n",
       "      <th>H187</th>\n",
       "      <td>10.726499</td>\n",
       "      <td>0.536325</td>\n",
       "    </tr>\n",
       "    <tr>\n",
       "      <th>H523</th>\n",
       "      <td>5.297178</td>\n",
       "      <td>0.529718</td>\n",
       "    </tr>\n",
       "  </tbody>\n",
       "</table>\n",
       "</div>"
      ],
      "text/plain": [
       "      offensiveness_score  offensiveness_score_norm\n",
       "H57             11.036522                  1.226280\n",
       "H541             8.293039                  0.637926\n",
       "H407            11.383455                  0.599129\n",
       "H748             8.293039                  0.592360\n",
       "H409             6.351990                  0.577454\n",
       "H314             5.597935                  0.559793\n",
       "H583             3.293039                  0.548840\n",
       "H584            10.224168                  0.538114\n",
       "H187            10.726499                  0.536325\n",
       "H523             5.297178                  0.529718"
      ]
     },
     "execution_count": 21,
     "metadata": {},
     "output_type": "execute_result"
    }
   ],
   "source": [
    "scores = []\n",
    "for document in headlines:\n",
    "    scores.append(get_offensiveness_score(document))\n",
    "\n",
    "scores_headlines_df = pd.DataFrame(scores, index=[doc['id'] for doc in headlines], columns=['offensiveness_score', 'offensiveness_score_norm'])\n",
    "scores_headlines_df.sort_values('offensiveness_score_norm', ascending=False).head(10)"
   ]
  },
  {
   "cell_type": "markdown",
   "metadata": {},
   "source": [
    "## Normalize or not?"
   ]
  },
  {
   "cell_type": "code",
   "execution_count": 23,
   "metadata": {},
   "outputs": [],
   "source": [
    "scores_headlines_df['type'] = 'headline'\n",
    "scores_df['type'] = 'tweet'\n",
    "\n",
    "scores_df = pd.concat([scores_df, scores_headlines_df])"
   ]
  },
  {
   "cell_type": "code",
   "execution_count": 30,
   "metadata": {},
   "outputs": [
    {
     "data": {
      "text/plain": [
       "<seaborn.axisgrid.PairGrid at 0x7f1ea4685eb0>"
      ]
     },
     "execution_count": 30,
     "metadata": {},
     "output_type": "execute_result"
    },
    {
     "data": {
      "image/png": "[encoded data removed]",
      "text/plain": [
       "<Figure size 609.75x500 with 6 Axes>"
      ]
     },
     "metadata": {},
     "output_type": "display_data"
    }
   ],
   "source": [
    "import seaborn as sns\n",
    "\n",
    "sns.pairplot(scores_df[scores_df['offensiveness_score'] > 0],\n",
    "             hue='type',\n",
    "             plot_kws={'alpha': .5},\n",
    "             diag_kws={'common_norm': False})"
   ]
  },
  {
   "cell_type": "code",
   "execution_count": 36,
   "metadata": {},
   "outputs": [
    {
     "data": {
      "text/html": [
       "<div>\n",
       "<style scoped>\n",
       "    .dataframe tbody tr th:only-of-type {\n",
       "        vertical-align: middle;\n",
       "    }\n",
       "\n",
       "    .dataframe tbody tr th {\n",
       "        vertical-align: top;\n",
       "    }\n",
       "\n",
       "    .dataframe thead th {\n",
       "        text-align: right;\n",
       "    }\n",
       "</style>\n",
       "<table border=\"1\" class=\"dataframe\">\n",
       "  <thead>\n",
       "    <tr style=\"text-align: right;\">\n",
       "      <th></th>\n",
       "      <th></th>\n",
       "      <th>offensiveness_score</th>\n",
       "      <th>offensiveness_score_norm</th>\n",
       "    </tr>\n",
       "    <tr>\n",
       "      <th>type</th>\n",
       "      <th></th>\n",
       "      <th></th>\n",
       "      <th></th>\n",
       "    </tr>\n",
       "  </thead>\n",
       "  <tbody>\n",
       "    <tr>\n",
       "      <th rowspan=\"2\" valign=\"top\">headline</th>\n",
       "      <th>offensiveness_score</th>\n",
       "      <td>1.000000</td>\n",
       "      <td>0.949848</td>\n",
       "    </tr>\n",
       "    <tr>\n",
       "      <th>offensiveness_score_norm</th>\n",
       "      <td>0.949848</td>\n",
       "      <td>1.000000</td>\n",
       "    </tr>\n",
       "    <tr>\n",
       "      <th rowspan=\"2\" valign=\"top\">tweet</th>\n",
       "      <th>offensiveness_score</th>\n",
       "      <td>1.000000</td>\n",
       "      <td>0.816063</td>\n",
       "    </tr>\n",
       "    <tr>\n",
       "      <th>offensiveness_score_norm</th>\n",
       "      <td>0.816063</td>\n",
       "      <td>1.000000</td>\n",
       "    </tr>\n",
       "  </tbody>\n",
       "</table>\n",
       "</div>"
      ],
      "text/plain": [
       "                                   offensiveness_score  \\\n",
       "type                                                     \n",
       "headline offensiveness_score                  1.000000   \n",
       "         offensiveness_score_norm             0.949848   \n",
       "tweet    offensiveness_score                  1.000000   \n",
       "         offensiveness_score_norm             0.816063   \n",
       "\n",
       "                                   offensiveness_score_norm  \n",
       "type                                                         \n",
       "headline offensiveness_score                       0.949848  \n",
       "         offensiveness_score_norm                  1.000000  \n",
       "tweet    offensiveness_score                       0.816063  \n",
       "         offensiveness_score_norm                  1.000000  "
      ]
     },
     "execution_count": 36,
     "metadata": {},
     "output_type": "execute_result"
    }
   ],
   "source": [
    "scores_df.groupby('type').corr()"
   ]
  },
  {
   "cell_type": "code",
   "execution_count": 35,
   "metadata": {},
   "outputs": [
    {
     "data": {
      "text/html": [
       "<div>\n",
       "<style scoped>\n",
       "    .dataframe tbody tr th:only-of-type {\n",
       "        vertical-align: middle;\n",
       "    }\n",
       "\n",
       "    .dataframe tbody tr th {\n",
       "        vertical-align: top;\n",
       "    }\n",
       "\n",
       "    .dataframe thead th {\n",
       "        text-align: right;\n",
       "    }\n",
       "</style>\n",
       "<table border=\"1\" class=\"dataframe\">\n",
       "  <thead>\n",
       "    <tr style=\"text-align: right;\">\n",
       "      <th></th>\n",
       "      <th></th>\n",
       "      <th>offensiveness_score</th>\n",
       "      <th>offensiveness_score_norm</th>\n",
       "    </tr>\n",
       "    <tr>\n",
       "      <th>type</th>\n",
       "      <th></th>\n",
       "      <th></th>\n",
       "      <th></th>\n",
       "    </tr>\n",
       "  </thead>\n",
       "  <tbody>\n",
       "    <tr>\n",
       "      <th rowspan=\"2\" valign=\"top\">headline</th>\n",
       "      <th>offensiveness_score</th>\n",
       "      <td>1.000000</td>\n",
       "      <td>0.837943</td>\n",
       "    </tr>\n",
       "    <tr>\n",
       "      <th>offensiveness_score_norm</th>\n",
       "      <td>0.837943</td>\n",
       "      <td>1.000000</td>\n",
       "    </tr>\n",
       "    <tr>\n",
       "      <th rowspan=\"2\" valign=\"top\">tweet</th>\n",
       "      <th>offensiveness_score</th>\n",
       "      <td>1.000000</td>\n",
       "      <td>0.629070</td>\n",
       "    </tr>\n",
       "    <tr>\n",
       "      <th>offensiveness_score_norm</th>\n",
       "      <td>0.629070</td>\n",
       "      <td>1.000000</td>\n",
       "    </tr>\n",
       "  </tbody>\n",
       "</table>\n",
       "</div>"
      ],
      "text/plain": [
       "                                   offensiveness_score  \\\n",
       "type                                                     \n",
       "headline offensiveness_score                  1.000000   \n",
       "         offensiveness_score_norm             0.837943   \n",
       "tweet    offensiveness_score                  1.000000   \n",
       "         offensiveness_score_norm             0.629070   \n",
       "\n",
       "                                   offensiveness_score_norm  \n",
       "type                                                         \n",
       "headline offensiveness_score                       0.837943  \n",
       "         offensiveness_score_norm                  1.000000  \n",
       "tweet    offensiveness_score                       0.629070  \n",
       "         offensiveness_score_norm                  1.000000  "
      ]
     },
     "execution_count": 35,
     "metadata": {},
     "output_type": "execute_result"
    }
   ],
   "source": [
    "scores_df[scores_df['offensiveness_score'] > 0].groupby('type').corr()"
   ]
  },
  {
   "cell_type": "markdown",
   "metadata": {},
   "source": [
    "We noticed that raw offensiveness scores were systematically lower for headlines, which could be an artifact of the reduced length of these document (but not necessarily: it may be true that headlines are generally less offensive than tweets).\n",
    "\n",
    "The normalization of the score by number of token does indeed make the distribution of this variable in the two domains nearly indistinguishable (only documents with an offensiveness score stricly major than 0 are considered). The normalized and non normalized scores are highly correlated (more so for the headlines than the tweets, since headlines are more uniform in terms of length)&mdash;even when all documents with no offensive words are removed. It probably would be wise to consider which score proves more effective during model selection (it can also be both)."
   ]
  }
 ],
 "metadata": {
  "kernelspec": {
   "display_name": "txa_project",
   "language": "python",
   "name": "python3"
  },
  "language_info": {
   "codemirror_mode": {
    "name": "ipython",
    "version": 3
   },
   "file_extension": ".py",
   "mimetype": "text/x-python",
   "name": "python",
   "nbconvert_exporter": "python",
   "pygments_lexer": "ipython3",
   "version": "3.12.7"
  }
 },
 "nbformat": 4,
 "nbformat_minor": 2
}
