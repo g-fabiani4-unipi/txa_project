{
 "cells": [
  {
   "cell_type": "code",
   "execution_count": 1,
   "metadata": {},
   "outputs": [],
   "source": [
    "import requests\n",
    "from bs4 import BeautifulSoup\n",
    "import re"
   ]
  },
  {
   "cell_type": "markdown",
   "metadata": {},
   "source": [
    "We want to reproduce the methodology used for the original collection of the documents, so we filter the headlines searching for those containing mentions of immigrants, muslims and Roma. We use the same set of neutral(?) keywords used originally by Poletto et al. 2017\n",
    "\n",
    "ethnic group  | religion    | Roma\n",
    "--------------|-------------|------\n",
    "immigrat*     | terrorismo  | rom\n",
    "immigrazione  | terrorist*  | nomad*\n",
    "migrant*      | islam       |\n",
    "stranier*     | mussulman*  |\n",
    "profug*       | corano      |\n",
    "\n",
    "We add also the frequently used variant \"musulman*\"."
   ]
  },
  {
   "cell_type": "code",
   "execution_count": 2,
   "metadata": {},
   "outputs": [],
   "source": [
    "keywords = re.compile(r\"immigrat.|immigrazione|migrant.|straner.|profug.|terroris(mo|t.)|islam|mus(s)?ulman.|corano|\\Wrom\\W|nomad.\")"
   ]
  },
  {
   "cell_type": "markdown",
   "metadata": {},
   "source": [
    "Headlines in the test set come from the online editions of:\n",
    "- La Stampa\n",
    "- La Repubblica\n",
    "- Il Giornale\n",
    "- Liberoquotidiano"
   ]
  },
  {
   "cell_type": "markdown",
   "metadata": {},
   "source": [
    "## La Stampa"
   ]
  },
  {
   "cell_type": "markdown",
   "metadata": {},
   "source": [
    "Extract all titles with containing the keywords from the cronaca, politica and esteri sections of \"La Stampa\""
   ]
  },
  {
   "cell_type": "code",
   "execution_count": 3,
   "metadata": {},
   "outputs": [
    {
     "name": "stdout",
     "output_type": "stream",
     "text": [
      "processing cronaca/\n",
      "processing politica/\n",
      "processing esteri/\n"
     ]
    }
   ],
   "source": [
    "sections = [\"cronaca/\", \"politica/\", \"esteri/\"]\n",
    "base_url = \"https://www.lastampa.it/\"\n",
    "titles_lastampa = []\n",
    "\n",
    "for section in sections:\n",
    "    max_pages = 10000\n",
    "    page = 0\n",
    "    print(\"processing\", section)\n",
    "    while page < max_pages:\n",
    "        page += 1\n",
    "        page_url = base_url + section + f\"{page}/\"\n",
    "        response = requests.get(page_url)\n",
    "        if response.status_code != 200:\n",
    "            print(page_url, response.status_code)\n",
    "            continue\n",
    "        source = BeautifulSoup(response.text)\n",
    "        if page == 1:\n",
    "            max_pages = int(source.find(class_=\"pagination__counter\").text.split()[-1])\n",
    "        entry_titles = source.find_all(class_=\"entry__title\")\n",
    "        for t in entry_titles:\n",
    "            text = t.a.get_text(strip=True)\n",
    "            if keywords.search(text.lower()):\n",
    "                titles_lastampa.append(text)"
   ]
  },
  {
   "cell_type": "code",
   "execution_count": 4,
   "metadata": {},
   "outputs": [
    {
     "name": "stdout",
     "output_type": "stream",
     "text": [
      "['Migranti, meno arrivi nel 2024. La denuncia delle Ong: “Europa sempre meno accogliente”', 'Migranti, meno arrivi nel 2024. La denuncia delle Ong: “Europa sempre meno accogliente”', '“Migranti maltrattati e sedati con psicofarmaci”. Il rapporto choc del Consiglio d’Europa sui Cpr italiani', 'Rimini, smantellato traffico di migranti: 12 misure cautelari, coinvolti un dipendente Inps e un sindacalista', 'Il Csm accoglie le dimissioni della giudice Apostolico, aveva partecipato a manifestazioni in favore dei migranti', 'Spari dalla nave libica, decine di migranti si gettano in mare: il video dei soccorsi di Medici senza frontiere', 'Geo Barents attaccata dalla guardia libica: migranti in mare e famiglie divise', 'Valditara: \"Il patriarcato è ideologia, l\\'aumento delle violenze sessuali è legato all\\'immigrazione irregolare\"', 'Valditara: “Il patriarcato non esiste, abusi legati all’immigrazione irregolare”. Elena Cecchettin: “Giulia uccisa da un ragazzo bianco”', 'Paolo Pillitteri: “Le modelle dopo il terrorismo, così inventai la Milano Anni 80”', 'Migranti in Albania, Sos Mediterranée dopo le accuse: \"La Ocean Viking non ha boicottato la missione\"', 'Migranti in Albania, Sea Watch su Elon Musk: \"Grave usare i media per minacciare la nostra giustizia\"', 'Il pasticcio (bis) dei migranti in Albania. Cosa hanno stabilito i giudici? Adesso che succede?', 'Migranti in Albania, Musk sui giudici: “Devono andarsene”. Su Sea Watch: “Criminali”. La Ong: “Minaccia il sistema giudiziario italiano”', 'Albania, il tribunale sospende la convalida del trattenimento di 7 migranti: già stasera tornano liberi', 'Albania, arrivata la nave Libra con a bordo 8 migranti destinati al campo di Gjader', 'Arrivata la Libra con 8 migranti. La rabbia degli albanesi: “Nel centro pochi posti di lavoro e malpagati”', 'Arriva la Libra con 8 migranti. La rabbia degli albanesi: “Nel centro pochi posti di lavoro e malpagati”', 'Agrigento, fermati tre presunti scafisti: erano a bordo di un peschereccio con 24 migranti', 'Agrigento, fermati tre presunti scafisti: erano a bordo di un peschereccio con 24 migranti', 'Nuovo viaggio verso l’Albania, ma la nave è vuota: solo 8 profughi', 'Decreti Cutro, il tribunale di Palermo chiede parere alla Corte Ue: sospeso il giudizio di convalida, tornano liberi due migranti', \"La Libra naviga verso l'Albania con 8 migranti a bordo, parte l’operazione “bis” del governo\", 'Bari, la protesta dei migranti ospiti del Cara davanti alla prefettura', 'Migranti, altri due tribunali contro il decreto Paesi sicuri. Salvini: “Per colpa di certi giudici l’Italia è insicura”', 'Via all’operazione Albania (bis): che succederà ai migranti? Che faranno i tribunali?', 'Meloni migranti Pd ponte sicilia africa', 'Migranti, Schlein: “Gli hub in Albania spreco di soldi e risorse. Ora una missione Ue per salvare vite in mare”', 'Schlein in Albania per verificare i centri per migranti', 'Alessandro Rosina: “Giovani, donne e migranti, impariamo a riconoscerne il valore”', 'Renzi: \"Centro migranti in Albania? Buffonata, un miliardo per ospitare cani randagi\"', 'Confartigianato, Mattarella: \"L\\'aumento degli artigiani tra gli immigrati innova i mercati\"', 'Meloni e le donne abusate: “Più casi con gli immigrati”. Mattarella: nessuna scusa', 'Meloni: “Mi diranno razzista ma l’incidenza dei reati di violenza sessuale maggiore è da parte degli immigrati”', 'Un italiano su due boccia i giudici che dicono no ai migranti in Albania', 'Valditara: \"Mai parlato di femminicidi fatti da immigrati, ma di violenze sessuali fatte da irregolari\"', 'Femminicidi, Meloni come Valditara: \"L\\'immigrazione illegale di massa incide sulla violenza contro le donne\"', 'Il messaggio di Mattarella: “L’integrazione dei migranti è un potente fattore di sicurezza”', 'Scontri di Torino, Nordio: “La magistratura sia molto severa, il terrorismo nasce così”. E sull’autonomia: “Dalla Consulta sentenza equilibrata”', 'Migranti, Meloni: \"Rispetto i ruoli, ma noi andremo avanti\"', 'Caso Albania, Coraggio: “Sui migranti non c’è nulla di eversivo. I magistrati devono aspettare l’Europa”', 'Migranti, bufera Musk sui giudici. Il braccio destro di Trump: “Devono andarsene”', 'Migranti, La Russa: \"La Corte Europea può essere la sede giusta per definire il problema Albania\"', 'Salvini: \"Le sentenze sui migranti servono alle cooperative rosse per fare miliardi\"', 'Migranti, Meloni tira dritto: “Avanti con l’Albania, i giudici vogliono sfinirci”', 'Nuovo stop dei giudici ai migranti in Albania. Salvini: “Sentenza politica”', 'L\\'ispezione di Laura Boldrini al centro per migranti in Albania: \"Il governo Meloni spreca soldi pubblici\"', 'Migranti, il presidente dell\\'Anm Santalucia: \"I magistrati fanno il proprio mestiere e vanno rispettati\"', 'Solo 25 euro al giorno per lavorare nel centro dei migranti in Albania: \"Giorgia Meloni vieni a vedere come si vive qui\"', 'Migranti, i penalisti: “Dai giudici nessun attacco alla politica”', 'Migranti, riparte l’operazione Albania: Libra pronta a un nuovo trasferimento', 'Migranti, l’alloggio di 295 agenti in Albania costerà 9 milioni l’anno tra spiaggia privata, piscine e centro benessere', 'Mattarella: \"Su immigrati e lavoro troppe paure irrazionali ed eccitate fobie\"', 'Ius Italiae, Tajani rilancia: \"Dobbiamo essere in grado di integrare figli di immigrati regolari\"', 'La Lega contro Ghali: “Dal rapper un appello a favore dell’immigrazione clandestina, non se ne sentiva il bisogno”', 'Migranti, i giudici di Bologna rinviano alla Corte Ue il nuovo decreto sui Paesi sicuri: “Sarebbe sicura anche la Germania nazista”', 'Migranti in Albania, Meloni: “Danno erariale? Si preoccupino quelli del Superbonus”', 'Piano migranti, Delmastro: “Le toghe rosse non ci fermano, i giudici si credono ayatollah”', 'Migranti, il Viminale ricorre in Cassazione contro il “no” ai trattenimenti in Albania. Cosa succede ora', 'Migranti, il decreto dimezzato per salvare i centri in Albania: “I giudici applichino la legge”', 'Espulsione migranti e Paesi sicuri, ok del Cdm. Nordio: “Sentenza Ue non compresa dai giudici”', 'Migranti, Schlein: \"Meloni chiusa nel Palazzo non ascolta, come fa a dire che Egitto è un paese sicuro dopo l\\'omicidio Regeni?\"', 'Migranti, oggi il decreto sui Paesi sicuri per stoppare le sentenze. Meloni: “I giudici contro di me”', 'Migranti, gli italiani contro i centri in Albania: “Costosi e inutili”', 'Migranti, la Cei attacca il governo. Savino: “Non sono pacchi”. Perego: “Senza di loro il nostro Paese non potrà vivere”', 'Schlein: “Migranti e manovra, ecco tutte le bugie di Meloni”', 'Salvini senza freni attacca i magistrati. E sui migranti rientrati dall’Albania: “Se qualcuno stupra chi paga?”', 'Nordio sul caso dei migranti in Albania: \"Sentenza abnorme, interveniamo\"', 'Migranti in Albania, Schlein: \"Il governo non conosce le leggi e ha fatto un pasticcio\"', 'Migranti in Albania. Meloni: \"Decisione dei magistrati è pregiudiziale, lunedì nuove norme al CdM\"', 'Migranti, Schlein al governo: \"Chiedete scusa e tornate indietro\"', 'Migranti in Albania, Gustavo Zagrebelsky: “L’umanità reclusa in un non luogo”', 'Migranti, il protagonista di \"Io Capitano\": \"La politica si assuma le sue responsabilità e cancelli la Bossi-Fini\"', \"L'arrivo della nave della Marina con i 16 migranti in Albania\", 'Migranti, Meloni: \"Attacchi faziosi a Salvini da organizzazioni politicizzate che odiano chi contrasta trafficanti\"', 'Edi Rama: “Il trasferimento dei migranti è un’operazione sulle spalle dell’Italia, ma i nostri agenti sono pronti a intervenire”', 'Migranti in Albania, Schlein: \"Milioni buttati per un accordo di deportazione\"', 'Mattarella: \"La storia italiana è fatta di emigrazione e immigrazione\"', 'Migranti, Mattarella: gli obiettivi di solidarietà sono alla base della nostra Carta costituzionale', 'Primo gruppo di migranti verso l’Albania. Il trasferimento su una nave della Marina', 'Migranti in Albania, le immagini del centro di Gjader', 'Centri di Permanenza per i migranti in Albania: cosa sono, chi ospiteranno e come funzionano', 'Centri migranti in Albania, Piantedosi: “Si parte la prossima settimana”. Poi precisa: “Non sono Cpr”', 'Un bagno di folla per Vannacci: “Mai la cittadinanza ai figli di immigrati”', 'Hein De Haas: “Destra e sinistra hanno fallito. Le loro politiche sui migranti rafforzano solo i criminali”', 'Migranti, la stretta del governo: più controlli sulle imprese contro truffe e prestanome', 'Caso Thompson, Luigi Mangione incriminato di omicidio come atto di terrorismo', 'I bimbi nei campi Isis a scuola di terrorismo', 'Angela Merkel: “Bisogna risolvere l’immigrazione illegale, altrimenti i populisti si rafforzeranno”', 'Profughi, giravolta Ue. Via libera di Bruxelles per gli Stati che vogliono congelare le richieste d’asilo', 'Wp, da Kiev droni e supporto di intelligence ai ribelli jihadisti. Al-Bashir: “I profughi tornino in Siria, è un paese libero”', 'Damasco, Al-Joulani: \"Abbiamo fatto tutto da soli e questa vittoria è per tutta la nazione islamica\"', 'Chi è Al-Joulani, l’uomo che proclama la vittoria islamica in Siria: vicino ad Al-Qaeda e jihadista non pentito', 'Netanyahu: “Le Alture del Golan nostre per sempre”. Profughi dalla Siria, l’Europa dice basta', \"Al-Joulani entra nella moschea degli Omayyadi, simbolo dell'islam imperiale\", 'Siria, Putin ritira le navi dalla base di Tartus nel Mediterraneo per timore degli islamisti. Le foto satellitari', 'Attacco russo, devastato il “Villaggio Specchio dei tempi” a Cernivci in Ucraina. Ogni giorno sfamava mille profughi', 'Stato d’emergenza e militari: il piano segreto di Trump per espellere gli immigrati', 'Il premier, il generale e il terrorista. Tre ricercati con niente in comune', 'Il premier, il generale e il terrorista. Tre ricercati con niente in comune', 'Gaza, la Jihad Islamica pubblica il video di un ostaggio israeliano vivo', \"Tom Homan, l'ex poliziotto incubo dei migranti scelto da Trump per controllare i confini\", 'Il più importante teologo islamico della Striscia di Gaza condanna l’attacco del 7 ottobre: “Hamas ha violato le regole del jihad”']\n"
     ]
    }
   ],
   "source": [
    "print(titles_lastampa)"
   ]
  },
  {
   "cell_type": "code",
   "execution_count": 5,
   "metadata": {},
   "outputs": [
    {
     "name": "stdout",
     "output_type": "stream",
     "text": [
      "103 headlines from La Stampa\n"
     ]
    }
   ],
   "source": [
    "print(len(titles_lastampa), \"headlines from La Stampa\")"
   ]
  },
  {
   "cell_type": "markdown",
   "metadata": {},
   "source": [
    "## La Repubblica"
   ]
  },
  {
   "cell_type": "code",
   "execution_count": 6,
   "metadata": {},
   "outputs": [
    {
     "name": "stdout",
     "output_type": "stream",
     "text": [
      "processing cronaca/\n",
      "processing politica/\n",
      "processing esteri/\n"
     ]
    }
   ],
   "source": [
    "sections = [\"cronaca/\", \"politica/\", \"esteri/\"]\n",
    "base_url = \"https://www.repubblica.it/\"\n",
    "titles_repubblica = []\n",
    "\n",
    "for section in sections:\n",
    "    max_pages = 10000\n",
    "    page = 0\n",
    "    print(\"processing\", section)\n",
    "    while page < max_pages:\n",
    "        page += 1\n",
    "        page_url = base_url + section + f\"{page}/\"\n",
    "        response = requests.get(page_url)\n",
    "        if response.status_code != 200:\n",
    "            print(page_url, response.status_code)\n",
    "            continue\n",
    "        source = BeautifulSoup(response.text)\n",
    "        if page == 1:\n",
    "            max_pages = int(source.find(class_=\"pagination__counter\").text.split()[-1])\n",
    "        articles = source.find_all(\"article\", class_=\"type-articolo\")\n",
    "        for art in articles:\n",
    "            text = art.h2.a.get_text(strip=True)\n",
    "            if keywords.search(text.lower()):\n",
    "                titles_repubblica.append(text)"
   ]
  },
  {
   "cell_type": "code",
   "execution_count": 7,
   "metadata": {},
   "outputs": [
    {
     "data": {
      "text/plain": [
       "47"
      ]
     },
     "execution_count": 7,
     "metadata": {},
     "output_type": "execute_result"
    }
   ],
   "source": [
    "len(titles_repubblica)"
   ]
  },
  {
   "cell_type": "markdown",
   "metadata": {},
   "source": [
    "## Il Giornale"
   ]
  },
  {
   "cell_type": "code",
   "execution_count": 8,
   "metadata": {},
   "outputs": [
    {
     "name": "stdout",
     "output_type": "stream",
     "text": [
      "processing interni.html\n",
      "processing cronache.html\n",
      "processing esteri.html\n"
     ]
    }
   ],
   "source": [
    "sections = [\"interni.html\", \"cronache.html\", \"esteri.html\"]\n",
    "base_url = \"https://www.ilgiornale.it/sezioni/\"\n",
    "titles_ilgiornale = []\n",
    "\n",
    "for section in sections:\n",
    "    print(\"processing\", section)\n",
    "    page = 1\n",
    "    while page < 400:\n",
    "        response = requests.get(base_url + section, params={'page': page})\n",
    "        # Break the cicle if the page was not found\n",
    "        if response.status_code != 200:\n",
    "            break\n",
    "        source = BeautifulSoup(response.text)\n",
    "        entry_titles = source.find_all(class_=\"card__title\")\n",
    "        for t in entry_titles:\n",
    "            text = t.get_text(strip=True)\n",
    "            if keywords.search(text.lower()):\n",
    "                titles_ilgiornale.append(text)\n",
    "        page += 1"
   ]
  },
  {
   "cell_type": "code",
   "execution_count": 9,
   "metadata": {},
   "outputs": [
    {
     "data": {
      "text/plain": [
       "439"
      ]
     },
     "execution_count": 9,
     "metadata": {},
     "output_type": "execute_result"
    }
   ],
   "source": [
    "len(titles_ilgiornale)"
   ]
  },
  {
   "cell_type": "markdown",
   "metadata": {},
   "source": [
    "## Liberoquotidiano"
   ]
  },
  {
   "cell_type": "code",
   "execution_count": 10,
   "metadata": {},
   "outputs": [
    {
     "name": "stdout",
     "output_type": "stream",
     "text": [
      "processing politica/\n",
      "processing giustizia/\n",
      "processing italia/\n",
      "processing europa/\n",
      "processing esteri/\n",
      "processing piulibero/\n",
      "processing terra-promessa\n"
     ]
    }
   ],
   "source": [
    "sections = [\"politica/\", \"giustizia/\", \"italia/\", \"europa/\", \"esteri/\", \"piulibero/\", \"terra-promessa\"]\n",
    "base_url = \"https://www.liberoquotidiano.it/\"\n",
    "titles_libero = []\n",
    "\n",
    "for section in sections:\n",
    "    page = 1\n",
    "    print(\"processing\", section)\n",
    "    while True:\n",
    "        page_url = base_url + section + f\"page/{page}/\"\n",
    "        response = requests.get(page_url)\n",
    "        # Break the cicle if the page was not found\n",
    "        if response.status_code != 200:\n",
    "            break\n",
    "        source = BeautifulSoup(response.text)\n",
    "        articles = source.main.find_all('article')\n",
    "\n",
    "        for art in articles:\n",
    "            text = art.header.h2.get_text(strip=True)\n",
    "            if keywords.search(text.lower()):\n",
    "                titles_libero.append(text)\n",
    "        page += 1"
   ]
  },
  {
   "cell_type": "code",
   "execution_count": 11,
   "metadata": {},
   "outputs": [
    {
     "data": {
      "text/plain": [
       "68"
      ]
     },
     "execution_count": 11,
     "metadata": {},
     "output_type": "execute_result"
    }
   ],
   "source": [
    "len(titles_libero)"
   ]
  },
  {
   "cell_type": "code",
   "execution_count": 12,
   "metadata": {},
   "outputs": [],
   "source": [
    "from pathlib import Path\n",
    "\n",
    "documents = titles_lastampa + titles_repubblica + titles_ilgiornale + titles_libero\n",
    "old_documents = []\n",
    "data_dir = Path('../data')\n",
    "\n",
    "with open(data_dir/ 'headlines.txt', 'r', encoding='utf-8') as infile:\n",
    "    for line in infile.readlines():\n",
    "        old_documents.append(line.strip())\n",
    "\n",
    "documents = list(set(old_documents + documents))\n",
    "\n",
    "with open(data_dir / 'headlines.txt', 'w', encoding='utf-8') as outfile:\n",
    "    for document in documents:\n",
    "        outfile.write(document + '\\n')"
   ]
  }
 ],
 "metadata": {
  "kernelspec": {
   "display_name": "txa_project",
   "language": "python",
   "name": "python3"
  },
  "language_info": {
   "codemirror_mode": {
    "name": "ipython",
    "version": 3
   },
   "file_extension": ".py",
   "mimetype": "text/x-python",
   "name": "python",
   "nbconvert_exporter": "python",
   "pygments_lexer": "ipython3",
   "version": "3.12.7"
  }
 },
 "nbformat": 4,
 "nbformat_minor": 2
}
