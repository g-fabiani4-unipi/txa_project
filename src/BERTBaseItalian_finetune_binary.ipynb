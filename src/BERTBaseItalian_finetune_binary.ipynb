{
  "cells": [
    {
      "cell_type": "markdown",
      "metadata": {
        "id": "c4HnTWtmSBD2"
      },
      "source": [
        "# 1st model: [dbmdz/bert-base-italian-cased](https://huggingface.co/dbmdz/bert-base-italian-cased)\n",
        "\n",
        "**This notebook is an adaptation of the one provided during the course.**\n",
        "\n",
        "In this script, we'll use a pre-trained BERT\n",
        "(https://arxiv.org/abs/1810.04805) model for text classification\n",
        "using PyTorch and PyTorch-Transformers\n",
        "(https://github.com/huggingface/pytorch-transformers). This script\n",
        "is based on \"Predicting Movie Review Sentiment with BERT on TF Hub\"\n",
        "(https://github.com/google-research/bert/blob/master/predicting_movie_reviews_with_bert_on_tf_hub.ipynb)\n",
        "by Google and \"BERT Fine-Tuning Tutorial with PyTorch\"\n",
        "(https://mccormickml.com/2019/07/22/BERT-fine-tuning/) by Chris\n",
        "McCormick.\n",
        "\n",
        "**Note that using a GPU with this script is highly recommended.**\n"
      ]
    },
    {
      "cell_type": "code",
      "execution_count": 1,
      "metadata": {
        "colab": {
          "base_uri": "https://localhost:8080/"
        },
        "id": "BX_5tmtfSZFx",
        "outputId": "a35b35d2-4a93-4302-8b77-ee869c24d8e6"
      },
      "outputs": [
        {
          "output_type": "stream",
          "name": "stdout",
          "text": [
            "Requirement already satisfied: transformers in /usr/local/lib/python3.10/dist-packages (4.47.1)\n",
            "Requirement already satisfied: filelock in /usr/local/lib/python3.10/dist-packages (from transformers) (3.16.1)\n",
            "Requirement already satisfied: huggingface-hub<1.0,>=0.24.0 in /usr/local/lib/python3.10/dist-packages (from transformers) (0.27.0)\n",
            "Requirement already satisfied: numpy>=1.17 in /usr/local/lib/python3.10/dist-packages (from transformers) (1.26.4)\n",
            "Requirement already satisfied: packaging>=20.0 in /usr/local/lib/python3.10/dist-packages (from transformers) (24.2)\n",
            "Requirement already satisfied: pyyaml>=5.1 in /usr/local/lib/python3.10/dist-packages (from transformers) (6.0.2)\n",
            "Requirement already satisfied: regex!=2019.12.17 in /usr/local/lib/python3.10/dist-packages (from transformers) (2024.11.6)\n",
            "Requirement already satisfied: requests in /usr/local/lib/python3.10/dist-packages (from transformers) (2.32.3)\n",
            "Requirement already satisfied: tokenizers<0.22,>=0.21 in /usr/local/lib/python3.10/dist-packages (from transformers) (0.21.0)\n",
            "Requirement already satisfied: safetensors>=0.4.1 in /usr/local/lib/python3.10/dist-packages (from transformers) (0.4.5)\n",
            "Requirement already satisfied: tqdm>=4.27 in /usr/local/lib/python3.10/dist-packages (from transformers) (4.67.1)\n",
            "Requirement already satisfied: fsspec>=2023.5.0 in /usr/local/lib/python3.10/dist-packages (from huggingface-hub<1.0,>=0.24.0->transformers) (2024.10.0)\n",
            "Requirement already satisfied: typing-extensions>=3.7.4.3 in /usr/local/lib/python3.10/dist-packages (from huggingface-hub<1.0,>=0.24.0->transformers) (4.12.2)\n",
            "Requirement already satisfied: charset-normalizer<4,>=2 in /usr/local/lib/python3.10/dist-packages (from requests->transformers) (3.4.0)\n",
            "Requirement already satisfied: idna<4,>=2.5 in /usr/local/lib/python3.10/dist-packages (from requests->transformers) (3.10)\n",
            "Requirement already satisfied: urllib3<3,>=1.21.1 in /usr/local/lib/python3.10/dist-packages (from requests->transformers) (2.2.3)\n",
            "Requirement already satisfied: certifi>=2017.4.17 in /usr/local/lib/python3.10/dist-packages (from requests->transformers) (2024.12.14)\n",
            "Requirement already satisfied: torch in /usr/local/lib/python3.10/dist-packages (2.5.1+cu121)\n",
            "Requirement already satisfied: torchvision in /usr/local/lib/python3.10/dist-packages (0.20.1+cu121)\n",
            "Requirement already satisfied: filelock in /usr/local/lib/python3.10/dist-packages (from torch) (3.16.1)\n",
            "Requirement already satisfied: typing-extensions>=4.8.0 in /usr/local/lib/python3.10/dist-packages (from torch) (4.12.2)\n",
            "Requirement already satisfied: networkx in /usr/local/lib/python3.10/dist-packages (from torch) (3.4.2)\n",
            "Requirement already satisfied: jinja2 in /usr/local/lib/python3.10/dist-packages (from torch) (3.1.4)\n",
            "Requirement already satisfied: fsspec in /usr/local/lib/python3.10/dist-packages (from torch) (2024.10.0)\n",
            "Requirement already satisfied: sympy==1.13.1 in /usr/local/lib/python3.10/dist-packages (from torch) (1.13.1)\n",
            "Requirement already satisfied: mpmath<1.4,>=1.1.0 in /usr/local/lib/python3.10/dist-packages (from sympy==1.13.1->torch) (1.3.0)\n",
            "Requirement already satisfied: numpy in /usr/local/lib/python3.10/dist-packages (from torchvision) (1.26.4)\n",
            "Requirement already satisfied: pillow!=8.3.*,>=5.3.0 in /usr/local/lib/python3.10/dist-packages (from torchvision) (11.0.0)\n",
            "Requirement already satisfied: MarkupSafe>=2.0 in /usr/local/lib/python3.10/dist-packages (from jinja2->torch) (3.0.2)\n",
            "Collecting datasets\n",
            "  Downloading datasets-3.2.0-py3-none-any.whl.metadata (20 kB)\n",
            "Requirement already satisfied: filelock in /usr/local/lib/python3.10/dist-packages (from datasets) (3.16.1)\n",
            "Requirement already satisfied: numpy>=1.17 in /usr/local/lib/python3.10/dist-packages (from datasets) (1.26.4)\n",
            "Requirement already satisfied: pyarrow>=15.0.0 in /usr/local/lib/python3.10/dist-packages (from datasets) (17.0.0)\n",
            "Collecting dill<0.3.9,>=0.3.0 (from datasets)\n",
            "  Downloading dill-0.3.8-py3-none-any.whl.metadata (10 kB)\n",
            "Requirement already satisfied: pandas in /usr/local/lib/python3.10/dist-packages (from datasets) (2.2.2)\n",
            "Requirement already satisfied: requests>=2.32.2 in /usr/local/lib/python3.10/dist-packages (from datasets) (2.32.3)\n",
            "Requirement already satisfied: tqdm>=4.66.3 in /usr/local/lib/python3.10/dist-packages (from datasets) (4.67.1)\n",
            "Collecting xxhash (from datasets)\n",
            "  Downloading xxhash-3.5.0-cp310-cp310-manylinux_2_17_x86_64.manylinux2014_x86_64.whl.metadata (12 kB)\n",
            "Collecting multiprocess<0.70.17 (from datasets)\n",
            "  Downloading multiprocess-0.70.16-py310-none-any.whl.metadata (7.2 kB)\n",
            "Collecting fsspec<=2024.9.0,>=2023.1.0 (from fsspec[http]<=2024.9.0,>=2023.1.0->datasets)\n",
            "  Downloading fsspec-2024.9.0-py3-none-any.whl.metadata (11 kB)\n",
            "Requirement already satisfied: aiohttp in /usr/local/lib/python3.10/dist-packages (from datasets) (3.11.10)\n",
            "Requirement already satisfied: huggingface-hub>=0.23.0 in /usr/local/lib/python3.10/dist-packages (from datasets) (0.27.0)\n",
            "Requirement already satisfied: packaging in /usr/local/lib/python3.10/dist-packages (from datasets) (24.2)\n",
            "Requirement already satisfied: pyyaml>=5.1 in /usr/local/lib/python3.10/dist-packages (from datasets) (6.0.2)\n",
            "Requirement already satisfied: aiohappyeyeballs>=2.3.0 in /usr/local/lib/python3.10/dist-packages (from aiohttp->datasets) (2.4.4)\n",
            "Requirement already satisfied: aiosignal>=1.1.2 in /usr/local/lib/python3.10/dist-packages (from aiohttp->datasets) (1.3.2)\n",
            "Requirement already satisfied: async-timeout<6.0,>=4.0 in /usr/local/lib/python3.10/dist-packages (from aiohttp->datasets) (4.0.3)\n",
            "Requirement already satisfied: attrs>=17.3.0 in /usr/local/lib/python3.10/dist-packages (from aiohttp->datasets) (24.3.0)\n",
            "Requirement already satisfied: frozenlist>=1.1.1 in /usr/local/lib/python3.10/dist-packages (from aiohttp->datasets) (1.5.0)\n",
            "Requirement already satisfied: multidict<7.0,>=4.5 in /usr/local/lib/python3.10/dist-packages (from aiohttp->datasets) (6.1.0)\n",
            "Requirement already satisfied: propcache>=0.2.0 in /usr/local/lib/python3.10/dist-packages (from aiohttp->datasets) (0.2.1)\n",
            "Requirement already satisfied: yarl<2.0,>=1.17.0 in /usr/local/lib/python3.10/dist-packages (from aiohttp->datasets) (1.18.3)\n",
            "Requirement already satisfied: typing-extensions>=3.7.4.3 in /usr/local/lib/python3.10/dist-packages (from huggingface-hub>=0.23.0->datasets) (4.12.2)\n",
            "Requirement already satisfied: charset-normalizer<4,>=2 in /usr/local/lib/python3.10/dist-packages (from requests>=2.32.2->datasets) (3.4.0)\n",
            "Requirement already satisfied: idna<4,>=2.5 in /usr/local/lib/python3.10/dist-packages (from requests>=2.32.2->datasets) (3.10)\n",
            "Requirement already satisfied: urllib3<3,>=1.21.1 in /usr/local/lib/python3.10/dist-packages (from requests>=2.32.2->datasets) (2.2.3)\n",
            "Requirement already satisfied: certifi>=2017.4.17 in /usr/local/lib/python3.10/dist-packages (from requests>=2.32.2->datasets) (2024.12.14)\n",
            "Requirement already satisfied: python-dateutil>=2.8.2 in /usr/local/lib/python3.10/dist-packages (from pandas->datasets) (2.8.2)\n",
            "Requirement already satisfied: pytz>=2020.1 in /usr/local/lib/python3.10/dist-packages (from pandas->datasets) (2024.2)\n",
            "Requirement already satisfied: tzdata>=2022.7 in /usr/local/lib/python3.10/dist-packages (from pandas->datasets) (2024.2)\n",
            "Requirement already satisfied: six>=1.5 in /usr/local/lib/python3.10/dist-packages (from python-dateutil>=2.8.2->pandas->datasets) (1.17.0)\n",
            "Downloading datasets-3.2.0-py3-none-any.whl (480 kB)\n",
            "\u001b[2K   \u001b[90m━━━━━━━━━━━━━━━━━━━━━━━━━━━━━━━━━━━━━━━━\u001b[0m \u001b[32m480.6/480.6 kB\u001b[0m \u001b[31m25.8 MB/s\u001b[0m eta \u001b[36m0:00:00\u001b[0m\n",
            "\u001b[?25hDownloading dill-0.3.8-py3-none-any.whl (116 kB)\n",
            "\u001b[2K   \u001b[90m━━━━━━━━━━━━━━━━━━━━━━━━━━━━━━━━━━━━━━━━\u001b[0m \u001b[32m116.3/116.3 kB\u001b[0m \u001b[31m10.3 MB/s\u001b[0m eta \u001b[36m0:00:00\u001b[0m\n",
            "\u001b[?25hDownloading fsspec-2024.9.0-py3-none-any.whl (179 kB)\n",
            "\u001b[2K   \u001b[90m━━━━━━━━━━━━━━━━━━━━━━━━━━━━━━━━━━━━━━━━\u001b[0m \u001b[32m179.3/179.3 kB\u001b[0m \u001b[31m16.1 MB/s\u001b[0m eta \u001b[36m0:00:00\u001b[0m\n",
            "\u001b[?25hDownloading multiprocess-0.70.16-py310-none-any.whl (134 kB)\n",
            "\u001b[2K   \u001b[90m━━━━━━━━━━━━━━━━━━━━━━━━━━━━━━━━━━━━━━━━\u001b[0m \u001b[32m134.8/134.8 kB\u001b[0m \u001b[31m10.8 MB/s\u001b[0m eta \u001b[36m0:00:00\u001b[0m\n",
            "\u001b[?25hDownloading xxhash-3.5.0-cp310-cp310-manylinux_2_17_x86_64.manylinux2014_x86_64.whl (194 kB)\n",
            "\u001b[2K   \u001b[90m━━━━━━━━━━━━━━━━━━━━━━━━━━━━━━━━━━━━━━━━\u001b[0m \u001b[32m194.1/194.1 kB\u001b[0m \u001b[31m9.1 MB/s\u001b[0m eta \u001b[36m0:00:00\u001b[0m\n",
            "\u001b[?25hInstalling collected packages: xxhash, fsspec, dill, multiprocess, datasets\n",
            "  Attempting uninstall: fsspec\n",
            "    Found existing installation: fsspec 2024.10.0\n",
            "    Uninstalling fsspec-2024.10.0:\n",
            "      Successfully uninstalled fsspec-2024.10.0\n",
            "\u001b[31mERROR: pip's dependency resolver does not currently take into account all the packages that are installed. This behaviour is the source of the following dependency conflicts.\n",
            "gcsfs 2024.10.0 requires fsspec==2024.10.0, but you have fsspec 2024.9.0 which is incompatible.\u001b[0m\u001b[31m\n",
            "\u001b[0mSuccessfully installed datasets-3.2.0 dill-0.3.8 fsspec-2024.9.0 multiprocess-0.70.16 xxhash-3.5.0\n"
          ]
        }
      ],
      "source": [
        "!pip3 install transformers\n",
        "!pip3 install torch torchvision\n",
        "!pip install datasets"
      ]
    },
    {
      "cell_type": "code",
      "execution_count": 2,
      "metadata": {
        "id": "rLa0OltsR369"
      },
      "outputs": [],
      "source": [
        "from pathlib import Path\n",
        "\n",
        "import torch\n",
        "from torch.utils.data import (TensorDataset, DataLoader,\n",
        "                              RandomSampler, SequentialSampler)\n",
        "\n",
        "from transformers import BertTokenizer, BertConfig\n",
        "from transformers import BertForSequenceClassification\n",
        "\n",
        "from transformers import AdamW, get_linear_schedule_with_warmup\n",
        "\n",
        "from distutils.version import LooseVersion as LV\n",
        "\n",
        "from sklearn.model_selection import train_test_split\n",
        "from sklearn.metrics import precision_score, recall_score, f1_score, classification_report, confusion_matrix\n",
        "\n",
        "import io\n",
        "import os\n",
        "import pandas as pd\n",
        "import numpy as np\n",
        "\n",
        "import matplotlib\n",
        "matplotlib.use('Agg')\n",
        "import matplotlib.pyplot as plt\n",
        "import seaborn as sns\n",
        "sns.set()"
      ]
    },
    {
      "cell_type": "code",
      "execution_count": 3,
      "metadata": {
        "colab": {
          "base_uri": "https://localhost:8080/"
        },
        "id": "Sr_7M6TySQCC",
        "outputId": "9dbdf852-9a9d-4fd7-e3e0-f000495046ef"
      },
      "outputs": [
        {
          "output_type": "stream",
          "name": "stdout",
          "text": [
            "Using PyTorch version: 2.5.1+cu121 Device: cuda [Tesla T4]\n"
          ]
        },
        {
          "output_type": "stream",
          "name": "stderr",
          "text": [
            "<ipython-input-3-d1a1187c676c>:10: DeprecationWarning: distutils Version classes are deprecated. Use packaging.version instead.\n",
            "  assert(LV(torch.__version__) >= LV(\"1.0.0\"))\n"
          ]
        }
      ],
      "source": [
        "if torch.cuda.is_available():\n",
        "    device = torch.device('cuda')\n",
        "    devicename = '['+torch.cuda.get_device_name(0)+']'\n",
        "else:\n",
        "    device = torch.device('cpu')\n",
        "    devicename = \"\"\n",
        "\n",
        "print('Using PyTorch version:', torch.__version__,\n",
        "      'Device:', device, devicename)\n",
        "assert(LV(torch.__version__) >= LV(\"1.0.0\"))"
      ]
    },
    {
      "cell_type": "markdown",
      "metadata": {
        "id": "b1J4daS74g5D"
      },
      "source": [
        "# Loading the dataset\n",
        "N.B. If you rerun this code on Colab, remember to comment the `!git clone` command, or to delete runtime before rerunning."
      ]
    },
    {
      "cell_type": "code",
      "source": [
        "try:\n",
        "    from google.colab import drive\n",
        "    #drive.mount('/content/drive')\n",
        "    COLAB = True\n",
        "    !git clone https://github.com/g-fabiani4-unipi/txa_project.git\n",
        "    %cd txa_project\n",
        "except:\n",
        "    COLAB = False"
      ],
      "metadata": {
        "colab": {
          "base_uri": "https://localhost:8080/"
        },
        "id": "12-BEjZHu_Jm",
        "outputId": "1c3c4d11-78c9-4772-875f-c84bf259dd8d"
      },
      "execution_count": 4,
      "outputs": [
        {
          "output_type": "stream",
          "name": "stdout",
          "text": [
            "Cloning into 'txa_project'...\n",
            "remote: Enumerating objects: 685, done.\u001b[K\n",
            "remote: Counting objects: 100% (103/103), done.\u001b[K\n",
            "remote: Compressing objects: 100% (93/93), done.\u001b[K\n",
            "remote: Total 685 (delta 27), reused 32 (delta 10), pack-reused 582 (from 1)\u001b[K\n",
            "Receiving objects: 100% (685/685), 187.99 MiB | 10.58 MiB/s, done.\n",
            "Resolving deltas: 100% (357/357), done.\n",
            "Updating files: 100% (84/84), done.\n",
            "/content/txa_project\n"
          ]
        }
      ]
    },
    {
      "cell_type": "code",
      "source": [
        "#N.B. We have two test sets\n",
        "\n",
        "data_dir = Path(\"./data\")\n",
        "\n",
        "training_set_dir = \"haspeede2_dev\"\n",
        "training_file = \"haspeede2_dev_taskAB.tsv\"\n",
        "\n",
        "test_set_dir = \"haspeede2_reference\"\n",
        "test_file_tweets = \"haspeede2_reference_taskAB-tweets.tsv\"\n",
        "test_file_news = \"haspeede2_reference_taskAB-news.tsv\"\n",
        "\n",
        "train_path = data_dir / training_set_dir / training_file\n",
        "test_path_tweets = data_dir / test_set_dir / test_file_tweets\n",
        "test_path_news = data_dir / test_set_dir / test_file_news"
      ],
      "metadata": {
        "id": "Vq8X0qPZQuhB"
      },
      "execution_count": 5,
      "outputs": []
    },
    {
      "cell_type": "code",
      "source": [
        "def load_tsv_file(file_path):\n",
        "    \"\"\"\n",
        "    Loads a .tvs file w/ or w/out an header in a pandas dataframe w/ columns\n",
        "    'id', 'text' and 'hs' ('stereotype' is ignored).\n",
        "    \"\"\"\n",
        "    try:\n",
        "\n",
        "        df = pd.read_csv(file_path, sep='\\\\t', header=None, engine='python') #engine='python' → else tweets w/ id 8094 and 9261 are not loaded\n",
        "        # Check for header → train file\n",
        "        if df.iloc[0, 0] == 'id': #df.iloc[row, col]\n",
        "            df = df.iloc[1:]  # If header → skip first line\n",
        "\n",
        "        df.columns = ['id', 'text', 'hs', 'stereotype'] #rename col\n",
        "        df = df[['id', 'text', 'hs']] #select the cols of intereste\n",
        "\n",
        "        #Convert number to int\n",
        "        df['id'] = df['id'].astype(int)\n",
        "        df['hs'] = df['hs'].astype(int)\n",
        "\n",
        "        return df\n",
        "    except Exception as e:\n",
        "        raise ValueError(f\"Errore durante la lettura del file: {e}\")"
      ],
      "metadata": {
        "id": "j2QbiYPFWHHj"
      },
      "execution_count": 6,
      "outputs": []
    },
    {
      "cell_type": "code",
      "source": [
        "#Dataframes w/ the datasets\n",
        "df_train = load_tsv_file(train_path)\n",
        "df_test_tweets = load_tsv_file(test_path_tweets)\n",
        "df_test_news = load_tsv_file(test_path_news)"
      ],
      "metadata": {
        "id": "7EeW_XGjSDXx"
      },
      "execution_count": 7,
      "outputs": []
    },
    {
      "cell_type": "code",
      "source": [
        "def list_x_y(df):\n",
        "  \"\"\"\n",
        "  For a df (dataset), create for each record (tweet) a list contaning the text (x) and a list contaning its label (y),\n",
        "  so that their indexes correspond.\n",
        "  \"\"\"\n",
        "  x = list()\n",
        "  y = list()\n",
        "  for index, row in df.iterrows():\n",
        "      x.append(row['text'])\n",
        "      y.append(row['hs'])\n",
        "  return x, y\n",
        "\n",
        "x_train, y_train = list_x_y(df_train)\n",
        "x_test_tweets, y_test_tweets = list_x_y(df_test_tweets)\n",
        "x_test_news, y_test_news = list_x_y(df_test_news)"
      ],
      "metadata": {
        "id": "JoFsXoIKCcLR"
      },
      "execution_count": 8,
      "outputs": []
    },
    {
      "cell_type": "code",
      "source": [
        "len(x_train),len(y_train),  len(x_test_tweets),len(y_test_tweets),  len(x_test_news),len(y_test_news)\n"
      ],
      "metadata": {
        "colab": {
          "base_uri": "https://localhost:8080/"
        },
        "id": "WgmWswkeg3MF",
        "outputId": "c8b7995b-347d-4672-8e44-674106ee487a"
      },
      "execution_count": 9,
      "outputs": [
        {
          "output_type": "execute_result",
          "data": {
            "text/plain": [
              "(6839, 6839, 1263, 1263, 500, 500)"
            ]
          },
          "metadata": {},
          "execution_count": 9
        }
      ]
    },
    {
      "cell_type": "code",
      "execution_count": 10,
      "metadata": {
        "colab": {
          "base_uri": "https://localhost:8080/"
        },
        "id": "62X87ZY84g5Z",
        "outputId": "1a7b8f27-6fa2-4e63-ced1-6f601631179e"
      },
      "outputs": [
        {
          "output_type": "execute_result",
          "data": {
            "text/plain": [
              "({0, 1}, {0, 1}, {0, 1})"
            ]
          },
          "metadata": {},
          "execution_count": 10
        }
      ],
      "source": [
        "set(y_train), set(y_test_tweets), set(y_test_news)"
      ]
    },
    {
      "cell_type": "code",
      "execution_count": 11,
      "metadata": {
        "colab": {
          "base_uri": "https://localhost:8080/"
        },
        "id": "r42x4ICg4g5e",
        "outputId": "99969d32-aaf5-42f6-b50c-7d7fc1aaf3fd"
      },
      "outputs": [
        {
          "output_type": "stream",
          "name": "stdout",
          "text": [
            "È terrorismo anche questo, per mettere in uno stato di soggezione le persone e renderle innocue, mentre qualcuno... URL \n",
            "0\n"
          ]
        }
      ],
      "source": [
        "sample_idx = 0\n",
        "print(x_train[sample_idx])\n",
        "print(y_train[sample_idx])"
      ]
    },
    {
      "cell_type": "code",
      "source": [
        "#y_train[sample_idx]"
      ],
      "metadata": {
        "id": "3lTQi8a9IXnL"
      },
      "execution_count": 12,
      "outputs": []
    },
    {
      "cell_type": "markdown",
      "metadata": {
        "id": "4O3HWztTUmaE"
      },
      "source": [
        "# Preparation of the text for BERT.\n",
        "\n",
        "The tokenizer is already fit on the same dataset on which BERT has been pretrained and it is included in the BERT model.\n",
        "To be properly handled by BERT we need to add the `[CLS]` token at the beginning of each tweet."
      ]
    },
    {
      "cell_type": "code",
      "execution_count": 13,
      "metadata": {
        "id": "K46G-KVgUhNQ"
      },
      "outputs": [],
      "source": [
        "sentences_train = [\"[CLS] \" + s for s in x_train]\n",
        "sentences_test_tweets = [\"[CLS] \" + s for s in x_test_tweets]\n",
        "sentences_test_news = [\"[CLS] \" + s for s in x_test_news]\n",
        "\n",
        "labels_train = y_train\n",
        "labels_test_tweets = y_test_tweets\n",
        "labels_test_news = y_test_news"
      ]
    },
    {
      "cell_type": "code",
      "source": [
        "sentences_train[0]"
      ],
      "metadata": {
        "colab": {
          "base_uri": "https://localhost:8080/",
          "height": 36
        },
        "id": "1a0IDScSSeNL",
        "outputId": "b05a3938-6792-4fd3-aacb-546516036e02"
      },
      "execution_count": 14,
      "outputs": [
        {
          "output_type": "execute_result",
          "data": {
            "text/plain": [
              "'[CLS] È terrorismo anche questo, per mettere in uno stato di soggezione le persone e renderle innocue, mentre qualcuno... URL '"
            ],
            "application/vnd.google.colaboratory.intrinsic+json": {
              "type": "string"
            }
          },
          "metadata": {},
          "execution_count": 14
        }
      ]
    },
    {
      "cell_type": "markdown",
      "metadata": {
        "id": "1bcbtpRjhbCN"
      },
      "source": [
        "Next we use the BERT tokenizer to convert the sentences into tokens that match the data BERT was trained on."
      ]
    },
    {
      "cell_type": "code",
      "execution_count": 15,
      "metadata": {
        "colab": {
          "base_uri": "https://localhost:8080/",
          "height": 393,
          "referenced_widgets": [
            "8bc87ab07b1c45debe5182e7ad338c05",
            "2df9de436b944c18a2d08463649e858a",
            "d7d6a22f5a24457f9ef4521074ae01ee",
            "c453d68f2231445ab3ddb786c9a1bb33",
            "e1be62ac61d14e1fab0b93ab13a90853",
            "479c241de6134d10adc54f08539b5f55",
            "fe0a7f405d1c47748dc4890bbf8090b0",
            "e2aabeaa4f7a4206b635a1a7f36cd924",
            "4b6089c44caf446480523db9cfc7acdd",
            "023c5ac976074495a1ce47dcddef0843",
            "ebb7111afaae4289a334bcb00a71cac5",
            "95dcd5ba966b4fe9aac9e38d9bfae8a4",
            "98539b1a8dfb4ad796cf8345b26c0af6",
            "4b6a106699a247cf9f314541a6aa2974",
            "37dc9cfcf5ab483fa079d2c1dbd72bd9",
            "d301dc773a0944548ba76949c5f85746",
            "ac7b16317f1949f9a63c56906d0291a7",
            "b702d0ecb7a94a1f94091e6066362dd6",
            "ed2cbbb1b67e49b69f964e4fed3dd1b6",
            "937024e6ea6741d08d7bcd4b0ba09d30",
            "3ebd68df95d541589474fb446cb72d82",
            "2bd85962d7cb4376b06a05c403739960",
            "8c188148f3ea42f5b8a740e04a48355c",
            "e0b2ffed90ce44769cd6fb9ec4fa9875",
            "3f14a2654a214f3cb9044c061ae75979",
            "f984759b9f094a5fb1b9ad2cf62cfae5",
            "b57acd62a68448ce8ca7d215682dc69e",
            "e8269301b43840d9b970b8dfee9ba3f6",
            "6dd45585827e4b9789b9d9f0f54f4aba",
            "0c3c1ef64d7d485e822b89e6796e0f21",
            "2d8de6698adc43ab9a39482618f449f1",
            "6de82dc4b169498c909d34cfc78d2342",
            "aa789ed51b3a433aa3cec8026f7e18a6"
          ]
        },
        "id": "KpKdIgJvSD-b",
        "outputId": "07a9bd17-53a0-4e41-b9d4-4eee2370b43d"
      },
      "outputs": [
        {
          "output_type": "stream",
          "name": "stderr",
          "text": [
            "/usr/local/lib/python3.10/dist-packages/huggingface_hub/utils/_auth.py:94: UserWarning: \n",
            "The secret `HF_TOKEN` does not exist in your Colab secrets.\n",
            "To authenticate with the Hugging Face Hub, create a token in your settings tab (https://huggingface.co/settings/tokens), set it as secret in your Google Colab and restart your session.\n",
            "You will be able to reuse this secret in all of your notebooks.\n",
            "Please note that authentication is recommended but still optional to access public models or datasets.\n",
            "  warnings.warn(\n"
          ]
        },
        {
          "output_type": "display_data",
          "data": {
            "text/plain": [
              "tokenizer_config.json:   0%|          | 0.00/59.0 [00:00<?, ?B/s]"
            ],
            "application/vnd.jupyter.widget-view+json": {
              "version_major": 2,
              "version_minor": 0,
              "model_id": "8bc87ab07b1c45debe5182e7ad338c05"
            }
          },
          "metadata": {}
        },
        {
          "output_type": "display_data",
          "data": {
            "text/plain": [
              "vocab.txt:   0%|          | 0.00/235k [00:00<?, ?B/s]"
            ],
            "application/vnd.jupyter.widget-view+json": {
              "version_major": 2,
              "version_minor": 0,
              "model_id": "95dcd5ba966b4fe9aac9e38d9bfae8a4"
            }
          },
          "metadata": {}
        },
        {
          "output_type": "display_data",
          "data": {
            "text/plain": [
              "config.json:   0%|          | 0.00/433 [00:00<?, ?B/s]"
            ],
            "application/vnd.jupyter.widget-view+json": {
              "version_major": 2,
              "version_minor": 0,
              "model_id": "8c188148f3ea42f5b8a740e04a48355c"
            }
          },
          "metadata": {}
        },
        {
          "output_type": "execute_result",
          "data": {
            "text/plain": [
              "BertTokenizer(name_or_path='dbmdz/bert-base-italian-cased', vocab_size=31102, model_max_length=512, is_fast=False, padding_side='right', truncation_side='right', special_tokens={'unk_token': '[UNK]', 'sep_token': '[SEP]', 'pad_token': '[PAD]', 'cls_token': '[CLS]', 'mask_token': '[MASK]'}, clean_up_tokenization_spaces=True, added_tokens_decoder={\n",
              "\t0: AddedToken(\"[PAD]\", rstrip=False, lstrip=False, single_word=False, normalized=False, special=True),\n",
              "\t101: AddedToken(\"[UNK]\", rstrip=False, lstrip=False, single_word=False, normalized=False, special=True),\n",
              "\t102: AddedToken(\"[CLS]\", rstrip=False, lstrip=False, single_word=False, normalized=False, special=True),\n",
              "\t103: AddedToken(\"[SEP]\", rstrip=False, lstrip=False, single_word=False, normalized=False, special=True),\n",
              "\t104: AddedToken(\"[MASK]\", rstrip=False, lstrip=False, single_word=False, normalized=False, special=True),\n",
              "}\n",
              ")"
            ]
          },
          "metadata": {},
          "execution_count": 15
        }
      ],
      "source": [
        "BERTMODEL = \"dbmdz/bert-base-italian-cased\" #m-polignano-uniba/bert_uncased_L-12_H-768_A-12_italian_alb3rt0\n",
        "tokenizer = BertTokenizer.from_pretrained(BERTMODEL)\n",
        "tokenizer"
      ]
    },
    {
      "cell_type": "code",
      "execution_count": 16,
      "metadata": {
        "colab": {
          "base_uri": "https://localhost:8080/"
        },
        "id": "mXuRy_9Pg3sJ",
        "outputId": "55b30758-4cf3-4b5a-fe60-df7d65569b03"
      },
      "outputs": [
        {
          "output_type": "stream",
          "name": "stderr",
          "text": [
            "100%|██████████| 6839/6839 [00:07<00:00, 875.70it/s] \n",
            "100%|██████████| 1263/1263 [00:00<00:00, 1365.38it/s]\n",
            "100%|██████████| 500/500 [00:00<00:00, 3603.35it/s]\n"
          ]
        }
      ],
      "source": [
        "from tqdm import tqdm #library that displays progress bars\n",
        "\n",
        "tokenized_train = [tokenizer.tokenize(s) for s in tqdm(sentences_train)]\n",
        "tokenized_test_tweets  = [tokenizer.tokenize(s) for s in tqdm(sentences_test_tweets)]\n",
        "tokenized_test_news  = [tokenizer.tokenize(s) for s in tqdm(sentences_test_news)]"
      ]
    },
    {
      "cell_type": "code",
      "source": [
        "sentences_train[0]"
      ],
      "metadata": {
        "colab": {
          "base_uri": "https://localhost:8080/",
          "height": 36
        },
        "id": "Tqs-1u-HiRGE",
        "outputId": "2ff16fcb-1cc8-4f1f-fdda-92bebeb81c50"
      },
      "execution_count": 17,
      "outputs": [
        {
          "output_type": "execute_result",
          "data": {
            "text/plain": [
              "'[CLS] È terrorismo anche questo, per mettere in uno stato di soggezione le persone e renderle innocue, mentre qualcuno... URL '"
            ],
            "application/vnd.google.colaboratory.intrinsic+json": {
              "type": "string"
            }
          },
          "metadata": {},
          "execution_count": 17
        }
      ]
    },
    {
      "cell_type": "code",
      "execution_count": 18,
      "metadata": {
        "colab": {
          "base_uri": "https://localhost:8080/"
        },
        "id": "JswOYlyGhfu3",
        "outputId": "7287f00b-4c38-4981-96d4-b3c2a629ba7e"
      },
      "outputs": [
        {
          "output_type": "stream",
          "name": "stdout",
          "text": [
            "The full tokenized first training sentence:\n",
            "['[CLS]', 'È', 'terrorismo', 'anche', 'questo', ',', 'per', 'mettere', 'in', 'uno', 'stato', 'di', 'sogg', '##ez', '##ione', 'le', 'persone', 'e', 'rende', '##rle', 'inno', '##cue', ',', 'mentre', 'qualcuno', '.', '.', '.', 'UR', '##L']\n"
          ]
        }
      ],
      "source": [
        "print (\"The full tokenized first training sentence:\")\n",
        "print (tokenized_train[0])"
      ]
    },
    {
      "cell_type": "markdown",
      "metadata": {
        "id": "M1bclIl2hoEG"
      },
      "source": [
        "BERT has several embeddings that pass through many levels...\n",
        "\n",
        "...but this is not a variable encoding! **BERT exploits fixed-length encoding**\n",
        "\n",
        "Thus, we set the maximum sequence lengths for our training and test sentences as `MAX_LEN_TRAIN` and `MAX_LEN_TEST`. The maximum length supported by the used BERT model is 512.\n",
        "\n",
        "The token `[SEP]` (separation token) is another special token required by BERT at the end of the sentence, e.g., useful in Q/A."
      ]
    },
    {
      "cell_type": "code",
      "execution_count": 19,
      "metadata": {
        "colab": {
          "base_uri": "https://localhost:8080/"
        },
        "id": "OAtcXAOzhvMD",
        "outputId": "da6fddcf-6a05-43a7-9f19-46e82c121752"
      },
      "outputs": [
        {
          "output_type": "stream",
          "name": "stdout",
          "text": [
            "The truncated tokenized first training sentence:\n",
            "['[CLS]', 'È', 'terrorismo', 'anche', 'questo', ',', 'per', 'mettere', 'in', 'uno', 'stato', 'di', 'sogg', '##ez', '##ione', 'le', 'persone', 'e', 'rende', '##rle', 'inno', '##cue', ',', 'mentre', 'qualcuno', '.', '.', '.', 'UR', '##L', 'SEP']\n"
          ]
        }
      ],
      "source": [
        "MAX_LEN_TRAIN, MAX_LEN_TEST = 128, 512\n",
        "\n",
        "tokenized_train = [t[:(MAX_LEN_TRAIN-1)]+['SEP'] for t in tokenized_train]\n",
        "tokenized_test_tweets  = [t[:(MAX_LEN_TEST-1)]+['SEP'] for t in tokenized_test_tweets]\n",
        "tokenized_test_news  = [t[:(MAX_LEN_TEST-1)]+['SEP'] for t in tokenized_test_news]\n",
        "\n",
        "print (\"The truncated tokenized first training sentence:\")\n",
        "print (tokenized_train[0])"
      ]
    },
    {
      "cell_type": "markdown",
      "metadata": {
        "id": "xDBDbn4Ch7sP"
      },
      "source": [
        "Next we use the BERT tokenizer to convert each token into an integer index in the BERT vocabulary *= Which is the proper embedding to get?*\n",
        "\n",
        "We also pad any shorter sequences to `MAX_LEN_TRAIN` or `MAX_LEN_TEST` indices with trailing zeros.\n"
      ]
    },
    {
      "cell_type": "code",
      "execution_count": 20,
      "metadata": {
        "colab": {
          "base_uri": "https://localhost:8080/"
        },
        "id": "BrcrPP8eh_ef",
        "outputId": "0c4acb9e-f719-43bd-a3b8-8e476234bce2"
      },
      "outputs": [
        {
          "output_type": "stream",
          "name": "stdout",
          "text": [
            "The indices of the first training sentence:\n",
            "[  102   696 11601   409   395  1307   156  3234   139   610   482   120\n",
            " 10590 30394   256   199  1022   126  4101  6546  6870 11356  1307  1105\n",
            "  1776   697   697   697 17943 30909   101     0     0     0     0     0\n",
            "     0     0     0     0     0     0     0     0     0     0     0     0\n",
            "     0     0     0     0     0     0     0     0     0     0     0     0\n",
            "     0     0     0     0     0     0     0     0     0     0     0     0\n",
            "     0     0     0     0     0     0     0     0     0     0     0     0\n",
            "     0     0     0     0     0     0     0     0     0     0     0     0\n",
            "     0     0     0     0     0     0     0     0     0     0     0     0\n",
            "     0     0     0     0     0     0     0     0     0     0     0     0\n",
            "     0     0     0     0     0     0     0     0]\n"
          ]
        }
      ],
      "source": [
        "ids_train = [tokenizer.convert_tokens_to_ids(t) for t in tokenized_train]\n",
        "ids_train = np.array([np.pad(i, (0, MAX_LEN_TRAIN-len(i)),\n",
        "                             mode='constant') for i in ids_train])\n",
        "\n",
        "ids_test_tweets = [tokenizer.convert_tokens_to_ids(t) for t in tokenized_test_tweets]\n",
        "ids_test_tweets = np.array([np.pad(i, (0, MAX_LEN_TEST-len(i)),\n",
        "                            mode='constant') for i in ids_test_tweets])\n",
        "\n",
        "ids_test_news = [tokenizer.convert_tokens_to_ids(t) for t in tokenized_test_news]\n",
        "ids_test_news = np.array([np.pad(i, (0, MAX_LEN_TEST-len(i)),\n",
        "                            mode='constant') for i in ids_test_news])\n",
        "\n",
        "print (\"The indices of the first training sentence:\")\n",
        "print (ids_train[0])"
      ]
    },
    {
      "cell_type": "markdown",
      "metadata": {
        "id": "OiKEIwpIiOeF"
      },
      "source": [
        "BERT also requires *attention masks*, with 1 for each real token in the sequences and 0 for the padding.\n",
        "\n",
        "The attention mask tells which positions you have tokens in and which are just empty and do not have tokens."
      ]
    },
    {
      "cell_type": "code",
      "execution_count": 21,
      "metadata": {
        "id": "SrJ1QioFiQOr"
      },
      "outputs": [],
      "source": [
        "amasks_train, amasks_test_tweets, amasks_test_news = [], [], []\n",
        "\n",
        "for seq in ids_train:\n",
        "  seq_mask = [float(i>0) for i in seq]\n",
        "  amasks_train.append(seq_mask)\n",
        "\n",
        "for seq in ids_test_tweets:\n",
        "  seq_mask = [float(i>0) for i in seq]\n",
        "  amasks_test_tweets.append(seq_mask)\n",
        "\n",
        "for seq in ids_test_news:\n",
        "  seq_mask = [float(i>0) for i in seq]\n",
        "  amasks_test_news.append(seq_mask)"
      ]
    },
    {
      "cell_type": "markdown",
      "metadata": {
        "id": "PaaKi8FwiU0_"
      },
      "source": [
        "We use scikit-learn's train_test_split() to use 10% of our training data as a validation set.\n",
        "\n",
        "So far, we are working with Python lists, i.e., lists of integers. In order for these lists to be correctly handled by BERT, we must convert our lists into other dedicated structures, i.e., using `torch.tensors` into tensor data structures."
      ]
    },
    {
      "cell_type": "code",
      "execution_count": 22,
      "metadata": {
        "id": "8MFbb7zNPspK"
      },
      "outputs": [],
      "source": [
        "from sklearn.model_selection import train_test_split"
      ]
    },
    {
      "cell_type": "code",
      "execution_count": 23,
      "metadata": {
        "id": "S6BDKPqtiSbL"
      },
      "outputs": [],
      "source": [
        "(train_inputs, validation_inputs,\n",
        " train_labels, validation_labels) = train_test_split(ids_train, labels_train,\n",
        "                                                     random_state=42,\n",
        "                                                     test_size=0.1)\n",
        "(train_masks, validation_masks,\n",
        " _, _) = train_test_split(amasks_train, ids_train,\n",
        "                          random_state=42, test_size=0.1)\n",
        "\n",
        "#From lists of int into tensor data structures\n",
        "train_inputs = torch.tensor(train_inputs)\n",
        "train_labels = torch.tensor(train_labels)\n",
        "train_masks  = torch.tensor(train_masks)\n",
        "validation_inputs = torch.tensor(validation_inputs)\n",
        "validation_labels = torch.tensor(validation_labels)\n",
        "validation_masks  = torch.tensor(validation_masks)\n",
        "\n",
        "test_inputs_tweets = torch.tensor(ids_test_tweets)\n",
        "test_labels_tweets = torch.tensor(labels_test_tweets)\n",
        "test_masks_tweets  = torch.tensor(amasks_test_tweets)\n",
        "\n",
        "test_inputs_news = torch.tensor(ids_test_news)\n",
        "test_labels_news = torch.tensor(labels_test_news)\n",
        "test_masks_news = torch.tensor(amasks_test_news)"
      ]
    },
    {
      "cell_type": "markdown",
      "metadata": {
        "id": "FwJkAHmbicwU"
      },
      "source": [
        "Now we are almost ready to use our data into a fitting process.\n",
        "\n",
        "Next we create PyTorch *DataLoader*s for all data sets.\n",
        "\n",
        "For fine-tuning BERT on a specific task, the authors recommend a batch size of 16 or 32."
      ]
    },
    {
      "cell_type": "code",
      "execution_count": 24,
      "metadata": {
        "colab": {
          "base_uri": "https://localhost:8080/"
        },
        "id": "H5wj7YLOiZfZ",
        "outputId": "af539c5a-764a-407f-d83a-fa7cf615a314"
      },
      "outputs": [
        {
          "output_type": "stream",
          "name": "stdout",
          "text": [
            "Datasets:\n",
            "Train: 6155 documents\n",
            "Validation: 684 documents\n",
            "Test 1 (Tweets): 1263 documents\n",
            "Test 2 (News): 500 documents\n"
          ]
        }
      ],
      "source": [
        "BATCH_SIZE = 32 # How many training examples in one shot are processed in parallel\n",
        "\n",
        "print('Datasets:')\n",
        "print('Train: ', end=\"\")\n",
        "train_data = TensorDataset(train_inputs, train_masks,\n",
        "                           train_labels) # The tensor defines the training documents, the training labels, and labels\n",
        "train_sampler = RandomSampler(train_data) # Random sampling to avoid creating patterns that are not there, and helps in generalizing\n",
        "train_dataloader = DataLoader(train_data, sampler=train_sampler,\n",
        "                              batch_size=BATCH_SIZE) # We wrap data into a Data Loader that will take care of moving objs from the GPU to the CPU\n",
        "print(len(train_data), 'documents')\n",
        "\n",
        "# We do the same for Validation and for the two Test datasets\n",
        "\n",
        "print('Validation: ', end=\"\")\n",
        "validation_data = TensorDataset(validation_inputs, validation_masks,\n",
        "                                validation_labels)\n",
        "validation_sampler = SequentialSampler(validation_data)\n",
        "validation_dataloader = DataLoader(validation_data,\n",
        "                                   sampler=validation_sampler,\n",
        "                                   batch_size=BATCH_SIZE)\n",
        "print(len(validation_data), 'documents')\n",
        "\n",
        "print('Test 1 (Tweets): ', end=\"\")\n",
        "test_data_tweets = TensorDataset(test_inputs_tweets, test_masks_tweets, test_labels_tweets)\n",
        "test_sampler_tweets = SequentialSampler(test_data_tweets)\n",
        "test_dataloader_tweets = DataLoader(test_data_tweets, sampler=test_sampler_tweets,\n",
        "                             batch_size=BATCH_SIZE)\n",
        "print(len(test_data_tweets), 'documents')\n",
        "\n",
        "print('Test 2 (News): ', end=\"\")\n",
        "test_data_news = TensorDataset(test_inputs_news, test_masks_news, test_labels_news)\n",
        "test_sampler_news = SequentialSampler(test_data_news)\n",
        "test_dataloader_news = DataLoader(test_data_news, sampler=test_sampler_news,\n",
        "                             batch_size=BATCH_SIZE)\n",
        "print(len(test_data_news), 'documents')"
      ]
    },
    {
      "cell_type": "markdown",
      "metadata": {
        "id": "nEgt4NkqirRi"
      },
      "source": [
        "# BERT Model Inizialization\n",
        "\n",
        "We now load a pretrained BERT model (using `BertForSequenceClassification` class) with a single linear classification layer added on top. We pass the\n",
        "\n",
        "We pass as input the same model that we passed to the tokenizer → stored in the `BERTMODEL` variable.\n",
        "\n",
        "We also have to pass the labels. In our case we have a binary classification, therefore `num_labels=2`.\n",
        "\n",
        "\n",
        "`.cuda()` comes from NVIDIA, but there is also a more open resource, that is *opencl*.\n",
        "\n",
        "\n",
        "`740M/740M` is the size of the zipped BERT model.\n"
      ]
    },
    {
      "cell_type": "code",
      "execution_count": 25,
      "metadata": {
        "colab": {
          "base_uri": "https://localhost:8080/",
          "height": 121,
          "referenced_widgets": [
            "0cb286ae8d224dc4bc0b990a4a009532",
            "f59ab6bac5964920b4f83f1b17c3b1c5",
            "acc54ff14abb4701ae8c7354474bf003",
            "3e45ea9c87aa41e99fc952ef0f6947e4",
            "8f9f9f30efce4af3a5792bc1cc41e0fd",
            "c68fe0c78b064d05a10dc33eab3a9317",
            "3b2b944ed8e041699aad231c37aac416",
            "a4cdeca6cf004213a92b947a03c8bb67",
            "732958ef6ba045028f55c7db5fefe99a",
            "5d69f4c5dbcf43a58d74ba3be3a90816",
            "ef87498837f840d08ffe0b6e7e6c44c6"
          ]
        },
        "id": "sOG0wOuaiiVr",
        "outputId": "3c1be31f-97c0-4c07-f0f5-dd531d1f89a8"
      },
      "outputs": [
        {
          "output_type": "display_data",
          "data": {
            "text/plain": [
              "model.safetensors:   0%|          | 0.00/442M [00:00<?, ?B/s]"
            ],
            "application/vnd.jupyter.widget-view+json": {
              "version_major": 2,
              "version_minor": 0,
              "model_id": "0cb286ae8d224dc4bc0b990a4a009532"
            }
          },
          "metadata": {}
        },
        {
          "output_type": "stream",
          "name": "stderr",
          "text": [
            "Some weights of BertForSequenceClassification were not initialized from the model checkpoint at dbmdz/bert-base-italian-cased and are newly initialized: ['classifier.bias', 'classifier.weight']\n",
            "You should probably TRAIN this model on a down-stream task to be able to use it for predictions and inference.\n"
          ]
        },
        {
          "output_type": "stream",
          "name": "stdout",
          "text": [
            "Pretrained BERT model \"dbmdz/bert-base-italian-cased\" loaded\n"
          ]
        }
      ],
      "source": [
        "model = BertForSequenceClassification.from_pretrained(BERTMODEL,\n",
        "                                                      num_labels=2)\n",
        "model.cuda() # Move to the cuda computing\n",
        "print('Pretrained BERT model \"{}\" loaded'.format(BERTMODEL))"
      ]
    },
    {
      "cell_type": "markdown",
      "source": [
        "You can go into detail about the model and if you want you can intervene by customizing it, e.g., adding or moving layers."
      ],
      "metadata": {
        "id": "y9-9od7dvdNg"
      }
    },
    {
      "cell_type": "code",
      "execution_count": 26,
      "metadata": {
        "colab": {
          "base_uri": "https://localhost:8080/"
        },
        "id": "LElGRFEMUCZS",
        "outputId": "2e6f24e2-08f9-414b-cc79-c2192cfe4b03"
      },
      "outputs": [
        {
          "output_type": "stream",
          "name": "stdout",
          "text": [
            "BertForSequenceClassification(\n",
            "  (bert): BertModel(\n",
            "    (embeddings): BertEmbeddings(\n",
            "      (word_embeddings): Embedding(31102, 768, padding_idx=0)\n",
            "      (position_embeddings): Embedding(512, 768)\n",
            "      (token_type_embeddings): Embedding(2, 768)\n",
            "      (LayerNorm): LayerNorm((768,), eps=1e-12, elementwise_affine=True)\n",
            "      (dropout): Dropout(p=0.1, inplace=False)\n",
            "    )\n",
            "    (encoder): BertEncoder(\n",
            "      (layer): ModuleList(\n",
            "        (0-11): 12 x BertLayer(\n",
            "          (attention): BertAttention(\n",
            "            (self): BertSdpaSelfAttention(\n",
            "              (query): Linear(in_features=768, out_features=768, bias=True)\n",
            "              (key): Linear(in_features=768, out_features=768, bias=True)\n",
            "              (value): Linear(in_features=768, out_features=768, bias=True)\n",
            "              (dropout): Dropout(p=0.1, inplace=False)\n",
            "            )\n",
            "            (output): BertSelfOutput(\n",
            "              (dense): Linear(in_features=768, out_features=768, bias=True)\n",
            "              (LayerNorm): LayerNorm((768,), eps=1e-12, elementwise_affine=True)\n",
            "              (dropout): Dropout(p=0.1, inplace=False)\n",
            "            )\n",
            "          )\n",
            "          (intermediate): BertIntermediate(\n",
            "            (dense): Linear(in_features=768, out_features=3072, bias=True)\n",
            "            (intermediate_act_fn): GELUActivation()\n",
            "          )\n",
            "          (output): BertOutput(\n",
            "            (dense): Linear(in_features=3072, out_features=768, bias=True)\n",
            "            (LayerNorm): LayerNorm((768,), eps=1e-12, elementwise_affine=True)\n",
            "            (dropout): Dropout(p=0.1, inplace=False)\n",
            "          )\n",
            "        )\n",
            "      )\n",
            "    )\n",
            "    (pooler): BertPooler(\n",
            "      (dense): Linear(in_features=768, out_features=768, bias=True)\n",
            "      (activation): Tanh()\n",
            "    )\n",
            "  )\n",
            "  (dropout): Dropout(p=0.1, inplace=False)\n",
            "  (classifier): Linear(in_features=768, out_features=2, bias=True)\n",
            ")\n"
          ]
        }
      ],
      "source": [
        "print(model)"
      ]
    },
    {
      "cell_type": "markdown",
      "source": [
        "The first layer of the network is an embedding layer,\n",
        "```\n",
        "(embeddings): BertEmbeddings(\n",
        "      (word_embeddings): Embedding(30522, 768, padding_idx=0)\n",
        "      (position_embeddings) : Embedding(512, 768)\n",
        "      ...\n",
        "```\n",
        "So, the number you have assigned to a feature is converted to a vector of 768 and has more than 30,000 different embeddings.\n",
        "Then there is the position embedding...\n",
        "\n",
        "Note we are using a\n",
        "```\n",
        "(encoder): BertEncoder(\n",
        "      ...)\n",
        "```\n",
        "so, you can see the Q, K, V decomposition\n",
        "```\n",
        "(query): Linear(in_features=768, out_features=768, bias=True)\n",
        "(key): Linear(in_features=768, out_features=768, bias=True)\n",
        "(value): Linear(in_features=768, out_features=768, bias=True)\n",
        "\n",
        "```"
      ],
      "metadata": {
        "id": "EGjweYmewVoy"
      }
    },
    {
      "cell_type": "markdown",
      "metadata": {
        "id": "JjtNQUINizE2"
      },
      "source": [
        "We set the remaining hyperparameters needed for fine-tuning the pretrained model:\n",
        " * EPOCHS: the number of training epochs in fine-tuning\n",
        "   (recommended values between 2 and 4)\n",
        " * WEIGHT_DECAY: weight decay for the Adam optimizer\n",
        " * LR: learning rate for the Adam optimizer (2e-5 to 5e-5 recommended)\n",
        " * WARMUP_STEPS: number of warmup steps to (linearly) reach the set learning rate\n",
        "\n",
        "We also need to grab the training parameters from the pretrained model."
      ]
    },
    {
      "cell_type": "code",
      "execution_count": 45,
      "metadata": {
        "id": "naOcRV62iwAR",
        "colab": {
          "base_uri": "https://localhost:8080/"
        },
        "outputId": "3ff250a3-d643-483e-c29b-f7b6c6a9c39f"
      },
      "outputs": [
        {
          "output_type": "stream",
          "name": "stderr",
          "text": [
            "/usr/local/lib/python3.10/dist-packages/transformers/optimization.py:591: FutureWarning: This implementation of AdamW is deprecated and will be removed in a future version. Use the PyTorch implementation torch.optim.AdamW instead, or set `no_deprecation_warning=True` to disable this warning\n",
            "  warnings.warn(\n"
          ]
        }
      ],
      "source": [
        "EPOCHS = 2\n",
        "WEIGHT_DECAY = 0.01\n",
        "LR = 2e-5\n",
        "WARMUP_STEPS =int(0.2*len(train_dataloader))\n",
        "\n",
        "no_decay = ['bias', 'LayerNorm.weight']\n",
        "optimizer_grouped_parameters = [\n",
        "    {'params': [p for n, p in model.named_parameters()\n",
        "                if not any(nd in n for nd in no_decay)],\n",
        "     'weight_decay': WEIGHT_DECAY},\n",
        "    {'params': [p for n, p in model.named_parameters()\n",
        "                if any(nd in n for nd in no_decay)],\n",
        "     'weight_decay': 0.0}\n",
        "]\n",
        "optimizer = AdamW(optimizer_grouped_parameters, lr=LR, eps=1e-8)\n",
        "scheduler = get_linear_schedule_with_warmup(optimizer, num_warmup_steps=WARMUP_STEPS,\n",
        "                                 num_training_steps =len(train_dataloader)*EPOCHS)"
      ]
    },
    {
      "cell_type": "markdown",
      "metadata": {
        "id": "dk4A50LtjIQS"
      },
      "source": [
        "## Training\n",
        "\n",
        "Let's now define functions to train() and evaluate() the model. Since we are working with pythorch and not with keras we have to set up the forward pass, steps..."
      ]
    },
    {
      "cell_type": "code",
      "execution_count": 46,
      "metadata": {
        "id": "Y617BgqjjAJG"
      },
      "outputs": [],
      "source": [
        "def train(epoch, loss_vector=None, log_interval=200): #loss_vector = train_lossv\n",
        "  # Set model to training mode\n",
        "  model.train()\n",
        "\n",
        "  # Loop over each batch from the training set\n",
        "  for step, batch in enumerate(train_dataloader):\n",
        "\n",
        "    # Copy data to GPU if needed\n",
        "    batch = tuple(t.to(device) for t in batch)\n",
        "\n",
        "    # Unpack the inputs from our dataloader\n",
        "    b_input_ids, b_input_mask, b_labels = batch\n",
        "\n",
        "    # Zero gradient buffers\n",
        "    optimizer.zero_grad()\n",
        "\n",
        "    # Forward pass\n",
        "    outputs = model(b_input_ids, token_type_ids=None,\n",
        "                    attention_mask=b_input_mask, labels=b_labels)\n",
        "\n",
        "    loss = outputs[0]\n",
        "    if loss_vector is not None:\n",
        "        loss_vector.append(loss.item())\n",
        "\n",
        "    # Backward pass\n",
        "    loss.backward()\n",
        "\n",
        "    # Update weights\n",
        "    optimizer.step()\n",
        "    scheduler.step()\n",
        "\n",
        "    if step % log_interval == 0:\n",
        "        print('Train Epoch: {} [{}/{} ({:.0f}%)]\\tLoss: {:.6f}'.format(\n",
        "                epoch, step * len(b_input_ids),\n",
        "                len(train_dataloader.dataset),\n",
        "                100. * step / len(train_dataloader), loss))\n",
        "\n",
        "\n",
        "def evaluate(loader, loss_vector=None):\n",
        "    # Set model to evaluation mode\n",
        "    model.eval()\n",
        "\n",
        "    all_predictions = []\n",
        "    all_labels = []\n",
        "\n",
        "    for batch in loader:\n",
        "        batch = tuple(t.to(device) for t in batch)\n",
        "        b_input_ids, b_input_mask, b_labels = batch\n",
        "\n",
        "        with torch.no_grad():\n",
        "            outputs = model(b_input_ids, token_type_ids=None,\n",
        "                            attention_mask=b_input_mask, labels=b_labels) #we provide the labels to get the loss\n",
        "            loss = outputs[0]  # Compute validation loss\n",
        "            if loss_vector is not None:\n",
        "                loss_vector.append(loss.item())  # Append loss to loss vector\n",
        "\n",
        "            logits = outputs[1]  # Get logits\n",
        "            logits = logits.detach().cpu().numpy()\n",
        "            predictions = np.argmax(logits, axis=1)\n",
        "\n",
        "            labels = b_labels.to('cpu').numpy()\n",
        "            all_predictions.extend(predictions)\n",
        "            all_labels.extend(labels)\n",
        "\n",
        "    # Calculate metrics\n",
        "    accuracy = np.mean(np.array(all_predictions) == np.array(all_labels))\n",
        "    precision = precision_score(all_labels, all_predictions, average='macro')\n",
        "    recall = recall_score(all_labels, all_predictions, average='macro')\n",
        "    f1 = f1_score(all_labels, all_predictions, average='macro')\n",
        "\n",
        "    print('Accuracy: {:.4f}'.format(accuracy))\n",
        "    print('Precision: {:.4f}'.format(precision))\n",
        "    print('Recall: {:.4f}'.format(recall))\n",
        "    print('F1 Score: {:.4f}'.format(f1))"
      ]
    },
    {
      "cell_type": "markdown",
      "metadata": {
        "id": "o0x87vj4jLG8"
      },
      "source": [
        "Now we are ready to train our model using the train() function. After each epoch, we evaluate the model using the validation set and evaluate()."
      ]
    },
    {
      "cell_type": "code",
      "execution_count": 47,
      "metadata": {
        "colab": {
          "base_uri": "https://localhost:8080/"
        },
        "id": "CtNwgXKDjJQ3",
        "outputId": "da302ab0-a6e6-40ff-8d9f-3189fed1e5f9"
      },
      "outputs": [
        {
          "output_type": "stream",
          "name": "stdout",
          "text": [
            "\n",
            "Train Epoch: 1 [0/6155 (0%)]\tLoss: 0.183196\n",
            "\n",
            "Validation set:\n",
            "Accuracy: 0.7939\n",
            "Precision: 0.7880\n",
            "Recall: 0.7904\n",
            "F1 Score: 0.7891\n",
            "\n",
            "Train Epoch: 2 [0/6155 (0%)]\tLoss: 0.034870\n",
            "\n",
            "Validation set:\n",
            "Accuracy: 0.7924\n",
            "Precision: 0.7866\n",
            "Recall: 0.7891\n",
            "F1 Score: 0.7877\n"
          ]
        }
      ],
      "source": [
        "#Lists to store the train/eval batch losses (lists w/ loss for each batch)\n",
        "train_lossv = []\n",
        "eval_lossv = []\n",
        "\n",
        "for epoch in range(1, EPOCHS + 1):\n",
        "    print()\n",
        "    train(epoch, train_lossv)\n",
        "    print('\\nValidation set:')\n",
        "    evaluate(validation_dataloader, eval_lossv)"
      ]
    },
    {
      "cell_type": "markdown",
      "metadata": {
        "id": "W8fr0OSRjmaS"
      },
      "source": [
        "Let's take a look at our training loss over all batches.\n",
        "\n",
        "We see a steady decay, as hoped: it means that the model is learning."
      ]
    },
    {
      "cell_type": "code",
      "execution_count": 48,
      "metadata": {
        "colab": {
          "base_uri": "https://localhost:8080/",
          "height": 727
        },
        "id": "zmEaoKyxjQQ2",
        "outputId": "b8fef163-c434-4251-8df2-4703fbc12fe7"
      },
      "outputs": [
        {
          "output_type": "display_data",
          "data": {
            "text/plain": [
              "<Figure size 1500x800 with 1 Axes>"
            ],
            "image/png": "[encoded data removed]"
          },
          "metadata": {}
        }
      ],
      "source": [
        "%matplotlib inline\n",
        "plt.figure(figsize=(15,8))\n",
        "plt.title(\"Training loss\")\n",
        "plt.xlabel(\"Batch\")\n",
        "plt.ylabel(\"Loss\")\n",
        "plt.plot(train_lossv, label='original')\n",
        "plt.plot(np.convolve(train_lossv, np.ones(101), 'same') / 101,\n",
        "         label='averaged')\n",
        "plt.legend(loc='best')\n",
        "plt.show()"
      ]
    },
    {
      "cell_type": "markdown",
      "source": [
        "Let's visualize the loss trend on the training and evaluation dataset per epoch.\n",
        "\n",
        "As said before, the training loss is decaying, but the validation loss is increasing after the second epoch. This is a signal of overfitting: the model is not really learning from the training set, but rather memorizing it, which hurts its capacility to generalize on the validation set."
      ],
      "metadata": {
        "id": "x601NrqszrIw"
      }
    },
    {
      "cell_type": "code",
      "source": [
        "# Calculate epoch-level losses → lists w/ the avg loss for each epoch\n",
        "# len(dataloader): number of batches to process the entire dataset in one epoch\n",
        "  #for i in range(0, len(lossv), len(dataloader): we iterate over the entire loss vector, w/ a step equal to the n. of batches in one epoch (aka step = one epoch)\n",
        "  #lossv[i:i + len(dataloader)]: we slice the loss vector to select the batch losses for one epoch → over this slice, we calculate the avg → avg loss for the epoch\n",
        "epoch_train_loss = [np.mean(train_lossv[i:i + len(train_dataloader)]) for i in range(0, len(train_lossv), len(train_dataloader))]\n",
        "epoch_eval_loss = [np.mean(eval_lossv[i:i + len(validation_dataloader)]) for i in range(0, len(eval_lossv), len(validation_dataloader))]\n",
        "\n",
        "# Plot\n",
        "plt.figure(figsize=(10, 6))\n",
        "plt.plot(range(1, len(epoch_train_loss) + 1), epoch_train_loss, label='Training Loss', color='blue')\n",
        "plt.plot(range(1, len(epoch_eval_loss) + 1), epoch_eval_loss, label='Validation Loss', color='orange')\n",
        "plt.xlabel('Epoch')\n",
        "plt.ylabel('Loss')\n",
        "plt.title('Training and Validation Loss (Epoch Level)')\n",
        "plt.legend()\n",
        "plt.show()"
      ],
      "metadata": {
        "id": "vNnBW7gmzzHY",
        "colab": {
          "base_uri": "https://localhost:8080/",
          "height": 573
        },
        "outputId": "2b784cb1-1a0e-472f-ab03-2ba9dfd20930"
      },
      "execution_count": 49,
      "outputs": [
        {
          "output_type": "display_data",
          "data": {
            "text/plain": [
              "<Figure size 1000x600 with 1 Axes>"
            ],
            "image/png": "[encoded data removed]"
          },
          "metadata": {}
        }
      ]
    },
    {
      "cell_type": "markdown",
      "metadata": {
        "id": "IQLpN-Q1jvW7"
      },
      "source": [
        "## Evaluation\n",
        "\n",
        "For a better measure of the quality of the model, let's see the model accuracy, precision, recall and F1 score for the two data sets (tweets and news headlines)."
      ]
    },
    {
      "cell_type": "code",
      "source": [
        "#Redefine the evaluate function → classification report + confusion matrix\n",
        "def evaluate(loader):\n",
        "  model.eval()\n",
        "\n",
        "  n_correct, n_all = 0, 0\n",
        "\n",
        "  all_predictions = []\n",
        "  all_labels = []\n",
        "\n",
        "  for batch in loader:\n",
        "    batch = tuple(t.to(device) for t in batch)\n",
        "    b_input_ids, b_input_mask, b_labels = batch\n",
        "\n",
        "    with torch.no_grad():\n",
        "      outputs = model(b_input_ids, token_type_ids=None,\n",
        "                      attention_mask=b_input_mask)\n",
        "      logits = outputs[0]\n",
        "\n",
        "    logits = logits.detach().cpu().numpy()\n",
        "    predictions = np.argmax(logits, axis=1)\n",
        "\n",
        "    labels = b_labels.to('cpu').numpy()\n",
        "    n_correct += np.sum(predictions == labels)\n",
        "    n_all += len(labels)\n",
        "\n",
        "    #Update preds and labels for the classification report\n",
        "    all_predictions.extend(predictions)\n",
        "    all_labels.extend(labels)\n",
        "\n",
        "  print('Accuracy: [{}/{}] {:.4f}'.format(n_correct, n_all,\n",
        "                                          n_correct/n_all))\n",
        "\n",
        "  report = classification_report(all_labels, all_predictions, digits= 4)\n",
        "  print(\"Classification Report:\\n\", report)\n",
        "\n",
        "  # Create confusion matrix and plot\n",
        "  conf_matrix = confusion_matrix(all_labels, all_predictions)\n",
        "  plt.figure(figsize=(8, 6))\n",
        "  sns.heatmap(conf_matrix, annot=True, fmt='d', cmap='Blues',\n",
        "              xticklabels=[str(i) for i in range(conf_matrix.shape[1])],\n",
        "              yticklabels=[str(i) for i in range(conf_matrix.shape[0])])\n",
        "  plt.title('Confusion Matrix')\n",
        "  plt.xlabel('Prediction')\n",
        "  plt.ylabel('Gold')\n",
        "  plt.show()"
      ],
      "metadata": {
        "id": "JVFFeXBAMHc_"
      },
      "execution_count": 50,
      "outputs": []
    },
    {
      "cell_type": "code",
      "execution_count": 51,
      "metadata": {
        "colab": {
          "base_uri": "https://localhost:8080/",
          "height": 781
        },
        "id": "mDIYn1Mqjz-2",
        "outputId": "5164bab0-e5de-4b77-b8f9-6d9e11c62ea8"
      },
      "outputs": [
        {
          "output_type": "stream",
          "name": "stdout",
          "text": [
            "------Test set 1 (Tweets):------\n",
            "Accuracy: [972/1263] 0.7696\n",
            "Classification Report:\n",
            "               precision    recall  f1-score   support\n",
            "\n",
            "           0     0.7796    0.7613    0.7703       641\n",
            "           1     0.7598    0.7781    0.7689       622\n",
            "\n",
            "    accuracy                         0.7696      1263\n",
            "   macro avg     0.7697    0.7697    0.7696      1263\n",
            "weighted avg     0.7698    0.7696    0.7696      1263\n",
            "\n"
          ]
        },
        {
          "output_type": "display_data",
          "data": {
            "text/plain": [
              "<Figure size 800x600 with 2 Axes>"
            ],
            "image/png": "[encoded data removed]"
          },
          "metadata": {}
        }
      ],
      "source": [
        "print('------Test set 1 (Tweets):------')\n",
        "evaluate(test_dataloader_tweets)"
      ]
    },
    {
      "cell_type": "code",
      "execution_count": 52,
      "metadata": {
        "id": "vS9ybeVFPspM",
        "colab": {
          "base_uri": "https://localhost:8080/",
          "height": 781
        },
        "outputId": "ab95f70b-b3e0-4329-a872-ae96ffc7cde9"
      },
      "outputs": [
        {
          "output_type": "stream",
          "name": "stdout",
          "text": [
            "------Test set 2 (News):------\n",
            "Accuracy: [372/500] 0.7440\n",
            "Classification Report:\n",
            "               precision    recall  f1-score   support\n",
            "\n",
            "           0     0.7290    0.9530    0.8261       319\n",
            "           1     0.8193    0.3757    0.5152       181\n",
            "\n",
            "    accuracy                         0.7440       500\n",
            "   macro avg     0.7741    0.6643    0.6706       500\n",
            "weighted avg     0.7617    0.7440    0.7135       500\n",
            "\n"
          ]
        },
        {
          "output_type": "display_data",
          "data": {
            "text/plain": [
              "<Figure size 800x600 with 2 Axes>"
            ],
            "image/png": "[encoded data removed]"
          },
          "metadata": {}
        }
      ],
      "source": [
        "print('------Test set 2 (News):------')\n",
        "evaluate(test_dataloader_news)"
      ]
    }
  ],
  "metadata": {
    "colab": {
      "provenance": [],
      "gpuType": "T4"
    },
    "kernelspec": {
      "display_name": "Python 3",
      "name": "python3"
    },
    "language_info": {
      "name": "python"
    },
    "widgets": {
      "application/vnd.jupyter.widget-state+json": {
        "8bc87ab07b1c45debe5182e7ad338c05": {
          "model_module": "@jupyter-widgets/controls",
          "model_name": "HBoxModel",
          "model_module_version": "1.5.0",
          "state": {
            "_dom_classes": [],
            "_model_module": "@jupyter-widgets/controls",
            "_model_module_version": "1.5.0",
            "_model_name": "HBoxModel",
            "_view_count": null,
            "_view_module": "@jupyter-widgets/controls",
            "_view_module_version": "1.5.0",
            "_view_name": "HBoxView",
            "box_style": "",
            "children": [
              "IPY_MODEL_2df9de436b944c18a2d08463649e858a",
              "IPY_MODEL_d7d6a22f5a24457f9ef4521074ae01ee",
              "IPY_MODEL_c453d68f2231445ab3ddb786c9a1bb33"
            ],
            "layout": "IPY_MODEL_e1be62ac61d14e1fab0b93ab13a90853"
          }
        },
        "2df9de436b944c18a2d08463649e858a": {
          "model_module": "@jupyter-widgets/controls",
          "model_name": "HTMLModel",
          "model_module_version": "1.5.0",
          "state": {
            "_dom_classes": [],
            "_model_module": "@jupyter-widgets/controls",
            "_model_module_version": "1.5.0",
            "_model_name": "HTMLModel",
            "_view_count": null,
            "_view_module": "@jupyter-widgets/controls",
            "_view_module_version": "1.5.0",
            "_view_name": "HTMLView",
            "description": "",
            "description_tooltip": null,
            "layout": "IPY_MODEL_479c241de6134d10adc54f08539b5f55",
            "placeholder": "​",
            "style": "IPY_MODEL_fe0a7f405d1c47748dc4890bbf8090b0",
            "value": "tokenizer_config.json: 100%"
          }
        },
        "d7d6a22f5a24457f9ef4521074ae01ee": {
          "model_module": "@jupyter-widgets/controls",
          "model_name": "FloatProgressModel",
          "model_module_version": "1.5.0",
          "state": {
            "_dom_classes": [],
            "_model_module": "@jupyter-widgets/controls",
            "_model_module_version": "1.5.0",
            "_model_name": "FloatProgressModel",
            "_view_count": null,
            "_view_module": "@jupyter-widgets/controls",
            "_view_module_version": "1.5.0",
            "_view_name": "ProgressView",
            "bar_style": "success",
            "description": "",
            "description_tooltip": null,
            "layout": "IPY_MODEL_e2aabeaa4f7a4206b635a1a7f36cd924",
            "max": 59,
            "min": 0,
            "orientation": "horizontal",
            "style": "IPY_MODEL_4b6089c44caf446480523db9cfc7acdd",
            "value": 59
          }
        },
        "c453d68f2231445ab3ddb786c9a1bb33": {
          "model_module": "@jupyter-widgets/controls",
          "model_name": "HTMLModel",
          "model_module_version": "1.5.0",
          "state": {
            "_dom_classes": [],
            "_model_module": "@jupyter-widgets/controls",
            "_model_module_version": "1.5.0",
            "_model_name": "HTMLModel",
            "_view_count": null,
            "_view_module": "@jupyter-widgets/controls",
            "_view_module_version": "1.5.0",
            "_view_name": "HTMLView",
            "description": "",
            "description_tooltip": null,
            "layout": "IPY_MODEL_023c5ac976074495a1ce47dcddef0843",
            "placeholder": "​",
            "style": "IPY_MODEL_ebb7111afaae4289a334bcb00a71cac5",
            "value": " 59.0/59.0 [00:00&lt;00:00, 679B/s]"
          }
        },
        "e1be62ac61d14e1fab0b93ab13a90853": {
          "model_module": "@jupyter-widgets/base",
          "model_name": "LayoutModel",
          "model_module_version": "1.2.0",
          "state": {
            "_model_module": "@jupyter-widgets/base",
            "_model_module_version": "1.2.0",
            "_model_name": "LayoutModel",
            "_view_count": null,
            "_view_module": "@jupyter-widgets/base",
            "_view_module_version": "1.2.0",
            "_view_name": "LayoutView",
            "align_content": null,
            "align_items": null,
            "align_self": null,
            "border": null,
            "bottom": null,
            "display": null,
            "flex": null,
            "flex_flow": null,
            "grid_area": null,
            "grid_auto_columns": null,
            "grid_auto_flow": null,
            "grid_auto_rows": null,
            "grid_column": null,
            "grid_gap": null,
            "grid_row": null,
            "grid_template_areas": null,
            "grid_template_columns": null,
            "grid_template_rows": null,
            "height": null,
            "justify_content": null,
            "justify_items": null,
            "left": null,
            "margin": null,
            "max_height": null,
            "max_width": null,
            "min_height": null,
            "min_width": null,
            "object_fit": null,
            "object_position": null,
            "order": null,
            "overflow": null,
            "overflow_x": null,
            "overflow_y": null,
            "padding": null,
            "right": null,
            "top": null,
            "visibility": null,
            "width": null
          }
        },
        "479c241de6134d10adc54f08539b5f55": {
          "model_module": "@jupyter-widgets/base",
          "model_name": "LayoutModel",
          "model_module_version": "1.2.0",
          "state": {
            "_model_module": "@jupyter-widgets/base",
            "_model_module_version": "1.2.0",
            "_model_name": "LayoutModel",
            "_view_count": null,
            "_view_module": "@jupyter-widgets/base",
            "_view_module_version": "1.2.0",
            "_view_name": "LayoutView",
            "align_content": null,
            "align_items": null,
            "align_self": null,
            "border": null,
            "bottom": null,
            "display": null,
            "flex": null,
            "flex_flow": null,
            "grid_area": null,
            "grid_auto_columns": null,
            "grid_auto_flow": null,
            "grid_auto_rows": null,
            "grid_column": null,
            "grid_gap": null,
            "grid_row": null,
            "grid_template_areas": null,
            "grid_template_columns": null,
            "grid_template_rows": null,
            "height": null,
            "justify_content": null,
            "justify_items": null,
            "left": null,
            "margin": null,
            "max_height": null,
            "max_width": null,
            "min_height": null,
            "min_width": null,
            "object_fit": null,
            "object_position": null,
            "order": null,
            "overflow": null,
            "overflow_x": null,
            "overflow_y": null,
            "padding": null,
            "right": null,
            "top": null,
            "visibility": null,
            "width": null
          }
        },
        "fe0a7f405d1c47748dc4890bbf8090b0": {
          "model_module": "@jupyter-widgets/controls",
          "model_name": "DescriptionStyleModel",
          "model_module_version": "1.5.0",
          "state": {
            "_model_module": "@jupyter-widgets/controls",
            "_model_module_version": "1.5.0",
            "_model_name": "DescriptionStyleModel",
            "_view_count": null,
            "_view_module": "@jupyter-widgets/base",
            "_view_module_version": "1.2.0",
            "_view_name": "StyleView",
            "description_width": ""
          }
        },
        "e2aabeaa4f7a4206b635a1a7f36cd924": {
          "model_module": "@jupyter-widgets/base",
          "model_name": "LayoutModel",
          "model_module_version": "1.2.0",
          "state": {
            "_model_module": "@jupyter-widgets/base",
            "_model_module_version": "1.2.0",
            "_model_name": "LayoutModel",
            "_view_count": null,
            "_view_module": "@jupyter-widgets/base",
            "_view_module_version": "1.2.0",
            "_view_name": "LayoutView",
            "align_content": null,
            "align_items": null,
            "align_self": null,
            "border": null,
            "bottom": null,
            "display": null,
            "flex": null,
            "flex_flow": null,
            "grid_area": null,
            "grid_auto_columns": null,
            "grid_auto_flow": null,
            "grid_auto_rows": null,
            "grid_column": null,
            "grid_gap": null,
            "grid_row": null,
            "grid_template_areas": null,
            "grid_template_columns": null,
            "grid_template_rows": null,
            "height": null,
            "justify_content": null,
            "justify_items": null,
            "left": null,
            "margin": null,
            "max_height": null,
            "max_width": null,
            "min_height": null,
            "min_width": null,
            "object_fit": null,
            "object_position": null,
            "order": null,
            "overflow": null,
            "overflow_x": null,
            "overflow_y": null,
            "padding": null,
            "right": null,
            "top": null,
            "visibility": null,
            "width": null
          }
        },
        "4b6089c44caf446480523db9cfc7acdd": {
          "model_module": "@jupyter-widgets/controls",
          "model_name": "ProgressStyleModel",
          "model_module_version": "1.5.0",
          "state": {
            "_model_module": "@jupyter-widgets/controls",
            "_model_module_version": "1.5.0",
            "_model_name": "ProgressStyleModel",
            "_view_count": null,
            "_view_module": "@jupyter-widgets/base",
            "_view_module_version": "1.2.0",
            "_view_name": "StyleView",
            "bar_color": null,
            "description_width": ""
          }
        },
        "023c5ac976074495a1ce47dcddef0843": {
          "model_module": "@jupyter-widgets/base",
          "model_name": "LayoutModel",
          "model_module_version": "1.2.0",
          "state": {
            "_model_module": "@jupyter-widgets/base",
            "_model_module_version": "1.2.0",
            "_model_name": "LayoutModel",
            "_view_count": null,
            "_view_module": "@jupyter-widgets/base",
            "_view_module_version": "1.2.0",
            "_view_name": "LayoutView",
            "align_content": null,
            "align_items": null,
            "align_self": null,
            "border": null,
            "bottom": null,
            "display": null,
            "flex": null,
            "flex_flow": null,
            "grid_area": null,
            "grid_auto_columns": null,
            "grid_auto_flow": null,
            "grid_auto_rows": null,
            "grid_column": null,
            "grid_gap": null,
            "grid_row": null,
            "grid_template_areas": null,
            "grid_template_columns": null,
            "grid_template_rows": null,
            "height": null,
            "justify_content": null,
            "justify_items": null,
            "left": null,
            "margin": null,
            "max_height": null,
            "max_width": null,
            "min_height": null,
            "min_width": null,
            "object_fit": null,
            "object_position": null,
            "order": null,
            "overflow": null,
            "overflow_x": null,
            "overflow_y": null,
            "padding": null,
            "right": null,
            "top": null,
            "visibility": null,
            "width": null
          }
        },
        "ebb7111afaae4289a334bcb00a71cac5": {
          "model_module": "@jupyter-widgets/controls",
          "model_name": "DescriptionStyleModel",
          "model_module_version": "1.5.0",
          "state": {
            "_model_module": "@jupyter-widgets/controls",
            "_model_module_version": "1.5.0",
            "_model_name": "DescriptionStyleModel",
            "_view_count": null,
            "_view_module": "@jupyter-widgets/base",
            "_view_module_version": "1.2.0",
            "_view_name": "StyleView",
            "description_width": ""
          }
        },
        "95dcd5ba966b4fe9aac9e38d9bfae8a4": {
          "model_module": "@jupyter-widgets/controls",
          "model_name": "HBoxModel",
          "model_module_version": "1.5.0",
          "state": {
            "_dom_classes": [],
            "_model_module": "@jupyter-widgets/controls",
            "_model_module_version": "1.5.0",
            "_model_name": "HBoxModel",
            "_view_count": null,
            "_view_module": "@jupyter-widgets/controls",
            "_view_module_version": "1.5.0",
            "_view_name": "HBoxView",
            "box_style": "",
            "children": [
              "IPY_MODEL_98539b1a8dfb4ad796cf8345b26c0af6",
              "IPY_MODEL_4b6a106699a247cf9f314541a6aa2974",
              "IPY_MODEL_37dc9cfcf5ab483fa079d2c1dbd72bd9"
            ],
            "layout": "IPY_MODEL_d301dc773a0944548ba76949c5f85746"
          }
        },
        "98539b1a8dfb4ad796cf8345b26c0af6": {
          "model_module": "@jupyter-widgets/controls",
          "model_name": "HTMLModel",
          "model_module_version": "1.5.0",
          "state": {
            "_dom_classes": [],
            "_model_module": "@jupyter-widgets/controls",
            "_model_module_version": "1.5.0",
            "_model_name": "HTMLModel",
            "_view_count": null,
            "_view_module": "@jupyter-widgets/controls",
            "_view_module_version": "1.5.0",
            "_view_name": "HTMLView",
            "description": "",
            "description_tooltip": null,
            "layout": "IPY_MODEL_ac7b16317f1949f9a63c56906d0291a7",
            "placeholder": "​",
            "style": "IPY_MODEL_b702d0ecb7a94a1f94091e6066362dd6",
            "value": "vocab.txt: 100%"
          }
        },
        "4b6a106699a247cf9f314541a6aa2974": {
          "model_module": "@jupyter-widgets/controls",
          "model_name": "FloatProgressModel",
          "model_module_version": "1.5.0",
          "state": {
            "_dom_classes": [],
            "_model_module": "@jupyter-widgets/controls",
            "_model_module_version": "1.5.0",
            "_model_name": "FloatProgressModel",
            "_view_count": null,
            "_view_module": "@jupyter-widgets/controls",
            "_view_module_version": "1.5.0",
            "_view_name": "ProgressView",
            "bar_style": "success",
            "description": "",
            "description_tooltip": null,
            "layout": "IPY_MODEL_ed2cbbb1b67e49b69f964e4fed3dd1b6",
            "max": 235127,
            "min": 0,
            "orientation": "horizontal",
            "style": "IPY_MODEL_937024e6ea6741d08d7bcd4b0ba09d30",
            "value": 235127
          }
        },
        "37dc9cfcf5ab483fa079d2c1dbd72bd9": {
          "model_module": "@jupyter-widgets/controls",
          "model_name": "HTMLModel",
          "model_module_version": "1.5.0",
          "state": {
            "_dom_classes": [],
            "_model_module": "@jupyter-widgets/controls",
            "_model_module_version": "1.5.0",
            "_model_name": "HTMLModel",
            "_view_count": null,
            "_view_module": "@jupyter-widgets/controls",
            "_view_module_version": "1.5.0",
            "_view_name": "HTMLView",
            "description": "",
            "description_tooltip": null,
            "layout": "IPY_MODEL_3ebd68df95d541589474fb446cb72d82",
            "placeholder": "​",
            "style": "IPY_MODEL_2bd85962d7cb4376b06a05c403739960",
            "value": " 235k/235k [00:00&lt;00:00, 957kB/s]"
          }
        },
        "d301dc773a0944548ba76949c5f85746": {
          "model_module": "@jupyter-widgets/base",
          "model_name": "LayoutModel",
          "model_module_version": "1.2.0",
          "state": {
            "_model_module": "@jupyter-widgets/base",
            "_model_module_version": "1.2.0",
            "_model_name": "LayoutModel",
            "_view_count": null,
            "_view_module": "@jupyter-widgets/base",
            "_view_module_version": "1.2.0",
            "_view_name": "LayoutView",
            "align_content": null,
            "align_items": null,
            "align_self": null,
            "border": null,
            "bottom": null,
            "display": null,
            "flex": null,
            "flex_flow": null,
            "grid_area": null,
            "grid_auto_columns": null,
            "grid_auto_flow": null,
            "grid_auto_rows": null,
            "grid_column": null,
            "grid_gap": null,
            "grid_row": null,
            "grid_template_areas": null,
            "grid_template_columns": null,
            "grid_template_rows": null,
            "height": null,
            "justify_content": null,
            "justify_items": null,
            "left": null,
            "margin": null,
            "max_height": null,
            "max_width": null,
            "min_height": null,
            "min_width": null,
            "object_fit": null,
            "object_position": null,
            "order": null,
            "overflow": null,
            "overflow_x": null,
            "overflow_y": null,
            "padding": null,
            "right": null,
            "top": null,
            "visibility": null,
            "width": null
          }
        },
        "ac7b16317f1949f9a63c56906d0291a7": {
          "model_module": "@jupyter-widgets/base",
          "model_name": "LayoutModel",
          "model_module_version": "1.2.0",
          "state": {
            "_model_module": "@jupyter-widgets/base",
            "_model_module_version": "1.2.0",
            "_model_name": "LayoutModel",
            "_view_count": null,
            "_view_module": "@jupyter-widgets/base",
            "_view_module_version": "1.2.0",
            "_view_name": "LayoutView",
            "align_content": null,
            "align_items": null,
            "align_self": null,
            "border": null,
            "bottom": null,
            "display": null,
            "flex": null,
            "flex_flow": null,
            "grid_area": null,
            "grid_auto_columns": null,
            "grid_auto_flow": null,
            "grid_auto_rows": null,
            "grid_column": null,
            "grid_gap": null,
            "grid_row": null,
            "grid_template_areas": null,
            "grid_template_columns": null,
            "grid_template_rows": null,
            "height": null,
            "justify_content": null,
            "justify_items": null,
            "left": null,
            "margin": null,
            "max_height": null,
            "max_width": null,
            "min_height": null,
            "min_width": null,
            "object_fit": null,
            "object_position": null,
            "order": null,
            "overflow": null,
            "overflow_x": null,
            "overflow_y": null,
            "padding": null,
            "right": null,
            "top": null,
            "visibility": null,
            "width": null
          }
        },
        "b702d0ecb7a94a1f94091e6066362dd6": {
          "model_module": "@jupyter-widgets/controls",
          "model_name": "DescriptionStyleModel",
          "model_module_version": "1.5.0",
          "state": {
            "_model_module": "@jupyter-widgets/controls",
            "_model_module_version": "1.5.0",
            "_model_name": "DescriptionStyleModel",
            "_view_count": null,
            "_view_module": "@jupyter-widgets/base",
            "_view_module_version": "1.2.0",
            "_view_name": "StyleView",
            "description_width": ""
          }
        },
        "ed2cbbb1b67e49b69f964e4fed3dd1b6": {
          "model_module": "@jupyter-widgets/base",
          "model_name": "LayoutModel",
          "model_module_version": "1.2.0",
          "state": {
            "_model_module": "@jupyter-widgets/base",
            "_model_module_version": "1.2.0",
            "_model_name": "LayoutModel",
            "_view_count": null,
            "_view_module": "@jupyter-widgets/base",
            "_view_module_version": "1.2.0",
            "_view_name": "LayoutView",
            "align_content": null,
            "align_items": null,
            "align_self": null,
            "border": null,
            "bottom": null,
            "display": null,
            "flex": null,
            "flex_flow": null,
            "grid_area": null,
            "grid_auto_columns": null,
            "grid_auto_flow": null,
            "grid_auto_rows": null,
            "grid_column": null,
            "grid_gap": null,
            "grid_row": null,
            "grid_template_areas": null,
            "grid_template_columns": null,
            "grid_template_rows": null,
            "height": null,
            "justify_content": null,
            "justify_items": null,
            "left": null,
            "margin": null,
            "max_height": null,
            "max_width": null,
            "min_height": null,
            "min_width": null,
            "object_fit": null,
            "object_position": null,
            "order": null,
            "overflow": null,
            "overflow_x": null,
            "overflow_y": null,
            "padding": null,
            "right": null,
            "top": null,
            "visibility": null,
            "width": null
          }
        },
        "937024e6ea6741d08d7bcd4b0ba09d30": {
          "model_module": "@jupyter-widgets/controls",
          "model_name": "ProgressStyleModel",
          "model_module_version": "1.5.0",
          "state": {
            "_model_module": "@jupyter-widgets/controls",
            "_model_module_version": "1.5.0",
            "_model_name": "ProgressStyleModel",
            "_view_count": null,
            "_view_module": "@jupyter-widgets/base",
            "_view_module_version": "1.2.0",
            "_view_name": "StyleView",
            "bar_color": null,
            "description_width": ""
          }
        },
        "3ebd68df95d541589474fb446cb72d82": {
          "model_module": "@jupyter-widgets/base",
          "model_name": "LayoutModel",
          "model_module_version": "1.2.0",
          "state": {
            "_model_module": "@jupyter-widgets/base",
            "_model_module_version": "1.2.0",
            "_model_name": "LayoutModel",
            "_view_count": null,
            "_view_module": "@jupyter-widgets/base",
            "_view_module_version": "1.2.0",
            "_view_name": "LayoutView",
            "align_content": null,
            "align_items": null,
            "align_self": null,
            "border": null,
            "bottom": null,
            "display": null,
            "flex": null,
            "flex_flow": null,
            "grid_area": null,
            "grid_auto_columns": null,
            "grid_auto_flow": null,
            "grid_auto_rows": null,
            "grid_column": null,
            "grid_gap": null,
            "grid_row": null,
            "grid_template_areas": null,
            "grid_template_columns": null,
            "grid_template_rows": null,
            "height": null,
            "justify_content": null,
            "justify_items": null,
            "left": null,
            "margin": null,
            "max_height": null,
            "max_width": null,
            "min_height": null,
            "min_width": null,
            "object_fit": null,
            "object_position": null,
            "order": null,
            "overflow": null,
            "overflow_x": null,
            "overflow_y": null,
            "padding": null,
            "right": null,
            "top": null,
            "visibility": null,
            "width": null
          }
        },
        "2bd85962d7cb4376b06a05c403739960": {
          "model_module": "@jupyter-widgets/controls",
          "model_name": "DescriptionStyleModel",
          "model_module_version": "1.5.0",
          "state": {
            "_model_module": "@jupyter-widgets/controls",
            "_model_module_version": "1.5.0",
            "_model_name": "DescriptionStyleModel",
            "_view_count": null,
            "_view_module": "@jupyter-widgets/base",
            "_view_module_version": "1.2.0",
            "_view_name": "StyleView",
            "description_width": ""
          }
        },
        "8c188148f3ea42f5b8a740e04a48355c": {
          "model_module": "@jupyter-widgets/controls",
          "model_name": "HBoxModel",
          "model_module_version": "1.5.0",
          "state": {
            "_dom_classes": [],
            "_model_module": "@jupyter-widgets/controls",
            "_model_module_version": "1.5.0",
            "_model_name": "HBoxModel",
            "_view_count": null,
            "_view_module": "@jupyter-widgets/controls",
            "_view_module_version": "1.5.0",
            "_view_name": "HBoxView",
            "box_style": "",
            "children": [
              "IPY_MODEL_e0b2ffed90ce44769cd6fb9ec4fa9875",
              "IPY_MODEL_3f14a2654a214f3cb9044c061ae75979",
              "IPY_MODEL_f984759b9f094a5fb1b9ad2cf62cfae5"
            ],
            "layout": "IPY_MODEL_b57acd62a68448ce8ca7d215682dc69e"
          }
        },
        "e0b2ffed90ce44769cd6fb9ec4fa9875": {
          "model_module": "@jupyter-widgets/controls",
          "model_name": "HTMLModel",
          "model_module_version": "1.5.0",
          "state": {
            "_dom_classes": [],
            "_model_module": "@jupyter-widgets/controls",
            "_model_module_version": "1.5.0",
            "_model_name": "HTMLModel",
            "_view_count": null,
            "_view_module": "@jupyter-widgets/controls",
            "_view_module_version": "1.5.0",
            "_view_name": "HTMLView",
            "description": "",
            "description_tooltip": null,
            "layout": "IPY_MODEL_e8269301b43840d9b970b8dfee9ba3f6",
            "placeholder": "​",
            "style": "IPY_MODEL_6dd45585827e4b9789b9d9f0f54f4aba",
            "value": "config.json: 100%"
          }
        },
        "3f14a2654a214f3cb9044c061ae75979": {
          "model_module": "@jupyter-widgets/controls",
          "model_name": "FloatProgressModel",
          "model_module_version": "1.5.0",
          "state": {
            "_dom_classes": [],
            "_model_module": "@jupyter-widgets/controls",
            "_model_module_version": "1.5.0",
            "_model_name": "FloatProgressModel",
            "_view_count": null,
            "_view_module": "@jupyter-widgets/controls",
            "_view_module_version": "1.5.0",
            "_view_name": "ProgressView",
            "bar_style": "success",
            "description": "",
            "description_tooltip": null,
            "layout": "IPY_MODEL_0c3c1ef64d7d485e822b89e6796e0f21",
            "max": 433,
            "min": 0,
            "orientation": "horizontal",
            "style": "IPY_MODEL_2d8de6698adc43ab9a39482618f449f1",
            "value": 433
          }
        },
        "f984759b9f094a5fb1b9ad2cf62cfae5": {
          "model_module": "@jupyter-widgets/controls",
          "model_name": "HTMLModel",
          "model_module_version": "1.5.0",
          "state": {
            "_dom_classes": [],
            "_model_module": "@jupyter-widgets/controls",
            "_model_module_version": "1.5.0",
            "_model_name": "HTMLModel",
            "_view_count": null,
            "_view_module": "@jupyter-widgets/controls",
            "_view_module_version": "1.5.0",
            "_view_name": "HTMLView",
            "description": "",
            "description_tooltip": null,
            "layout": "IPY_MODEL_6de82dc4b169498c909d34cfc78d2342",
            "placeholder": "​",
            "style": "IPY_MODEL_aa789ed51b3a433aa3cec8026f7e18a6",
            "value": " 433/433 [00:00&lt;00:00, 7.84kB/s]"
          }
        },
        "b57acd62a68448ce8ca7d215682dc69e": {
          "model_module": "@jupyter-widgets/base",
          "model_name": "LayoutModel",
          "model_module_version": "1.2.0",
          "state": {
            "_model_module": "@jupyter-widgets/base",
            "_model_module_version": "1.2.0",
            "_model_name": "LayoutModel",
            "_view_count": null,
            "_view_module": "@jupyter-widgets/base",
            "_view_module_version": "1.2.0",
            "_view_name": "LayoutView",
            "align_content": null,
            "align_items": null,
            "align_self": null,
            "border": null,
            "bottom": null,
            "display": null,
            "flex": null,
            "flex_flow": null,
            "grid_area": null,
            "grid_auto_columns": null,
            "grid_auto_flow": null,
            "grid_auto_rows": null,
            "grid_column": null,
            "grid_gap": null,
            "grid_row": null,
            "grid_template_areas": null,
            "grid_template_columns": null,
            "grid_template_rows": null,
            "height": null,
            "justify_content": null,
            "justify_items": null,
            "left": null,
            "margin": null,
            "max_height": null,
            "max_width": null,
            "min_height": null,
            "min_width": null,
            "object_fit": null,
            "object_position": null,
            "order": null,
            "overflow": null,
            "overflow_x": null,
            "overflow_y": null,
            "padding": null,
            "right": null,
            "top": null,
            "visibility": null,
            "width": null
          }
        },
        "e8269301b43840d9b970b8dfee9ba3f6": {
          "model_module": "@jupyter-widgets/base",
          "model_name": "LayoutModel",
          "model_module_version": "1.2.0",
          "state": {
            "_model_module": "@jupyter-widgets/base",
            "_model_module_version": "1.2.0",
            "_model_name": "LayoutModel",
            "_view_count": null,
            "_view_module": "@jupyter-widgets/base",
            "_view_module_version": "1.2.0",
            "_view_name": "LayoutView",
            "align_content": null,
            "align_items": null,
            "align_self": null,
            "border": null,
            "bottom": null,
            "display": null,
            "flex": null,
            "flex_flow": null,
            "grid_area": null,
            "grid_auto_columns": null,
            "grid_auto_flow": null,
            "grid_auto_rows": null,
            "grid_column": null,
            "grid_gap": null,
            "grid_row": null,
            "grid_template_areas": null,
            "grid_template_columns": null,
            "grid_template_rows": null,
            "height": null,
            "justify_content": null,
            "justify_items": null,
            "left": null,
            "margin": null,
            "max_height": null,
            "max_width": null,
            "min_height": null,
            "min_width": null,
            "object_fit": null,
            "object_position": null,
            "order": null,
            "overflow": null,
            "overflow_x": null,
            "overflow_y": null,
            "padding": null,
            "right": null,
            "top": null,
            "visibility": null,
            "width": null
          }
        },
        "6dd45585827e4b9789b9d9f0f54f4aba": {
          "model_module": "@jupyter-widgets/controls",
          "model_name": "DescriptionStyleModel",
          "model_module_version": "1.5.0",
          "state": {
            "_model_module": "@jupyter-widgets/controls",
            "_model_module_version": "1.5.0",
            "_model_name": "DescriptionStyleModel",
            "_view_count": null,
            "_view_module": "@jupyter-widgets/base",
            "_view_module_version": "1.2.0",
            "_view_name": "StyleView",
            "description_width": ""
          }
        },
        "0c3c1ef64d7d485e822b89e6796e0f21": {
          "model_module": "@jupyter-widgets/base",
          "model_name": "LayoutModel",
          "model_module_version": "1.2.0",
          "state": {
            "_model_module": "@jupyter-widgets/base",
            "_model_module_version": "1.2.0",
            "_model_name": "LayoutModel",
            "_view_count": null,
            "_view_module": "@jupyter-widgets/base",
            "_view_module_version": "1.2.0",
            "_view_name": "LayoutView",
            "align_content": null,
            "align_items": null,
            "align_self": null,
            "border": null,
            "bottom": null,
            "display": null,
            "flex": null,
            "flex_flow": null,
            "grid_area": null,
            "grid_auto_columns": null,
            "grid_auto_flow": null,
            "grid_auto_rows": null,
            "grid_column": null,
            "grid_gap": null,
            "grid_row": null,
            "grid_template_areas": null,
            "grid_template_columns": null,
            "grid_template_rows": null,
            "height": null,
            "justify_content": null,
            "justify_items": null,
            "left": null,
            "margin": null,
            "max_height": null,
            "max_width": null,
            "min_height": null,
            "min_width": null,
            "object_fit": null,
            "object_position": null,
            "order": null,
            "overflow": null,
            "overflow_x": null,
            "overflow_y": null,
            "padding": null,
            "right": null,
            "top": null,
            "visibility": null,
            "width": null
          }
        },
        "2d8de6698adc43ab9a39482618f449f1": {
          "model_module": "@jupyter-widgets/controls",
          "model_name": "ProgressStyleModel",
          "model_module_version": "1.5.0",
          "state": {
            "_model_module": "@jupyter-widgets/controls",
            "_model_module_version": "1.5.0",
            "_model_name": "ProgressStyleModel",
            "_view_count": null,
            "_view_module": "@jupyter-widgets/base",
            "_view_module_version": "1.2.0",
            "_view_name": "StyleView",
            "bar_color": null,
            "description_width": ""
          }
        },
        "6de82dc4b169498c909d34cfc78d2342": {
          "model_module": "@jupyter-widgets/base",
          "model_name": "LayoutModel",
          "model_module_version": "1.2.0",
          "state": {
            "_model_module": "@jupyter-widgets/base",
            "_model_module_version": "1.2.0",
            "_model_name": "LayoutModel",
            "_view_count": null,
            "_view_module": "@jupyter-widgets/base",
            "_view_module_version": "1.2.0",
            "_view_name": "LayoutView",
            "align_content": null,
            "align_items": null,
            "align_self": null,
            "border": null,
            "bottom": null,
            "display": null,
            "flex": null,
            "flex_flow": null,
            "grid_area": null,
            "grid_auto_columns": null,
            "grid_auto_flow": null,
            "grid_auto_rows": null,
            "grid_column": null,
            "grid_gap": null,
            "grid_row": null,
            "grid_template_areas": null,
            "grid_template_columns": null,
            "grid_template_rows": null,
            "height": null,
            "justify_content": null,
            "justify_items": null,
            "left": null,
            "margin": null,
            "max_height": null,
            "max_width": null,
            "min_height": null,
            "min_width": null,
            "object_fit": null,
            "object_position": null,
            "order": null,
            "overflow": null,
            "overflow_x": null,
            "overflow_y": null,
            "padding": null,
            "right": null,
            "top": null,
            "visibility": null,
            "width": null
          }
        },
        "aa789ed51b3a433aa3cec8026f7e18a6": {
          "model_module": "@jupyter-widgets/controls",
          "model_name": "DescriptionStyleModel",
          "model_module_version": "1.5.0",
          "state": {
            "_model_module": "@jupyter-widgets/controls",
            "_model_module_version": "1.5.0",
            "_model_name": "DescriptionStyleModel",
            "_view_count": null,
            "_view_module": "@jupyter-widgets/base",
            "_view_module_version": "1.2.0",
            "_view_name": "StyleView",
            "description_width": ""
          }
        },
        "0cb286ae8d224dc4bc0b990a4a009532": {
          "model_module": "@jupyter-widgets/controls",
          "model_name": "HBoxModel",
          "model_module_version": "1.5.0",
          "state": {
            "_dom_classes": [],
            "_model_module": "@jupyter-widgets/controls",
            "_model_module_version": "1.5.0",
            "_model_name": "HBoxModel",
            "_view_count": null,
            "_view_module": "@jupyter-widgets/controls",
            "_view_module_version": "1.5.0",
            "_view_name": "HBoxView",
            "box_style": "",
            "children": [
              "IPY_MODEL_f59ab6bac5964920b4f83f1b17c3b1c5",
              "IPY_MODEL_acc54ff14abb4701ae8c7354474bf003",
              "IPY_MODEL_3e45ea9c87aa41e99fc952ef0f6947e4"
            ],
            "layout": "IPY_MODEL_8f9f9f30efce4af3a5792bc1cc41e0fd"
          }
        },
        "f59ab6bac5964920b4f83f1b17c3b1c5": {
          "model_module": "@jupyter-widgets/controls",
          "model_name": "HTMLModel",
          "model_module_version": "1.5.0",
          "state": {
            "_dom_classes": [],
            "_model_module": "@jupyter-widgets/controls",
            "_model_module_version": "1.5.0",
            "_model_name": "HTMLModel",
            "_view_count": null,
            "_view_module": "@jupyter-widgets/controls",
            "_view_module_version": "1.5.0",
            "_view_name": "HTMLView",
            "description": "",
            "description_tooltip": null,
            "layout": "IPY_MODEL_c68fe0c78b064d05a10dc33eab3a9317",
            "placeholder": "​",
            "style": "IPY_MODEL_3b2b944ed8e041699aad231c37aac416",
            "value": "model.safetensors: 100%"
          }
        },
        "acc54ff14abb4701ae8c7354474bf003": {
          "model_module": "@jupyter-widgets/controls",
          "model_name": "FloatProgressModel",
          "model_module_version": "1.5.0",
          "state": {
            "_dom_classes": [],
            "_model_module": "@jupyter-widgets/controls",
            "_model_module_version": "1.5.0",
            "_model_name": "FloatProgressModel",
            "_view_count": null,
            "_view_module": "@jupyter-widgets/controls",
            "_view_module_version": "1.5.0",
            "_view_name": "ProgressView",
            "bar_style": "success",
            "description": "",
            "description_tooltip": null,
            "layout": "IPY_MODEL_a4cdeca6cf004213a92b947a03c8bb67",
            "max": 442233876,
            "min": 0,
            "orientation": "horizontal",
            "style": "IPY_MODEL_732958ef6ba045028f55c7db5fefe99a",
            "value": 442233876
          }
        },
        "3e45ea9c87aa41e99fc952ef0f6947e4": {
          "model_module": "@jupyter-widgets/controls",
          "model_name": "HTMLModel",
          "model_module_version": "1.5.0",
          "state": {
            "_dom_classes": [],
            "_model_module": "@jupyter-widgets/controls",
            "_model_module_version": "1.5.0",
            "_model_name": "HTMLModel",
            "_view_count": null,
            "_view_module": "@jupyter-widgets/controls",
            "_view_module_version": "1.5.0",
            "_view_name": "HTMLView",
            "description": "",
            "description_tooltip": null,
            "layout": "IPY_MODEL_5d69f4c5dbcf43a58d74ba3be3a90816",
            "placeholder": "​",
            "style": "IPY_MODEL_ef87498837f840d08ffe0b6e7e6c44c6",
            "value": " 442M/442M [00:01&lt;00:00, 238MB/s]"
          }
        },
        "8f9f9f30efce4af3a5792bc1cc41e0fd": {
          "model_module": "@jupyter-widgets/base",
          "model_name": "LayoutModel",
          "model_module_version": "1.2.0",
          "state": {
            "_model_module": "@jupyter-widgets/base",
            "_model_module_version": "1.2.0",
            "_model_name": "LayoutModel",
            "_view_count": null,
            "_view_module": "@jupyter-widgets/base",
            "_view_module_version": "1.2.0",
            "_view_name": "LayoutView",
            "align_content": null,
            "align_items": null,
            "align_self": null,
            "border": null,
            "bottom": null,
            "display": null,
            "flex": null,
            "flex_flow": null,
            "grid_area": null,
            "grid_auto_columns": null,
            "grid_auto_flow": null,
            "grid_auto_rows": null,
            "grid_column": null,
            "grid_gap": null,
            "grid_row": null,
            "grid_template_areas": null,
            "grid_template_columns": null,
            "grid_template_rows": null,
            "height": null,
            "justify_content": null,
            "justify_items": null,
            "left": null,
            "margin": null,
            "max_height": null,
            "max_width": null,
            "min_height": null,
            "min_width": null,
            "object_fit": null,
            "object_position": null,
            "order": null,
            "overflow": null,
            "overflow_x": null,
            "overflow_y": null,
            "padding": null,
            "right": null,
            "top": null,
            "visibility": null,
            "width": null
          }
        },
        "c68fe0c78b064d05a10dc33eab3a9317": {
          "model_module": "@jupyter-widgets/base",
          "model_name": "LayoutModel",
          "model_module_version": "1.2.0",
          "state": {
            "_model_module": "@jupyter-widgets/base",
            "_model_module_version": "1.2.0",
            "_model_name": "LayoutModel",
            "_view_count": null,
            "_view_module": "@jupyter-widgets/base",
            "_view_module_version": "1.2.0",
            "_view_name": "LayoutView",
            "align_content": null,
            "align_items": null,
            "align_self": null,
            "border": null,
            "bottom": null,
            "display": null,
            "flex": null,
            "flex_flow": null,
            "grid_area": null,
            "grid_auto_columns": null,
            "grid_auto_flow": null,
            "grid_auto_rows": null,
            "grid_column": null,
            "grid_gap": null,
            "grid_row": null,
            "grid_template_areas": null,
            "grid_template_columns": null,
            "grid_template_rows": null,
            "height": null,
            "justify_content": null,
            "justify_items": null,
            "left": null,
            "margin": null,
            "max_height": null,
            "max_width": null,
            "min_height": null,
            "min_width": null,
            "object_fit": null,
            "object_position": null,
            "order": null,
            "overflow": null,
            "overflow_x": null,
            "overflow_y": null,
            "padding": null,
            "right": null,
            "top": null,
            "visibility": null,
            "width": null
          }
        },
        "3b2b944ed8e041699aad231c37aac416": {
          "model_module": "@jupyter-widgets/controls",
          "model_name": "DescriptionStyleModel",
          "model_module_version": "1.5.0",
          "state": {
            "_model_module": "@jupyter-widgets/controls",
            "_model_module_version": "1.5.0",
            "_model_name": "DescriptionStyleModel",
            "_view_count": null,
            "_view_module": "@jupyter-widgets/base",
            "_view_module_version": "1.2.0",
            "_view_name": "StyleView",
            "description_width": ""
          }
        },
        "a4cdeca6cf004213a92b947a03c8bb67": {
          "model_module": "@jupyter-widgets/base",
          "model_name": "LayoutModel",
          "model_module_version": "1.2.0",
          "state": {
            "_model_module": "@jupyter-widgets/base",
            "_model_module_version": "1.2.0",
            "_model_name": "LayoutModel",
            "_view_count": null,
            "_view_module": "@jupyter-widgets/base",
            "_view_module_version": "1.2.0",
            "_view_name": "LayoutView",
            "align_content": null,
            "align_items": null,
            "align_self": null,
            "border": null,
            "bottom": null,
            "display": null,
            "flex": null,
            "flex_flow": null,
            "grid_area": null,
            "grid_auto_columns": null,
            "grid_auto_flow": null,
            "grid_auto_rows": null,
            "grid_column": null,
            "grid_gap": null,
            "grid_row": null,
            "grid_template_areas": null,
            "grid_template_columns": null,
            "grid_template_rows": null,
            "height": null,
            "justify_content": null,
            "justify_items": null,
            "left": null,
            "margin": null,
            "max_height": null,
            "max_width": null,
            "min_height": null,
            "min_width": null,
            "object_fit": null,
            "object_position": null,
            "order": null,
            "overflow": null,
            "overflow_x": null,
            "overflow_y": null,
            "padding": null,
            "right": null,
            "top": null,
            "visibility": null,
            "width": null
          }
        },
        "732958ef6ba045028f55c7db5fefe99a": {
          "model_module": "@jupyter-widgets/controls",
          "model_name": "ProgressStyleModel",
          "model_module_version": "1.5.0",
          "state": {
            "_model_module": "@jupyter-widgets/controls",
            "_model_module_version": "1.5.0",
            "_model_name": "ProgressStyleModel",
            "_view_count": null,
            "_view_module": "@jupyter-widgets/base",
            "_view_module_version": "1.2.0",
            "_view_name": "StyleView",
            "bar_color": null,
            "description_width": ""
          }
        },
        "5d69f4c5dbcf43a58d74ba3be3a90816": {
          "model_module": "@jupyter-widgets/base",
          "model_name": "LayoutModel",
          "model_module_version": "1.2.0",
          "state": {
            "_model_module": "@jupyter-widgets/base",
            "_model_module_version": "1.2.0",
            "_model_name": "LayoutModel",
            "_view_count": null,
            "_view_module": "@jupyter-widgets/base",
            "_view_module_version": "1.2.0",
            "_view_name": "LayoutView",
            "align_content": null,
            "align_items": null,
            "align_self": null,
            "border": null,
            "bottom": null,
            "display": null,
            "flex": null,
            "flex_flow": null,
            "grid_area": null,
            "grid_auto_columns": null,
            "grid_auto_flow": null,
            "grid_auto_rows": null,
            "grid_column": null,
            "grid_gap": null,
            "grid_row": null,
            "grid_template_areas": null,
            "grid_template_columns": null,
            "grid_template_rows": null,
            "height": null,
            "justify_content": null,
            "justify_items": null,
            "left": null,
            "margin": null,
            "max_height": null,
            "max_width": null,
            "min_height": null,
            "min_width": null,
            "object_fit": null,
            "object_position": null,
            "order": null,
            "overflow": null,
            "overflow_x": null,
            "overflow_y": null,
            "padding": null,
            "right": null,
            "top": null,
            "visibility": null,
            "width": null
          }
        },
        "ef87498837f840d08ffe0b6e7e6c44c6": {
          "model_module": "@jupyter-widgets/controls",
          "model_name": "DescriptionStyleModel",
          "model_module_version": "1.5.0",
          "state": {
            "_model_module": "@jupyter-widgets/controls",
            "_model_module_version": "1.5.0",
            "_model_name": "DescriptionStyleModel",
            "_view_count": null,
            "_view_module": "@jupyter-widgets/base",
            "_view_module_version": "1.2.0",
            "_view_name": "StyleView",
            "description_width": ""
          }
        }
      }
    },
    "accelerator": "GPU"
  },
  "nbformat": 4,
  "nbformat_minor": 0
}