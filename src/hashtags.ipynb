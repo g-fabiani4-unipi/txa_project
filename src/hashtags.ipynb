{
 "cells": [
  {
   "cell_type": "code",
   "execution_count": 75,
   "id": "e523c905",
   "metadata": {
    "ExecuteTime": {
     "end_time": "2024-11-25T15:54:54.400960600Z",
     "start_time": "2024-11-25T15:54:54.357509100Z"
    }
   },
   "outputs": [],
   "source": [
    "import os\n",
    "import pandas as pd\n",
    "import re\n",
    "from collections import Counter"
   ]
  },
  {
   "cell_type": "code",
   "execution_count": 76,
   "id": "8b79bdf0",
   "metadata": {
    "ExecuteTime": {
     "end_time": "2024-11-25T15:54:54.430431800Z",
     "start_time": "2024-11-25T15:54:54.362487800Z"
    }
   },
   "outputs": [],
   "source": [
    "data_dir = \"../data\"\n",
    "training_sets_dir = \"haspeede2_dev\"\n",
    "training_file = \"haspeede2_dev_taskAB.tsv\"\n",
    "train_path = os.path.join(data_dir, training_sets_dir, training_file)\n",
    "train = pd.read_table(train_path, header= 0)\n",
    "train.rename(columns = {'text ': 'text'}, inplace = True)"
   ]
  },
  {
   "cell_type": "code",
   "execution_count": 77,
   "id": "5b329cf2",
   "metadata": {
    "ExecuteTime": {
     "end_time": "2024-11-25T15:54:54.430930Z",
     "start_time": "2024-11-25T15:54:54.397457Z"
    }
   },
   "outputs": [
    {
     "name": "stdout",
     "output_type": "stream",
     "text": [
      "# in HS tweets: 1779, # in notHS tweets: 3239, total: 5018\n"
     ]
    }
   ],
   "source": [
    "texts = train[['hs','text']].values\n",
    "hs_count = 0\n",
    "not_hs_count = 0\n",
    "for hs, tweet in texts:\n",
    "    if hs == 1:\n",
    "        hs_count += tweet.count('#')\n",
    "    else:\n",
    "        not_hs_count += tweet.count('#')\n",
    "        \n",
    "print(f\"# in HS tweets: {hs_count}, # in notHS tweets: {not_hs_count}, total: {hs_count+not_hs_count}\")"
   ]
  },
  {
   "cell_type": "code",
   "execution_count": 78,
   "id": "af45efe9",
   "metadata": {
    "ExecuteTime": {
     "end_time": "2024-11-25T15:54:54.431426100Z",
     "start_time": "2024-11-25T15:54:54.413576600Z"
    }
   },
   "outputs": [
    {
     "name": "stdout",
     "output_type": "stream",
     "text": [
      "valid hashtags in HS tweets: 1760, valid hashtags in notHS tweets: 3222, total: 4982\n"
     ]
    }
   ],
   "source": [
    "hashtag_re = re.compile(r'#([\\w]+)')\n",
    "texts = train[['hs','text']].values\n",
    "hs_ht = []\n",
    "not_hs_ht = []\n",
    "for hs, tweet in texts:\n",
    "    if hs == 1:\n",
    "        hs_ht += hashtag_re.findall(tweet)\n",
    "    else:\n",
    "        not_hs_ht += hashtag_re.findall(tweet)\n",
    "\n",
    "print(f\"valid hashtags in HS tweets: {len(hs_ht)}, valid hashtags in notHS tweets: {len(not_hs_ht)}, total: {len(hs_ht+not_hs_ht)}\")"
   ]
  },
  {
   "cell_type": "code",
   "execution_count": 79,
   "id": "ea8a2463",
   "metadata": {
    "ExecuteTime": {
     "end_time": "2024-11-25T15:54:54.433443200Z",
     "start_time": "2024-11-25T15:54:54.429935400Z"
    }
   },
   "outputs": [
    {
     "name": "stdout",
     "output_type": "stream",
     "text": [
      "895 1538 2168\n"
     ]
    }
   ],
   "source": [
    "# unique hashtags\n",
    "print(len(set(hs_ht)), len(set(not_hs_ht)), len(set(hs_ht+not_hs_ht)))"
   ]
  },
  {
   "cell_type": "code",
   "execution_count": 80,
   "id": "871faa70",
   "metadata": {
    "ExecuteTime": {
     "end_time": "2024-11-25T15:54:54.442634900Z",
     "start_time": "2024-11-25T15:54:54.434930700Z"
    }
   },
   "outputs": [
    {
     "data": {
      "text/plain": "265"
     },
     "execution_count": 80,
     "metadata": {},
     "output_type": "execute_result"
    }
   ],
   "source": [
    "# number of hashtags that appear in both labels\n",
    "len(set(hs_ht).intersection(set(not_hs_ht)))"
   ]
  },
  {
   "cell_type": "code",
   "execution_count": 81,
   "id": "592176d5",
   "metadata": {
    "ExecuteTime": {
     "end_time": "2024-11-25T15:54:54.526619700Z",
     "start_time": "2024-11-25T15:54:54.444122700Z"
    }
   },
   "outputs": [
    {
     "name": "stdout",
     "output_type": "stream",
     "text": [
      "Oltre 600 migranti a Catania, tra loro il piccolo Favour nato dopo il salvataggio - Giornale di Sicilia URL #Catania #… \n",
      "#Papa Guerra e terrorismo non centrano con la religione. Anche noi abbiamo i fondamentalisti #Papa: #'Guerra ... URL \n",
      "@user a # bianconero diffende i due sequestratori della donna #rom. Voglio vedere se la #rom era sua sorella o sua figlia. Vergogna! \n",
      "Macomer, era ricercata da sei mesi: nomade arrestata dopo l'inseguimento sulla 131 - L'Unione Sarda URL #OlbiaTempio #… \n",
      "Earth Hour, il mondo spegne la luce per un'ora Le immagini - URL # l'italia pensa ad un altro: al papa dei migranti \n",
      "Le vittime del #terrorismo dell'#Isis in #Turquia oltre a fare vittime fra # stranieri hanno ammazzato anche turisti di religione #islamica \n",
      "#Roma arrestata la “regina” dei furti una rom di 36 anni #Roma, #arrestata #la #“regina” #dei #furti: #una ... URL \n",
      "Roma, cinese morta: da oggi la bonifica nel campo rom. I residenti: «Raggi venga a vedere» - Il Messaggero URL #Roma #… \n",
      "Londra-Teheran in bici ’Islam non è fanatismo\" URL #incredibile ovunque pressione dai media quanto e' buono l'islam # \n",
      "Anche il .@user su #donne #violenza # immigrazione URL \n",
      "# dipende  solo da voi . Quanti siete  . Non importa  . Ne bastano pochi. # buon  anno a tutti  i buoni e i cattivi  . Escluso  i terroris \n",
      "#Roma, rissa campo nomadi La Barbuta: fermato responsabile: ##Cronaca di Roma. E’ stato… URL \n",
      "Lazio: #Roma, #Torquati: #“in municipio XV la contraddizione a 5 stelle sul Campo rom URL \n",
      "IT news Roma: Roma, colpisce una pecora con il pallone: bambino rom accecato da un pastore - Il Messaggero URL #Roma #… \n",
      "Dodici profughi Cristiani buttati in mare da Mussulmani e noi li accogliamo  perché siamo tutti uguali.UGUALI IL CAZZO!# TG1 \n",
      "L imperativo del governo di oggi e'trovare casa ai migranti # i prefetti si diano da fare# con che criteri con quali fondi # nessun dorma# \n",
      "@user ... per profughi economici esplosione #€urolager vogliono essere zattera raccatta tutto? \n",
      "Grand hotel Italia : noi li ospitiamo L'Europa li respinge! # migranti# gli Italiani non ce la fanno piu' # quinta colonna! \n",
      "Servizio civile aperto anche a ragazzi stranieri residenti in Italia# ci ritroveremo potenziali stupratori ad occuparsi di sport e assistenz \n",
      "@user IO aspetto che Tu arrivi anche qui da noi, basta business immigrati con l'aiuto della #sinistraladrona #€urolandia \n",
      "Si potevano fermare tutti molto tempo fa e i buonisti non hanno voluto ! # immigrazione incontrollata solo da noi ! \n",
      "Al ritmo di 6500 alla settimana non esiste nessuna tutela nei confronti dei migranti e dei cittadini # una continua invasione# nessun dorma \n",
      "@user QUESTI IMMIGRATI CHE CI RUBANO IL LAVORO E IL PIDDIIIII?! $#?! \n",
      "Stranamente un #tunisino a pochi km dalla sua Macerata @user URL #Tunisia #STOPINVASIONE #migranti #risorse # \n",
      "@user E poi... guardate il loro responsabile come si comporta! E vorrebbe farci delle osservazioni? Perché non  va in casa dei mussulmani a vedere come sono \"moderati\" con le donne...  schiave ed oggetti! Fuck off ##onu!  #IoStoConSalvini #decretosicurezza #DecretoSalvini URL \n",
      "Migranti Grandi (Unhcr): “La Libia non è un paese sicuro. Italia e Francia lavorino a soluzione comune” -  #Migranti #Grandi #(Unhcr): #Libia  URL \n",
      "Allarme “Uragano Mediterraneo” sul mar Jonio rischio disastro tra Italia e Libia. La nave Aquarius con 58 immigrati: “ci serve un porto sicuro con urgenza” -  #Allarme #“Uragano #Mediterraneo”  URL \n",
      "@user É  nel DNAdei rom rubare e peggio,quindi si prendano i rischi di ciò che comporta## \n"
     ]
    }
   ],
   "source": [
    "# '#' characters that are not found by the regex\n",
    "hashtag_re = re.compile(r'#([\\w]+)')\n",
    "texts = train[['hs','text']].values\n",
    "for hs, tweet in texts:\n",
    "        count_re = len(hashtag_re.findall(tweet))\n",
    "        count_hash = tweet.count('#')\n",
    "        if count_re != count_hash:\n",
    "            print(tweet)\n",
    "            \n",
    "# mostly '#...', '# ' and '#punctuation'"
   ]
  },
  {
   "cell_type": "code",
   "execution_count": 82,
   "outputs": [
    {
     "name": "stdout",
     "output_type": "stream",
     "text": [
      "124\n"
     ]
    }
   ],
   "source": [
    "# we have to choose the minimum frequency of a hashtag to be included (probably higher than 6???)\n",
    "total_ht = [ht.lower() for ht in hs_ht+not_hs_ht]\n",
    "counter = Counter(total_ht)\n",
    "frequent_ht = [ht for ht, count in counter.items() if count >= 6]\n",
    "print(len(frequent_ht))"
   ],
   "metadata": {
    "collapsed": false,
    "ExecuteTime": {
     "end_time": "2024-11-25T15:54:54.541055900Z",
     "start_time": "2024-11-25T15:54:54.466960800Z"
    }
   },
   "id": "b6b60410ebe33032"
  },
  {
   "cell_type": "code",
   "execution_count": 83,
   "outputs": [
    {
     "data": {
      "text/plain": "(6837, 125)"
     },
     "execution_count": 83,
     "metadata": {},
     "output_type": "execute_result"
    }
   ],
   "source": [
    "texts = train[['id','text']].values\n",
    "binary_ht_features =  []\n",
    "for id, text in texts:\n",
    "    row = {'id': id}\n",
    "    row.update({ht: 0 for ht in frequent_ht})\n",
    "    for ht in hashtag_re.findall(text):\n",
    "        if ht.lower() in row:\n",
    "            row[ht.lower()] += 1\n",
    "    binary_ht_features.append(row)\n",
    "# (rows, cols)\n",
    "len(binary_ht_features), len(binary_ht_features[0])"
   ],
   "metadata": {
    "collapsed": false,
    "ExecuteTime": {
     "end_time": "2024-11-25T15:54:54.591757400Z",
     "start_time": "2024-11-25T15:54:54.472902400Z"
    }
   },
   "id": "7bc48f363bda7a89"
  },
  {
   "cell_type": "code",
   "execution_count": 84,
   "outputs": [
    {
     "name": "stdout",
     "output_type": "stream",
     "text": [
      "(6837, 125)\n"
     ]
    },
    {
     "data": {
      "text/plain": "     id  matrix  invasione  stopislam  lagabbia  salvini  italia  migranti  \\\n0  2066       0          0          0         0        0       0         0   \n1  2045       0          0          0         0        0       0         0   \n2    61       0          0          0         0        0       0         0   \n3  1259       0          0          0         0        0       0         0   \n4   949       0          0          0         0        0       0         0   \n\n   immigrati  parigi  ...  chilhavisto  repubblica  ultimora  cronaca  \\\n0          0       0  ...            0           0         0        0   \n1          0       0  ...            0           0         0        0   \n2          0       0  ...            0           0         0        0   \n3          0       0  ...            0           0         0        0   \n4          0       0  ...            0           0         0        0   \n\n   rifugiati  sinti  malta  lucano  3ottobre  globalcompact  \n0          0      0      0       0         0              0  \n1          0      0      0       0         0              0  \n2          0      0      0       0         0              0  \n3          0      0      0       0         0              0  \n4          0      0      0       0         0              0  \n\n[5 rows x 125 columns]",
      "text/html": "<div>\n<style scoped>\n    .dataframe tbody tr th:only-of-type {\n        vertical-align: middle;\n    }\n\n    .dataframe tbody tr th {\n        vertical-align: top;\n    }\n\n    .dataframe thead th {\n        text-align: right;\n    }\n</style>\n<table border=\"1\" class=\"dataframe\">\n  <thead>\n    <tr style=\"text-align: right;\">\n      <th></th>\n      <th>id</th>\n      <th>matrix</th>\n      <th>invasione</th>\n      <th>stopislam</th>\n      <th>lagabbia</th>\n      <th>salvini</th>\n      <th>italia</th>\n      <th>migranti</th>\n      <th>immigrati</th>\n      <th>parigi</th>\n      <th>...</th>\n      <th>chilhavisto</th>\n      <th>repubblica</th>\n      <th>ultimora</th>\n      <th>cronaca</th>\n      <th>rifugiati</th>\n      <th>sinti</th>\n      <th>malta</th>\n      <th>lucano</th>\n      <th>3ottobre</th>\n      <th>globalcompact</th>\n    </tr>\n  </thead>\n  <tbody>\n    <tr>\n      <th>0</th>\n      <td>2066</td>\n      <td>0</td>\n      <td>0</td>\n      <td>0</td>\n      <td>0</td>\n      <td>0</td>\n      <td>0</td>\n      <td>0</td>\n      <td>0</td>\n      <td>0</td>\n      <td>...</td>\n      <td>0</td>\n      <td>0</td>\n      <td>0</td>\n      <td>0</td>\n      <td>0</td>\n      <td>0</td>\n      <td>0</td>\n      <td>0</td>\n      <td>0</td>\n      <td>0</td>\n    </tr>\n    <tr>\n      <th>1</th>\n      <td>2045</td>\n      <td>0</td>\n      <td>0</td>\n      <td>0</td>\n      <td>0</td>\n      <td>0</td>\n      <td>0</td>\n      <td>0</td>\n      <td>0</td>\n      <td>0</td>\n      <td>...</td>\n      <td>0</td>\n      <td>0</td>\n      <td>0</td>\n      <td>0</td>\n      <td>0</td>\n      <td>0</td>\n      <td>0</td>\n      <td>0</td>\n      <td>0</td>\n      <td>0</td>\n    </tr>\n    <tr>\n      <th>2</th>\n      <td>61</td>\n      <td>0</td>\n      <td>0</td>\n      <td>0</td>\n      <td>0</td>\n      <td>0</td>\n      <td>0</td>\n      <td>0</td>\n      <td>0</td>\n      <td>0</td>\n      <td>...</td>\n      <td>0</td>\n      <td>0</td>\n      <td>0</td>\n      <td>0</td>\n      <td>0</td>\n      <td>0</td>\n      <td>0</td>\n      <td>0</td>\n      <td>0</td>\n      <td>0</td>\n    </tr>\n    <tr>\n      <th>3</th>\n      <td>1259</td>\n      <td>0</td>\n      <td>0</td>\n      <td>0</td>\n      <td>0</td>\n      <td>0</td>\n      <td>0</td>\n      <td>0</td>\n      <td>0</td>\n      <td>0</td>\n      <td>...</td>\n      <td>0</td>\n      <td>0</td>\n      <td>0</td>\n      <td>0</td>\n      <td>0</td>\n      <td>0</td>\n      <td>0</td>\n      <td>0</td>\n      <td>0</td>\n      <td>0</td>\n    </tr>\n    <tr>\n      <th>4</th>\n      <td>949</td>\n      <td>0</td>\n      <td>0</td>\n      <td>0</td>\n      <td>0</td>\n      <td>0</td>\n      <td>0</td>\n      <td>0</td>\n      <td>0</td>\n      <td>0</td>\n      <td>...</td>\n      <td>0</td>\n      <td>0</td>\n      <td>0</td>\n      <td>0</td>\n      <td>0</td>\n      <td>0</td>\n      <td>0</td>\n      <td>0</td>\n      <td>0</td>\n      <td>0</td>\n    </tr>\n  </tbody>\n</table>\n<p>5 rows × 125 columns</p>\n</div>"
     },
     "execution_count": 84,
     "metadata": {},
     "output_type": "execute_result"
    }
   ],
   "source": [
    "hashtags_features_df = pd.DataFrame(binary_ht_features)\n",
    "print(hashtags_features_df.shape)\n",
    "hashtags_features_df.head()"
   ],
   "metadata": {
    "collapsed": false,
    "ExecuteTime": {
     "end_time": "2024-11-25T15:54:54.817931800Z",
     "start_time": "2024-11-25T15:54:54.589743Z"
    }
   },
   "id": "7d7b5b2dc678eb3"
  },
  {
   "cell_type": "code",
   "execution_count": 84,
   "outputs": [],
   "source": [],
   "metadata": {
    "collapsed": false,
    "ExecuteTime": {
     "end_time": "2024-11-25T15:54:54.817931800Z",
     "start_time": "2024-11-25T15:54:54.811964300Z"
    }
   },
   "id": "fb865092d114bd91"
  }
 ],
 "metadata": {
  "kernelspec": {
   "display_name": "txa_project",
   "language": "python",
   "name": "txa_project"
  },
  "language_info": {
   "codemirror_mode": {
    "name": "ipython",
    "version": 3
   },
   "file_extension": ".py",
   "mimetype": "text/x-python",
   "name": "python",
   "nbconvert_exporter": "python",
   "pygments_lexer": "ipython3",
   "version": "3.12.7"
  }
 },
 "nbformat": 4,
 "nbformat_minor": 5
}
