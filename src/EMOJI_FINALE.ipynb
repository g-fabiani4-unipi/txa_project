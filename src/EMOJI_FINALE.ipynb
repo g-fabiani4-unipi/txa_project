{
  "cells": [
    {
      "cell_type": "code",
      "execution_count": 1,
      "metadata": {
        "colab": {
          "base_uri": "https://localhost:8080/",
          "height": 35
        },
        "id": "Upq_vJb6uhTe",
        "outputId": "0ef61f8c-c134-4613-cfd6-22aa07b84118"
      },
      "outputs": [
        {
          "data": {
            "text/plain": [
              "'pip install emoji'"
            ]
          },
          "execution_count": 1,
          "metadata": {},
          "output_type": "execute_result"
        }
      ],
      "source": [
        "'''pip install emoji'''"
      ]
    },
    {
      "cell_type": "code",
      "execution_count": 2,
      "metadata": {
        "id": "RlC5HZG_oBOo"
      },
      "outputs": [],
      "source": [
        "import pandas as pd\n",
        "from collections import Counter\n",
        "import plotly.express as px\n",
        "import re\n",
        "import seaborn as sns\n",
        "import matplotlib.pyplot as plt"
      ]
    },
    {
      "cell_type": "code",
      "execution_count": 3,
      "metadata": {
        "colab": {
          "base_uri": "https://localhost:8080/"
        },
        "id": "utLxWSEyn3iL",
        "outputId": "92b883a9-98c2-4d79-a144-d363de86f0ad"
      },
      "outputs": [],
      "source": [
        "from pathlib import Path"
      ]
    },
    {
      "cell_type": "code",
      "execution_count": 4,
      "metadata": {
        "id": "g5TGYH7On6dt"
      },
      "outputs": [],
      "source": [
        "file_path = Path('../data/haspeede2_dev/haspeede2_dev_taskAB.tsv')"
      ]
    },
    {
      "cell_type": "code",
      "execution_count": 5,
      "metadata": {
        "id": "CCcWoPSZn_ml"
      },
      "outputs": [],
      "source": [
        "df = pd.read_csv(file_path, sep='\\t', on_bad_lines='warn')"
      ]
    },
    {
      "cell_type": "code",
      "execution_count": 6,
      "metadata": {
        "colab": {
          "base_uri": "https://localhost:8080/",
          "height": 424
        },
        "id": "d5DrQLqEoF2E",
        "outputId": "0b6d7bff-3664-4ea3-ffcd-27a3a3fff88e"
      },
      "outputs": [
        {
          "data": {
            "text/html": [
              "<div>\n",
              "<style scoped>\n",
              "    .dataframe tbody tr th:only-of-type {\n",
              "        vertical-align: middle;\n",
              "    }\n",
              "\n",
              "    .dataframe tbody tr th {\n",
              "        vertical-align: top;\n",
              "    }\n",
              "\n",
              "    .dataframe thead th {\n",
              "        text-align: right;\n",
              "    }\n",
              "</style>\n",
              "<table border=\"1\" class=\"dataframe\">\n",
              "  <thead>\n",
              "    <tr style=\"text-align: right;\">\n",
              "      <th></th>\n",
              "      <th>id</th>\n",
              "      <th>text</th>\n",
              "      <th>hs</th>\n",
              "      <th>stereotype</th>\n",
              "    </tr>\n",
              "  </thead>\n",
              "  <tbody>\n",
              "    <tr>\n",
              "      <th>0</th>\n",
              "      <td>2066</td>\n",
              "      <td>È terrorismo anche questo, per mettere in uno ...</td>\n",
              "      <td>0</td>\n",
              "      <td>0</td>\n",
              "    </tr>\n",
              "    <tr>\n",
              "      <th>1</th>\n",
              "      <td>2045</td>\n",
              "      <td>@user @user infatti finché ci hanno guadagnato...</td>\n",
              "      <td>0</td>\n",
              "      <td>0</td>\n",
              "    </tr>\n",
              "    <tr>\n",
              "      <th>2</th>\n",
              "      <td>61</td>\n",
              "      <td>Corriere: Tangenti, Mafia Capitale dimenticata...</td>\n",
              "      <td>0</td>\n",
              "      <td>0</td>\n",
              "    </tr>\n",
              "    <tr>\n",
              "      <th>3</th>\n",
              "      <td>1259</td>\n",
              "      <td>@user ad uno ad uno, perché quando i migranti ...</td>\n",
              "      <td>0</td>\n",
              "      <td>0</td>\n",
              "    </tr>\n",
              "    <tr>\n",
              "      <th>4</th>\n",
              "      <td>949</td>\n",
              "      <td>Il divertimento del giorno? Trovare i patrioti...</td>\n",
              "      <td>0</td>\n",
              "      <td>0</td>\n",
              "    </tr>\n",
              "    <tr>\n",
              "      <th>...</th>\n",
              "      <td>...</td>\n",
              "      <td>...</td>\n",
              "      <td>...</td>\n",
              "      <td>...</td>\n",
              "    </tr>\n",
              "    <tr>\n",
              "      <th>6832</th>\n",
              "      <td>9340</td>\n",
              "      <td>Gli stati nazionali devono essere pronti a rin...</td>\n",
              "      <td>0</td>\n",
              "      <td>0</td>\n",
              "    </tr>\n",
              "    <tr>\n",
              "      <th>6833</th>\n",
              "      <td>9121</td>\n",
              "      <td>Il ministro dell'interno della Germania #Horst...</td>\n",
              "      <td>0</td>\n",
              "      <td>0</td>\n",
              "    </tr>\n",
              "    <tr>\n",
              "      <th>6834</th>\n",
              "      <td>8549</td>\n",
              "      <td>#Salvini: In Italia troppi si sono montati la ...</td>\n",
              "      <td>0</td>\n",
              "      <td>0</td>\n",
              "    </tr>\n",
              "    <tr>\n",
              "      <th>6835</th>\n",
              "      <td>9240</td>\n",
              "      <td>@user @user Chi giubila in buona fede non ha c...</td>\n",
              "      <td>0</td>\n",
              "      <td>0</td>\n",
              "    </tr>\n",
              "    <tr>\n",
              "      <th>6836</th>\n",
              "      <td>8000</td>\n",
              "      <td>I giovani cristiani in #Etiopia sono indotti d...</td>\n",
              "      <td>0</td>\n",
              "      <td>1</td>\n",
              "    </tr>\n",
              "  </tbody>\n",
              "</table>\n",
              "<p>6837 rows × 4 columns</p>\n",
              "</div>"
            ],
            "text/plain": [
              "        id                                              text   hs  stereotype\n",
              "0     2066  È terrorismo anche questo, per mettere in uno ...   0           0\n",
              "1     2045  @user @user infatti finché ci hanno guadagnato...   0           0\n",
              "2       61  Corriere: Tangenti, Mafia Capitale dimenticata...   0           0\n",
              "3     1259  @user ad uno ad uno, perché quando i migranti ...   0           0\n",
              "4      949  Il divertimento del giorno? Trovare i patrioti...   0           0\n",
              "...    ...                                                ...  ..         ...\n",
              "6832  9340  Gli stati nazionali devono essere pronti a rin...   0           0\n",
              "6833  9121  Il ministro dell'interno della Germania #Horst...   0           0\n",
              "6834  8549  #Salvini: In Italia troppi si sono montati la ...   0           0\n",
              "6835  9240  @user @user Chi giubila in buona fede non ha c...   0           0\n",
              "6836  8000  I giovani cristiani in #Etiopia sono indotti d...   0           1\n",
              "\n",
              "[6837 rows x 4 columns]"
            ]
          },
          "execution_count": 6,
          "metadata": {},
          "output_type": "execute_result"
        }
      ],
      "source": [
        "df"
      ]
    },
    {
      "cell_type": "code",
      "execution_count": 7,
      "metadata": {
        "colab": {
          "base_uri": "https://localhost:8080/",
          "height": 424
        },
        "id": "CjL1wpqUoSrt",
        "outputId": "96354b5c-f03f-4e87-db3d-60e64272773b"
      },
      "outputs": [
        {
          "data": {
            "text/html": [
              "<div>\n",
              "<style scoped>\n",
              "    .dataframe tbody tr th:only-of-type {\n",
              "        vertical-align: middle;\n",
              "    }\n",
              "\n",
              "    .dataframe tbody tr th {\n",
              "        vertical-align: top;\n",
              "    }\n",
              "\n",
              "    .dataframe thead th {\n",
              "        text-align: right;\n",
              "    }\n",
              "</style>\n",
              "<table border=\"1\" class=\"dataframe\">\n",
              "  <thead>\n",
              "    <tr style=\"text-align: right;\">\n",
              "      <th></th>\n",
              "      <th>id</th>\n",
              "      <th>text</th>\n",
              "      <th>hs</th>\n",
              "      <th>stereotype</th>\n",
              "    </tr>\n",
              "  </thead>\n",
              "  <tbody>\n",
              "    <tr>\n",
              "      <th>0</th>\n",
              "      <td>2066</td>\n",
              "      <td>È terrorismo anche questo, per mettere in uno ...</td>\n",
              "      <td>0</td>\n",
              "      <td>0</td>\n",
              "    </tr>\n",
              "    <tr>\n",
              "      <th>1</th>\n",
              "      <td>2045</td>\n",
              "      <td>infatti finché ci hanno guadagnato con i cam...</td>\n",
              "      <td>0</td>\n",
              "      <td>0</td>\n",
              "    </tr>\n",
              "    <tr>\n",
              "      <th>2</th>\n",
              "      <td>61</td>\n",
              "      <td>Corriere: Tangenti, Mafia Capitale dimenticata...</td>\n",
              "      <td>0</td>\n",
              "      <td>0</td>\n",
              "    </tr>\n",
              "    <tr>\n",
              "      <th>3</th>\n",
              "      <td>1259</td>\n",
              "      <td>ad uno ad uno, perché quando i migranti israe...</td>\n",
              "      <td>0</td>\n",
              "      <td>0</td>\n",
              "    </tr>\n",
              "    <tr>\n",
              "      <th>4</th>\n",
              "      <td>949</td>\n",
              "      <td>Il divertimento del giorno? Trovare i patrioti...</td>\n",
              "      <td>0</td>\n",
              "      <td>0</td>\n",
              "    </tr>\n",
              "    <tr>\n",
              "      <th>...</th>\n",
              "      <td>...</td>\n",
              "      <td>...</td>\n",
              "      <td>...</td>\n",
              "      <td>...</td>\n",
              "    </tr>\n",
              "    <tr>\n",
              "      <th>6832</th>\n",
              "      <td>9340</td>\n",
              "      <td>Gli stati nazionali devono essere pronti a rin...</td>\n",
              "      <td>0</td>\n",
              "      <td>0</td>\n",
              "    </tr>\n",
              "    <tr>\n",
              "      <th>6833</th>\n",
              "      <td>9121</td>\n",
              "      <td>Il ministro dell'interno della Germania  facen...</td>\n",
              "      <td>0</td>\n",
              "      <td>0</td>\n",
              "    </tr>\n",
              "    <tr>\n",
              "      <th>6834</th>\n",
              "      <td>8549</td>\n",
              "      <td>In Italia troppi si sono montati la testa, io...</td>\n",
              "      <td>0</td>\n",
              "      <td>0</td>\n",
              "    </tr>\n",
              "    <tr>\n",
              "      <th>6835</th>\n",
              "      <td>9240</td>\n",
              "      <td>Chi giubila in buona fede non ha capito nien...</td>\n",
              "      <td>0</td>\n",
              "      <td>0</td>\n",
              "    </tr>\n",
              "    <tr>\n",
              "      <th>6836</th>\n",
              "      <td>8000</td>\n",
              "      <td>I giovani cristiani in  sono indotti dagli isl...</td>\n",
              "      <td>0</td>\n",
              "      <td>1</td>\n",
              "    </tr>\n",
              "  </tbody>\n",
              "</table>\n",
              "<p>6837 rows × 4 columns</p>\n",
              "</div>"
            ],
            "text/plain": [
              "        id                                              text   hs  stereotype\n",
              "0     2066  È terrorismo anche questo, per mettere in uno ...   0           0\n",
              "1     2045    infatti finché ci hanno guadagnato con i cam...   0           0\n",
              "2       61  Corriere: Tangenti, Mafia Capitale dimenticata...   0           0\n",
              "3     1259   ad uno ad uno, perché quando i migranti israe...   0           0\n",
              "4      949  Il divertimento del giorno? Trovare i patrioti...   0           0\n",
              "...    ...                                                ...  ..         ...\n",
              "6832  9340  Gli stati nazionali devono essere pronti a rin...   0           0\n",
              "6833  9121  Il ministro dell'interno della Germania  facen...   0           0\n",
              "6834  8549   In Italia troppi si sono montati la testa, io...   0           0\n",
              "6835  9240    Chi giubila in buona fede non ha capito nien...   0           0\n",
              "6836  8000  I giovani cristiani in  sono indotti dagli isl...   0           1\n",
              "\n",
              "[6837 rows x 4 columns]"
            ]
          },
          "execution_count": 7,
          "metadata": {},
          "output_type": "execute_result"
        }
      ],
      "source": [
        "# Rimuove \"@user\" dalla colonna text\n",
        "df['text '] = df['text '].str.replace(r'@user', '', regex=True)\n",
        "df['text '] = df['text '].str.replace(r'URL', '', regex=True)\n",
        "df['text '] = df['text '].str.replace(r'#\\S+', '', regex=True)\n",
        "df['text '] = df['text '].str.replace(r'�', '', regex=True)\n",
        "df\n"
      ]
    },
    {
      "cell_type": "code",
      "execution_count": 8,
      "metadata": {
        "id": "Awr0mqJ4rF7g"
      },
      "outputs": [],
      "source": [
        "emoticon_pattern = r'[:;=8xX][\\-~]?[)\\](DdpP3oO|/\\\\*<>]'\n",
        "# Prova a trovare le emoticon\n",
        "df['emoticons'] = df['text '].str.findall(emoticon_pattern).str.join(' ')"
      ]
    },
    {
      "cell_type": "code",
      "execution_count": 9,
      "metadata": {
        "colab": {
          "base_uri": "https://localhost:8080/",
          "height": 424
        },
        "id": "6lKlBkaPsQSG",
        "outputId": "2f327328-ec6a-466b-ba82-ff0c056e0fa2"
      },
      "outputs": [
        {
          "data": {
            "text/html": [
              "<div>\n",
              "<style scoped>\n",
              "    .dataframe tbody tr th:only-of-type {\n",
              "        vertical-align: middle;\n",
              "    }\n",
              "\n",
              "    .dataframe tbody tr th {\n",
              "        vertical-align: top;\n",
              "    }\n",
              "\n",
              "    .dataframe thead th {\n",
              "        text-align: right;\n",
              "    }\n",
              "</style>\n",
              "<table border=\"1\" class=\"dataframe\">\n",
              "  <thead>\n",
              "    <tr style=\"text-align: right;\">\n",
              "      <th></th>\n",
              "      <th>id</th>\n",
              "      <th>text</th>\n",
              "      <th>hs</th>\n",
              "      <th>stereotype</th>\n",
              "      <th>emoticons</th>\n",
              "    </tr>\n",
              "  </thead>\n",
              "  <tbody>\n",
              "    <tr>\n",
              "      <th>0</th>\n",
              "      <td>2066</td>\n",
              "      <td>È terrorismo anche questo, per mettere in uno ...</td>\n",
              "      <td>0</td>\n",
              "      <td>0</td>\n",
              "      <td></td>\n",
              "    </tr>\n",
              "    <tr>\n",
              "      <th>1</th>\n",
              "      <td>2045</td>\n",
              "      <td>infatti finché ci hanno guadagnato con i cam...</td>\n",
              "      <td>0</td>\n",
              "      <td>0</td>\n",
              "      <td></td>\n",
              "    </tr>\n",
              "    <tr>\n",
              "      <th>2</th>\n",
              "      <td>61</td>\n",
              "      <td>Corriere: Tangenti, Mafia Capitale dimenticata...</td>\n",
              "      <td>0</td>\n",
              "      <td>0</td>\n",
              "      <td></td>\n",
              "    </tr>\n",
              "    <tr>\n",
              "      <th>3</th>\n",
              "      <td>1259</td>\n",
              "      <td>ad uno ad uno, perché quando i migranti israe...</td>\n",
              "      <td>0</td>\n",
              "      <td>0</td>\n",
              "      <td></td>\n",
              "    </tr>\n",
              "    <tr>\n",
              "      <th>4</th>\n",
              "      <td>949</td>\n",
              "      <td>Il divertimento del giorno? Trovare i patrioti...</td>\n",
              "      <td>0</td>\n",
              "      <td>0</td>\n",
              "      <td></td>\n",
              "    </tr>\n",
              "    <tr>\n",
              "      <th>...</th>\n",
              "      <td>...</td>\n",
              "      <td>...</td>\n",
              "      <td>...</td>\n",
              "      <td>...</td>\n",
              "      <td>...</td>\n",
              "    </tr>\n",
              "    <tr>\n",
              "      <th>6832</th>\n",
              "      <td>9340</td>\n",
              "      <td>Gli stati nazionali devono essere pronti a rin...</td>\n",
              "      <td>0</td>\n",
              "      <td>0</td>\n",
              "      <td></td>\n",
              "    </tr>\n",
              "    <tr>\n",
              "      <th>6833</th>\n",
              "      <td>9121</td>\n",
              "      <td>Il ministro dell'interno della Germania  facen...</td>\n",
              "      <td>0</td>\n",
              "      <td>0</td>\n",
              "      <td></td>\n",
              "    </tr>\n",
              "    <tr>\n",
              "      <th>6834</th>\n",
              "      <td>8549</td>\n",
              "      <td>In Italia troppi si sono montati la testa, io...</td>\n",
              "      <td>0</td>\n",
              "      <td>0</td>\n",
              "      <td></td>\n",
              "    </tr>\n",
              "    <tr>\n",
              "      <th>6835</th>\n",
              "      <td>9240</td>\n",
              "      <td>Chi giubila in buona fede non ha capito nien...</td>\n",
              "      <td>0</td>\n",
              "      <td>0</td>\n",
              "      <td></td>\n",
              "    </tr>\n",
              "    <tr>\n",
              "      <th>6836</th>\n",
              "      <td>8000</td>\n",
              "      <td>I giovani cristiani in  sono indotti dagli isl...</td>\n",
              "      <td>0</td>\n",
              "      <td>1</td>\n",
              "      <td></td>\n",
              "    </tr>\n",
              "  </tbody>\n",
              "</table>\n",
              "<p>6837 rows × 5 columns</p>\n",
              "</div>"
            ],
            "text/plain": [
              "        id                                              text   hs  stereotype  \\\n",
              "0     2066  È terrorismo anche questo, per mettere in uno ...   0           0   \n",
              "1     2045    infatti finché ci hanno guadagnato con i cam...   0           0   \n",
              "2       61  Corriere: Tangenti, Mafia Capitale dimenticata...   0           0   \n",
              "3     1259   ad uno ad uno, perché quando i migranti israe...   0           0   \n",
              "4      949  Il divertimento del giorno? Trovare i patrioti...   0           0   \n",
              "...    ...                                                ...  ..         ...   \n",
              "6832  9340  Gli stati nazionali devono essere pronti a rin...   0           0   \n",
              "6833  9121  Il ministro dell'interno della Germania  facen...   0           0   \n",
              "6834  8549   In Italia troppi si sono montati la testa, io...   0           0   \n",
              "6835  9240    Chi giubila in buona fede non ha capito nien...   0           0   \n",
              "6836  8000  I giovani cristiani in  sono indotti dagli isl...   0           1   \n",
              "\n",
              "     emoticons  \n",
              "0               \n",
              "1               \n",
              "2               \n",
              "3               \n",
              "4               \n",
              "...        ...  \n",
              "6832            \n",
              "6833            \n",
              "6834            \n",
              "6835            \n",
              "6836            \n",
              "\n",
              "[6837 rows x 5 columns]"
            ]
          },
          "execution_count": 9,
          "metadata": {},
          "output_type": "execute_result"
        }
      ],
      "source": [
        "df"
      ]
    },
    {
      "cell_type": "markdown",
      "metadata": {
        "id": "OeRpPEi0uXT6"
      },
      "source": [
        "# estrazione emoji\n",
        "\n",
        "1.   Estraggo le emoji\n",
        "2.   Le elimino dai tweet\n",
        "3.   Inserisco le emoji estratte nella colonna emoji\n",
        "\n",
        "\n"
      ]
    },
    {
      "cell_type": "code",
      "execution_count": 10,
      "metadata": {
        "colab": {
          "base_uri": "https://localhost:8080/",
          "height": 1000
        },
        "id": "CKHx7aC32kH-",
        "outputId": "3f7dfde3-65f5-4b54-e6e1-9daebd937f97"
      },
      "outputs": [
        {
          "data": {
            "application/vnd.plotly.v1+json": {
              "config": {
                "plotlyServerURL": "https://plot.ly"
              },
              "data": [
                {
                  "alignmentgroup": "True",
                  "hovertemplate": "Emoji=%{x}<br>Frequenza=%{y}<extra></extra>",
                  "legendgroup": "",
                  "marker": {
                    "color": "#636efa",
                    "pattern": {
                      "shape": ""
                    }
                  },
                  "name": "",
                  "offsetgroup": "",
                  "orientation": "v",
                  "showlegend": false,
                  "textposition": "auto",
                  "type": "bar",
                  "x": [
                    "😡",
                    "😂",
                    "🇮",
                    "🇹",
                    "🤣",
                    "😁",
                    "🤔",
                    "💩",
                    "👍",
                    "👎"
                  ],
                  "xaxis": "x",
                  "y": [
                    70,
                    57,
                    36,
                    35,
                    27,
                    25,
                    23,
                    23,
                    16,
                    15
                  ],
                  "yaxis": "y"
                }
              ],
              "layout": {
                "barmode": "relative",
                "legend": {
                  "tracegroupgap": 0
                },
                "template": {
                  "data": {
                    "bar": [
                      {
                        "error_x": {
                          "color": "#2a3f5f"
                        },
                        "error_y": {
                          "color": "#2a3f5f"
                        },
                        "marker": {
                          "line": {
                            "color": "#E5ECF6",
                            "width": 0.5
                          },
                          "pattern": {
                            "fillmode": "overlay",
                            "size": 10,
                            "solidity": 0.2
                          }
                        },
                        "type": "bar"
                      }
                    ],
                    "barpolar": [
                      {
                        "marker": {
                          "line": {
                            "color": "#E5ECF6",
                            "width": 0.5
                          },
                          "pattern": {
                            "fillmode": "overlay",
                            "size": 10,
                            "solidity": 0.2
                          }
                        },
                        "type": "barpolar"
                      }
                    ],
                    "carpet": [
                      {
                        "aaxis": {
                          "endlinecolor": "#2a3f5f",
                          "gridcolor": "white",
                          "linecolor": "white",
                          "minorgridcolor": "white",
                          "startlinecolor": "#2a3f5f"
                        },
                        "baxis": {
                          "endlinecolor": "#2a3f5f",
                          "gridcolor": "white",
                          "linecolor": "white",
                          "minorgridcolor": "white",
                          "startlinecolor": "#2a3f5f"
                        },
                        "type": "carpet"
                      }
                    ],
                    "choropleth": [
                      {
                        "colorbar": {
                          "outlinewidth": 0,
                          "ticks": ""
                        },
                        "type": "choropleth"
                      }
                    ],
                    "contour": [
                      {
                        "colorbar": {
                          "outlinewidth": 0,
                          "ticks": ""
                        },
                        "colorscale": [
                          [
                            0,
                            "#0d0887"
                          ],
                          [
                            0.1111111111111111,
                            "#46039f"
                          ],
                          [
                            0.2222222222222222,
                            "#7201a8"
                          ],
                          [
                            0.3333333333333333,
                            "#9c179e"
                          ],
                          [
                            0.4444444444444444,
                            "#bd3786"
                          ],
                          [
                            0.5555555555555556,
                            "#d8576b"
                          ],
                          [
                            0.6666666666666666,
                            "#ed7953"
                          ],
                          [
                            0.7777777777777778,
                            "#fb9f3a"
                          ],
                          [
                            0.8888888888888888,
                            "#fdca26"
                          ],
                          [
                            1,
                            "#f0f921"
                          ]
                        ],
                        "type": "contour"
                      }
                    ],
                    "contourcarpet": [
                      {
                        "colorbar": {
                          "outlinewidth": 0,
                          "ticks": ""
                        },
                        "type": "contourcarpet"
                      }
                    ],
                    "heatmap": [
                      {
                        "colorbar": {
                          "outlinewidth": 0,
                          "ticks": ""
                        },
                        "colorscale": [
                          [
                            0,
                            "#0d0887"
                          ],
                          [
                            0.1111111111111111,
                            "#46039f"
                          ],
                          [
                            0.2222222222222222,
                            "#7201a8"
                          ],
                          [
                            0.3333333333333333,
                            "#9c179e"
                          ],
                          [
                            0.4444444444444444,
                            "#bd3786"
                          ],
                          [
                            0.5555555555555556,
                            "#d8576b"
                          ],
                          [
                            0.6666666666666666,
                            "#ed7953"
                          ],
                          [
                            0.7777777777777778,
                            "#fb9f3a"
                          ],
                          [
                            0.8888888888888888,
                            "#fdca26"
                          ],
                          [
                            1,
                            "#f0f921"
                          ]
                        ],
                        "type": "heatmap"
                      }
                    ],
                    "heatmapgl": [
                      {
                        "colorbar": {
                          "outlinewidth": 0,
                          "ticks": ""
                        },
                        "colorscale": [
                          [
                            0,
                            "#0d0887"
                          ],
                          [
                            0.1111111111111111,
                            "#46039f"
                          ],
                          [
                            0.2222222222222222,
                            "#7201a8"
                          ],
                          [
                            0.3333333333333333,
                            "#9c179e"
                          ],
                          [
                            0.4444444444444444,
                            "#bd3786"
                          ],
                          [
                            0.5555555555555556,
                            "#d8576b"
                          ],
                          [
                            0.6666666666666666,
                            "#ed7953"
                          ],
                          [
                            0.7777777777777778,
                            "#fb9f3a"
                          ],
                          [
                            0.8888888888888888,
                            "#fdca26"
                          ],
                          [
                            1,
                            "#f0f921"
                          ]
                        ],
                        "type": "heatmapgl"
                      }
                    ],
                    "histogram": [
                      {
                        "marker": {
                          "pattern": {
                            "fillmode": "overlay",
                            "size": 10,
                            "solidity": 0.2
                          }
                        },
                        "type": "histogram"
                      }
                    ],
                    "histogram2d": [
                      {
                        "colorbar": {
                          "outlinewidth": 0,
                          "ticks": ""
                        },
                        "colorscale": [
                          [
                            0,
                            "#0d0887"
                          ],
                          [
                            0.1111111111111111,
                            "#46039f"
                          ],
                          [
                            0.2222222222222222,
                            "#7201a8"
                          ],
                          [
                            0.3333333333333333,
                            "#9c179e"
                          ],
                          [
                            0.4444444444444444,
                            "#bd3786"
                          ],
                          [
                            0.5555555555555556,
                            "#d8576b"
                          ],
                          [
                            0.6666666666666666,
                            "#ed7953"
                          ],
                          [
                            0.7777777777777778,
                            "#fb9f3a"
                          ],
                          [
                            0.8888888888888888,
                            "#fdca26"
                          ],
                          [
                            1,
                            "#f0f921"
                          ]
                        ],
                        "type": "histogram2d"
                      }
                    ],
                    "histogram2dcontour": [
                      {
                        "colorbar": {
                          "outlinewidth": 0,
                          "ticks": ""
                        },
                        "colorscale": [
                          [
                            0,
                            "#0d0887"
                          ],
                          [
                            0.1111111111111111,
                            "#46039f"
                          ],
                          [
                            0.2222222222222222,
                            "#7201a8"
                          ],
                          [
                            0.3333333333333333,
                            "#9c179e"
                          ],
                          [
                            0.4444444444444444,
                            "#bd3786"
                          ],
                          [
                            0.5555555555555556,
                            "#d8576b"
                          ],
                          [
                            0.6666666666666666,
                            "#ed7953"
                          ],
                          [
                            0.7777777777777778,
                            "#fb9f3a"
                          ],
                          [
                            0.8888888888888888,
                            "#fdca26"
                          ],
                          [
                            1,
                            "#f0f921"
                          ]
                        ],
                        "type": "histogram2dcontour"
                      }
                    ],
                    "mesh3d": [
                      {
                        "colorbar": {
                          "outlinewidth": 0,
                          "ticks": ""
                        },
                        "type": "mesh3d"
                      }
                    ],
                    "parcoords": [
                      {
                        "line": {
                          "colorbar": {
                            "outlinewidth": 0,
                            "ticks": ""
                          }
                        },
                        "type": "parcoords"
                      }
                    ],
                    "pie": [
                      {
                        "automargin": true,
                        "type": "pie"
                      }
                    ],
                    "scatter": [
                      {
                        "fillpattern": {
                          "fillmode": "overlay",
                          "size": 10,
                          "solidity": 0.2
                        },
                        "type": "scatter"
                      }
                    ],
                    "scatter3d": [
                      {
                        "line": {
                          "colorbar": {
                            "outlinewidth": 0,
                            "ticks": ""
                          }
                        },
                        "marker": {
                          "colorbar": {
                            "outlinewidth": 0,
                            "ticks": ""
                          }
                        },
                        "type": "scatter3d"
                      }
                    ],
                    "scattercarpet": [
                      {
                        "marker": {
                          "colorbar": {
                            "outlinewidth": 0,
                            "ticks": ""
                          }
                        },
                        "type": "scattercarpet"
                      }
                    ],
                    "scattergeo": [
                      {
                        "marker": {
                          "colorbar": {
                            "outlinewidth": 0,
                            "ticks": ""
                          }
                        },
                        "type": "scattergeo"
                      }
                    ],
                    "scattergl": [
                      {
                        "marker": {
                          "colorbar": {
                            "outlinewidth": 0,
                            "ticks": ""
                          }
                        },
                        "type": "scattergl"
                      }
                    ],
                    "scattermapbox": [
                      {
                        "marker": {
                          "colorbar": {
                            "outlinewidth": 0,
                            "ticks": ""
                          }
                        },
                        "type": "scattermapbox"
                      }
                    ],
                    "scatterpolar": [
                      {
                        "marker": {
                          "colorbar": {
                            "outlinewidth": 0,
                            "ticks": ""
                          }
                        },
                        "type": "scatterpolar"
                      }
                    ],
                    "scatterpolargl": [
                      {
                        "marker": {
                          "colorbar": {
                            "outlinewidth": 0,
                            "ticks": ""
                          }
                        },
                        "type": "scatterpolargl"
                      }
                    ],
                    "scatterternary": [
                      {
                        "marker": {
                          "colorbar": {
                            "outlinewidth": 0,
                            "ticks": ""
                          }
                        },
                        "type": "scatterternary"
                      }
                    ],
                    "surface": [
                      {
                        "colorbar": {
                          "outlinewidth": 0,
                          "ticks": ""
                        },
                        "colorscale": [
                          [
                            0,
                            "#0d0887"
                          ],
                          [
                            0.1111111111111111,
                            "#46039f"
                          ],
                          [
                            0.2222222222222222,
                            "#7201a8"
                          ],
                          [
                            0.3333333333333333,
                            "#9c179e"
                          ],
                          [
                            0.4444444444444444,
                            "#bd3786"
                          ],
                          [
                            0.5555555555555556,
                            "#d8576b"
                          ],
                          [
                            0.6666666666666666,
                            "#ed7953"
                          ],
                          [
                            0.7777777777777778,
                            "#fb9f3a"
                          ],
                          [
                            0.8888888888888888,
                            "#fdca26"
                          ],
                          [
                            1,
                            "#f0f921"
                          ]
                        ],
                        "type": "surface"
                      }
                    ],
                    "table": [
                      {
                        "cells": {
                          "fill": {
                            "color": "#EBF0F8"
                          },
                          "line": {
                            "color": "white"
                          }
                        },
                        "header": {
                          "fill": {
                            "color": "#C8D4E3"
                          },
                          "line": {
                            "color": "white"
                          }
                        },
                        "type": "table"
                      }
                    ]
                  },
                  "layout": {
                    "annotationdefaults": {
                      "arrowcolor": "#2a3f5f",
                      "arrowhead": 0,
                      "arrowwidth": 1
                    },
                    "autotypenumbers": "strict",
                    "coloraxis": {
                      "colorbar": {
                        "outlinewidth": 0,
                        "ticks": ""
                      }
                    },
                    "colorscale": {
                      "diverging": [
                        [
                          0,
                          "#8e0152"
                        ],
                        [
                          0.1,
                          "#c51b7d"
                        ],
                        [
                          0.2,
                          "#de77ae"
                        ],
                        [
                          0.3,
                          "#f1b6da"
                        ],
                        [
                          0.4,
                          "#fde0ef"
                        ],
                        [
                          0.5,
                          "#f7f7f7"
                        ],
                        [
                          0.6,
                          "#e6f5d0"
                        ],
                        [
                          0.7,
                          "#b8e186"
                        ],
                        [
                          0.8,
                          "#7fbc41"
                        ],
                        [
                          0.9,
                          "#4d9221"
                        ],
                        [
                          1,
                          "#276419"
                        ]
                      ],
                      "sequential": [
                        [
                          0,
                          "#0d0887"
                        ],
                        [
                          0.1111111111111111,
                          "#46039f"
                        ],
                        [
                          0.2222222222222222,
                          "#7201a8"
                        ],
                        [
                          0.3333333333333333,
                          "#9c179e"
                        ],
                        [
                          0.4444444444444444,
                          "#bd3786"
                        ],
                        [
                          0.5555555555555556,
                          "#d8576b"
                        ],
                        [
                          0.6666666666666666,
                          "#ed7953"
                        ],
                        [
                          0.7777777777777778,
                          "#fb9f3a"
                        ],
                        [
                          0.8888888888888888,
                          "#fdca26"
                        ],
                        [
                          1,
                          "#f0f921"
                        ]
                      ],
                      "sequentialminus": [
                        [
                          0,
                          "#0d0887"
                        ],
                        [
                          0.1111111111111111,
                          "#46039f"
                        ],
                        [
                          0.2222222222222222,
                          "#7201a8"
                        ],
                        [
                          0.3333333333333333,
                          "#9c179e"
                        ],
                        [
                          0.4444444444444444,
                          "#bd3786"
                        ],
                        [
                          0.5555555555555556,
                          "#d8576b"
                        ],
                        [
                          0.6666666666666666,
                          "#ed7953"
                        ],
                        [
                          0.7777777777777778,
                          "#fb9f3a"
                        ],
                        [
                          0.8888888888888888,
                          "#fdca26"
                        ],
                        [
                          1,
                          "#f0f921"
                        ]
                      ]
                    },
                    "colorway": [
                      "#636efa",
                      "#EF553B",
                      "#00cc96",
                      "#ab63fa",
                      "#FFA15A",
                      "#19d3f3",
                      "#FF6692",
                      "#B6E880",
                      "#FF97FF",
                      "#FECB52"
                    ],
                    "font": {
                      "color": "#2a3f5f"
                    },
                    "geo": {
                      "bgcolor": "white",
                      "lakecolor": "white",
                      "landcolor": "#E5ECF6",
                      "showlakes": true,
                      "showland": true,
                      "subunitcolor": "white"
                    },
                    "hoverlabel": {
                      "align": "left"
                    },
                    "hovermode": "closest",
                    "mapbox": {
                      "style": "light"
                    },
                    "paper_bgcolor": "white",
                    "plot_bgcolor": "#E5ECF6",
                    "polar": {
                      "angularaxis": {
                        "gridcolor": "white",
                        "linecolor": "white",
                        "ticks": ""
                      },
                      "bgcolor": "#E5ECF6",
                      "radialaxis": {
                        "gridcolor": "white",
                        "linecolor": "white",
                        "ticks": ""
                      }
                    },
                    "scene": {
                      "xaxis": {
                        "backgroundcolor": "#E5ECF6",
                        "gridcolor": "white",
                        "gridwidth": 2,
                        "linecolor": "white",
                        "showbackground": true,
                        "ticks": "",
                        "zerolinecolor": "white"
                      },
                      "yaxis": {
                        "backgroundcolor": "#E5ECF6",
                        "gridcolor": "white",
                        "gridwidth": 2,
                        "linecolor": "white",
                        "showbackground": true,
                        "ticks": "",
                        "zerolinecolor": "white"
                      },
                      "zaxis": {
                        "backgroundcolor": "#E5ECF6",
                        "gridcolor": "white",
                        "gridwidth": 2,
                        "linecolor": "white",
                        "showbackground": true,
                        "ticks": "",
                        "zerolinecolor": "white"
                      }
                    },
                    "shapedefaults": {
                      "line": {
                        "color": "#2a3f5f"
                      }
                    },
                    "ternary": {
                      "aaxis": {
                        "gridcolor": "white",
                        "linecolor": "white",
                        "ticks": ""
                      },
                      "baxis": {
                        "gridcolor": "white",
                        "linecolor": "white",
                        "ticks": ""
                      },
                      "bgcolor": "#E5ECF6",
                      "caxis": {
                        "gridcolor": "white",
                        "linecolor": "white",
                        "ticks": ""
                      }
                    },
                    "title": {
                      "x": 0.05
                    },
                    "xaxis": {
                      "automargin": true,
                      "gridcolor": "white",
                      "linecolor": "white",
                      "ticks": "",
                      "title": {
                        "standoff": 15
                      },
                      "zerolinecolor": "white",
                      "zerolinewidth": 2
                    },
                    "yaxis": {
                      "automargin": true,
                      "gridcolor": "white",
                      "linecolor": "white",
                      "ticks": "",
                      "title": {
                        "standoff": 15
                      },
                      "zerolinecolor": "white",
                      "zerolinewidth": 2
                    }
                  }
                },
                "title": {
                  "text": "Top 10 Frequenze delle Emoji"
                },
                "xaxis": {
                  "anchor": "y",
                  "domain": [
                    0,
                    1
                  ],
                  "title": {
                    "text": "Emoji"
                  }
                },
                "yaxis": {
                  "anchor": "x",
                  "domain": [
                    0,
                    1
                  ],
                  "title": {
                    "text": "Frequenza"
                  }
                }
              }
            }
          },
          "metadata": {},
          "output_type": "display_data"
        },
        {
          "name": "stdout",
          "output_type": "stream",
          "text": [
            "        id                                              text   hs  stereotype  \\\n",
            "0     2066  È terrorismo anche questo, per mettere in uno ...   0           0   \n",
            "1     2045  infatti finché ci hanno guadagnato con i campi...   0           0   \n",
            "2       61  Corriere: Tangenti, Mafia Capitale dimenticata...   0           0   \n",
            "3     1259  ad uno ad uno, perché quando i migranti israel...   0           0   \n",
            "4      949  Il divertimento del giorno? Trovare i patrioti...   0           0   \n",
            "...    ...                                                ...  ..         ...   \n",
            "6832  9340  Gli stati nazionali devono essere pronti a rin...   0           0   \n",
            "6833  9121  Il ministro dell'interno della Germania facend...   0           0   \n",
            "6834  8549  In Italia troppi si sono montati la testa, io ...   0           0   \n",
            "6835  9240  Chi giubila in buona fede non ha capito niente...   0           0   \n",
            "6836  8000  I giovani cristiani in sono indotti dagli isla...   0           1   \n",
            "\n",
            "     emoticons emojis  \n",
            "0                      \n",
            "1                      \n",
            "2                      \n",
            "3                      \n",
            "4                      \n",
            "...        ...    ...  \n",
            "6832                   \n",
            "6833                   \n",
            "6834                   \n",
            "6835                   \n",
            "6836                   \n",
            "\n",
            "[6837 rows x 6 columns]\n"
          ]
        }
      ],
      "source": [
        "# Lista specifica di emoji da includere\n",
        "emoji_whitelist = [\"▶️\", \"‼️\", \"⁉️\"]\n",
        "\n",
        "# Funzione aggiornata per estrarre emoji generali e della whitelist\n",
        "def extract_emojis(text):\n",
        "    if not text:\n",
        "        return ''\n",
        "    # Regex per emoji generali\n",
        "    emoji_pattern = re.compile(\n",
        "        \"[\"\n",
        "        u\"\\U0001F600-\\U0001F64F\"  # Emoticons\n",
        "        u\"\\U0001F300-\\U0001F5FF\"  # Simboli e pittogrammi\n",
        "        u\"\\U0001F680-\\U0001F6FF\"  # Trasporti\n",
        "        u\"\\U0001F700-\\U0001F77F\"\n",
        "        u\"\\U0001F780-\\U0001F7FF\"  # Simboli geometrici estesi\n",
        "        u\"\\U0001F800-\\U0001F8FF\"\n",
        "        u\"\\U0001F900-\\U0001F9FF\"  # Faccine estese\n",
        "        u\"\\U0001FA00-\\U0001FA6F\"\n",
        "        u\"\\U0001FA70-\\U0001FAFF\"\n",
        "        u\"\\U0001F1E0-\\U0001F1FF\"  # Bandiere\n",
        "        u\"\\U00002700-\\U000027BF\"  # Simboli vari\n",
        "        u\"\\U00002600-\\U000026FF\"  # Simboli come ☀️ e ⚡\n",
        "        u\"\\U00002300-\\U000023FF\"  # Simboli extra\n",
        "        u\"\\U00002B00-\\U00002BFF\"  # Frecce e simboli geometrici\n",
        "        \"]\",\n",
        "        flags=re.UNICODE,\n",
        "    )\n",
        "    # Combina whitelist e regex\n",
        "    whitelist_pattern = re.compile('|'.join(map(re.escape, emoji_whitelist)))\n",
        "    combined_pattern = re.compile(f\"{emoji_pattern.pattern}|{whitelist_pattern.pattern}\")\n",
        "    return ''.join(combined_pattern.findall(text))\n",
        "\n",
        "# Estrazione delle emoji\n",
        "df['emojis'] = df['text '].apply(extract_emojis)\n",
        "\n",
        "# Rimozione delle emoji dal testo\n",
        "def remove_emojis(text):\n",
        "    if not text:\n",
        "        return text\n",
        "    # Usa la stessa combinazione di pattern per rimuovere le emoji\n",
        "    emoji_pattern = re.compile(\n",
        "        \"[\"\n",
        "        u\"\\U0001F600-\\U0001F64F\"\n",
        "        u\"\\U0001F300-\\U0001F5FF\"\n",
        "        u\"\\U0001F680-\\U0001F6FF\"\n",
        "        u\"\\U0001F700-\\U0001F77F\"\n",
        "        u\"\\U0001F780-\\U0001F7FF\"\n",
        "        u\"\\U0001F800-\\U0001F8FF\"\n",
        "        u\"\\U0001F900-\\U0001F9FF\"\n",
        "        u\"\\U0001FA00-\\U0001FA6F\"\n",
        "        u\"\\U0001FA70-\\U0001FAFF\"\n",
        "        u\"\\U0001F1E0-\\U0001F1FF\"\n",
        "        u\"\\U00002700-\\U000027BF\"\n",
        "        u\"\\U00002600-\\U000026FF\"\n",
        "        u\"\\U00002300-\\U000023FF\"\n",
        "        u\"\\U00002B00-\\U00002BFF\"\n",
        "        \"]\",\n",
        "        flags=re.UNICODE,\n",
        "    )\n",
        "    whitelist_pattern = re.compile('|'.join(map(re.escape, emoji_whitelist)))\n",
        "    combined_pattern = re.compile(f\"{emoji_pattern.pattern}|{whitelist_pattern.pattern}\")\n",
        "    return combined_pattern.sub('', text)\n",
        "\n",
        "df['text '] = df['text '].apply(remove_emojis)\n",
        "\n",
        "# Rimuove eventuali spazi multipli residui\n",
        "df['text '] = df['text '].str.strip().str.replace(r'\\s+', ' ', regex=True)\n",
        "\n",
        "# Analisi delle frequenze delle emoji\n",
        "all_emojis = ''.join(df['emojis'])\n",
        "emoji_frequencies = Counter(all_emojis)\n",
        "\n",
        "# Ordina le emoji per frequenza\n",
        "sorted_emoji_frequencies = dict(sorted(emoji_frequencies.items(), key=lambda item: item[1], reverse=True))\n",
        "\n",
        "# Crea un DataFrame per visualizzare le frequenze\n",
        "emoji_df = pd.DataFrame(sorted_emoji_frequencies.items(), columns=['Emoji', 'Frequenza'])\n",
        "\n",
        "# Visualizza le prime 10 emoji in un grafico a barre\n",
        "top_10_emojis = emoji_df.head(10)\n",
        "fig = px.bar(top_10_emojis, x='Emoji', y='Frequenza', title='Top 10 Frequenze delle Emoji')\n",
        "fig.show()\n",
        "\n",
        "# Mostra il DataFrame aggiornato\n",
        "print(df)\n"
      ]
    },
    {
      "cell_type": "code",
      "execution_count": 11,
      "metadata": {
        "colab": {
          "base_uri": "https://localhost:8080/",
          "height": 424
        },
        "id": "z75PW_pf2p6n",
        "outputId": "5a2f38ae-282f-42f8-a265-6453e27002fd"
      },
      "outputs": [
        {
          "data": {
            "text/html": [
              "<div>\n",
              "<style scoped>\n",
              "    .dataframe tbody tr th:only-of-type {\n",
              "        vertical-align: middle;\n",
              "    }\n",
              "\n",
              "    .dataframe tbody tr th {\n",
              "        vertical-align: top;\n",
              "    }\n",
              "\n",
              "    .dataframe thead th {\n",
              "        text-align: right;\n",
              "    }\n",
              "</style>\n",
              "<table border=\"1\" class=\"dataframe\">\n",
              "  <thead>\n",
              "    <tr style=\"text-align: right;\">\n",
              "      <th></th>\n",
              "      <th>id</th>\n",
              "      <th>text</th>\n",
              "      <th>hs</th>\n",
              "      <th>stereotype</th>\n",
              "      <th>emoticons</th>\n",
              "      <th>emojis</th>\n",
              "    </tr>\n",
              "  </thead>\n",
              "  <tbody>\n",
              "    <tr>\n",
              "      <th>0</th>\n",
              "      <td>2066</td>\n",
              "      <td>È terrorismo anche questo, per mettere in uno ...</td>\n",
              "      <td>0</td>\n",
              "      <td>0</td>\n",
              "      <td></td>\n",
              "      <td></td>\n",
              "    </tr>\n",
              "    <tr>\n",
              "      <th>1</th>\n",
              "      <td>2045</td>\n",
              "      <td>infatti finché ci hanno guadagnato con i campi...</td>\n",
              "      <td>0</td>\n",
              "      <td>0</td>\n",
              "      <td></td>\n",
              "      <td></td>\n",
              "    </tr>\n",
              "    <tr>\n",
              "      <th>2</th>\n",
              "      <td>61</td>\n",
              "      <td>Corriere: Tangenti, Mafia Capitale dimenticata...</td>\n",
              "      <td>0</td>\n",
              "      <td>0</td>\n",
              "      <td></td>\n",
              "      <td></td>\n",
              "    </tr>\n",
              "    <tr>\n",
              "      <th>3</th>\n",
              "      <td>1259</td>\n",
              "      <td>ad uno ad uno, perché quando i migranti israel...</td>\n",
              "      <td>0</td>\n",
              "      <td>0</td>\n",
              "      <td></td>\n",
              "      <td></td>\n",
              "    </tr>\n",
              "    <tr>\n",
              "      <th>4</th>\n",
              "      <td>949</td>\n",
              "      <td>Il divertimento del giorno? Trovare i patrioti...</td>\n",
              "      <td>0</td>\n",
              "      <td>0</td>\n",
              "      <td></td>\n",
              "      <td></td>\n",
              "    </tr>\n",
              "    <tr>\n",
              "      <th>...</th>\n",
              "      <td>...</td>\n",
              "      <td>...</td>\n",
              "      <td>...</td>\n",
              "      <td>...</td>\n",
              "      <td>...</td>\n",
              "      <td>...</td>\n",
              "    </tr>\n",
              "    <tr>\n",
              "      <th>6832</th>\n",
              "      <td>9340</td>\n",
              "      <td>Gli stati nazionali devono essere pronti a rin...</td>\n",
              "      <td>0</td>\n",
              "      <td>0</td>\n",
              "      <td></td>\n",
              "      <td></td>\n",
              "    </tr>\n",
              "    <tr>\n",
              "      <th>6833</th>\n",
              "      <td>9121</td>\n",
              "      <td>Il ministro dell'interno della Germania facend...</td>\n",
              "      <td>0</td>\n",
              "      <td>0</td>\n",
              "      <td></td>\n",
              "      <td></td>\n",
              "    </tr>\n",
              "    <tr>\n",
              "      <th>6834</th>\n",
              "      <td>8549</td>\n",
              "      <td>In Italia troppi si sono montati la testa, io ...</td>\n",
              "      <td>0</td>\n",
              "      <td>0</td>\n",
              "      <td></td>\n",
              "      <td></td>\n",
              "    </tr>\n",
              "    <tr>\n",
              "      <th>6835</th>\n",
              "      <td>9240</td>\n",
              "      <td>Chi giubila in buona fede non ha capito niente...</td>\n",
              "      <td>0</td>\n",
              "      <td>0</td>\n",
              "      <td></td>\n",
              "      <td></td>\n",
              "    </tr>\n",
              "    <tr>\n",
              "      <th>6836</th>\n",
              "      <td>8000</td>\n",
              "      <td>I giovani cristiani in sono indotti dagli isla...</td>\n",
              "      <td>0</td>\n",
              "      <td>1</td>\n",
              "      <td></td>\n",
              "      <td></td>\n",
              "    </tr>\n",
              "  </tbody>\n",
              "</table>\n",
              "<p>6837 rows × 6 columns</p>\n",
              "</div>"
            ],
            "text/plain": [
              "        id                                              text   hs  stereotype  \\\n",
              "0     2066  È terrorismo anche questo, per mettere in uno ...   0           0   \n",
              "1     2045  infatti finché ci hanno guadagnato con i campi...   0           0   \n",
              "2       61  Corriere: Tangenti, Mafia Capitale dimenticata...   0           0   \n",
              "3     1259  ad uno ad uno, perché quando i migranti israel...   0           0   \n",
              "4      949  Il divertimento del giorno? Trovare i patrioti...   0           0   \n",
              "...    ...                                                ...  ..         ...   \n",
              "6832  9340  Gli stati nazionali devono essere pronti a rin...   0           0   \n",
              "6833  9121  Il ministro dell'interno della Germania facend...   0           0   \n",
              "6834  8549  In Italia troppi si sono montati la testa, io ...   0           0   \n",
              "6835  9240  Chi giubila in buona fede non ha capito niente...   0           0   \n",
              "6836  8000  I giovani cristiani in sono indotti dagli isla...   0           1   \n",
              "\n",
              "     emoticons emojis  \n",
              "0                      \n",
              "1                      \n",
              "2                      \n",
              "3                      \n",
              "4                      \n",
              "...        ...    ...  \n",
              "6832                   \n",
              "6833                   \n",
              "6834                   \n",
              "6835                   \n",
              "6836                   \n",
              "\n",
              "[6837 rows x 6 columns]"
            ]
          },
          "execution_count": 11,
          "metadata": {},
          "output_type": "execute_result"
        }
      ],
      "source": [
        "df"
      ]
    },
    {
      "cell_type": "markdown",
      "metadata": {
        "id": "UlFDwS-2wqKM"
      },
      "source": [
        "#Cre una nuova colonna dove unisco i risultati di \"emoticons\" e \"emoji\""
      ]
    },
    {
      "cell_type": "code",
      "execution_count": 12,
      "metadata": {
        "id": "fTXuOQgvwpkC"
      },
      "outputs": [],
      "source": [
        "# Combina emoticons ed emojis in una nuova colonna\n",
        "df['all_emoticons_emojis'] = df['emoticons'] + ' ' + df['emojis']\n",
        "# Rimuove eventuali spazi extra nella nuova colonna\n",
        "df['all_emoticons_emojis'] = df['all_emoticons_emojis'].str.strip().str.replace(r'\\s+', ' ', regex=True)"
      ]
    },
    {
      "cell_type": "markdown",
      "metadata": {
        "id": "m1VuGVAKw-mJ"
      },
      "source": [
        "# Elimino le due colonne ormai superflue"
      ]
    },
    {
      "cell_type": "code",
      "execution_count": 13,
      "metadata": {
        "id": "sVm2wJIawyl5"
      },
      "outputs": [],
      "source": [
        "df.drop(columns=['emoticons', 'emojis'], inplace=True)"
      ]
    },
    {
      "cell_type": "code",
      "execution_count": 14,
      "metadata": {
        "colab": {
          "base_uri": "https://localhost:8080/",
          "height": 424
        },
        "id": "i98W0Hg_w8uk",
        "outputId": "6c8e7461-9ac8-4337-a267-09045cfba942"
      },
      "outputs": [
        {
          "data": {
            "text/html": [
              "<div>\n",
              "<style scoped>\n",
              "    .dataframe tbody tr th:only-of-type {\n",
              "        vertical-align: middle;\n",
              "    }\n",
              "\n",
              "    .dataframe tbody tr th {\n",
              "        vertical-align: top;\n",
              "    }\n",
              "\n",
              "    .dataframe thead th {\n",
              "        text-align: right;\n",
              "    }\n",
              "</style>\n",
              "<table border=\"1\" class=\"dataframe\">\n",
              "  <thead>\n",
              "    <tr style=\"text-align: right;\">\n",
              "      <th></th>\n",
              "      <th>id</th>\n",
              "      <th>text</th>\n",
              "      <th>hs</th>\n",
              "      <th>stereotype</th>\n",
              "      <th>all_emoticons_emojis</th>\n",
              "    </tr>\n",
              "  </thead>\n",
              "  <tbody>\n",
              "    <tr>\n",
              "      <th>0</th>\n",
              "      <td>2066</td>\n",
              "      <td>È terrorismo anche questo, per mettere in uno ...</td>\n",
              "      <td>0</td>\n",
              "      <td>0</td>\n",
              "      <td></td>\n",
              "    </tr>\n",
              "    <tr>\n",
              "      <th>1</th>\n",
              "      <td>2045</td>\n",
              "      <td>infatti finché ci hanno guadagnato con i campi...</td>\n",
              "      <td>0</td>\n",
              "      <td>0</td>\n",
              "      <td></td>\n",
              "    </tr>\n",
              "    <tr>\n",
              "      <th>2</th>\n",
              "      <td>61</td>\n",
              "      <td>Corriere: Tangenti, Mafia Capitale dimenticata...</td>\n",
              "      <td>0</td>\n",
              "      <td>0</td>\n",
              "      <td></td>\n",
              "    </tr>\n",
              "    <tr>\n",
              "      <th>3</th>\n",
              "      <td>1259</td>\n",
              "      <td>ad uno ad uno, perché quando i migranti israel...</td>\n",
              "      <td>0</td>\n",
              "      <td>0</td>\n",
              "      <td></td>\n",
              "    </tr>\n",
              "    <tr>\n",
              "      <th>4</th>\n",
              "      <td>949</td>\n",
              "      <td>Il divertimento del giorno? Trovare i patrioti...</td>\n",
              "      <td>0</td>\n",
              "      <td>0</td>\n",
              "      <td></td>\n",
              "    </tr>\n",
              "    <tr>\n",
              "      <th>...</th>\n",
              "      <td>...</td>\n",
              "      <td>...</td>\n",
              "      <td>...</td>\n",
              "      <td>...</td>\n",
              "      <td>...</td>\n",
              "    </tr>\n",
              "    <tr>\n",
              "      <th>6832</th>\n",
              "      <td>9340</td>\n",
              "      <td>Gli stati nazionali devono essere pronti a rin...</td>\n",
              "      <td>0</td>\n",
              "      <td>0</td>\n",
              "      <td></td>\n",
              "    </tr>\n",
              "    <tr>\n",
              "      <th>6833</th>\n",
              "      <td>9121</td>\n",
              "      <td>Il ministro dell'interno della Germania facend...</td>\n",
              "      <td>0</td>\n",
              "      <td>0</td>\n",
              "      <td></td>\n",
              "    </tr>\n",
              "    <tr>\n",
              "      <th>6834</th>\n",
              "      <td>8549</td>\n",
              "      <td>In Italia troppi si sono montati la testa, io ...</td>\n",
              "      <td>0</td>\n",
              "      <td>0</td>\n",
              "      <td></td>\n",
              "    </tr>\n",
              "    <tr>\n",
              "      <th>6835</th>\n",
              "      <td>9240</td>\n",
              "      <td>Chi giubila in buona fede non ha capito niente...</td>\n",
              "      <td>0</td>\n",
              "      <td>0</td>\n",
              "      <td></td>\n",
              "    </tr>\n",
              "    <tr>\n",
              "      <th>6836</th>\n",
              "      <td>8000</td>\n",
              "      <td>I giovani cristiani in sono indotti dagli isla...</td>\n",
              "      <td>0</td>\n",
              "      <td>1</td>\n",
              "      <td></td>\n",
              "    </tr>\n",
              "  </tbody>\n",
              "</table>\n",
              "<p>6837 rows × 5 columns</p>\n",
              "</div>"
            ],
            "text/plain": [
              "        id                                              text   hs  stereotype  \\\n",
              "0     2066  È terrorismo anche questo, per mettere in uno ...   0           0   \n",
              "1     2045  infatti finché ci hanno guadagnato con i campi...   0           0   \n",
              "2       61  Corriere: Tangenti, Mafia Capitale dimenticata...   0           0   \n",
              "3     1259  ad uno ad uno, perché quando i migranti israel...   0           0   \n",
              "4      949  Il divertimento del giorno? Trovare i patrioti...   0           0   \n",
              "...    ...                                                ...  ..         ...   \n",
              "6832  9340  Gli stati nazionali devono essere pronti a rin...   0           0   \n",
              "6833  9121  Il ministro dell'interno della Germania facend...   0           0   \n",
              "6834  8549  In Italia troppi si sono montati la testa, io ...   0           0   \n",
              "6835  9240  Chi giubila in buona fede non ha capito niente...   0           0   \n",
              "6836  8000  I giovani cristiani in sono indotti dagli isla...   0           1   \n",
              "\n",
              "     all_emoticons_emojis  \n",
              "0                          \n",
              "1                          \n",
              "2                          \n",
              "3                          \n",
              "4                          \n",
              "...                   ...  \n",
              "6832                       \n",
              "6833                       \n",
              "6834                       \n",
              "6835                       \n",
              "6836                       \n",
              "\n",
              "[6837 rows x 5 columns]"
            ]
          },
          "execution_count": 14,
          "metadata": {},
          "output_type": "execute_result"
        }
      ],
      "source": [
        "df"
      ]
    },
    {
      "cell_type": "code",
      "execution_count": 15,
      "metadata": {
        "colab": {
          "base_uri": "https://localhost:8080/"
        },
        "id": "SDFXjJS82yx3",
        "outputId": "9798c2bd-cf8e-42f6-e73f-270557c3ea6d"
      },
      "outputs": [
        {
          "name": "stdout",
          "output_type": "stream",
          "text": [
            "['' ':)' '😲' '✌' '😠' '🙄' '😁' ':D' '83' '😑' 'xo' 'xp' '😂😂' '☺' '👍🏼' '=\\\\'\n",
            " '8o' '😳🙄🤔🤓😂😂😂😂😂' '😡' '😄😄😄😄😄😄' '🤔🤔🤔' '🇬🇧' '✳✳' '❤' '🔥🔥' ':3' '🇮🇹' '😅' '😳'\n",
            " '🤕' '😳😳😉' ':-(' '😢' '😊👍' '🔹❓🔹🇮🇹❓' '👎' '💖' ':(' ':d' '😈' '👌' '😂😂😂😂😂😂' '8)'\n",
            " '😱😱😱' '👹' '🌿🌿' '🤔' '😂🙈' '⛔⛔⛔' '🤔😂' '😀👍✌' ':p' '📍' '😁😁😁' '😜' 'xP' '💣💥' '👍'\n",
            " '💩💩💩💩' '😒' '😷' '🕌💥🌍🤡🕋' '👏😡' 'XD' ':/' '🖒' ':o' '😥' '🙄🙄' '🔴🔴👇🏿' '💩💩' '🙄🤔🤨'\n",
            " '😣😣' '‼️⁉️' '🇮🇹🤔💥🇮🇹' ';p' '💩' '😤' '🤦♀🤦♀🤣🤣🤣🤣' '🤣🤣🤣😂😂😂😁😁😁' '😂😂😂😂😂😎'\n",
            " '😂😂😂🖕🖕🖕' '😠😠😠😠😠😠' '🖕🖕🖕🖕🖕' '❗😡❗❗😬❗' '🤮' '😂' '💬' '🍸' '🇪🇺🇮🇹' '🌈🌈🤪✊🏻' '🌟🌟🌟🌟🌟'\n",
            " '😐' ';P' '🤔😡👿' '🔹🔹🔹' '😘' '😠😠' '🤚' '😤😤😤😤' '🤨😟😡😡😡😡🇮🇹🇮🇹🇮🇹✌✌' '❌❌❌❌' '😀😀'\n",
            " '😄😄👋🏻' '😡😡😡' '😈😭😫' '💔😭' '🚫' '✋' '🌹' '✂' '📆📍📢' '😊' '😎' '🇮🇹👍' '🤣🤣🤣' '👉🏻'\n",
            " '🤣🤣' '🤣' '📺' '🔽▶️' '😤🤔' '👍👍👏👏😊' '💃💃💃👉👈' '🇮🇹🤮🇫🇷' '🙈🙈' '😨' '😂😂😂😂💩💩' '✊'\n",
            " '🤦♀🤦♀🤦♀🤦♀🤦♀' '✍➡' '🙄👿' '👏' '👏👏👏' '👇' '🇮🇹🇮🇹' '🤔🇪🇺🇮🇹🇪🇺🇮🇹🇪🇺🇮🇹🇪🇺🇮🇹🇪🇺' '😁😂'\n",
            " '😡😡' '😁😉' '🇮🇹🇮🇹🇮🇹' '👍👍👍👍👏👏👏👏👏👿👿👿👿👿👿' '🙈🤦♂' '🤬🤦♀' '🖕🏿👎🏿' '😒😑😒' '😔😷' '😣😣😣'\n",
            " '🔴' '🇮🇹🤫' '😬😳😩😤' '‼️‼️👊' '😂🙄' '🦅' '😁😁😁⌨' '✔✔✔✔✔✔✔😂😂😂😂' '👎👎' '☪✝😱'\n",
            " '🤢🤢👿👿🤕🤕😨😨😨' '👎👎👎✋' '🍷🍺' '👀😬' '😱' '💩💩😡😡😡' '😡😡😡😡😡😡😡😡😡😡😡😡😡😡😡' '👎👎😠😠' '👍👍👍👍'\n",
            " '🤣🤣🤣🤣🤣🖕' '😂😂😂😂😂' '🐖🐓⚡⛅⚡' '😡😡😡😡😡' ':P' '🏐' '🤮🤮🤮🤮🤮🐒🐒🐒🐒' '💩🤢🤮' '🔹🔹❓' '‼️'\n",
            " '😁😁😁😁' '🤐🤬' ':-)' '🇮🇪' '😳😅😂👎👎👎👎' '😁🤢🤢🤢' '💚💚' '🧐🧐🧐🧐🧐🧐' '⭐' '😭😭😭😭' '😉👉🏻'\n",
            " '🤦♀' '☹' '❗' '❓' '😈😆😷' '🤔🤔' '🌏📖' '🤮🤮🤮' '💩😐' '👍😄🇮🇹' '🇹🇷😆' '💩💩💩' '🤬' '🇮🇹👕'\n",
            " '😡😡😡😡' '😭' '😡😡😡😡👿👿👿👿' '😀🤣😂' '🤔🙏' '➡' '😁😆' '🔫😯' '🔴😂' '😔😢' '🎄' '🖊⬇' '👉🏾👉🏾'\n",
            " '😭😭😭😢😢😢😭😭😭' '🐜🤣🤣🤣' '😪' '🇮🇪🌍' '⁉️‼️' '🤔😁' '👇🏻' 'x)' '😔' '🤔😡😡😡' ';d' '😂😂😂😂'\n",
            " '🤦🏻♂' '=d']\n"
          ]
        }
      ],
      "source": [
        "print(df['all_emoticons_emojis'].unique())"
      ]
    },
    {
      "cell_type": "markdown",
      "metadata": {
        "id": "h_IR4hk93TX3"
      },
      "source": [
        "#Esplorazione emoji più usate"
      ]
    },
    {
      "cell_type": "code",
      "execution_count": 16,
      "metadata": {
        "colab": {
          "base_uri": "https://localhost:8080/",
          "height": 560
        },
        "id": "867Y_3Pw3PBW",
        "outputId": "8c8c6c8a-c5f2-47be-9ed0-62f30d67046b"
      },
      "outputs": [
        {
          "name": "stdout",
          "output_type": "stream",
          "text": [
            "Percentuale di tweet con emoji: 4.90%\n"
          ]
        },
        {
          "data": {
            "application/vnd.plotly.v1+json": {
              "config": {
                "plotlyServerURL": "https://plot.ly"
              },
              "data": [
                {
                  "alignmentgroup": "True",
                  "hovertemplate": "Emoji=%{x}<br>Frequenza=%{y}<extra></extra>",
                  "legendgroup": "",
                  "marker": {
                    "color": "#636efa",
                    "pattern": {
                      "shape": ""
                    }
                  },
                  "name": "",
                  "offsetgroup": "",
                  "orientation": "v",
                  "showlegend": false,
                  "textposition": "auto",
                  "type": "bar",
                  "x": [
                    "😡",
                    "😂",
                    "🇮",
                    "🇹",
                    "🤣",
                    "😁",
                    "🤔",
                    "💩",
                    "👍",
                    "👎",
                    "😠",
                    "👿",
                    "🤮",
                    "😭",
                    "👏",
                    "🤦",
                    "🖕",
                    "🙄",
                    "😄",
                    "♀",
                    "🇪",
                    "️",
                    "😤",
                    "😳",
                    "😣",
                    "✔",
                    "🔴",
                    "🔹",
                    "😈",
                    "😱",
                    "🏻",
                    "😨",
                    "🇺",
                    "🤢",
                    "😢",
                    "🧐",
                    "👇",
                    "‼",
                    "🌟",
                    "❗",
                    "👉",
                    "😷",
                    "❌",
                    "🐒",
                    "🤬",
                    "❓",
                    "😎",
                    "😀",
                    "🙈",
                    "✌",
                    "🏿",
                    "😬",
                    "☺",
                    "😑",
                    "😆",
                    "🤕",
                    "💥",
                    "😊",
                    "😔",
                    "💃",
                    "😒",
                    "⛔",
                    "😉",
                    "💚",
                    "✋",
                    "😘",
                    "♂",
                    "🏾",
                    "⚡",
                    "🇷",
                    "🌈",
                    "✊",
                    "➡",
                    "😐",
                    "😲",
                    "🌿",
                    "💖",
                    "😅",
                    "❤",
                    "🌍",
                    "😜",
                    "📍",
                    "✳",
                    "🔥",
                    "🤨",
                    "⁉",
                    "🍺",
                    "👀",
                    "🤐",
                    "🐖",
                    "🍷",
                    "🐓",
                    "⛅",
                    "🏐",
                    "✝",
                    "🤪",
                    "🇬",
                    "🇧",
                    "⭐",
                    "☹",
                    "🤓",
                    "🌏",
                    "📖",
                    "👕",
                    "🙏",
                    "🔫",
                    "😯",
                    "🎄",
                    "🖊",
                    "⬇",
                    "🏼",
                    "🐜",
                    "☪",
                    "😩",
                    "⌨",
                    "📆",
                    "💬",
                    "😥",
                    "🖒",
                    "🤚",
                    "😟",
                    "🕋",
                    "👋",
                    "🤡",
                    "😫",
                    "💔",
                    "🚫",
                    "🌹",
                    "✂",
                    "📢",
                    "🦅",
                    "🕌",
                    "📺",
                    "🔽",
                    "▶",
                    "💣",
                    "👈",
                    "🇫",
                    "✍",
                    "👹",
                    "👌",
                    "🤫",
                    "🍸",
                    "👊",
                    "😪"
                  ],
                  "xaxis": "x",
                  "y": [
                    70,
                    57,
                    36,
                    35,
                    27,
                    25,
                    23,
                    23,
                    16,
                    15,
                    14,
                    14,
                    13,
                    13,
                    13,
                    11,
                    10,
                    10,
                    9,
                    9,
                    8,
                    8,
                    8,
                    8,
                    7,
                    7,
                    7,
                    7,
                    7,
                    6,
                    6,
                    6,
                    6,
                    6,
                    6,
                    6,
                    5,
                    5,
                    5,
                    5,
                    5,
                    4,
                    4,
                    4,
                    4,
                    4,
                    4,
                    4,
                    4,
                    4,
                    3,
                    3,
                    3,
                    3,
                    3,
                    3,
                    3,
                    3,
                    3,
                    3,
                    3,
                    3,
                    3,
                    2,
                    2,
                    2,
                    2,
                    2,
                    2,
                    2,
                    2,
                    2,
                    2,
                    2,
                    2,
                    2,
                    2,
                    2,
                    2,
                    2,
                    2,
                    2,
                    2,
                    2,
                    2,
                    2,
                    1,
                    1,
                    1,
                    1,
                    1,
                    1,
                    1,
                    1,
                    1,
                    1,
                    1,
                    1,
                    1,
                    1,
                    1,
                    1,
                    1,
                    1,
                    1,
                    1,
                    1,
                    1,
                    1,
                    1,
                    1,
                    1,
                    1,
                    1,
                    1,
                    1,
                    1,
                    1,
                    1,
                    1,
                    1,
                    1,
                    1,
                    1,
                    1,
                    1,
                    1,
                    1,
                    1,
                    1,
                    1,
                    1,
                    1,
                    1,
                    1,
                    1,
                    1,
                    1,
                    1,
                    1,
                    1,
                    1,
                    1,
                    1,
                    1
                  ],
                  "yaxis": "y"
                }
              ],
              "layout": {
                "barmode": "relative",
                "legend": {
                  "tracegroupgap": 0
                },
                "template": {
                  "data": {
                    "bar": [
                      {
                        "error_x": {
                          "color": "#2a3f5f"
                        },
                        "error_y": {
                          "color": "#2a3f5f"
                        },
                        "marker": {
                          "line": {
                            "color": "#E5ECF6",
                            "width": 0.5
                          },
                          "pattern": {
                            "fillmode": "overlay",
                            "size": 10,
                            "solidity": 0.2
                          }
                        },
                        "type": "bar"
                      }
                    ],
                    "barpolar": [
                      {
                        "marker": {
                          "line": {
                            "color": "#E5ECF6",
                            "width": 0.5
                          },
                          "pattern": {
                            "fillmode": "overlay",
                            "size": 10,
                            "solidity": 0.2
                          }
                        },
                        "type": "barpolar"
                      }
                    ],
                    "carpet": [
                      {
                        "aaxis": {
                          "endlinecolor": "#2a3f5f",
                          "gridcolor": "white",
                          "linecolor": "white",
                          "minorgridcolor": "white",
                          "startlinecolor": "#2a3f5f"
                        },
                        "baxis": {
                          "endlinecolor": "#2a3f5f",
                          "gridcolor": "white",
                          "linecolor": "white",
                          "minorgridcolor": "white",
                          "startlinecolor": "#2a3f5f"
                        },
                        "type": "carpet"
                      }
                    ],
                    "choropleth": [
                      {
                        "colorbar": {
                          "outlinewidth": 0,
                          "ticks": ""
                        },
                        "type": "choropleth"
                      }
                    ],
                    "contour": [
                      {
                        "colorbar": {
                          "outlinewidth": 0,
                          "ticks": ""
                        },
                        "colorscale": [
                          [
                            0,
                            "#0d0887"
                          ],
                          [
                            0.1111111111111111,
                            "#46039f"
                          ],
                          [
                            0.2222222222222222,
                            "#7201a8"
                          ],
                          [
                            0.3333333333333333,
                            "#9c179e"
                          ],
                          [
                            0.4444444444444444,
                            "#bd3786"
                          ],
                          [
                            0.5555555555555556,
                            "#d8576b"
                          ],
                          [
                            0.6666666666666666,
                            "#ed7953"
                          ],
                          [
                            0.7777777777777778,
                            "#fb9f3a"
                          ],
                          [
                            0.8888888888888888,
                            "#fdca26"
                          ],
                          [
                            1,
                            "#f0f921"
                          ]
                        ],
                        "type": "contour"
                      }
                    ],
                    "contourcarpet": [
                      {
                        "colorbar": {
                          "outlinewidth": 0,
                          "ticks": ""
                        },
                        "type": "contourcarpet"
                      }
                    ],
                    "heatmap": [
                      {
                        "colorbar": {
                          "outlinewidth": 0,
                          "ticks": ""
                        },
                        "colorscale": [
                          [
                            0,
                            "#0d0887"
                          ],
                          [
                            0.1111111111111111,
                            "#46039f"
                          ],
                          [
                            0.2222222222222222,
                            "#7201a8"
                          ],
                          [
                            0.3333333333333333,
                            "#9c179e"
                          ],
                          [
                            0.4444444444444444,
                            "#bd3786"
                          ],
                          [
                            0.5555555555555556,
                            "#d8576b"
                          ],
                          [
                            0.6666666666666666,
                            "#ed7953"
                          ],
                          [
                            0.7777777777777778,
                            "#fb9f3a"
                          ],
                          [
                            0.8888888888888888,
                            "#fdca26"
                          ],
                          [
                            1,
                            "#f0f921"
                          ]
                        ],
                        "type": "heatmap"
                      }
                    ],
                    "heatmapgl": [
                      {
                        "colorbar": {
                          "outlinewidth": 0,
                          "ticks": ""
                        },
                        "colorscale": [
                          [
                            0,
                            "#0d0887"
                          ],
                          [
                            0.1111111111111111,
                            "#46039f"
                          ],
                          [
                            0.2222222222222222,
                            "#7201a8"
                          ],
                          [
                            0.3333333333333333,
                            "#9c179e"
                          ],
                          [
                            0.4444444444444444,
                            "#bd3786"
                          ],
                          [
                            0.5555555555555556,
                            "#d8576b"
                          ],
                          [
                            0.6666666666666666,
                            "#ed7953"
                          ],
                          [
                            0.7777777777777778,
                            "#fb9f3a"
                          ],
                          [
                            0.8888888888888888,
                            "#fdca26"
                          ],
                          [
                            1,
                            "#f0f921"
                          ]
                        ],
                        "type": "heatmapgl"
                      }
                    ],
                    "histogram": [
                      {
                        "marker": {
                          "pattern": {
                            "fillmode": "overlay",
                            "size": 10,
                            "solidity": 0.2
                          }
                        },
                        "type": "histogram"
                      }
                    ],
                    "histogram2d": [
                      {
                        "colorbar": {
                          "outlinewidth": 0,
                          "ticks": ""
                        },
                        "colorscale": [
                          [
                            0,
                            "#0d0887"
                          ],
                          [
                            0.1111111111111111,
                            "#46039f"
                          ],
                          [
                            0.2222222222222222,
                            "#7201a8"
                          ],
                          [
                            0.3333333333333333,
                            "#9c179e"
                          ],
                          [
                            0.4444444444444444,
                            "#bd3786"
                          ],
                          [
                            0.5555555555555556,
                            "#d8576b"
                          ],
                          [
                            0.6666666666666666,
                            "#ed7953"
                          ],
                          [
                            0.7777777777777778,
                            "#fb9f3a"
                          ],
                          [
                            0.8888888888888888,
                            "#fdca26"
                          ],
                          [
                            1,
                            "#f0f921"
                          ]
                        ],
                        "type": "histogram2d"
                      }
                    ],
                    "histogram2dcontour": [
                      {
                        "colorbar": {
                          "outlinewidth": 0,
                          "ticks": ""
                        },
                        "colorscale": [
                          [
                            0,
                            "#0d0887"
                          ],
                          [
                            0.1111111111111111,
                            "#46039f"
                          ],
                          [
                            0.2222222222222222,
                            "#7201a8"
                          ],
                          [
                            0.3333333333333333,
                            "#9c179e"
                          ],
                          [
                            0.4444444444444444,
                            "#bd3786"
                          ],
                          [
                            0.5555555555555556,
                            "#d8576b"
                          ],
                          [
                            0.6666666666666666,
                            "#ed7953"
                          ],
                          [
                            0.7777777777777778,
                            "#fb9f3a"
                          ],
                          [
                            0.8888888888888888,
                            "#fdca26"
                          ],
                          [
                            1,
                            "#f0f921"
                          ]
                        ],
                        "type": "histogram2dcontour"
                      }
                    ],
                    "mesh3d": [
                      {
                        "colorbar": {
                          "outlinewidth": 0,
                          "ticks": ""
                        },
                        "type": "mesh3d"
                      }
                    ],
                    "parcoords": [
                      {
                        "line": {
                          "colorbar": {
                            "outlinewidth": 0,
                            "ticks": ""
                          }
                        },
                        "type": "parcoords"
                      }
                    ],
                    "pie": [
                      {
                        "automargin": true,
                        "type": "pie"
                      }
                    ],
                    "scatter": [
                      {
                        "fillpattern": {
                          "fillmode": "overlay",
                          "size": 10,
                          "solidity": 0.2
                        },
                        "type": "scatter"
                      }
                    ],
                    "scatter3d": [
                      {
                        "line": {
                          "colorbar": {
                            "outlinewidth": 0,
                            "ticks": ""
                          }
                        },
                        "marker": {
                          "colorbar": {
                            "outlinewidth": 0,
                            "ticks": ""
                          }
                        },
                        "type": "scatter3d"
                      }
                    ],
                    "scattercarpet": [
                      {
                        "marker": {
                          "colorbar": {
                            "outlinewidth": 0,
                            "ticks": ""
                          }
                        },
                        "type": "scattercarpet"
                      }
                    ],
                    "scattergeo": [
                      {
                        "marker": {
                          "colorbar": {
                            "outlinewidth": 0,
                            "ticks": ""
                          }
                        },
                        "type": "scattergeo"
                      }
                    ],
                    "scattergl": [
                      {
                        "marker": {
                          "colorbar": {
                            "outlinewidth": 0,
                            "ticks": ""
                          }
                        },
                        "type": "scattergl"
                      }
                    ],
                    "scattermapbox": [
                      {
                        "marker": {
                          "colorbar": {
                            "outlinewidth": 0,
                            "ticks": ""
                          }
                        },
                        "type": "scattermapbox"
                      }
                    ],
                    "scatterpolar": [
                      {
                        "marker": {
                          "colorbar": {
                            "outlinewidth": 0,
                            "ticks": ""
                          }
                        },
                        "type": "scatterpolar"
                      }
                    ],
                    "scatterpolargl": [
                      {
                        "marker": {
                          "colorbar": {
                            "outlinewidth": 0,
                            "ticks": ""
                          }
                        },
                        "type": "scatterpolargl"
                      }
                    ],
                    "scatterternary": [
                      {
                        "marker": {
                          "colorbar": {
                            "outlinewidth": 0,
                            "ticks": ""
                          }
                        },
                        "type": "scatterternary"
                      }
                    ],
                    "surface": [
                      {
                        "colorbar": {
                          "outlinewidth": 0,
                          "ticks": ""
                        },
                        "colorscale": [
                          [
                            0,
                            "#0d0887"
                          ],
                          [
                            0.1111111111111111,
                            "#46039f"
                          ],
                          [
                            0.2222222222222222,
                            "#7201a8"
                          ],
                          [
                            0.3333333333333333,
                            "#9c179e"
                          ],
                          [
                            0.4444444444444444,
                            "#bd3786"
                          ],
                          [
                            0.5555555555555556,
                            "#d8576b"
                          ],
                          [
                            0.6666666666666666,
                            "#ed7953"
                          ],
                          [
                            0.7777777777777778,
                            "#fb9f3a"
                          ],
                          [
                            0.8888888888888888,
                            "#fdca26"
                          ],
                          [
                            1,
                            "#f0f921"
                          ]
                        ],
                        "type": "surface"
                      }
                    ],
                    "table": [
                      {
                        "cells": {
                          "fill": {
                            "color": "#EBF0F8"
                          },
                          "line": {
                            "color": "white"
                          }
                        },
                        "header": {
                          "fill": {
                            "color": "#C8D4E3"
                          },
                          "line": {
                            "color": "white"
                          }
                        },
                        "type": "table"
                      }
                    ]
                  },
                  "layout": {
                    "annotationdefaults": {
                      "arrowcolor": "#2a3f5f",
                      "arrowhead": 0,
                      "arrowwidth": 1
                    },
                    "autotypenumbers": "strict",
                    "coloraxis": {
                      "colorbar": {
                        "outlinewidth": 0,
                        "ticks": ""
                      }
                    },
                    "colorscale": {
                      "diverging": [
                        [
                          0,
                          "#8e0152"
                        ],
                        [
                          0.1,
                          "#c51b7d"
                        ],
                        [
                          0.2,
                          "#de77ae"
                        ],
                        [
                          0.3,
                          "#f1b6da"
                        ],
                        [
                          0.4,
                          "#fde0ef"
                        ],
                        [
                          0.5,
                          "#f7f7f7"
                        ],
                        [
                          0.6,
                          "#e6f5d0"
                        ],
                        [
                          0.7,
                          "#b8e186"
                        ],
                        [
                          0.8,
                          "#7fbc41"
                        ],
                        [
                          0.9,
                          "#4d9221"
                        ],
                        [
                          1,
                          "#276419"
                        ]
                      ],
                      "sequential": [
                        [
                          0,
                          "#0d0887"
                        ],
                        [
                          0.1111111111111111,
                          "#46039f"
                        ],
                        [
                          0.2222222222222222,
                          "#7201a8"
                        ],
                        [
                          0.3333333333333333,
                          "#9c179e"
                        ],
                        [
                          0.4444444444444444,
                          "#bd3786"
                        ],
                        [
                          0.5555555555555556,
                          "#d8576b"
                        ],
                        [
                          0.6666666666666666,
                          "#ed7953"
                        ],
                        [
                          0.7777777777777778,
                          "#fb9f3a"
                        ],
                        [
                          0.8888888888888888,
                          "#fdca26"
                        ],
                        [
                          1,
                          "#f0f921"
                        ]
                      ],
                      "sequentialminus": [
                        [
                          0,
                          "#0d0887"
                        ],
                        [
                          0.1111111111111111,
                          "#46039f"
                        ],
                        [
                          0.2222222222222222,
                          "#7201a8"
                        ],
                        [
                          0.3333333333333333,
                          "#9c179e"
                        ],
                        [
                          0.4444444444444444,
                          "#bd3786"
                        ],
                        [
                          0.5555555555555556,
                          "#d8576b"
                        ],
                        [
                          0.6666666666666666,
                          "#ed7953"
                        ],
                        [
                          0.7777777777777778,
                          "#fb9f3a"
                        ],
                        [
                          0.8888888888888888,
                          "#fdca26"
                        ],
                        [
                          1,
                          "#f0f921"
                        ]
                      ]
                    },
                    "colorway": [
                      "#636efa",
                      "#EF553B",
                      "#00cc96",
                      "#ab63fa",
                      "#FFA15A",
                      "#19d3f3",
                      "#FF6692",
                      "#B6E880",
                      "#FF97FF",
                      "#FECB52"
                    ],
                    "font": {
                      "color": "#2a3f5f"
                    },
                    "geo": {
                      "bgcolor": "white",
                      "lakecolor": "white",
                      "landcolor": "#E5ECF6",
                      "showlakes": true,
                      "showland": true,
                      "subunitcolor": "white"
                    },
                    "hoverlabel": {
                      "align": "left"
                    },
                    "hovermode": "closest",
                    "mapbox": {
                      "style": "light"
                    },
                    "paper_bgcolor": "white",
                    "plot_bgcolor": "#E5ECF6",
                    "polar": {
                      "angularaxis": {
                        "gridcolor": "white",
                        "linecolor": "white",
                        "ticks": ""
                      },
                      "bgcolor": "#E5ECF6",
                      "radialaxis": {
                        "gridcolor": "white",
                        "linecolor": "white",
                        "ticks": ""
                      }
                    },
                    "scene": {
                      "xaxis": {
                        "backgroundcolor": "#E5ECF6",
                        "gridcolor": "white",
                        "gridwidth": 2,
                        "linecolor": "white",
                        "showbackground": true,
                        "ticks": "",
                        "zerolinecolor": "white"
                      },
                      "yaxis": {
                        "backgroundcolor": "#E5ECF6",
                        "gridcolor": "white",
                        "gridwidth": 2,
                        "linecolor": "white",
                        "showbackground": true,
                        "ticks": "",
                        "zerolinecolor": "white"
                      },
                      "zaxis": {
                        "backgroundcolor": "#E5ECF6",
                        "gridcolor": "white",
                        "gridwidth": 2,
                        "linecolor": "white",
                        "showbackground": true,
                        "ticks": "",
                        "zerolinecolor": "white"
                      }
                    },
                    "shapedefaults": {
                      "line": {
                        "color": "#2a3f5f"
                      }
                    },
                    "ternary": {
                      "aaxis": {
                        "gridcolor": "white",
                        "linecolor": "white",
                        "ticks": ""
                      },
                      "baxis": {
                        "gridcolor": "white",
                        "linecolor": "white",
                        "ticks": ""
                      },
                      "bgcolor": "#E5ECF6",
                      "caxis": {
                        "gridcolor": "white",
                        "linecolor": "white",
                        "ticks": ""
                      }
                    },
                    "title": {
                      "x": 0.05
                    },
                    "xaxis": {
                      "automargin": true,
                      "gridcolor": "white",
                      "linecolor": "white",
                      "ticks": "",
                      "title": {
                        "standoff": 15
                      },
                      "zerolinecolor": "white",
                      "zerolinewidth": 2
                    },
                    "yaxis": {
                      "automargin": true,
                      "gridcolor": "white",
                      "linecolor": "white",
                      "ticks": "",
                      "title": {
                        "standoff": 15
                      },
                      "zerolinecolor": "white",
                      "zerolinewidth": 2
                    }
                  }
                },
                "title": {
                  "text": "Frequenza di tutte le Emoji"
                },
                "xaxis": {
                  "anchor": "y",
                  "domain": [
                    0,
                    1
                  ],
                  "title": {
                    "text": "Emoji"
                  }
                },
                "yaxis": {
                  "anchor": "x",
                  "domain": [
                    0,
                    1
                  ],
                  "title": {
                    "text": "Frequenza"
                  }
                }
              }
            }
          },
          "metadata": {},
          "output_type": "display_data"
        }
      ],
      "source": [
        "# Percentuale di tweet con emoji\n",
        "total_tweets = len(df)\n",
        "tweets_with_emojis = len(df[df['all_emoticons_emojis'] != ''])\n",
        "percent_with_emojis = (tweets_with_emojis / total_tweets) * 100\n",
        "print(f\"Percentuale di tweet con emoji: {percent_with_emojis:.2f}%\")\n",
        "\n",
        "emoji_df = pd.DataFrame(emoji_frequencies.items(), columns=['Emoji', 'Frequenza'])\n",
        "fig = px.bar(emoji_df.sort_values(by='Frequenza', ascending=False), x='Emoji', y='Frequenza', title='Frequenza di tutte le Emoji')\n",
        "fig.show()\n"
      ]
    },
    {
      "cell_type": "markdown",
      "metadata": {
        "id": "NP37LGfB3by6"
      },
      "source": [
        "#CORRELAZIONI TRA EMOJI E VARIABILI"
      ]
    },
    {
      "cell_type": "code",
      "execution_count": 17,
      "metadata": {
        "colab": {
          "base_uri": "https://localhost:8080/",
          "height": 545
        },
        "id": "2Yvy5qfg3bgM",
        "outputId": "722f085b-714e-4c53-cfd4-740b93197424"
      },
      "outputs": [
        {
          "data": {
            "image/png": "[encoded data removed]",
            "text/plain": [
              "<Figure size 800x600 with 2 Axes>"
            ]
          },
          "metadata": {},
          "output_type": "display_data"
        }
      ],
      "source": [
        "# Aggiungi nuove colonne per le analisi\n",
        "df['num_emojis'] = df['all_emoticons_emojis'].apply(lambda x: len(x.split()))  # Conta emoji\n",
        "df['text_length'] = df['text '].apply(len)  # Lunghezza del testo\n",
        "\n",
        "# Se `hs` e `stereotype` sono numerici, calcola la matrice di correlazione\n",
        "correlation_matrix = df[['num_emojis', 'text_length', 'hs', 'stereotype']].corr()\n",
        "\n",
        "\n",
        "plt.figure(figsize=(8, 6))\n",
        "sns.heatmap(correlation_matrix, annot=True, cmap='coolwarm')\n",
        "plt.title('Matrice di Correlazione')\n",
        "plt.show()\n"
      ]
    },
    {
      "cell_type": "markdown",
      "metadata": {
        "id": "WKZEwO-M4x4L"
      },
      "source": [
        "# INIZIO PROCEDURA TF-IDF"
      ]
    },
    {
      "cell_type": "code",
      "execution_count": 18,
      "metadata": {
        "id": "8h94plQM4lnm"
      },
      "outputs": [],
      "source": [
        "# Funzione per rimuovere duplicati rispettando l'ordine originale\n",
        "def remove_duplicates(text):\n",
        "    if not text:\n",
        "        return ''\n",
        "    seen = set()\n",
        "    return ''.join([char for char in text if not (char in seen or seen.add(char))])\n",
        "\n",
        "# Applica la funzione per rimuovere i duplicati\n",
        "df['unique_emojis'] = df['all_emoticons_emojis'].apply(remove_duplicates)\n"
      ]
    },
    {
      "cell_type": "code",
      "execution_count": 19,
      "metadata": {
        "id": "k4MoYn0J6hqb"
      },
      "outputs": [],
      "source": [
        "df.drop(columns=['num_emojis'], inplace=True)\n",
        "df.drop(columns=['text_length'], inplace=True)\n",
        "df.drop(columns=['all_emoticons_emojis'], inplace=True)"
      ]
    },
    {
      "cell_type": "code",
      "execution_count": 20,
      "metadata": {
        "colab": {
          "base_uri": "https://localhost:8080/",
          "height": 424
        },
        "id": "DLqkCJ5H7Wao",
        "outputId": "70d10483-7587-4f5a-c806-198a2935a483"
      },
      "outputs": [
        {
          "data": {
            "text/html": [
              "<div>\n",
              "<style scoped>\n",
              "    .dataframe tbody tr th:only-of-type {\n",
              "        vertical-align: middle;\n",
              "    }\n",
              "\n",
              "    .dataframe tbody tr th {\n",
              "        vertical-align: top;\n",
              "    }\n",
              "\n",
              "    .dataframe thead th {\n",
              "        text-align: right;\n",
              "    }\n",
              "</style>\n",
              "<table border=\"1\" class=\"dataframe\">\n",
              "  <thead>\n",
              "    <tr style=\"text-align: right;\">\n",
              "      <th></th>\n",
              "      <th>id</th>\n",
              "      <th>text</th>\n",
              "      <th>hs</th>\n",
              "      <th>stereotype</th>\n",
              "      <th>unique_emojis</th>\n",
              "    </tr>\n",
              "  </thead>\n",
              "  <tbody>\n",
              "    <tr>\n",
              "      <th>0</th>\n",
              "      <td>2066</td>\n",
              "      <td>È terrorismo anche questo, per mettere in uno ...</td>\n",
              "      <td>0</td>\n",
              "      <td>0</td>\n",
              "      <td></td>\n",
              "    </tr>\n",
              "    <tr>\n",
              "      <th>1</th>\n",
              "      <td>2045</td>\n",
              "      <td>infatti finché ci hanno guadagnato con i campi...</td>\n",
              "      <td>0</td>\n",
              "      <td>0</td>\n",
              "      <td></td>\n",
              "    </tr>\n",
              "    <tr>\n",
              "      <th>2</th>\n",
              "      <td>61</td>\n",
              "      <td>Corriere: Tangenti, Mafia Capitale dimenticata...</td>\n",
              "      <td>0</td>\n",
              "      <td>0</td>\n",
              "      <td></td>\n",
              "    </tr>\n",
              "    <tr>\n",
              "      <th>3</th>\n",
              "      <td>1259</td>\n",
              "      <td>ad uno ad uno, perché quando i migranti israel...</td>\n",
              "      <td>0</td>\n",
              "      <td>0</td>\n",
              "      <td></td>\n",
              "    </tr>\n",
              "    <tr>\n",
              "      <th>4</th>\n",
              "      <td>949</td>\n",
              "      <td>Il divertimento del giorno? Trovare i patrioti...</td>\n",
              "      <td>0</td>\n",
              "      <td>0</td>\n",
              "      <td></td>\n",
              "    </tr>\n",
              "    <tr>\n",
              "      <th>...</th>\n",
              "      <td>...</td>\n",
              "      <td>...</td>\n",
              "      <td>...</td>\n",
              "      <td>...</td>\n",
              "      <td>...</td>\n",
              "    </tr>\n",
              "    <tr>\n",
              "      <th>6832</th>\n",
              "      <td>9340</td>\n",
              "      <td>Gli stati nazionali devono essere pronti a rin...</td>\n",
              "      <td>0</td>\n",
              "      <td>0</td>\n",
              "      <td></td>\n",
              "    </tr>\n",
              "    <tr>\n",
              "      <th>6833</th>\n",
              "      <td>9121</td>\n",
              "      <td>Il ministro dell'interno della Germania facend...</td>\n",
              "      <td>0</td>\n",
              "      <td>0</td>\n",
              "      <td></td>\n",
              "    </tr>\n",
              "    <tr>\n",
              "      <th>6834</th>\n",
              "      <td>8549</td>\n",
              "      <td>In Italia troppi si sono montati la testa, io ...</td>\n",
              "      <td>0</td>\n",
              "      <td>0</td>\n",
              "      <td></td>\n",
              "    </tr>\n",
              "    <tr>\n",
              "      <th>6835</th>\n",
              "      <td>9240</td>\n",
              "      <td>Chi giubila in buona fede non ha capito niente...</td>\n",
              "      <td>0</td>\n",
              "      <td>0</td>\n",
              "      <td></td>\n",
              "    </tr>\n",
              "    <tr>\n",
              "      <th>6836</th>\n",
              "      <td>8000</td>\n",
              "      <td>I giovani cristiani in sono indotti dagli isla...</td>\n",
              "      <td>0</td>\n",
              "      <td>1</td>\n",
              "      <td></td>\n",
              "    </tr>\n",
              "  </tbody>\n",
              "</table>\n",
              "<p>6837 rows × 5 columns</p>\n",
              "</div>"
            ],
            "text/plain": [
              "        id                                              text   hs  stereotype  \\\n",
              "0     2066  È terrorismo anche questo, per mettere in uno ...   0           0   \n",
              "1     2045  infatti finché ci hanno guadagnato con i campi...   0           0   \n",
              "2       61  Corriere: Tangenti, Mafia Capitale dimenticata...   0           0   \n",
              "3     1259  ad uno ad uno, perché quando i migranti israel...   0           0   \n",
              "4      949  Il divertimento del giorno? Trovare i patrioti...   0           0   \n",
              "...    ...                                                ...  ..         ...   \n",
              "6832  9340  Gli stati nazionali devono essere pronti a rin...   0           0   \n",
              "6833  9121  Il ministro dell'interno della Germania facend...   0           0   \n",
              "6834  8549  In Italia troppi si sono montati la testa, io ...   0           0   \n",
              "6835  9240  Chi giubila in buona fede non ha capito niente...   0           0   \n",
              "6836  8000  I giovani cristiani in sono indotti dagli isla...   0           1   \n",
              "\n",
              "     unique_emojis  \n",
              "0                   \n",
              "1                   \n",
              "2                   \n",
              "3                   \n",
              "4                   \n",
              "...            ...  \n",
              "6832                \n",
              "6833                \n",
              "6834                \n",
              "6835                \n",
              "6836                \n",
              "\n",
              "[6837 rows x 5 columns]"
            ]
          },
          "execution_count": 20,
          "metadata": {},
          "output_type": "execute_result"
        }
      ],
      "source": [
        "df"
      ]
    },
    {
      "cell_type": "code",
      "execution_count": 21,
      "metadata": {
        "colab": {
          "base_uri": "https://localhost:8080/"
        },
        "id": "stXKoNPZ8t-w",
        "outputId": "a4d5242c-9ba3-4c82-b55c-12e460769902"
      },
      "outputs": [],
      "source": [
        "import emoji\n",
        "import re\n",
        "\n",
        "# Regex per rilevare le emoticon più comuni\n",
        "emoticon_pattern = re.compile(r\"\"\"\n",
        "    (?:\n",
        "    :\\)|:-\\)|\\(:|\\(-:     # Sorriso\n",
        "    |:\\(|:-\\(|\\):|\\)-:     # Triste\n",
        "    |:D|:-D|D:|D-:         # Risata\n",
        "    |;\\)|;-\\)|\\(;|\\(-;     # Occhiolino\n",
        "    |:'\\(|:'-\\(            # Piangente\n",
        "    |:P|:-P|P:|P-:         # Giocoso\n",
        "    |:o|:-o|O:|O-:         # Sorpreso\n",
        "    |XD|X-D                # Risata forte\n",
        "    |:/|:-/                # Confuso\n",
        "    )\n",
        "\"\"\", re.VERBOSE)\n",
        "\n",
        "# Funzione per mappare le emoticon ai nomi\n",
        "def emoticon_to_name(emoticon):\n",
        "    emoticon_dict = {\n",
        "        \":)\": \"smile\",\n",
        "        \":-)\": \"smile\",\n",
        "        \"(:\": \"smile\",\n",
        "        \"(-:\": \"smile\",\n",
        "        \":(\": \"sad\",\n",
        "        \":-(\": \"sad\",\n",
        "        \"):\": \"sad\",\n",
        "        \")-:\": \"sad\",\n",
        "        \":D\": \"laugh\",\n",
        "        \":-D\": \"laugh\",\n",
        "        \"D:\": \"laugh\",\n",
        "        \"D-:\": \"laugh\",\n",
        "        \";)\": \"wink\",\n",
        "        \";-)\": \"wink\",\n",
        "        \"(;\": \"wink\",\n",
        "        \"(-;\": \"wink\",\n",
        "        \":'(\": \"cry\",\n",
        "        \":'-(\": \"cry\",\n",
        "        \":P\": \"playful\",\n",
        "        \":-P\": \"playful\",\n",
        "        \"P:\": \"playful\",\n",
        "        \"P-:\": \"playful\",\n",
        "        \":o\": \"surprised\",\n",
        "        \":-o\": \"surprised\",\n",
        "        \"O:\": \"surprised\",\n",
        "        \"O-:\": \"surprised\",\n",
        "        \"XD\": \"laughing hard\",\n",
        "        \"X-D\": \"laughing hard\",\n",
        "        \":/\": \"confused\",\n",
        "        \":-/\": \"confused\"\n",
        "    }\n",
        "    return emoticon_dict.get(emoticon, \"unknown emoticon\")\n",
        "\n",
        "# Funzione per trasformare emoji ed emoticon in nomi leggibili\n",
        "def convert_to_names(text):\n",
        "    if not text:\n",
        "        return ''\n",
        "    # Converte le emoji in nomi e aggiunge uno spazio dopo ogni emoji\n",
        "    text = emoji.demojize(text)\n",
        "    text = re.sub(r':(.*?):', lambda m: f\"{m.group(1).replace('_', ' ')} \", text)\n",
        "    # Rileva e converte le emoticon (senza aggiungere spazi)\n",
        "    text = re.sub(emoticon_pattern, lambda m: emoticon_to_name(m.group()), text)\n",
        "    return text.strip()\n",
        "\n",
        "# Applica la funzione alla colonna `unique_emojis`\n",
        "df['emojis_names'] = df['unique_emojis'].apply(convert_to_names)"
      ]
    },
    {
      "cell_type": "code",
      "execution_count": 22,
      "metadata": {
        "colab": {
          "base_uri": "https://localhost:8080/",
          "height": 687
        },
        "id": "oJM5xqJx9mis",
        "outputId": "b0bebdf0-a10f-4178-c685-c00576898fdb"
      },
      "outputs": [
        {
          "data": {
            "text/html": [
              "<div>\n",
              "<style scoped>\n",
              "    .dataframe tbody tr th:only-of-type {\n",
              "        vertical-align: middle;\n",
              "    }\n",
              "\n",
              "    .dataframe tbody tr th {\n",
              "        vertical-align: top;\n",
              "    }\n",
              "\n",
              "    .dataframe thead th {\n",
              "        text-align: right;\n",
              "    }\n",
              "</style>\n",
              "<table border=\"1\" class=\"dataframe\">\n",
              "  <thead>\n",
              "    <tr style=\"text-align: right;\">\n",
              "      <th></th>\n",
              "      <th>id</th>\n",
              "      <th>text</th>\n",
              "      <th>hs</th>\n",
              "      <th>stereotype</th>\n",
              "      <th>unique_emojis</th>\n",
              "      <th>emojis_names</th>\n",
              "    </tr>\n",
              "  </thead>\n",
              "  <tbody>\n",
              "    <tr>\n",
              "      <th>0</th>\n",
              "      <td>2066</td>\n",
              "      <td>È terrorismo anche questo, per mettere in uno ...</td>\n",
              "      <td>0</td>\n",
              "      <td>0</td>\n",
              "      <td></td>\n",
              "      <td></td>\n",
              "    </tr>\n",
              "    <tr>\n",
              "      <th>1</th>\n",
              "      <td>2045</td>\n",
              "      <td>infatti finché ci hanno guadagnato con i campi...</td>\n",
              "      <td>0</td>\n",
              "      <td>0</td>\n",
              "      <td></td>\n",
              "      <td></td>\n",
              "    </tr>\n",
              "    <tr>\n",
              "      <th>2</th>\n",
              "      <td>61</td>\n",
              "      <td>Corriere: Tangenti, Mafia Capitale dimenticata...</td>\n",
              "      <td>0</td>\n",
              "      <td>0</td>\n",
              "      <td></td>\n",
              "      <td></td>\n",
              "    </tr>\n",
              "    <tr>\n",
              "      <th>3</th>\n",
              "      <td>1259</td>\n",
              "      <td>ad uno ad uno, perché quando i migranti israel...</td>\n",
              "      <td>0</td>\n",
              "      <td>0</td>\n",
              "      <td></td>\n",
              "      <td></td>\n",
              "    </tr>\n",
              "    <tr>\n",
              "      <th>4</th>\n",
              "      <td>949</td>\n",
              "      <td>Il divertimento del giorno? Trovare i patrioti...</td>\n",
              "      <td>0</td>\n",
              "      <td>0</td>\n",
              "      <td></td>\n",
              "      <td></td>\n",
              "    </tr>\n",
              "    <tr>\n",
              "      <th>...</th>\n",
              "      <td>...</td>\n",
              "      <td>...</td>\n",
              "      <td>...</td>\n",
              "      <td>...</td>\n",
              "      <td>...</td>\n",
              "      <td>...</td>\n",
              "    </tr>\n",
              "    <tr>\n",
              "      <th>6832</th>\n",
              "      <td>9340</td>\n",
              "      <td>Gli stati nazionali devono essere pronti a rin...</td>\n",
              "      <td>0</td>\n",
              "      <td>0</td>\n",
              "      <td></td>\n",
              "      <td></td>\n",
              "    </tr>\n",
              "    <tr>\n",
              "      <th>6833</th>\n",
              "      <td>9121</td>\n",
              "      <td>Il ministro dell'interno della Germania facend...</td>\n",
              "      <td>0</td>\n",
              "      <td>0</td>\n",
              "      <td></td>\n",
              "      <td></td>\n",
              "    </tr>\n",
              "    <tr>\n",
              "      <th>6834</th>\n",
              "      <td>8549</td>\n",
              "      <td>In Italia troppi si sono montati la testa, io ...</td>\n",
              "      <td>0</td>\n",
              "      <td>0</td>\n",
              "      <td></td>\n",
              "      <td></td>\n",
              "    </tr>\n",
              "    <tr>\n",
              "      <th>6835</th>\n",
              "      <td>9240</td>\n",
              "      <td>Chi giubila in buona fede non ha capito niente...</td>\n",
              "      <td>0</td>\n",
              "      <td>0</td>\n",
              "      <td></td>\n",
              "      <td></td>\n",
              "    </tr>\n",
              "    <tr>\n",
              "      <th>6836</th>\n",
              "      <td>8000</td>\n",
              "      <td>I giovani cristiani in sono indotti dagli isla...</td>\n",
              "      <td>0</td>\n",
              "      <td>1</td>\n",
              "      <td></td>\n",
              "      <td></td>\n",
              "    </tr>\n",
              "  </tbody>\n",
              "</table>\n",
              "<p>6837 rows × 6 columns</p>\n",
              "</div>"
            ],
            "text/plain": [
              "        id                                              text   hs  stereotype  \\\n",
              "0     2066  È terrorismo anche questo, per mettere in uno ...   0           0   \n",
              "1     2045  infatti finché ci hanno guadagnato con i campi...   0           0   \n",
              "2       61  Corriere: Tangenti, Mafia Capitale dimenticata...   0           0   \n",
              "3     1259  ad uno ad uno, perché quando i migranti israel...   0           0   \n",
              "4      949  Il divertimento del giorno? Trovare i patrioti...   0           0   \n",
              "...    ...                                                ...  ..         ...   \n",
              "6832  9340  Gli stati nazionali devono essere pronti a rin...   0           0   \n",
              "6833  9121  Il ministro dell'interno della Germania facend...   0           0   \n",
              "6834  8549  In Italia troppi si sono montati la testa, io ...   0           0   \n",
              "6835  9240  Chi giubila in buona fede non ha capito niente...   0           0   \n",
              "6836  8000  I giovani cristiani in sono indotti dagli isla...   0           1   \n",
              "\n",
              "     unique_emojis emojis_names  \n",
              "0                                \n",
              "1                                \n",
              "2                                \n",
              "3                                \n",
              "4                                \n",
              "...            ...          ...  \n",
              "6832                             \n",
              "6833                             \n",
              "6834                             \n",
              "6835                             \n",
              "6836                             \n",
              "\n",
              "[6837 rows x 6 columns]"
            ]
          },
          "execution_count": 22,
          "metadata": {},
          "output_type": "execute_result"
        }
      ],
      "source": [
        "df"
      ]
    },
    {
      "cell_type": "markdown",
      "metadata": {
        "id": "wSoV1wU0_ooW"
      },
      "source": [
        "#TROVARE GLI N-GRAMMI POSSIBILI"
      ]
    },
    {
      "cell_type": "code",
      "execution_count": 23,
      "metadata": {
        "colab": {
          "base_uri": "https://localhost:8080/",
          "height": 1000
        },
        "id": "LrshFY1r_rD9",
        "outputId": "a8bfbbff-fc1c-4650-8046-adc16d5846aa"
      },
      "outputs": [
        {
          "name": "stdout",
          "output_type": "stream",
          "text": [
            "\n",
            "Top n-grammi per ogni valore di n:\n",
            "\n",
            "Top 1-grammi:\n",
            "face: 221\n",
            "with: 89\n",
            "of: 37\n",
            "smiling: 35\n",
            "eyes: 28\n",
            "\n",
            "Top 2-grammi:\n",
            "face with: 89\n",
            "enraged face: 28\n",
            "with tears: 24\n",
            "tears of: 24\n",
            "of joy: 24\n",
            "\n",
            "Top 3-grammi:\n",
            "face with tears: 24\n",
            "with tears of: 24\n",
            "tears of joy: 24\n",
            "face with smiling: 18\n",
            "with smiling eyes: 18\n",
            "\n",
            "Top 4-grammi:\n",
            "face with tears of: 24\n",
            "with tears of joy: 24\n",
            "face with smiling eyes: 18\n",
            "beaming face with smiling: 12\n",
            "rolling on the floor: 11\n",
            "\n",
            "Top 5-grammi:\n",
            "face with tears of joy: 24\n",
            "beaming face with smiling eyes: 12\n",
            "rolling on the floor laughing: 11\n",
            "face with steam from nose: 5\n",
            "face with symbols on mouth: 4\n",
            "\n",
            "Il valore ottimale di n (basato sulla frequenza totale): 1\n"
          ]
        },
        {
          "data": {
            "application/vnd.plotly.v1+json": {
              "config": {
                "plotlyServerURL": "https://plot.ly"
              },
              "data": [
                {
                  "alignmentgroup": "True",
                  "hovertemplate": "1-gramma=%{x}<br>Frequenza=%{y}<extra></extra>",
                  "legendgroup": "",
                  "marker": {
                    "color": "#636efa",
                    "pattern": {
                      "shape": ""
                    }
                  },
                  "name": "",
                  "offsetgroup": "",
                  "orientation": "v",
                  "showlegend": false,
                  "textposition": "auto",
                  "type": "bar",
                  "x": [
                    "face",
                    "with",
                    "of",
                    "smiling",
                    "eyes",
                    "enraged",
                    "joy",
                    "tears",
                    "Italy",
                    "rolling"
                  ],
                  "xaxis": "x",
                  "y": [
                    221,
                    89,
                    37,
                    35,
                    28,
                    28,
                    24,
                    24,
                    22,
                    20
                  ],
                  "yaxis": "y"
                }
              ],
              "layout": {
                "barmode": "relative",
                "legend": {
                  "tracegroupgap": 0
                },
                "template": {
                  "data": {
                    "bar": [
                      {
                        "error_x": {
                          "color": "#2a3f5f"
                        },
                        "error_y": {
                          "color": "#2a3f5f"
                        },
                        "marker": {
                          "line": {
                            "color": "#E5ECF6",
                            "width": 0.5
                          },
                          "pattern": {
                            "fillmode": "overlay",
                            "size": 10,
                            "solidity": 0.2
                          }
                        },
                        "type": "bar"
                      }
                    ],
                    "barpolar": [
                      {
                        "marker": {
                          "line": {
                            "color": "#E5ECF6",
                            "width": 0.5
                          },
                          "pattern": {
                            "fillmode": "overlay",
                            "size": 10,
                            "solidity": 0.2
                          }
                        },
                        "type": "barpolar"
                      }
                    ],
                    "carpet": [
                      {
                        "aaxis": {
                          "endlinecolor": "#2a3f5f",
                          "gridcolor": "white",
                          "linecolor": "white",
                          "minorgridcolor": "white",
                          "startlinecolor": "#2a3f5f"
                        },
                        "baxis": {
                          "endlinecolor": "#2a3f5f",
                          "gridcolor": "white",
                          "linecolor": "white",
                          "minorgridcolor": "white",
                          "startlinecolor": "#2a3f5f"
                        },
                        "type": "carpet"
                      }
                    ],
                    "choropleth": [
                      {
                        "colorbar": {
                          "outlinewidth": 0,
                          "ticks": ""
                        },
                        "type": "choropleth"
                      }
                    ],
                    "contour": [
                      {
                        "colorbar": {
                          "outlinewidth": 0,
                          "ticks": ""
                        },
                        "colorscale": [
                          [
                            0,
                            "#0d0887"
                          ],
                          [
                            0.1111111111111111,
                            "#46039f"
                          ],
                          [
                            0.2222222222222222,
                            "#7201a8"
                          ],
                          [
                            0.3333333333333333,
                            "#9c179e"
                          ],
                          [
                            0.4444444444444444,
                            "#bd3786"
                          ],
                          [
                            0.5555555555555556,
                            "#d8576b"
                          ],
                          [
                            0.6666666666666666,
                            "#ed7953"
                          ],
                          [
                            0.7777777777777778,
                            "#fb9f3a"
                          ],
                          [
                            0.8888888888888888,
                            "#fdca26"
                          ],
                          [
                            1,
                            "#f0f921"
                          ]
                        ],
                        "type": "contour"
                      }
                    ],
                    "contourcarpet": [
                      {
                        "colorbar": {
                          "outlinewidth": 0,
                          "ticks": ""
                        },
                        "type": "contourcarpet"
                      }
                    ],
                    "heatmap": [
                      {
                        "colorbar": {
                          "outlinewidth": 0,
                          "ticks": ""
                        },
                        "colorscale": [
                          [
                            0,
                            "#0d0887"
                          ],
                          [
                            0.1111111111111111,
                            "#46039f"
                          ],
                          [
                            0.2222222222222222,
                            "#7201a8"
                          ],
                          [
                            0.3333333333333333,
                            "#9c179e"
                          ],
                          [
                            0.4444444444444444,
                            "#bd3786"
                          ],
                          [
                            0.5555555555555556,
                            "#d8576b"
                          ],
                          [
                            0.6666666666666666,
                            "#ed7953"
                          ],
                          [
                            0.7777777777777778,
                            "#fb9f3a"
                          ],
                          [
                            0.8888888888888888,
                            "#fdca26"
                          ],
                          [
                            1,
                            "#f0f921"
                          ]
                        ],
                        "type": "heatmap"
                      }
                    ],
                    "heatmapgl": [
                      {
                        "colorbar": {
                          "outlinewidth": 0,
                          "ticks": ""
                        },
                        "colorscale": [
                          [
                            0,
                            "#0d0887"
                          ],
                          [
                            0.1111111111111111,
                            "#46039f"
                          ],
                          [
                            0.2222222222222222,
                            "#7201a8"
                          ],
                          [
                            0.3333333333333333,
                            "#9c179e"
                          ],
                          [
                            0.4444444444444444,
                            "#bd3786"
                          ],
                          [
                            0.5555555555555556,
                            "#d8576b"
                          ],
                          [
                            0.6666666666666666,
                            "#ed7953"
                          ],
                          [
                            0.7777777777777778,
                            "#fb9f3a"
                          ],
                          [
                            0.8888888888888888,
                            "#fdca26"
                          ],
                          [
                            1,
                            "#f0f921"
                          ]
                        ],
                        "type": "heatmapgl"
                      }
                    ],
                    "histogram": [
                      {
                        "marker": {
                          "pattern": {
                            "fillmode": "overlay",
                            "size": 10,
                            "solidity": 0.2
                          }
                        },
                        "type": "histogram"
                      }
                    ],
                    "histogram2d": [
                      {
                        "colorbar": {
                          "outlinewidth": 0,
                          "ticks": ""
                        },
                        "colorscale": [
                          [
                            0,
                            "#0d0887"
                          ],
                          [
                            0.1111111111111111,
                            "#46039f"
                          ],
                          [
                            0.2222222222222222,
                            "#7201a8"
                          ],
                          [
                            0.3333333333333333,
                            "#9c179e"
                          ],
                          [
                            0.4444444444444444,
                            "#bd3786"
                          ],
                          [
                            0.5555555555555556,
                            "#d8576b"
                          ],
                          [
                            0.6666666666666666,
                            "#ed7953"
                          ],
                          [
                            0.7777777777777778,
                            "#fb9f3a"
                          ],
                          [
                            0.8888888888888888,
                            "#fdca26"
                          ],
                          [
                            1,
                            "#f0f921"
                          ]
                        ],
                        "type": "histogram2d"
                      }
                    ],
                    "histogram2dcontour": [
                      {
                        "colorbar": {
                          "outlinewidth": 0,
                          "ticks": ""
                        },
                        "colorscale": [
                          [
                            0,
                            "#0d0887"
                          ],
                          [
                            0.1111111111111111,
                            "#46039f"
                          ],
                          [
                            0.2222222222222222,
                            "#7201a8"
                          ],
                          [
                            0.3333333333333333,
                            "#9c179e"
                          ],
                          [
                            0.4444444444444444,
                            "#bd3786"
                          ],
                          [
                            0.5555555555555556,
                            "#d8576b"
                          ],
                          [
                            0.6666666666666666,
                            "#ed7953"
                          ],
                          [
                            0.7777777777777778,
                            "#fb9f3a"
                          ],
                          [
                            0.8888888888888888,
                            "#fdca26"
                          ],
                          [
                            1,
                            "#f0f921"
                          ]
                        ],
                        "type": "histogram2dcontour"
                      }
                    ],
                    "mesh3d": [
                      {
                        "colorbar": {
                          "outlinewidth": 0,
                          "ticks": ""
                        },
                        "type": "mesh3d"
                      }
                    ],
                    "parcoords": [
                      {
                        "line": {
                          "colorbar": {
                            "outlinewidth": 0,
                            "ticks": ""
                          }
                        },
                        "type": "parcoords"
                      }
                    ],
                    "pie": [
                      {
                        "automargin": true,
                        "type": "pie"
                      }
                    ],
                    "scatter": [
                      {
                        "fillpattern": {
                          "fillmode": "overlay",
                          "size": 10,
                          "solidity": 0.2
                        },
                        "type": "scatter"
                      }
                    ],
                    "scatter3d": [
                      {
                        "line": {
                          "colorbar": {
                            "outlinewidth": 0,
                            "ticks": ""
                          }
                        },
                        "marker": {
                          "colorbar": {
                            "outlinewidth": 0,
                            "ticks": ""
                          }
                        },
                        "type": "scatter3d"
                      }
                    ],
                    "scattercarpet": [
                      {
                        "marker": {
                          "colorbar": {
                            "outlinewidth": 0,
                            "ticks": ""
                          }
                        },
                        "type": "scattercarpet"
                      }
                    ],
                    "scattergeo": [
                      {
                        "marker": {
                          "colorbar": {
                            "outlinewidth": 0,
                            "ticks": ""
                          }
                        },
                        "type": "scattergeo"
                      }
                    ],
                    "scattergl": [
                      {
                        "marker": {
                          "colorbar": {
                            "outlinewidth": 0,
                            "ticks": ""
                          }
                        },
                        "type": "scattergl"
                      }
                    ],
                    "scattermapbox": [
                      {
                        "marker": {
                          "colorbar": {
                            "outlinewidth": 0,
                            "ticks": ""
                          }
                        },
                        "type": "scattermapbox"
                      }
                    ],
                    "scatterpolar": [
                      {
                        "marker": {
                          "colorbar": {
                            "outlinewidth": 0,
                            "ticks": ""
                          }
                        },
                        "type": "scatterpolar"
                      }
                    ],
                    "scatterpolargl": [
                      {
                        "marker": {
                          "colorbar": {
                            "outlinewidth": 0,
                            "ticks": ""
                          }
                        },
                        "type": "scatterpolargl"
                      }
                    ],
                    "scatterternary": [
                      {
                        "marker": {
                          "colorbar": {
                            "outlinewidth": 0,
                            "ticks": ""
                          }
                        },
                        "type": "scatterternary"
                      }
                    ],
                    "surface": [
                      {
                        "colorbar": {
                          "outlinewidth": 0,
                          "ticks": ""
                        },
                        "colorscale": [
                          [
                            0,
                            "#0d0887"
                          ],
                          [
                            0.1111111111111111,
                            "#46039f"
                          ],
                          [
                            0.2222222222222222,
                            "#7201a8"
                          ],
                          [
                            0.3333333333333333,
                            "#9c179e"
                          ],
                          [
                            0.4444444444444444,
                            "#bd3786"
                          ],
                          [
                            0.5555555555555556,
                            "#d8576b"
                          ],
                          [
                            0.6666666666666666,
                            "#ed7953"
                          ],
                          [
                            0.7777777777777778,
                            "#fb9f3a"
                          ],
                          [
                            0.8888888888888888,
                            "#fdca26"
                          ],
                          [
                            1,
                            "#f0f921"
                          ]
                        ],
                        "type": "surface"
                      }
                    ],
                    "table": [
                      {
                        "cells": {
                          "fill": {
                            "color": "#EBF0F8"
                          },
                          "line": {
                            "color": "white"
                          }
                        },
                        "header": {
                          "fill": {
                            "color": "#C8D4E3"
                          },
                          "line": {
                            "color": "white"
                          }
                        },
                        "type": "table"
                      }
                    ]
                  },
                  "layout": {
                    "annotationdefaults": {
                      "arrowcolor": "#2a3f5f",
                      "arrowhead": 0,
                      "arrowwidth": 1
                    },
                    "autotypenumbers": "strict",
                    "coloraxis": {
                      "colorbar": {
                        "outlinewidth": 0,
                        "ticks": ""
                      }
                    },
                    "colorscale": {
                      "diverging": [
                        [
                          0,
                          "#8e0152"
                        ],
                        [
                          0.1,
                          "#c51b7d"
                        ],
                        [
                          0.2,
                          "#de77ae"
                        ],
                        [
                          0.3,
                          "#f1b6da"
                        ],
                        [
                          0.4,
                          "#fde0ef"
                        ],
                        [
                          0.5,
                          "#f7f7f7"
                        ],
                        [
                          0.6,
                          "#e6f5d0"
                        ],
                        [
                          0.7,
                          "#b8e186"
                        ],
                        [
                          0.8,
                          "#7fbc41"
                        ],
                        [
                          0.9,
                          "#4d9221"
                        ],
                        [
                          1,
                          "#276419"
                        ]
                      ],
                      "sequential": [
                        [
                          0,
                          "#0d0887"
                        ],
                        [
                          0.1111111111111111,
                          "#46039f"
                        ],
                        [
                          0.2222222222222222,
                          "#7201a8"
                        ],
                        [
                          0.3333333333333333,
                          "#9c179e"
                        ],
                        [
                          0.4444444444444444,
                          "#bd3786"
                        ],
                        [
                          0.5555555555555556,
                          "#d8576b"
                        ],
                        [
                          0.6666666666666666,
                          "#ed7953"
                        ],
                        [
                          0.7777777777777778,
                          "#fb9f3a"
                        ],
                        [
                          0.8888888888888888,
                          "#fdca26"
                        ],
                        [
                          1,
                          "#f0f921"
                        ]
                      ],
                      "sequentialminus": [
                        [
                          0,
                          "#0d0887"
                        ],
                        [
                          0.1111111111111111,
                          "#46039f"
                        ],
                        [
                          0.2222222222222222,
                          "#7201a8"
                        ],
                        [
                          0.3333333333333333,
                          "#9c179e"
                        ],
                        [
                          0.4444444444444444,
                          "#bd3786"
                        ],
                        [
                          0.5555555555555556,
                          "#d8576b"
                        ],
                        [
                          0.6666666666666666,
                          "#ed7953"
                        ],
                        [
                          0.7777777777777778,
                          "#fb9f3a"
                        ],
                        [
                          0.8888888888888888,
                          "#fdca26"
                        ],
                        [
                          1,
                          "#f0f921"
                        ]
                      ]
                    },
                    "colorway": [
                      "#636efa",
                      "#EF553B",
                      "#00cc96",
                      "#ab63fa",
                      "#FFA15A",
                      "#19d3f3",
                      "#FF6692",
                      "#B6E880",
                      "#FF97FF",
                      "#FECB52"
                    ],
                    "font": {
                      "color": "#2a3f5f"
                    },
                    "geo": {
                      "bgcolor": "white",
                      "lakecolor": "white",
                      "landcolor": "#E5ECF6",
                      "showlakes": true,
                      "showland": true,
                      "subunitcolor": "white"
                    },
                    "hoverlabel": {
                      "align": "left"
                    },
                    "hovermode": "closest",
                    "mapbox": {
                      "style": "light"
                    },
                    "paper_bgcolor": "white",
                    "plot_bgcolor": "#E5ECF6",
                    "polar": {
                      "angularaxis": {
                        "gridcolor": "white",
                        "linecolor": "white",
                        "ticks": ""
                      },
                      "bgcolor": "#E5ECF6",
                      "radialaxis": {
                        "gridcolor": "white",
                        "linecolor": "white",
                        "ticks": ""
                      }
                    },
                    "scene": {
                      "xaxis": {
                        "backgroundcolor": "#E5ECF6",
                        "gridcolor": "white",
                        "gridwidth": 2,
                        "linecolor": "white",
                        "showbackground": true,
                        "ticks": "",
                        "zerolinecolor": "white"
                      },
                      "yaxis": {
                        "backgroundcolor": "#E5ECF6",
                        "gridcolor": "white",
                        "gridwidth": 2,
                        "linecolor": "white",
                        "showbackground": true,
                        "ticks": "",
                        "zerolinecolor": "white"
                      },
                      "zaxis": {
                        "backgroundcolor": "#E5ECF6",
                        "gridcolor": "white",
                        "gridwidth": 2,
                        "linecolor": "white",
                        "showbackground": true,
                        "ticks": "",
                        "zerolinecolor": "white"
                      }
                    },
                    "shapedefaults": {
                      "line": {
                        "color": "#2a3f5f"
                      }
                    },
                    "ternary": {
                      "aaxis": {
                        "gridcolor": "white",
                        "linecolor": "white",
                        "ticks": ""
                      },
                      "baxis": {
                        "gridcolor": "white",
                        "linecolor": "white",
                        "ticks": ""
                      },
                      "bgcolor": "#E5ECF6",
                      "caxis": {
                        "gridcolor": "white",
                        "linecolor": "white",
                        "ticks": ""
                      }
                    },
                    "title": {
                      "x": 0.05
                    },
                    "xaxis": {
                      "automargin": true,
                      "gridcolor": "white",
                      "linecolor": "white",
                      "ticks": "",
                      "title": {
                        "standoff": 15
                      },
                      "zerolinecolor": "white",
                      "zerolinewidth": 2
                    },
                    "yaxis": {
                      "automargin": true,
                      "gridcolor": "white",
                      "linecolor": "white",
                      "ticks": "",
                      "title": {
                        "standoff": 15
                      },
                      "zerolinecolor": "white",
                      "zerolinewidth": 2
                    }
                  }
                },
                "title": {
                  "text": "Top 1-grammi nei Nomi delle Emoji"
                },
                "xaxis": {
                  "anchor": "y",
                  "domain": [
                    0,
                    1
                  ],
                  "title": {
                    "text": "1-gramma"
                  }
                },
                "yaxis": {
                  "anchor": "x",
                  "domain": [
                    0,
                    1
                  ],
                  "title": {
                    "text": "Frequenza"
                  }
                }
              }
            }
          },
          "metadata": {},
          "output_type": "display_data"
        }
      ],
      "source": [
        "from collections import Counter\n",
        "import pandas as pd\n",
        "import plotly.express as px\n",
        "from nltk.util import ngrams  # Libreria per generare n-grammi\n",
        "\n",
        "# Funzione per trovare gli n-grammi dato un elenco di nomi di emoji\n",
        "def find_emoji_name_ngrams(emoji_name_list, n):\n",
        "    \"\"\"\n",
        "    Genera n-grammi da una lista di nomi di emoji.\n",
        "\n",
        "    Parametri:\n",
        "        emoji_name_list: lista di nomi di emoji (es. ['smile', 'sad', 'laugh'])\n",
        "        n: lunghezza dell'n-gramma\n",
        "\n",
        "    Ritorna:\n",
        "        Una lista di n-grammi.\n",
        "    \"\"\"\n",
        "    return list(ngrams(emoji_name_list, n))\n",
        "\n",
        "# Funzione per generare n-grammi per una gamma di valori n\n",
        "def generate_ngrams_for_range(emoji_name_list, min_n=1, max_n=5):\n",
        "    \"\"\"\n",
        "    Genera n-grammi per una gamma di valori di n.\n",
        "\n",
        "    Parametri:\n",
        "        emoji_name_list: lista di nomi delle emoji\n",
        "        min_n: lunghezza minima degli n-grammi\n",
        "        max_n: lunghezza massima degli n-grammi\n",
        "\n",
        "    Ritorna:\n",
        "        Un dizionario con n come chiave e un Counter di n-grammi come valore.\n",
        "    \"\"\"\n",
        "    ngram_counters = {n: Counter() for n in range(min_n, max_n + 1)}\n",
        "\n",
        "    for n in range(min_n, max_n + 1):\n",
        "        ngrams_list = find_emoji_name_ngrams(emoji_name_list, n)\n",
        "        ngram_counters[n].update(ngrams_list)\n",
        "\n",
        "    return ngram_counters\n",
        "\n",
        "# Trasforma la colonna `emojis_names` in liste di parole\n",
        "df['emoji_name_list'] = df['emojis_names'].apply(lambda x: x.split())\n",
        "\n",
        "# Parametri per gli n-grammi\n",
        "min_n = 1  # Lunghezza minima\n",
        "max_n = 5  # Lunghezza massima\n",
        "\n",
        "# Generazione automatica degli n-grammi\n",
        "all_ngrams = {n: Counter() for n in range(min_n, max_n + 1)}\n",
        "for emoji_name_list in df['emoji_name_list']:\n",
        "    ngram_counters = generate_ngrams_for_range(emoji_name_list, min_n, max_n)\n",
        "    for n in range(min_n, max_n + 1):\n",
        "        all_ngrams[n].update(ngram_counters[n])\n",
        "\n",
        "# Mostra i migliori n-grammi per ogni valore di n\n",
        "print(\"\\nTop n-grammi per ogni valore di n:\")\n",
        "for n in range(min_n, max_n + 1):\n",
        "    print(f\"\\nTop {n}-grammi:\")\n",
        "    for ngram, freq in all_ngrams[n].most_common(5):  # Top 5 n-grammi per ogni n\n",
        "        print(f\"{' '.join(ngram)}: {freq}\")\n",
        "\n",
        "# Trova il valore ottimale di n in base a una metrica (esempio: numero totale di n-grammi)\n",
        "optimal_n = max(all_ngrams, key=lambda n: sum(all_ngrams[n].values()))\n",
        "print(f\"\\nIl valore ottimale di n (basato sulla frequenza totale): {optimal_n}\")\n",
        "\n",
        "# Visualizza i n-grammi ottimali in un grafico\n",
        "optimal_ngrams = all_ngrams[optimal_n]\n",
        "optimal_ngrams_df = pd.DataFrame(optimal_ngrams.items(), columns=['N-gram', 'Frequency']).sort_values(by='Frequency', ascending=False)\n",
        "optimal_ngrams_df['N-gram'] = optimal_ngrams_df['N-gram'].apply(lambda x: ' '.join(x))  # Converte il tuple in stringa leggibile\n",
        "\n",
        "fig = px.bar(\n",
        "    optimal_ngrams_df.head(10),\n",
        "    x='N-gram',\n",
        "    y='Frequency',\n",
        "    title=f'Top {optimal_n}-grammi nei Nomi delle Emoji',\n",
        "    labels={'N-gram': f'{optimal_n}-gramma', 'Frequency': 'Frequenza'}\n",
        ")\n",
        "fig.show()\n"
      ]
    },
    {
      "cell_type": "markdown",
      "metadata": {
        "id": "NM8tljVOAJ6l"
      },
      "source": [
        "# TF-IDF"
      ]
    },
    {
      "cell_type": "code",
      "execution_count": 24,
      "metadata": {
        "colab": {
          "base_uri": "https://localhost:8080/",
          "height": 756
        },
        "id": "V4wVTM31_rV8",
        "outputId": "3a33cc8c-af91-4baa-c03f-4175f2a62cce"
      },
      "outputs": [
        {
          "name": "stdout",
          "output_type": "stream",
          "text": [
            "Top N-grammi sui nomi delle emoji (TF-IDF):\n",
            "           N-gram    TF-IDF\n",
            "180          face  0.007609\n",
            "231     face with  0.002543\n",
            "724          with  0.002543\n",
            "133  enraged face  0.002165\n",
            "132       enraged  0.002165\n",
            "346         italy  0.002142\n",
            "603       smiling  0.001364\n",
            "450            of  0.001342\n",
            "760            xo  0.001316\n",
            "653      thinking  0.001262\n"
          ]
        },
        {
          "data": {
            "application/vnd.plotly.v1+json": {
              "config": {
                "plotlyServerURL": "https://plot.ly"
              },
              "data": [
                {
                  "alignmentgroup": "True",
                  "hovertemplate": "N-gramma=%{x}<br>TF-IDF=%{y}<extra></extra>",
                  "legendgroup": "",
                  "marker": {
                    "color": "#636efa",
                    "pattern": {
                      "shape": ""
                    }
                  },
                  "name": "",
                  "offsetgroup": "",
                  "orientation": "v",
                  "showlegend": false,
                  "textposition": "auto",
                  "type": "bar",
                  "x": [
                    "face",
                    "face with",
                    "with",
                    "enraged face",
                    "enraged",
                    "italy",
                    "smiling",
                    "of",
                    "xo",
                    "thinking"
                  ],
                  "xaxis": "x",
                  "y": [
                    0.007609348081502048,
                    0.0025425977382701756,
                    0.0025425977382701756,
                    0.002165237771732347,
                    0.002165237771732347,
                    0.002141688526921823,
                    0.001364421435594882,
                    0.0013423364250583266,
                    0.0013163668275559457,
                    0.001262334517308189
                  ],
                  "yaxis": "y"
                }
              ],
              "layout": {
                "barmode": "relative",
                "legend": {
                  "tracegroupgap": 0
                },
                "template": {
                  "data": {
                    "bar": [
                      {
                        "error_x": {
                          "color": "#2a3f5f"
                        },
                        "error_y": {
                          "color": "#2a3f5f"
                        },
                        "marker": {
                          "line": {
                            "color": "#E5ECF6",
                            "width": 0.5
                          },
                          "pattern": {
                            "fillmode": "overlay",
                            "size": 10,
                            "solidity": 0.2
                          }
                        },
                        "type": "bar"
                      }
                    ],
                    "barpolar": [
                      {
                        "marker": {
                          "line": {
                            "color": "#E5ECF6",
                            "width": 0.5
                          },
                          "pattern": {
                            "fillmode": "overlay",
                            "size": 10,
                            "solidity": 0.2
                          }
                        },
                        "type": "barpolar"
                      }
                    ],
                    "carpet": [
                      {
                        "aaxis": {
                          "endlinecolor": "#2a3f5f",
                          "gridcolor": "white",
                          "linecolor": "white",
                          "minorgridcolor": "white",
                          "startlinecolor": "#2a3f5f"
                        },
                        "baxis": {
                          "endlinecolor": "#2a3f5f",
                          "gridcolor": "white",
                          "linecolor": "white",
                          "minorgridcolor": "white",
                          "startlinecolor": "#2a3f5f"
                        },
                        "type": "carpet"
                      }
                    ],
                    "choropleth": [
                      {
                        "colorbar": {
                          "outlinewidth": 0,
                          "ticks": ""
                        },
                        "type": "choropleth"
                      }
                    ],
                    "contour": [
                      {
                        "colorbar": {
                          "outlinewidth": 0,
                          "ticks": ""
                        },
                        "colorscale": [
                          [
                            0,
                            "#0d0887"
                          ],
                          [
                            0.1111111111111111,
                            "#46039f"
                          ],
                          [
                            0.2222222222222222,
                            "#7201a8"
                          ],
                          [
                            0.3333333333333333,
                            "#9c179e"
                          ],
                          [
                            0.4444444444444444,
                            "#bd3786"
                          ],
                          [
                            0.5555555555555556,
                            "#d8576b"
                          ],
                          [
                            0.6666666666666666,
                            "#ed7953"
                          ],
                          [
                            0.7777777777777778,
                            "#fb9f3a"
                          ],
                          [
                            0.8888888888888888,
                            "#fdca26"
                          ],
                          [
                            1,
                            "#f0f921"
                          ]
                        ],
                        "type": "contour"
                      }
                    ],
                    "contourcarpet": [
                      {
                        "colorbar": {
                          "outlinewidth": 0,
                          "ticks": ""
                        },
                        "type": "contourcarpet"
                      }
                    ],
                    "heatmap": [
                      {
                        "colorbar": {
                          "outlinewidth": 0,
                          "ticks": ""
                        },
                        "colorscale": [
                          [
                            0,
                            "#0d0887"
                          ],
                          [
                            0.1111111111111111,
                            "#46039f"
                          ],
                          [
                            0.2222222222222222,
                            "#7201a8"
                          ],
                          [
                            0.3333333333333333,
                            "#9c179e"
                          ],
                          [
                            0.4444444444444444,
                            "#bd3786"
                          ],
                          [
                            0.5555555555555556,
                            "#d8576b"
                          ],
                          [
                            0.6666666666666666,
                            "#ed7953"
                          ],
                          [
                            0.7777777777777778,
                            "#fb9f3a"
                          ],
                          [
                            0.8888888888888888,
                            "#fdca26"
                          ],
                          [
                            1,
                            "#f0f921"
                          ]
                        ],
                        "type": "heatmap"
                      }
                    ],
                    "heatmapgl": [
                      {
                        "colorbar": {
                          "outlinewidth": 0,
                          "ticks": ""
                        },
                        "colorscale": [
                          [
                            0,
                            "#0d0887"
                          ],
                          [
                            0.1111111111111111,
                            "#46039f"
                          ],
                          [
                            0.2222222222222222,
                            "#7201a8"
                          ],
                          [
                            0.3333333333333333,
                            "#9c179e"
                          ],
                          [
                            0.4444444444444444,
                            "#bd3786"
                          ],
                          [
                            0.5555555555555556,
                            "#d8576b"
                          ],
                          [
                            0.6666666666666666,
                            "#ed7953"
                          ],
                          [
                            0.7777777777777778,
                            "#fb9f3a"
                          ],
                          [
                            0.8888888888888888,
                            "#fdca26"
                          ],
                          [
                            1,
                            "#f0f921"
                          ]
                        ],
                        "type": "heatmapgl"
                      }
                    ],
                    "histogram": [
                      {
                        "marker": {
                          "pattern": {
                            "fillmode": "overlay",
                            "size": 10,
                            "solidity": 0.2
                          }
                        },
                        "type": "histogram"
                      }
                    ],
                    "histogram2d": [
                      {
                        "colorbar": {
                          "outlinewidth": 0,
                          "ticks": ""
                        },
                        "colorscale": [
                          [
                            0,
                            "#0d0887"
                          ],
                          [
                            0.1111111111111111,
                            "#46039f"
                          ],
                          [
                            0.2222222222222222,
                            "#7201a8"
                          ],
                          [
                            0.3333333333333333,
                            "#9c179e"
                          ],
                          [
                            0.4444444444444444,
                            "#bd3786"
                          ],
                          [
                            0.5555555555555556,
                            "#d8576b"
                          ],
                          [
                            0.6666666666666666,
                            "#ed7953"
                          ],
                          [
                            0.7777777777777778,
                            "#fb9f3a"
                          ],
                          [
                            0.8888888888888888,
                            "#fdca26"
                          ],
                          [
                            1,
                            "#f0f921"
                          ]
                        ],
                        "type": "histogram2d"
                      }
                    ],
                    "histogram2dcontour": [
                      {
                        "colorbar": {
                          "outlinewidth": 0,
                          "ticks": ""
                        },
                        "colorscale": [
                          [
                            0,
                            "#0d0887"
                          ],
                          [
                            0.1111111111111111,
                            "#46039f"
                          ],
                          [
                            0.2222222222222222,
                            "#7201a8"
                          ],
                          [
                            0.3333333333333333,
                            "#9c179e"
                          ],
                          [
                            0.4444444444444444,
                            "#bd3786"
                          ],
                          [
                            0.5555555555555556,
                            "#d8576b"
                          ],
                          [
                            0.6666666666666666,
                            "#ed7953"
                          ],
                          [
                            0.7777777777777778,
                            "#fb9f3a"
                          ],
                          [
                            0.8888888888888888,
                            "#fdca26"
                          ],
                          [
                            1,
                            "#f0f921"
                          ]
                        ],
                        "type": "histogram2dcontour"
                      }
                    ],
                    "mesh3d": [
                      {
                        "colorbar": {
                          "outlinewidth": 0,
                          "ticks": ""
                        },
                        "type": "mesh3d"
                      }
                    ],
                    "parcoords": [
                      {
                        "line": {
                          "colorbar": {
                            "outlinewidth": 0,
                            "ticks": ""
                          }
                        },
                        "type": "parcoords"
                      }
                    ],
                    "pie": [
                      {
                        "automargin": true,
                        "type": "pie"
                      }
                    ],
                    "scatter": [
                      {
                        "fillpattern": {
                          "fillmode": "overlay",
                          "size": 10,
                          "solidity": 0.2
                        },
                        "type": "scatter"
                      }
                    ],
                    "scatter3d": [
                      {
                        "line": {
                          "colorbar": {
                            "outlinewidth": 0,
                            "ticks": ""
                          }
                        },
                        "marker": {
                          "colorbar": {
                            "outlinewidth": 0,
                            "ticks": ""
                          }
                        },
                        "type": "scatter3d"
                      }
                    ],
                    "scattercarpet": [
                      {
                        "marker": {
                          "colorbar": {
                            "outlinewidth": 0,
                            "ticks": ""
                          }
                        },
                        "type": "scattercarpet"
                      }
                    ],
                    "scattergeo": [
                      {
                        "marker": {
                          "colorbar": {
                            "outlinewidth": 0,
                            "ticks": ""
                          }
                        },
                        "type": "scattergeo"
                      }
                    ],
                    "scattergl": [
                      {
                        "marker": {
                          "colorbar": {
                            "outlinewidth": 0,
                            "ticks": ""
                          }
                        },
                        "type": "scattergl"
                      }
                    ],
                    "scattermapbox": [
                      {
                        "marker": {
                          "colorbar": {
                            "outlinewidth": 0,
                            "ticks": ""
                          }
                        },
                        "type": "scattermapbox"
                      }
                    ],
                    "scatterpolar": [
                      {
                        "marker": {
                          "colorbar": {
                            "outlinewidth": 0,
                            "ticks": ""
                          }
                        },
                        "type": "scatterpolar"
                      }
                    ],
                    "scatterpolargl": [
                      {
                        "marker": {
                          "colorbar": {
                            "outlinewidth": 0,
                            "ticks": ""
                          }
                        },
                        "type": "scatterpolargl"
                      }
                    ],
                    "scatterternary": [
                      {
                        "marker": {
                          "colorbar": {
                            "outlinewidth": 0,
                            "ticks": ""
                          }
                        },
                        "type": "scatterternary"
                      }
                    ],
                    "surface": [
                      {
                        "colorbar": {
                          "outlinewidth": 0,
                          "ticks": ""
                        },
                        "colorscale": [
                          [
                            0,
                            "#0d0887"
                          ],
                          [
                            0.1111111111111111,
                            "#46039f"
                          ],
                          [
                            0.2222222222222222,
                            "#7201a8"
                          ],
                          [
                            0.3333333333333333,
                            "#9c179e"
                          ],
                          [
                            0.4444444444444444,
                            "#bd3786"
                          ],
                          [
                            0.5555555555555556,
                            "#d8576b"
                          ],
                          [
                            0.6666666666666666,
                            "#ed7953"
                          ],
                          [
                            0.7777777777777778,
                            "#fb9f3a"
                          ],
                          [
                            0.8888888888888888,
                            "#fdca26"
                          ],
                          [
                            1,
                            "#f0f921"
                          ]
                        ],
                        "type": "surface"
                      }
                    ],
                    "table": [
                      {
                        "cells": {
                          "fill": {
                            "color": "#EBF0F8"
                          },
                          "line": {
                            "color": "white"
                          }
                        },
                        "header": {
                          "fill": {
                            "color": "#C8D4E3"
                          },
                          "line": {
                            "color": "white"
                          }
                        },
                        "type": "table"
                      }
                    ]
                  },
                  "layout": {
                    "annotationdefaults": {
                      "arrowcolor": "#2a3f5f",
                      "arrowhead": 0,
                      "arrowwidth": 1
                    },
                    "autotypenumbers": "strict",
                    "coloraxis": {
                      "colorbar": {
                        "outlinewidth": 0,
                        "ticks": ""
                      }
                    },
                    "colorscale": {
                      "diverging": [
                        [
                          0,
                          "#8e0152"
                        ],
                        [
                          0.1,
                          "#c51b7d"
                        ],
                        [
                          0.2,
                          "#de77ae"
                        ],
                        [
                          0.3,
                          "#f1b6da"
                        ],
                        [
                          0.4,
                          "#fde0ef"
                        ],
                        [
                          0.5,
                          "#f7f7f7"
                        ],
                        [
                          0.6,
                          "#e6f5d0"
                        ],
                        [
                          0.7,
                          "#b8e186"
                        ],
                        [
                          0.8,
                          "#7fbc41"
                        ],
                        [
                          0.9,
                          "#4d9221"
                        ],
                        [
                          1,
                          "#276419"
                        ]
                      ],
                      "sequential": [
                        [
                          0,
                          "#0d0887"
                        ],
                        [
                          0.1111111111111111,
                          "#46039f"
                        ],
                        [
                          0.2222222222222222,
                          "#7201a8"
                        ],
                        [
                          0.3333333333333333,
                          "#9c179e"
                        ],
                        [
                          0.4444444444444444,
                          "#bd3786"
                        ],
                        [
                          0.5555555555555556,
                          "#d8576b"
                        ],
                        [
                          0.6666666666666666,
                          "#ed7953"
                        ],
                        [
                          0.7777777777777778,
                          "#fb9f3a"
                        ],
                        [
                          0.8888888888888888,
                          "#fdca26"
                        ],
                        [
                          1,
                          "#f0f921"
                        ]
                      ],
                      "sequentialminus": [
                        [
                          0,
                          "#0d0887"
                        ],
                        [
                          0.1111111111111111,
                          "#46039f"
                        ],
                        [
                          0.2222222222222222,
                          "#7201a8"
                        ],
                        [
                          0.3333333333333333,
                          "#9c179e"
                        ],
                        [
                          0.4444444444444444,
                          "#bd3786"
                        ],
                        [
                          0.5555555555555556,
                          "#d8576b"
                        ],
                        [
                          0.6666666666666666,
                          "#ed7953"
                        ],
                        [
                          0.7777777777777778,
                          "#fb9f3a"
                        ],
                        [
                          0.8888888888888888,
                          "#fdca26"
                        ],
                        [
                          1,
                          "#f0f921"
                        ]
                      ]
                    },
                    "colorway": [
                      "#636efa",
                      "#EF553B",
                      "#00cc96",
                      "#ab63fa",
                      "#FFA15A",
                      "#19d3f3",
                      "#FF6692",
                      "#B6E880",
                      "#FF97FF",
                      "#FECB52"
                    ],
                    "font": {
                      "color": "#2a3f5f"
                    },
                    "geo": {
                      "bgcolor": "white",
                      "lakecolor": "white",
                      "landcolor": "#E5ECF6",
                      "showlakes": true,
                      "showland": true,
                      "subunitcolor": "white"
                    },
                    "hoverlabel": {
                      "align": "left"
                    },
                    "hovermode": "closest",
                    "mapbox": {
                      "style": "light"
                    },
                    "paper_bgcolor": "white",
                    "plot_bgcolor": "#E5ECF6",
                    "polar": {
                      "angularaxis": {
                        "gridcolor": "white",
                        "linecolor": "white",
                        "ticks": ""
                      },
                      "bgcolor": "#E5ECF6",
                      "radialaxis": {
                        "gridcolor": "white",
                        "linecolor": "white",
                        "ticks": ""
                      }
                    },
                    "scene": {
                      "xaxis": {
                        "backgroundcolor": "#E5ECF6",
                        "gridcolor": "white",
                        "gridwidth": 2,
                        "linecolor": "white",
                        "showbackground": true,
                        "ticks": "",
                        "zerolinecolor": "white"
                      },
                      "yaxis": {
                        "backgroundcolor": "#E5ECF6",
                        "gridcolor": "white",
                        "gridwidth": 2,
                        "linecolor": "white",
                        "showbackground": true,
                        "ticks": "",
                        "zerolinecolor": "white"
                      },
                      "zaxis": {
                        "backgroundcolor": "#E5ECF6",
                        "gridcolor": "white",
                        "gridwidth": 2,
                        "linecolor": "white",
                        "showbackground": true,
                        "ticks": "",
                        "zerolinecolor": "white"
                      }
                    },
                    "shapedefaults": {
                      "line": {
                        "color": "#2a3f5f"
                      }
                    },
                    "ternary": {
                      "aaxis": {
                        "gridcolor": "white",
                        "linecolor": "white",
                        "ticks": ""
                      },
                      "baxis": {
                        "gridcolor": "white",
                        "linecolor": "white",
                        "ticks": ""
                      },
                      "bgcolor": "#E5ECF6",
                      "caxis": {
                        "gridcolor": "white",
                        "linecolor": "white",
                        "ticks": ""
                      }
                    },
                    "title": {
                      "x": 0.05
                    },
                    "xaxis": {
                      "automargin": true,
                      "gridcolor": "white",
                      "linecolor": "white",
                      "ticks": "",
                      "title": {
                        "standoff": 15
                      },
                      "zerolinecolor": "white",
                      "zerolinewidth": 2
                    },
                    "yaxis": {
                      "automargin": true,
                      "gridcolor": "white",
                      "linecolor": "white",
                      "ticks": "",
                      "title": {
                        "standoff": 15
                      },
                      "zerolinecolor": "white",
                      "zerolinewidth": 2
                    }
                  }
                },
                "title": {
                  "text": "Top N-grammi sui Nomi delle Emoji con TF-IDF"
                },
                "xaxis": {
                  "anchor": "y",
                  "domain": [
                    0,
                    1
                  ],
                  "title": {
                    "text": "N-gramma"
                  }
                },
                "yaxis": {
                  "anchor": "x",
                  "domain": [
                    0,
                    1
                  ],
                  "title": {
                    "text": "TF-IDF"
                  }
                }
              }
            }
          },
          "metadata": {},
          "output_type": "display_data"
        }
      ],
      "source": [
        "from sklearn.feature_extraction.text import TfidfVectorizer\n",
        "import pandas as pd\n",
        "import numpy as np\n",
        "import plotly.express as px\n",
        "import re\n",
        "\n",
        "# 1. Preprocessa i dati: la colonna `emojis_names` contiene i nomi delle emoji già convertiti\n",
        "# Nessun ulteriore preprocessing richiesto qui\n",
        "\n",
        "# 2. Estrai solo i nomi delle emoji da `emojis_names`\n",
        "def extract_emoji_names_only(text):\n",
        "    \"\"\"\n",
        "    Estrai solo i nomi delle emoji da un testo con nomi emoji (già pulito).\n",
        "    \"\"\"\n",
        "    return ' '.join(re.findall(r\"\\b\\w+\\b\", text))  # Mantiene solo parole alfanumeriche\n",
        "\n",
        "df['emoji_name_text'] = df['emojis_names'].apply(extract_emoji_names_only)\n",
        "\n",
        "# 3. Calcola TF-IDF sui nomi delle emoji\n",
        "def calculate_tfidf_on_emoji_names(texts, min_n=1, max_n=3):\n",
        "    \"\"\"\n",
        "    Calcola TF-IDF sui nomi delle emoji, considerando diverse lunghezze di n-grammi.\n",
        "\n",
        "    Parametri:\n",
        "        texts: Lista di stringhe contenenti solo i nomi delle emoji.\n",
        "        min_n: Lunghezza minima degli n-grammi.\n",
        "        max_n: Lunghezza massima degli n-grammi.\n",
        "\n",
        "    Ritorna:\n",
        "        Un DataFrame con n-grammi e il loro TF-IDF medio sui documenti.\n",
        "    \"\"\"\n",
        "    # Usa TfidfVectorizer per generare n-grammi e calcolare TF-IDF\n",
        "    vectorizer = TfidfVectorizer(ngram_range=(min_n, max_n), token_pattern=r'\\b\\w+\\b')\n",
        "    X = vectorizer.fit_transform(texts)\n",
        "\n",
        "    # Estrai i n-grammi\n",
        "    ngrams = vectorizer.get_feature_names_out()\n",
        "\n",
        "    # Calcola la media TF-IDF per ogni n-gramma\n",
        "    tfidf_values = np.mean(X.toarray(), axis=0)\n",
        "\n",
        "    # Crea un DataFrame con i risultati\n",
        "    tfidf_df = pd.DataFrame({\n",
        "        'N-gram': ngrams,\n",
        "        'TF-IDF': tfidf_values\n",
        "    }).sort_values(by='TF-IDF', ascending=False)\n",
        "\n",
        "    return tfidf_df\n",
        "\n",
        "# 4. Esegui TF-IDF sui nomi delle emoji\n",
        "texts = df['emoji_name_text'].tolist()  # Solo i nomi delle emoji\n",
        "tfidf_results = calculate_tfidf_on_emoji_names(texts, min_n=1, max_n=3)\n",
        "\n",
        "# 5. Mostra i risultati\n",
        "print(\"Top N-grammi sui nomi delle emoji (TF-IDF):\")\n",
        "print(tfidf_results.head(10))\n",
        "\n",
        "# 6. Visualizza i n-grammi più rilevanti con TF-IDF\n",
        "fig = px.bar(\n",
        "    tfidf_results.head(10),\n",
        "    x='N-gram',\n",
        "    y='TF-IDF',\n",
        "    title='Top N-grammi sui Nomi delle Emoji con TF-IDF',\n",
        "    labels={'N-gram': 'N-gramma', 'TF-IDF': 'TF-IDF'}\n",
        ")\n",
        "fig.show()\n"
      ]
    }
  ],
  "metadata": {
    "colab": {
      "provenance": []
    },
    "kernelspec": {
      "display_name": "Python 3",
      "name": "python3"
    },
    "language_info": {
      "name": "python"
    }
  },
  "nbformat": 4,
  "nbformat_minor": 0
}
