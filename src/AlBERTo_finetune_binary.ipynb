{
  "cells": [
    {
      "cell_type": "markdown",
      "metadata": {
        "id": "c4HnTWtmSBD2"
      },
      "source": [
        "# 2nd model: [AlBERTo](https://huggingface.co/m-polignano-uniba/bert_uncased_L-12_H-768_A-12_italian_alb3rt0)\n",
        "\n",
        "In this script, we'll use a pre-trained BERT\n",
        "(https://arxiv.org/abs/1810.04805) model for text classification\n",
        "using PyTorch and PyTorch-Transformers\n",
        "(https://github.com/huggingface/pytorch-transformers). This script\n",
        "is based on \"Predicting Movie Review Sentiment with BERT on TF Hub\"\n",
        "(https://github.com/google-research/bert/blob/master/predicting_movie_reviews_with_bert_on_tf_hub.ipynb)\n",
        "by Google and \"BERT Fine-Tuning Tutorial with PyTorch\"\n",
        "(https://mccormickml.com/2019/07/22/BERT-fine-tuning/) by Chris\n",
        "McCormick.\n",
        "\n",
        "**Note that using a GPU with this script is highly recommended.**\n"
      ]
    },
    {
      "cell_type": "code",
      "execution_count": 1,
      "metadata": {
        "colab": {
          "base_uri": "https://localhost:8080/"
        },
        "id": "BX_5tmtfSZFx",
        "outputId": "a0df8ee5-bac8-4ea9-bb85-31bc9adcccf6"
      },
      "outputs": [
        {
          "output_type": "stream",
          "name": "stdout",
          "text": [
            "Requirement already satisfied: transformers in /usr/local/lib/python3.10/dist-packages (4.47.1)\n",
            "Requirement already satisfied: filelock in /usr/local/lib/python3.10/dist-packages (from transformers) (3.16.1)\n",
            "Requirement already satisfied: huggingface-hub<1.0,>=0.24.0 in /usr/local/lib/python3.10/dist-packages (from transformers) (0.27.0)\n",
            "Requirement already satisfied: numpy>=1.17 in /usr/local/lib/python3.10/dist-packages (from transformers) (1.26.4)\n",
            "Requirement already satisfied: packaging>=20.0 in /usr/local/lib/python3.10/dist-packages (from transformers) (24.2)\n",
            "Requirement already satisfied: pyyaml>=5.1 in /usr/local/lib/python3.10/dist-packages (from transformers) (6.0.2)\n",
            "Requirement already satisfied: regex!=2019.12.17 in /usr/local/lib/python3.10/dist-packages (from transformers) (2024.11.6)\n",
            "Requirement already satisfied: requests in /usr/local/lib/python3.10/dist-packages (from transformers) (2.32.3)\n",
            "Requirement already satisfied: tokenizers<0.22,>=0.21 in /usr/local/lib/python3.10/dist-packages (from transformers) (0.21.0)\n",
            "Requirement already satisfied: safetensors>=0.4.1 in /usr/local/lib/python3.10/dist-packages (from transformers) (0.4.5)\n",
            "Requirement already satisfied: tqdm>=4.27 in /usr/local/lib/python3.10/dist-packages (from transformers) (4.67.1)\n",
            "Requirement already satisfied: fsspec>=2023.5.0 in /usr/local/lib/python3.10/dist-packages (from huggingface-hub<1.0,>=0.24.0->transformers) (2024.10.0)\n",
            "Requirement already satisfied: typing-extensions>=3.7.4.3 in /usr/local/lib/python3.10/dist-packages (from huggingface-hub<1.0,>=0.24.0->transformers) (4.12.2)\n",
            "Requirement already satisfied: charset-normalizer<4,>=2 in /usr/local/lib/python3.10/dist-packages (from requests->transformers) (3.4.0)\n",
            "Requirement already satisfied: idna<4,>=2.5 in /usr/local/lib/python3.10/dist-packages (from requests->transformers) (3.10)\n",
            "Requirement already satisfied: urllib3<3,>=1.21.1 in /usr/local/lib/python3.10/dist-packages (from requests->transformers) (2.2.3)\n",
            "Requirement already satisfied: certifi>=2017.4.17 in /usr/local/lib/python3.10/dist-packages (from requests->transformers) (2024.12.14)\n",
            "Requirement already satisfied: torch in /usr/local/lib/python3.10/dist-packages (2.5.1+cu121)\n",
            "Requirement already satisfied: torchvision in /usr/local/lib/python3.10/dist-packages (0.20.1+cu121)\n",
            "Requirement already satisfied: filelock in /usr/local/lib/python3.10/dist-packages (from torch) (3.16.1)\n",
            "Requirement already satisfied: typing-extensions>=4.8.0 in /usr/local/lib/python3.10/dist-packages (from torch) (4.12.2)\n",
            "Requirement already satisfied: networkx in /usr/local/lib/python3.10/dist-packages (from torch) (3.4.2)\n",
            "Requirement already satisfied: jinja2 in /usr/local/lib/python3.10/dist-packages (from torch) (3.1.4)\n",
            "Requirement already satisfied: fsspec in /usr/local/lib/python3.10/dist-packages (from torch) (2024.10.0)\n",
            "Requirement already satisfied: sympy==1.13.1 in /usr/local/lib/python3.10/dist-packages (from torch) (1.13.1)\n",
            "Requirement already satisfied: mpmath<1.4,>=1.1.0 in /usr/local/lib/python3.10/dist-packages (from sympy==1.13.1->torch) (1.3.0)\n",
            "Requirement already satisfied: numpy in /usr/local/lib/python3.10/dist-packages (from torchvision) (1.26.4)\n",
            "Requirement already satisfied: pillow!=8.3.*,>=5.3.0 in /usr/local/lib/python3.10/dist-packages (from torchvision) (11.0.0)\n",
            "Requirement already satisfied: MarkupSafe>=2.0 in /usr/local/lib/python3.10/dist-packages (from jinja2->torch) (3.0.2)\n",
            "Collecting datasets\n",
            "  Downloading datasets-3.2.0-py3-none-any.whl.metadata (20 kB)\n",
            "Requirement already satisfied: filelock in /usr/local/lib/python3.10/dist-packages (from datasets) (3.16.1)\n",
            "Requirement already satisfied: numpy>=1.17 in /usr/local/lib/python3.10/dist-packages (from datasets) (1.26.4)\n",
            "Requirement already satisfied: pyarrow>=15.0.0 in /usr/local/lib/python3.10/dist-packages (from datasets) (17.0.0)\n",
            "Collecting dill<0.3.9,>=0.3.0 (from datasets)\n",
            "  Downloading dill-0.3.8-py3-none-any.whl.metadata (10 kB)\n",
            "Requirement already satisfied: pandas in /usr/local/lib/python3.10/dist-packages (from datasets) (2.2.2)\n",
            "Requirement already satisfied: requests>=2.32.2 in /usr/local/lib/python3.10/dist-packages (from datasets) (2.32.3)\n",
            "Requirement already satisfied: tqdm>=4.66.3 in /usr/local/lib/python3.10/dist-packages (from datasets) (4.67.1)\n",
            "Collecting xxhash (from datasets)\n",
            "  Downloading xxhash-3.5.0-cp310-cp310-manylinux_2_17_x86_64.manylinux2014_x86_64.whl.metadata (12 kB)\n",
            "Collecting multiprocess<0.70.17 (from datasets)\n",
            "  Downloading multiprocess-0.70.16-py310-none-any.whl.metadata (7.2 kB)\n",
            "Collecting fsspec<=2024.9.0,>=2023.1.0 (from fsspec[http]<=2024.9.0,>=2023.1.0->datasets)\n",
            "  Downloading fsspec-2024.9.0-py3-none-any.whl.metadata (11 kB)\n",
            "Requirement already satisfied: aiohttp in /usr/local/lib/python3.10/dist-packages (from datasets) (3.11.10)\n",
            "Requirement already satisfied: huggingface-hub>=0.23.0 in /usr/local/lib/python3.10/dist-packages (from datasets) (0.27.0)\n",
            "Requirement already satisfied: packaging in /usr/local/lib/python3.10/dist-packages (from datasets) (24.2)\n",
            "Requirement already satisfied: pyyaml>=5.1 in /usr/local/lib/python3.10/dist-packages (from datasets) (6.0.2)\n",
            "Requirement already satisfied: aiohappyeyeballs>=2.3.0 in /usr/local/lib/python3.10/dist-packages (from aiohttp->datasets) (2.4.4)\n",
            "Requirement already satisfied: aiosignal>=1.1.2 in /usr/local/lib/python3.10/dist-packages (from aiohttp->datasets) (1.3.2)\n",
            "Requirement already satisfied: async-timeout<6.0,>=4.0 in /usr/local/lib/python3.10/dist-packages (from aiohttp->datasets) (4.0.3)\n",
            "Requirement already satisfied: attrs>=17.3.0 in /usr/local/lib/python3.10/dist-packages (from aiohttp->datasets) (24.3.0)\n",
            "Requirement already satisfied: frozenlist>=1.1.1 in /usr/local/lib/python3.10/dist-packages (from aiohttp->datasets) (1.5.0)\n",
            "Requirement already satisfied: multidict<7.0,>=4.5 in /usr/local/lib/python3.10/dist-packages (from aiohttp->datasets) (6.1.0)\n",
            "Requirement already satisfied: propcache>=0.2.0 in /usr/local/lib/python3.10/dist-packages (from aiohttp->datasets) (0.2.1)\n",
            "Requirement already satisfied: yarl<2.0,>=1.17.0 in /usr/local/lib/python3.10/dist-packages (from aiohttp->datasets) (1.18.3)\n",
            "Requirement already satisfied: typing-extensions>=3.7.4.3 in /usr/local/lib/python3.10/dist-packages (from huggingface-hub>=0.23.0->datasets) (4.12.2)\n",
            "Requirement already satisfied: charset-normalizer<4,>=2 in /usr/local/lib/python3.10/dist-packages (from requests>=2.32.2->datasets) (3.4.0)\n",
            "Requirement already satisfied: idna<4,>=2.5 in /usr/local/lib/python3.10/dist-packages (from requests>=2.32.2->datasets) (3.10)\n",
            "Requirement already satisfied: urllib3<3,>=1.21.1 in /usr/local/lib/python3.10/dist-packages (from requests>=2.32.2->datasets) (2.2.3)\n",
            "Requirement already satisfied: certifi>=2017.4.17 in /usr/local/lib/python3.10/dist-packages (from requests>=2.32.2->datasets) (2024.12.14)\n",
            "Requirement already satisfied: python-dateutil>=2.8.2 in /usr/local/lib/python3.10/dist-packages (from pandas->datasets) (2.8.2)\n",
            "Requirement already satisfied: pytz>=2020.1 in /usr/local/lib/python3.10/dist-packages (from pandas->datasets) (2024.2)\n",
            "Requirement already satisfied: tzdata>=2022.7 in /usr/local/lib/python3.10/dist-packages (from pandas->datasets) (2024.2)\n",
            "Requirement already satisfied: six>=1.5 in /usr/local/lib/python3.10/dist-packages (from python-dateutil>=2.8.2->pandas->datasets) (1.17.0)\n",
            "Downloading datasets-3.2.0-py3-none-any.whl (480 kB)\n",
            "\u001b[2K   \u001b[90m━━━━━━━━━━━━━━━━━━━━━━━━━━━━━━━━━━━━━━━━\u001b[0m \u001b[32m480.6/480.6 kB\u001b[0m \u001b[31m14.7 MB/s\u001b[0m eta \u001b[36m0:00:00\u001b[0m\n",
            "\u001b[?25hDownloading dill-0.3.8-py3-none-any.whl (116 kB)\n",
            "\u001b[2K   \u001b[90m━━━━━━━━━━━━━━━━━━━━━━━━━━━━━━━━━━━━━━━━\u001b[0m \u001b[32m116.3/116.3 kB\u001b[0m \u001b[31m8.9 MB/s\u001b[0m eta \u001b[36m0:00:00\u001b[0m\n",
            "\u001b[?25hDownloading fsspec-2024.9.0-py3-none-any.whl (179 kB)\n",
            "\u001b[2K   \u001b[90m━━━━━━━━━━━━━━━━━━━━━━━━━━━━━━━━━━━━━━━━\u001b[0m \u001b[32m179.3/179.3 kB\u001b[0m \u001b[31m13.2 MB/s\u001b[0m eta \u001b[36m0:00:00\u001b[0m\n",
            "\u001b[?25hDownloading multiprocess-0.70.16-py310-none-any.whl (134 kB)\n",
            "\u001b[2K   \u001b[90m━━━━━━━━━━━━━━━━━━━━━━━━━━━━━━━━━━━━━━━━\u001b[0m \u001b[32m134.8/134.8 kB\u001b[0m \u001b[31m10.2 MB/s\u001b[0m eta \u001b[36m0:00:00\u001b[0m\n",
            "\u001b[?25hDownloading xxhash-3.5.0-cp310-cp310-manylinux_2_17_x86_64.manylinux2014_x86_64.whl (194 kB)\n",
            "\u001b[2K   \u001b[90m━━━━━━━━━━━━━━━━━━━━━━━━━━━━━━━━━━━━━━━━\u001b[0m \u001b[32m194.1/194.1 kB\u001b[0m \u001b[31m15.0 MB/s\u001b[0m eta \u001b[36m0:00:00\u001b[0m\n",
            "\u001b[?25hInstalling collected packages: xxhash, fsspec, dill, multiprocess, datasets\n",
            "  Attempting uninstall: fsspec\n",
            "    Found existing installation: fsspec 2024.10.0\n",
            "    Uninstalling fsspec-2024.10.0:\n",
            "      Successfully uninstalled fsspec-2024.10.0\n",
            "\u001b[31mERROR: pip's dependency resolver does not currently take into account all the packages that are installed. This behaviour is the source of the following dependency conflicts.\n",
            "gcsfs 2024.10.0 requires fsspec==2024.10.0, but you have fsspec 2024.9.0 which is incompatible.\u001b[0m\u001b[31m\n",
            "\u001b[0mSuccessfully installed datasets-3.2.0 dill-0.3.8 fsspec-2024.9.0 multiprocess-0.70.16 xxhash-3.5.0\n"
          ]
        }
      ],
      "source": [
        "!pip3 install transformers\n",
        "!pip3 install torch torchvision\n",
        "!pip install datasets"
      ]
    },
    {
      "cell_type": "code",
      "execution_count": 2,
      "metadata": {
        "id": "rLa0OltsR369"
      },
      "outputs": [],
      "source": [
        "from pathlib import Path\n",
        "\n",
        "import torch\n",
        "from torch.utils.data import (TensorDataset, DataLoader,\n",
        "                              RandomSampler, SequentialSampler)\n",
        "\n",
        "from transformers import BertTokenizer, BertConfig\n",
        "from transformers import BertForSequenceClassification\n",
        "\n",
        "from transformers import AdamW, get_linear_schedule_with_warmup\n",
        "\n",
        "from distutils.version import LooseVersion as LV\n",
        "\n",
        "from sklearn.model_selection import train_test_split\n",
        "from sklearn.metrics import precision_score, recall_score, f1_score, classification_report, confusion_matrix\n",
        "\n",
        "import io\n",
        "import os\n",
        "import pandas as pd\n",
        "import numpy as np\n",
        "\n",
        "import matplotlib\n",
        "matplotlib.use('Agg')\n",
        "import matplotlib.pyplot as plt\n",
        "import seaborn as sns\n",
        "sns.set()"
      ]
    },
    {
      "cell_type": "code",
      "execution_count": 3,
      "metadata": {
        "colab": {
          "base_uri": "https://localhost:8080/"
        },
        "id": "Sr_7M6TySQCC",
        "outputId": "5491b3ec-82b2-4433-d661-05a47110b2df"
      },
      "outputs": [
        {
          "output_type": "stream",
          "name": "stdout",
          "text": [
            "Using PyTorch version: 2.5.1+cu121 Device: cuda [Tesla T4]\n"
          ]
        },
        {
          "output_type": "stream",
          "name": "stderr",
          "text": [
            "<ipython-input-3-d1a1187c676c>:10: DeprecationWarning: distutils Version classes are deprecated. Use packaging.version instead.\n",
            "  assert(LV(torch.__version__) >= LV(\"1.0.0\"))\n"
          ]
        }
      ],
      "source": [
        "if torch.cuda.is_available():\n",
        "    device = torch.device('cuda')\n",
        "    devicename = '['+torch.cuda.get_device_name(0)+']'\n",
        "else:\n",
        "    device = torch.device('cpu')\n",
        "    devicename = \"\"\n",
        "\n",
        "print('Using PyTorch version:', torch.__version__,\n",
        "      'Device:', device, devicename)\n",
        "assert(LV(torch.__version__) >= LV(\"1.0.0\"))"
      ]
    },
    {
      "cell_type": "markdown",
      "metadata": {
        "id": "b1J4daS74g5D"
      },
      "source": [
        "# Loading the dataset\n",
        "\n",
        "N.B. If you rerun this code on Colab, remember to comment the `!git clone` command, or to delete runtime before rerunning."
      ]
    },
    {
      "cell_type": "code",
      "source": [
        "try:\n",
        "    from google.colab import drive\n",
        "    #drive.mount('/content/drive')\n",
        "    COLAB = True\n",
        "    !git clone https://github.com/g-fabiani4-unipi/txa_project.git\n",
        "    %cd txa_project\n",
        "except:\n",
        "    COLAB = False"
      ],
      "metadata": {
        "colab": {
          "base_uri": "https://localhost:8080/"
        },
        "id": "12-BEjZHu_Jm",
        "outputId": "f39c31b5-b017-492b-82b2-8d84dd3dea94"
      },
      "execution_count": 4,
      "outputs": [
        {
          "output_type": "stream",
          "name": "stdout",
          "text": [
            "Cloning into 'txa_project'...\n",
            "remote: Enumerating objects: 505, done.\u001b[K\n",
            "remote: Counting objects: 100% (130/130), done.\u001b[K\n",
            "remote: Compressing objects: 100% (110/110), done.\u001b[K\n",
            "remote: Total 505 (delta 46), reused 55 (delta 20), pack-reused 375 (from 1)\u001b[K\n",
            "Receiving objects: 100% (505/505), 163.19 MiB | 11.64 MiB/s, done.\n",
            "Resolving deltas: 100% (257/257), done.\n",
            "Updating files: 100% (63/63), done.\n",
            "/content/txa_project\n"
          ]
        }
      ]
    },
    {
      "cell_type": "code",
      "source": [
        "#N.B. We have two test sets\n",
        "\n",
        "data_dir = Path(\"./data\")\n",
        "\n",
        "training_set_dir = \"haspeede2_dev\"\n",
        "training_file = \"haspeede2_dev_taskAB.tsv\"\n",
        "\n",
        "test_set_dir = \"haspeede2_reference\"\n",
        "test_file_tweets = \"haspeede2_reference_taskAB-tweets.tsv\"\n",
        "test_file_news = \"haspeede2_reference_taskAB-news.tsv\"\n",
        "\n",
        "train_path = data_dir / training_set_dir / training_file\n",
        "test_path_tweets = data_dir / test_set_dir / test_file_tweets\n",
        "test_path_news = data_dir / test_set_dir / test_file_news"
      ],
      "metadata": {
        "id": "Vq8X0qPZQuhB"
      },
      "execution_count": 5,
      "outputs": []
    },
    {
      "cell_type": "code",
      "source": [
        "def load_tsv_file(file_path):\n",
        "    \"\"\"\n",
        "    Loads a .tvs file w/ or w/out an header in a pandas dataframe w/ columns\n",
        "    'id', 'text' and 'hs' ('stereotype' is ignored).\n",
        "    \"\"\"\n",
        "    try:\n",
        "\n",
        "        df = pd.read_csv(file_path, sep='\\\\t', header=None, engine='python') #engine='python' → else tweets w/ id 8094 and 9261 are not loaded\n",
        "        # Check for header → train file\n",
        "        if df.iloc[0, 0] == 'id': #df.iloc[row, col]\n",
        "            df = df.iloc[1:]  # If header → skip first line\n",
        "\n",
        "        df.columns = ['id', 'text', 'hs', 'stereotype'] #rename col\n",
        "        df = df[['id', 'text', 'hs']] #select the cols of intereste\n",
        "\n",
        "        #Convert number to int\n",
        "        df['id'] = df['id'].astype(int)\n",
        "        df['hs'] = df['hs'].astype(int)\n",
        "\n",
        "        return df\n",
        "    except Exception as e:\n",
        "        raise ValueError(f\"Errore durante la lettura del file: {e}\")"
      ],
      "metadata": {
        "id": "j2QbiYPFWHHj"
      },
      "execution_count": 6,
      "outputs": []
    },
    {
      "cell_type": "code",
      "source": [
        "#Dataframes w/ the datasets\n",
        "df_train = load_tsv_file(train_path)\n",
        "df_test_tweets = load_tsv_file(test_path_tweets)\n",
        "df_test_news = load_tsv_file(test_path_news)"
      ],
      "metadata": {
        "id": "7EeW_XGjSDXx"
      },
      "execution_count": 7,
      "outputs": []
    },
    {
      "cell_type": "code",
      "source": [
        "def list_x_y(df):\n",
        "  \"\"\"\n",
        "  For a df (dataset), create for each record (tweet) a list contaning the text (x) and a list contaning its label (y),\n",
        "  so that their indexes correspond.\n",
        "  \"\"\"\n",
        "  x = list()\n",
        "  y = list()\n",
        "  for index, row in df.iterrows():\n",
        "      x.append(row['text'])\n",
        "      y.append(row['hs'])\n",
        "  return x, y\n",
        "\n",
        "x_train, y_train = list_x_y(df_train)\n",
        "x_test_tweets, y_test_tweets = list_x_y(df_test_tweets)\n",
        "x_test_news, y_test_news = list_x_y(df_test_news)"
      ],
      "metadata": {
        "id": "JoFsXoIKCcLR"
      },
      "execution_count": 8,
      "outputs": []
    },
    {
      "cell_type": "code",
      "source": [
        "len(x_train),len(y_train),  len(x_test_tweets),len(y_test_tweets),  len(x_test_news),len(y_test_news)\n"
      ],
      "metadata": {
        "colab": {
          "base_uri": "https://localhost:8080/"
        },
        "id": "WgmWswkeg3MF",
        "outputId": "ba54beab-6a82-410f-a4b8-c46dfee0c0c0"
      },
      "execution_count": 9,
      "outputs": [
        {
          "output_type": "execute_result",
          "data": {
            "text/plain": [
              "(6839, 6839, 1263, 1263, 500, 500)"
            ]
          },
          "metadata": {},
          "execution_count": 9
        }
      ]
    },
    {
      "cell_type": "code",
      "execution_count": 10,
      "metadata": {
        "colab": {
          "base_uri": "https://localhost:8080/"
        },
        "id": "62X87ZY84g5Z",
        "outputId": "2d369e03-9497-4915-bd04-baaf737b0aea"
      },
      "outputs": [
        {
          "output_type": "execute_result",
          "data": {
            "text/plain": [
              "({0, 1}, {0, 1}, {0, 1})"
            ]
          },
          "metadata": {},
          "execution_count": 10
        }
      ],
      "source": [
        "set(y_train), set(y_test_tweets), set(y_test_news)"
      ]
    },
    {
      "cell_type": "code",
      "execution_count": 11,
      "metadata": {
        "colab": {
          "base_uri": "https://localhost:8080/"
        },
        "id": "r42x4ICg4g5e",
        "outputId": "2e232be5-e901-4494-fd55-8c0c14f44fb3"
      },
      "outputs": [
        {
          "output_type": "stream",
          "name": "stdout",
          "text": [
            "È terrorismo anche questo, per mettere in uno stato di soggezione le persone e renderle innocue, mentre qualcuno... URL \n",
            "0\n"
          ]
        }
      ],
      "source": [
        "sample_idx = 0\n",
        "print(x_train[sample_idx])\n",
        "print(y_train[sample_idx])"
      ]
    },
    {
      "cell_type": "code",
      "source": [
        "#y_train[sample_idx]"
      ],
      "metadata": {
        "id": "3lTQi8a9IXnL"
      },
      "execution_count": 12,
      "outputs": []
    },
    {
      "cell_type": "markdown",
      "metadata": {
        "id": "4O3HWztTUmaE"
      },
      "source": [
        "# Preparation of the text for BERT.\n",
        "\n",
        "The tokenizer is already fit on the same dataset on which BERT has been pretrained and it is included in the BERT model.\n",
        "To be properly handled by BERT we need to add the `[CLS]` token at the beginning of each tweet."
      ]
    },
    {
      "cell_type": "code",
      "execution_count": 13,
      "metadata": {
        "id": "K46G-KVgUhNQ"
      },
      "outputs": [],
      "source": [
        "sentences_train = [\"[CLS] \" + s for s in x_train]\n",
        "sentences_test_tweets = [\"[CLS] \" + s for s in x_test_tweets]\n",
        "sentences_test_news = [\"[CLS] \" + s for s in x_test_news]\n",
        "\n",
        "labels_train = y_train\n",
        "labels_test_tweets = y_test_tweets\n",
        "labels_test_news = y_test_news"
      ]
    },
    {
      "cell_type": "code",
      "source": [
        "sentences_train[0]"
      ],
      "metadata": {
        "colab": {
          "base_uri": "https://localhost:8080/",
          "height": 36
        },
        "id": "1a0IDScSSeNL",
        "outputId": "00b30813-cdce-4d0d-8241-723c3ed181cd"
      },
      "execution_count": 14,
      "outputs": [
        {
          "output_type": "execute_result",
          "data": {
            "text/plain": [
              "'[CLS] È terrorismo anche questo, per mettere in uno stato di soggezione le persone e renderle innocue, mentre qualcuno... URL '"
            ],
            "application/vnd.google.colaboratory.intrinsic+json": {
              "type": "string"
            }
          },
          "metadata": {},
          "execution_count": 14
        }
      ]
    },
    {
      "cell_type": "markdown",
      "metadata": {
        "id": "1bcbtpRjhbCN"
      },
      "source": [
        "Next we use the BERT tokenizer to convert the sentences into tokens that match the data BERT was trained on."
      ]
    },
    {
      "cell_type": "code",
      "execution_count": 15,
      "metadata": {
        "colab": {
          "base_uri": "https://localhost:8080/",
          "height": 396,
          "referenced_widgets": [
            "28bdd31f56c147928235762b80391c6f",
            "b629edd4da2f44ff981e52704bb80b06",
            "3b8fbd932edc4a96b64f3f003fd1125c",
            "3c812cdc92d14961a60e0c5306991643",
            "4bddcf4e5a7846db974357270fb0f8a5",
            "67991eabd9d2439ebe56c41ed0026db3",
            "b8f91bb1736c4621adefe6912dcac88f",
            "7f5b469bd3eb42e79d268dff00874214",
            "ec21c6a06c5942e98137c5d05b14f67b",
            "cbb4c015d35243179bd6b8db4b3db78c",
            "47808be39e0641f3a301984e95c4a53b",
            "1542cfad9dc048f887fd958994b392aa",
            "e837339546a842b6a0ce9b6fd63f7e3d",
            "f50a75d806f44d7f9a950de500482512",
            "f2ee89268723449e8e92f6f202a968ec",
            "38035e10b23d4d9585f15b6fe2eaa468",
            "f179284b1da54b4e9a8d08fca88daee0",
            "c4d3214d601b4f1ea8191e68bbc634d9",
            "998686baebd9472583634c26fe597867",
            "e968f0ca73c14b73be9b2a4f075d5224",
            "f8eeeccfd660405b9ffa0b5b15ce6ba7",
            "d98c125fb41349f6921294034af5e751"
          ]
        },
        "id": "KpKdIgJvSD-b",
        "outputId": "f3aefff2-4a29-4a2f-b18c-ee19ccbd2ffa"
      },
      "outputs": [
        {
          "output_type": "stream",
          "name": "stderr",
          "text": [
            "/usr/local/lib/python3.10/dist-packages/huggingface_hub/utils/_auth.py:94: UserWarning: \n",
            "The secret `HF_TOKEN` does not exist in your Colab secrets.\n",
            "To authenticate with the Hugging Face Hub, create a token in your settings tab (https://huggingface.co/settings/tokens), set it as secret in your Google Colab and restart your session.\n",
            "You will be able to reuse this secret in all of your notebooks.\n",
            "Please note that authentication is recommended but still optional to access public models or datasets.\n",
            "  warnings.warn(\n"
          ]
        },
        {
          "output_type": "display_data",
          "data": {
            "text/plain": [
              "vocab.txt:   0%|          | 0.00/1.11M [00:00<?, ?B/s]"
            ],
            "application/vnd.jupyter.widget-view+json": {
              "version_major": 2,
              "version_minor": 0,
              "model_id": "28bdd31f56c147928235762b80391c6f"
            }
          },
          "metadata": {}
        },
        {
          "output_type": "display_data",
          "data": {
            "text/plain": [
              "config.json:   0%|          | 0.00/625 [00:00<?, ?B/s]"
            ],
            "application/vnd.jupyter.widget-view+json": {
              "version_major": 2,
              "version_minor": 0,
              "model_id": "1542cfad9dc048f887fd958994b392aa"
            }
          },
          "metadata": {}
        },
        {
          "output_type": "execute_result",
          "data": {
            "text/plain": [
              "BertTokenizer(name_or_path='m-polignano-uniba/bert_uncased_L-12_H-768_A-12_italian_alb3rt0', vocab_size=128000, model_max_length=1000000000000000019884624838656, is_fast=False, padding_side='right', truncation_side='right', special_tokens={'unk_token': '[UNK]', 'sep_token': '[SEP]', 'pad_token': '[PAD]', 'cls_token': '[CLS]', 'mask_token': '[MASK]'}, clean_up_tokenization_spaces=True, added_tokens_decoder={\n",
              "\t0: AddedToken(\"[PAD]\", rstrip=False, lstrip=False, single_word=False, normalized=False, special=True),\n",
              "\t1: AddedToken(\"[UNK]\", rstrip=False, lstrip=False, single_word=False, normalized=False, special=True),\n",
              "\t2: AddedToken(\"[CLS]\", rstrip=False, lstrip=False, single_word=False, normalized=False, special=True),\n",
              "\t3: AddedToken(\"[SEP]\", rstrip=False, lstrip=False, single_word=False, normalized=False, special=True),\n",
              "\t4: AddedToken(\"[MASK]\", rstrip=False, lstrip=False, single_word=False, normalized=False, special=True),\n",
              "}\n",
              ")"
            ]
          },
          "metadata": {},
          "execution_count": 15
        }
      ],
      "source": [
        "BERTMODEL = \"m-polignano-uniba/bert_uncased_L-12_H-768_A-12_italian_alb3rt0\" #dbmdz/bert-base-italian-cased\n",
        "\n",
        "tokenizer = BertTokenizer.from_pretrained(BERTMODEL)\n",
        "tokenizer"
      ]
    },
    {
      "cell_type": "code",
      "execution_count": 16,
      "metadata": {
        "colab": {
          "base_uri": "https://localhost:8080/"
        },
        "id": "mXuRy_9Pg3sJ",
        "outputId": "23fa75c2-4c56-4cd6-a2d7-ac2959e492b1"
      },
      "outputs": [
        {
          "output_type": "stream",
          "name": "stderr",
          "text": [
            "100%|██████████| 6839/6839 [00:10<00:00, 641.62it/s] \n",
            "100%|██████████| 1263/1263 [00:01<00:00, 1227.06it/s]\n",
            "100%|██████████| 500/500 [00:00<00:00, 3108.96it/s]\n"
          ]
        }
      ],
      "source": [
        "from tqdm import tqdm #library that displays progress bars\n",
        "\n",
        "tokenized_train = [tokenizer.tokenize(s) for s in tqdm(sentences_train)]\n",
        "tokenized_test_tweets  = [tokenizer.tokenize(s) for s in tqdm(sentences_test_tweets)]\n",
        "tokenized_test_news  = [tokenizer.tokenize(s) for s in tqdm(sentences_test_news)]"
      ]
    },
    {
      "cell_type": "code",
      "source": [
        "sentences_train[0]"
      ],
      "metadata": {
        "colab": {
          "base_uri": "https://localhost:8080/",
          "height": 36
        },
        "id": "Tqs-1u-HiRGE",
        "outputId": "5fe81598-7dfd-4866-bc91-a5a768a8a67e"
      },
      "execution_count": 17,
      "outputs": [
        {
          "output_type": "execute_result",
          "data": {
            "text/plain": [
              "'[CLS] È terrorismo anche questo, per mettere in uno stato di soggezione le persone e renderle innocue, mentre qualcuno... URL '"
            ],
            "application/vnd.google.colaboratory.intrinsic+json": {
              "type": "string"
            }
          },
          "metadata": {},
          "execution_count": 17
        }
      ]
    },
    {
      "cell_type": "code",
      "execution_count": 18,
      "metadata": {
        "colab": {
          "base_uri": "https://localhost:8080/"
        },
        "id": "JswOYlyGhfu3",
        "outputId": "83cb4d60-56e0-4366-ed99-e709fd92a8ab"
      },
      "outputs": [
        {
          "output_type": "stream",
          "name": "stdout",
          "text": [
            "The full tokenized first training sentence:\n",
            "['[CLS]', 'e', 'terrorismo', 'anche', 'questo', '[UNK]', 'per', 'mettere', 'in', 'uno', 'stato', 'di', 'soggezione', 'le', 'persone', 'e', 'render', '##le', 'innocue', '[UNK]', 'mentre', 'qualcuno', '[UNK]', '[UNK]', '[UNK]', 'ur', '##l']\n"
          ]
        }
      ],
      "source": [
        "print (\"The full tokenized first training sentence:\")\n",
        "print (tokenized_train[0])"
      ]
    },
    {
      "cell_type": "markdown",
      "metadata": {
        "id": "M1bclIl2hoEG"
      },
      "source": [
        "BERT has several embeddings that pass through many levels...\n",
        "\n",
        "...but this is not a variable encoding! **BERT exploits fixed-length encoding**\n",
        "\n",
        "Thus, we set the maximum sequence lengths for our training and test sentences as `MAX_LEN_TRAIN` and `MAX_LEN_TEST`. The maximum length supported by the used BERT model is 512.\n",
        "\n",
        "The token `[SEP]` (separation token) is another special token required by BERT at the end of the sentence, e.g., useful in Q/A."
      ]
    },
    {
      "cell_type": "code",
      "execution_count": 19,
      "metadata": {
        "colab": {
          "base_uri": "https://localhost:8080/"
        },
        "id": "OAtcXAOzhvMD",
        "outputId": "73a63b06-6a71-4bc4-8040-51e0f64582f5"
      },
      "outputs": [
        {
          "output_type": "stream",
          "name": "stdout",
          "text": [
            "The truncated tokenized first training sentence:\n",
            "['[CLS]', 'e', 'terrorismo', 'anche', 'questo', '[UNK]', 'per', 'mettere', 'in', 'uno', 'stato', 'di', 'soggezione', 'le', 'persone', 'e', 'render', '##le', 'innocue', '[UNK]', 'mentre', 'qualcuno', '[UNK]', '[UNK]', '[UNK]', 'ur', '##l', 'SEP']\n"
          ]
        }
      ],
      "source": [
        "MAX_LEN_TRAIN, MAX_LEN_TEST = 128, 512\n",
        "\n",
        "tokenized_train = [t[:(MAX_LEN_TRAIN-1)]+['SEP'] for t in tokenized_train]\n",
        "tokenized_test_tweets  = [t[:(MAX_LEN_TEST-1)]+['SEP'] for t in tokenized_test_tweets]\n",
        "tokenized_test_news  = [t[:(MAX_LEN_TEST-1)]+['SEP'] for t in tokenized_test_news]\n",
        "\n",
        "print (\"The truncated tokenized first training sentence:\")\n",
        "print (tokenized_train[0])"
      ]
    },
    {
      "cell_type": "markdown",
      "metadata": {
        "id": "xDBDbn4Ch7sP"
      },
      "source": [
        "Next we use the BERT tokenizer to convert each token into an integer index in the BERT vocabulary *= Which is the proper embedding to get?*\n",
        "\n",
        "We also pad any shorter sequences to `MAX_LEN_TRAIN` or `MAX_LEN_TEST` indices with trailing zeros.\n"
      ]
    },
    {
      "cell_type": "code",
      "execution_count": 20,
      "metadata": {
        "colab": {
          "base_uri": "https://localhost:8080/"
        },
        "id": "BrcrPP8eh_ef",
        "outputId": "9e2b1ae7-3f21-4047-8314-29d551ad7918"
      },
      "outputs": [
        {
          "output_type": "stream",
          "name": "stdout",
          "text": [
            "The indices of the first training sentence:\n",
            "[    2    13  4923    23    79     1    22   605    24   153   184    12\n",
            " 49535    40   234    13 20897  1041 90954     1   408   271     1     1\n",
            "     1 14013   902     1     0     0     0     0     0     0     0     0\n",
            "     0     0     0     0     0     0     0     0     0     0     0     0\n",
            "     0     0     0     0     0     0     0     0     0     0     0     0\n",
            "     0     0     0     0     0     0     0     0     0     0     0     0\n",
            "     0     0     0     0     0     0     0     0     0     0     0     0\n",
            "     0     0     0     0     0     0     0     0     0     0     0     0\n",
            "     0     0     0     0     0     0     0     0     0     0     0     0\n",
            "     0     0     0     0     0     0     0     0     0     0     0     0\n",
            "     0     0     0     0     0     0     0     0]\n"
          ]
        }
      ],
      "source": [
        "ids_train = [tokenizer.convert_tokens_to_ids(t) for t in tokenized_train]\n",
        "ids_train = np.array([np.pad(i, (0, MAX_LEN_TRAIN-len(i)),\n",
        "                             mode='constant') for i in ids_train])\n",
        "\n",
        "ids_test_tweets = [tokenizer.convert_tokens_to_ids(t) for t in tokenized_test_tweets]\n",
        "ids_test_tweets = np.array([np.pad(i, (0, MAX_LEN_TEST-len(i)),\n",
        "                            mode='constant') for i in ids_test_tweets])\n",
        "\n",
        "ids_test_news = [tokenizer.convert_tokens_to_ids(t) for t in tokenized_test_news]\n",
        "ids_test_news = np.array([np.pad(i, (0, MAX_LEN_TEST-len(i)),\n",
        "                            mode='constant') for i in ids_test_news])\n",
        "\n",
        "print (\"The indices of the first training sentence:\")\n",
        "print (ids_train[0])"
      ]
    },
    {
      "cell_type": "markdown",
      "metadata": {
        "id": "OiKEIwpIiOeF"
      },
      "source": [
        "BERT also requires *attention masks*, with 1 for each real token in the sequences and 0 for the padding.\n",
        "\n",
        "The attention mask tells which positions you have tokens in and which are just empty and do not have tokens."
      ]
    },
    {
      "cell_type": "code",
      "execution_count": 21,
      "metadata": {
        "id": "SrJ1QioFiQOr"
      },
      "outputs": [],
      "source": [
        "amasks_train, amasks_test_tweets, amasks_test_news = [], [], []\n",
        "\n",
        "for seq in ids_train:\n",
        "  seq_mask = [float(i>0) for i in seq]\n",
        "  amasks_train.append(seq_mask)\n",
        "\n",
        "for seq in ids_test_tweets:\n",
        "  seq_mask = [float(i>0) for i in seq]\n",
        "  amasks_test_tweets.append(seq_mask)\n",
        "\n",
        "for seq in ids_test_news:\n",
        "  seq_mask = [float(i>0) for i in seq]\n",
        "  amasks_test_news.append(seq_mask)"
      ]
    },
    {
      "cell_type": "markdown",
      "metadata": {
        "id": "PaaKi8FwiU0_"
      },
      "source": [
        "We use scikit-learn's train_test_split() to use 10% of our training data as a validation set.\n",
        "\n",
        "So far, we are working with Python lists, i.e., lists of integers. In order for these lists to be correctly handled by BERT, we must convert our lists into other dedicated structures, i.e., using `torch.tensors` into tensor data structures."
      ]
    },
    {
      "cell_type": "code",
      "execution_count": 22,
      "metadata": {
        "id": "8MFbb7zNPspK"
      },
      "outputs": [],
      "source": [
        "from sklearn.model_selection import train_test_split"
      ]
    },
    {
      "cell_type": "code",
      "execution_count": 23,
      "metadata": {
        "id": "S6BDKPqtiSbL"
      },
      "outputs": [],
      "source": [
        "(train_inputs, validation_inputs,\n",
        " train_labels, validation_labels) = train_test_split(ids_train, labels_train,\n",
        "                                                     random_state=42,\n",
        "                                                     test_size=0.1)\n",
        "(train_masks, validation_masks,\n",
        " _, _) = train_test_split(amasks_train, ids_train,\n",
        "                          random_state=42, test_size=0.1)\n",
        "\n",
        "#From lists of int into tensor data structures\n",
        "train_inputs = torch.tensor(train_inputs)\n",
        "train_labels = torch.tensor(train_labels)\n",
        "train_masks  = torch.tensor(train_masks)\n",
        "validation_inputs = torch.tensor(validation_inputs)\n",
        "validation_labels = torch.tensor(validation_labels)\n",
        "validation_masks  = torch.tensor(validation_masks)\n",
        "\n",
        "test_inputs_tweets = torch.tensor(ids_test_tweets)\n",
        "test_labels_tweets = torch.tensor(labels_test_tweets)\n",
        "test_masks_tweets  = torch.tensor(amasks_test_tweets)\n",
        "\n",
        "test_inputs_news = torch.tensor(ids_test_news)\n",
        "test_labels_news = torch.tensor(labels_test_news)\n",
        "test_masks_news = torch.tensor(amasks_test_news)"
      ]
    },
    {
      "cell_type": "markdown",
      "metadata": {
        "id": "FwJkAHmbicwU"
      },
      "source": [
        "Now we are almost ready to use our data into a fitting process.\n",
        "\n",
        "Next we create PyTorch *DataLoader*s for all data sets.\n",
        "\n",
        "For fine-tuning BERT on a specific task, the authors recommend a batch size of 16 or 32."
      ]
    },
    {
      "cell_type": "code",
      "execution_count": 24,
      "metadata": {
        "colab": {
          "base_uri": "https://localhost:8080/"
        },
        "id": "H5wj7YLOiZfZ",
        "outputId": "3f63aa21-75b3-42cb-d8f4-f5d231912518"
      },
      "outputs": [
        {
          "output_type": "stream",
          "name": "stdout",
          "text": [
            "Datasets:\n",
            "Train: 6155 documents\n",
            "Validation: 684 documents\n",
            "Test 1 (Tweets): 1263 documents\n",
            "Test 2 (News): 500 documents\n"
          ]
        }
      ],
      "source": [
        "BATCH_SIZE = 32 # How many training examples in one shot are processed in parallel\n",
        "\n",
        "print('Datasets:')\n",
        "print('Train: ', end=\"\")\n",
        "train_data = TensorDataset(train_inputs, train_masks,\n",
        "                           train_labels) # The tensor defines the training documents, the training labels, and labels\n",
        "train_sampler = RandomSampler(train_data) # Random sampling to avoid creating patterns that are not there, and helps in generalizing\n",
        "train_dataloader = DataLoader(train_data, sampler=train_sampler,\n",
        "                              batch_size=BATCH_SIZE) # We wrap data into a Data Loader that will take care of moving objs from the GPU to the CPU\n",
        "print(len(train_data), 'documents')\n",
        "\n",
        "# We do the same for Validation and for the two Test datasets\n",
        "\n",
        "print('Validation: ', end=\"\")\n",
        "validation_data = TensorDataset(validation_inputs, validation_masks,\n",
        "                                validation_labels)\n",
        "validation_sampler = SequentialSampler(validation_data)\n",
        "validation_dataloader = DataLoader(validation_data,\n",
        "                                   sampler=validation_sampler,\n",
        "                                   batch_size=BATCH_SIZE)\n",
        "print(len(validation_data), 'documents')\n",
        "\n",
        "print('Test 1 (Tweets): ', end=\"\")\n",
        "test_data_tweets = TensorDataset(test_inputs_tweets, test_masks_tweets, test_labels_tweets)\n",
        "test_sampler_tweets = SequentialSampler(test_data_tweets)\n",
        "test_dataloader_tweets = DataLoader(test_data_tweets, sampler=test_sampler_tweets,\n",
        "                             batch_size=BATCH_SIZE)\n",
        "print(len(test_data_tweets), 'documents')\n",
        "\n",
        "print('Test 2 (News): ', end=\"\")\n",
        "test_data_news = TensorDataset(test_inputs_news, test_masks_news, test_labels_news)\n",
        "test_sampler_news = SequentialSampler(test_data_news)\n",
        "test_dataloader_news = DataLoader(test_data_news, sampler=test_sampler_news,\n",
        "                             batch_size=BATCH_SIZE)\n",
        "print(len(test_data_news), 'documents')"
      ]
    },
    {
      "cell_type": "markdown",
      "metadata": {
        "id": "nEgt4NkqirRi"
      },
      "source": [
        "# BERT Model Inizialization\n",
        "\n",
        "We now load a pretrained BERT model (using `BertForSequenceClassification` class) with a single linear classification layer added on top. We pass the\n",
        "\n",
        "We pass as input the same model that we passed to the tokenizer → stored in the `BERTMODEL` variable.\n",
        "\n",
        "We also have to pass the labels. In our case we have a binary classification, therefore `num_labels=2`.\n",
        "\n",
        "\n",
        "`.cuda()` comes from NVIDIA, but there is also a more open resource, that is *opencl*.\n",
        "\n",
        "\n",
        "`740M/740M` is the size of the zipped BERT model.\n"
      ]
    },
    {
      "cell_type": "code",
      "execution_count": 25,
      "metadata": {
        "colab": {
          "base_uri": "https://localhost:8080/",
          "height": 121,
          "referenced_widgets": [
            "a67e1b4bf617448f9db20fd46dc56f46",
            "11d1b591773d4b829d98d9d780c25161",
            "53bfe85b38c848b0b3ea02abed50f33d",
            "db5c52b41b0e4242bca881dc14b642a3",
            "cd751523a0ae4a46892f13602c5b5916",
            "344289826beb4c56aa3f612891a82135",
            "a444a7b7eff94a94a24f6ada365bf6c5",
            "c95a34b695814dc29bc440ec6c45d658",
            "f7c8b37f6a3545ad8fff6b634a6f8406",
            "05954e578fac410891c0ed47b466a136",
            "7b7007bb5269451da6a576835b8b6953"
          ]
        },
        "id": "sOG0wOuaiiVr",
        "outputId": "3815ca4d-49b7-43c6-86fc-fd526ea92408"
      },
      "outputs": [
        {
          "output_type": "display_data",
          "data": {
            "text/plain": [
              "pytorch_model.bin:   0%|          | 0.00/740M [00:00<?, ?B/s]"
            ],
            "application/vnd.jupyter.widget-view+json": {
              "version_major": 2,
              "version_minor": 0,
              "model_id": "a67e1b4bf617448f9db20fd46dc56f46"
            }
          },
          "metadata": {}
        },
        {
          "output_type": "stream",
          "name": "stderr",
          "text": [
            "Some weights of BertForSequenceClassification were not initialized from the model checkpoint at m-polignano-uniba/bert_uncased_L-12_H-768_A-12_italian_alb3rt0 and are newly initialized: ['classifier.bias', 'classifier.weight']\n",
            "You should probably TRAIN this model on a down-stream task to be able to use it for predictions and inference.\n"
          ]
        },
        {
          "output_type": "stream",
          "name": "stdout",
          "text": [
            "Pretrained BERT model \"m-polignano-uniba/bert_uncased_L-12_H-768_A-12_italian_alb3rt0\" loaded\n"
          ]
        }
      ],
      "source": [
        "model = BertForSequenceClassification.from_pretrained(BERTMODEL,\n",
        "                                                      num_labels=2)\n",
        "model.cuda() # Move to the cuda computing\n",
        "print('Pretrained BERT model \"{}\" loaded'.format(BERTMODEL))"
      ]
    },
    {
      "cell_type": "markdown",
      "source": [
        "You can go into detail about the model and if you want you can intervene by customizing it, e.g., adding or moving layers."
      ],
      "metadata": {
        "id": "y9-9od7dvdNg"
      }
    },
    {
      "cell_type": "code",
      "execution_count": 26,
      "metadata": {
        "colab": {
          "base_uri": "https://localhost:8080/"
        },
        "id": "LElGRFEMUCZS",
        "outputId": "7e848516-c868-4b1f-aa7f-3ed8079f8edb"
      },
      "outputs": [
        {
          "output_type": "stream",
          "name": "stdout",
          "text": [
            "BertForSequenceClassification(\n",
            "  (bert): BertModel(\n",
            "    (embeddings): BertEmbeddings(\n",
            "      (word_embeddings): Embedding(128000, 768, padding_idx=0)\n",
            "      (position_embeddings): Embedding(512, 768)\n",
            "      (token_type_embeddings): Embedding(2, 768)\n",
            "      (LayerNorm): LayerNorm((768,), eps=1e-12, elementwise_affine=True)\n",
            "      (dropout): Dropout(p=0.1, inplace=False)\n",
            "    )\n",
            "    (encoder): BertEncoder(\n",
            "      (layer): ModuleList(\n",
            "        (0-11): 12 x BertLayer(\n",
            "          (attention): BertAttention(\n",
            "            (self): BertSdpaSelfAttention(\n",
            "              (query): Linear(in_features=768, out_features=768, bias=True)\n",
            "              (key): Linear(in_features=768, out_features=768, bias=True)\n",
            "              (value): Linear(in_features=768, out_features=768, bias=True)\n",
            "              (dropout): Dropout(p=0.1, inplace=False)\n",
            "            )\n",
            "            (output): BertSelfOutput(\n",
            "              (dense): Linear(in_features=768, out_features=768, bias=True)\n",
            "              (LayerNorm): LayerNorm((768,), eps=1e-12, elementwise_affine=True)\n",
            "              (dropout): Dropout(p=0.1, inplace=False)\n",
            "            )\n",
            "          )\n",
            "          (intermediate): BertIntermediate(\n",
            "            (dense): Linear(in_features=768, out_features=3072, bias=True)\n",
            "            (intermediate_act_fn): GELUActivation()\n",
            "          )\n",
            "          (output): BertOutput(\n",
            "            (dense): Linear(in_features=3072, out_features=768, bias=True)\n",
            "            (LayerNorm): LayerNorm((768,), eps=1e-12, elementwise_affine=True)\n",
            "            (dropout): Dropout(p=0.1, inplace=False)\n",
            "          )\n",
            "        )\n",
            "      )\n",
            "    )\n",
            "    (pooler): BertPooler(\n",
            "      (dense): Linear(in_features=768, out_features=768, bias=True)\n",
            "      (activation): Tanh()\n",
            "    )\n",
            "  )\n",
            "  (dropout): Dropout(p=0.1, inplace=False)\n",
            "  (classifier): Linear(in_features=768, out_features=2, bias=True)\n",
            ")\n"
          ]
        }
      ],
      "source": [
        "print(model)"
      ]
    },
    {
      "cell_type": "markdown",
      "source": [
        "The first layer of the network is an embedding layer,\n",
        "```\n",
        "(embeddings): BertEmbeddings(\n",
        "      (word_embeddings): Embedding(30522, 768, padding_idx=0)\n",
        "      (position_embeddings) : Embedding(512, 768)\n",
        "      ...\n",
        "```\n",
        "So, the number you have assigned to a feature is converted to a vector of 768 and has more than 30,000 different embeddings.\n",
        "Then there is the position embedding...\n",
        "\n",
        "Note we are using a\n",
        "```\n",
        "(encoder): BertEncoder(\n",
        "      ...)\n",
        "```\n",
        "so, you can see the Q, K, V decomposition\n",
        "```\n",
        "(query): Linear(in_features=768, out_features=768, bias=True)\n",
        "(key): Linear(in_features=768, out_features=768, bias=True)\n",
        "(value): Linear(in_features=768, out_features=768, bias=True)\n",
        "\n",
        "```"
      ],
      "metadata": {
        "id": "EGjweYmewVoy"
      }
    },
    {
      "cell_type": "markdown",
      "metadata": {
        "id": "JjtNQUINizE2"
      },
      "source": [
        "We set the remaining hyperparameters needed for fine-tuning the pretrained model:\n",
        " * EPOCHS: the number of training epochs in fine-tuning\n",
        "   (recommended values between 2 and 4)\n",
        " * WEIGHT_DECAY: weight decay for the Adam optimizer\n",
        " * LR: learning rate for the Adam optimizer (2e-5 to 5e-5 recommended)\n",
        " * WARMUP_STEPS: number of warmup steps to (linearly) reach the set learning rate\n",
        "\n",
        "We also need to grab the training parameters from the pretrained model."
      ]
    },
    {
      "cell_type": "code",
      "execution_count": 27,
      "metadata": {
        "id": "naOcRV62iwAR",
        "colab": {
          "base_uri": "https://localhost:8080/"
        },
        "outputId": "5d10bf8e-66ff-46d2-d93f-32feefe1ebc8"
      },
      "outputs": [
        {
          "output_type": "stream",
          "name": "stderr",
          "text": [
            "/usr/local/lib/python3.10/dist-packages/transformers/optimization.py:591: FutureWarning: This implementation of AdamW is deprecated and will be removed in a future version. Use the PyTorch implementation torch.optim.AdamW instead, or set `no_deprecation_warning=True` to disable this warning\n",
            "  warnings.warn(\n"
          ]
        }
      ],
      "source": [
        "EPOCHS = 4\n",
        "WEIGHT_DECAY = 0.01\n",
        "LR = 2e-5\n",
        "WARMUP_STEPS =int(0.2*len(train_dataloader))\n",
        "\n",
        "no_decay = ['bias', 'LayerNorm.weight']\n",
        "optimizer_grouped_parameters = [\n",
        "    {'params': [p for n, p in model.named_parameters()\n",
        "                if not any(nd in n for nd in no_decay)],\n",
        "     'weight_decay': WEIGHT_DECAY},\n",
        "    {'params': [p for n, p in model.named_parameters()\n",
        "                if any(nd in n for nd in no_decay)],\n",
        "     'weight_decay': 0.0}\n",
        "]\n",
        "optimizer = AdamW(optimizer_grouped_parameters, lr=LR, eps=1e-8)\n",
        "scheduler = get_linear_schedule_with_warmup(optimizer, num_warmup_steps=WARMUP_STEPS,\n",
        "                                 num_training_steps =len(train_dataloader)*EPOCHS)"
      ]
    },
    {
      "cell_type": "markdown",
      "metadata": {
        "id": "dk4A50LtjIQS"
      },
      "source": [
        "## Training\n",
        "\n",
        "Let's now define functions to train() and evaluate() the model. Since we are working with pythorch and not with keras we have to set up the forward pass, steps..."
      ]
    },
    {
      "cell_type": "code",
      "execution_count": 28,
      "metadata": {
        "id": "Y617BgqjjAJG"
      },
      "outputs": [],
      "source": [
        "def train(epoch, loss_vector=None, log_interval=200): #loss_vector = train_lossv\n",
        "  # Set model to training mode\n",
        "  model.train()\n",
        "\n",
        "  # Loop over each batch from the training set\n",
        "  for step, batch in enumerate(train_dataloader):\n",
        "\n",
        "    # Copy data to GPU if needed\n",
        "    batch = tuple(t.to(device) for t in batch)\n",
        "\n",
        "    # Unpack the inputs from our dataloader\n",
        "    b_input_ids, b_input_mask, b_labels = batch\n",
        "\n",
        "    # Zero gradient buffers\n",
        "    optimizer.zero_grad()\n",
        "\n",
        "    # Forward pass\n",
        "    outputs = model(b_input_ids, token_type_ids=None,\n",
        "                    attention_mask=b_input_mask, labels=b_labels)\n",
        "\n",
        "    loss = outputs[0]\n",
        "    if loss_vector is not None:\n",
        "        loss_vector.append(loss.item())\n",
        "\n",
        "    # Backward pass\n",
        "    loss.backward()\n",
        "\n",
        "    # Update weights\n",
        "    optimizer.step()\n",
        "    scheduler.step()\n",
        "\n",
        "    if step % log_interval == 0:\n",
        "        print('Train Epoch: {} [{}/{} ({:.0f}%)]\\tLoss: {:.6f}'.format(\n",
        "                epoch, step * len(b_input_ids),\n",
        "                len(train_dataloader.dataset),\n",
        "                100. * step / len(train_dataloader), loss))\n",
        "\n",
        "\n",
        "def evaluate(loader, loss_vector=None):\n",
        "    # Set model to evaluation mode\n",
        "    model.eval()\n",
        "\n",
        "    all_predictions = []\n",
        "    all_labels = []\n",
        "\n",
        "    for batch in loader:\n",
        "        batch = tuple(t.to(device) for t in batch)\n",
        "        b_input_ids, b_input_mask, b_labels = batch\n",
        "\n",
        "        with torch.no_grad():\n",
        "            outputs = model(b_input_ids, token_type_ids=None,\n",
        "                            attention_mask=b_input_mask, labels=b_labels) #we provide the labels to get the loss\n",
        "            loss = outputs[0]  # Compute validation loss\n",
        "            if loss_vector is not None:\n",
        "                loss_vector.append(loss.item())  # Append loss to loss vector\n",
        "\n",
        "            logits = outputs[1]  # Get logits\n",
        "            logits = logits.detach().cpu().numpy()\n",
        "            predictions = np.argmax(logits, axis=1)\n",
        "\n",
        "            labels = b_labels.to('cpu').numpy()\n",
        "            all_predictions.extend(predictions)\n",
        "            all_labels.extend(labels)\n",
        "\n",
        "    # Calculate metrics\n",
        "    accuracy = np.mean(np.array(all_predictions) == np.array(all_labels))\n",
        "    precision = precision_score(all_labels, all_predictions, average='macro')\n",
        "    recall = recall_score(all_labels, all_predictions, average='macro')\n",
        "    f1 = f1_score(all_labels, all_predictions, average='macro')\n",
        "\n",
        "    print('Accuracy: {:.4f}'.format(accuracy))\n",
        "    print('Precision: {:.4f}'.format(precision))\n",
        "    print('Recall: {:.4f}'.format(recall))\n",
        "    print('F1 Score: {:.4f}'.format(f1))"
      ]
    },
    {
      "cell_type": "markdown",
      "metadata": {
        "id": "o0x87vj4jLG8"
      },
      "source": [
        "Now we are ready to train our model using the train() function. After each epoch, we evaluate the model using the validation set and evaluate()."
      ]
    },
    {
      "cell_type": "code",
      "execution_count": 29,
      "metadata": {
        "colab": {
          "base_uri": "https://localhost:8080/"
        },
        "id": "CtNwgXKDjJQ3",
        "outputId": "9d03e488-b995-4de8-86a4-3d62c6711a56"
      },
      "outputs": [
        {
          "output_type": "stream",
          "name": "stdout",
          "text": [
            "\n",
            "Train Epoch: 1 [0/6155 (0%)]\tLoss: 0.647841\n",
            "\n",
            "Validation set:\n",
            "Accuracy: 0.8056\n",
            "Precision: 0.8001\n",
            "Recall: 0.8039\n",
            "F1 Score: 0.8016\n",
            "\n",
            "Train Epoch: 2 [0/6155 (0%)]\tLoss: 0.274380\n",
            "\n",
            "Validation set:\n",
            "Accuracy: 0.8129\n",
            "Precision: 0.8082\n",
            "Recall: 0.8146\n",
            "F1 Score: 0.8100\n",
            "\n",
            "Train Epoch: 3 [0/6155 (0%)]\tLoss: 0.357836\n",
            "\n",
            "Validation set:\n",
            "Accuracy: 0.8143\n",
            "Precision: 0.8102\n",
            "Recall: 0.8065\n",
            "F1 Score: 0.8081\n",
            "\n",
            "Train Epoch: 4 [0/6155 (0%)]\tLoss: 0.162856\n",
            "\n",
            "Validation set:\n",
            "Accuracy: 0.8114\n",
            "Precision: 0.8060\n",
            "Recall: 0.8099\n",
            "F1 Score: 0.8075\n"
          ]
        }
      ],
      "source": [
        "#Lists to store the train/eval batch losses (lists w/ loss for each batch)\n",
        "train_lossv = []\n",
        "eval_lossv = []\n",
        "\n",
        "for epoch in range(1, EPOCHS + 1):\n",
        "    print()\n",
        "    train(epoch, train_lossv)\n",
        "    print('\\nValidation set:')\n",
        "    evaluate(validation_dataloader, eval_lossv)"
      ]
    },
    {
      "cell_type": "markdown",
      "metadata": {
        "id": "W8fr0OSRjmaS"
      },
      "source": [
        "Let's take a look at our training loss over all batches.\n",
        "\n",
        "We see a steady decay, as hoped: it means that the model is learning."
      ]
    },
    {
      "cell_type": "code",
      "execution_count": 30,
      "metadata": {
        "colab": {
          "base_uri": "https://localhost:8080/",
          "height": 652
        },
        "id": "zmEaoKyxjQQ2",
        "outputId": "dc05b496-c88f-43af-b571-93854fbb8e2d"
      },
      "outputs": [
        {
          "output_type": "display_data",
          "data": {
            "text/plain": [
              "<Figure size 1500x800 with 1 Axes>"
            ],
            "image/png": "[encoded data removed]"
          },
          "metadata": {}
        }
      ],
      "source": [
        "%matplotlib inline\n",
        "plt.figure(figsize=(15,8))\n",
        "plt.title(\"Training loss\")\n",
        "plt.xlabel(\"Batch\")\n",
        "plt.ylabel(\"Loss\")\n",
        "plt.plot(train_lossv, label='original')\n",
        "plt.plot(np.convolve(train_lossv, np.ones(101), 'same') / 101,\n",
        "         label='averaged')\n",
        "plt.legend(loc='best')\n",
        "plt.show()"
      ]
    },
    {
      "cell_type": "markdown",
      "source": [
        "Let's visualize the loss trend on the training and evaluation dataset per epoch.\n",
        "\n",
        "As said before, the training loss is decaying, but the validation loss is increasing after the second epoch. This is a signal of overfitting: the model is not really learning from the training set, but rather memorizing it, which hurts its capacility to generalize on the validation set."
      ],
      "metadata": {
        "id": "x601NrqszrIw"
      }
    },
    {
      "cell_type": "code",
      "source": [
        "# Calculate epoch-level losses → lists w/ the avg loss for each epoch\n",
        "# len(dataloader): number of batches to process the entire dataset in one epoch\n",
        "  #for i in range(0, len(lossv), len(dataloader): we iterate over the entire loss vector, w/ a step equal to the n. of batches in one epoch (aka step = one epoch)\n",
        "  #lossv[i:i + len(dataloader)]: we slice the loss vector to select the batch losses for one epoch → over this slice, we calculate the avg → avg loss for the epoch\n",
        "epoch_train_loss = [np.mean(train_lossv[i:i + len(train_dataloader)]) for i in range(0, len(train_lossv), len(train_dataloader))]\n",
        "epoch_eval_loss = [np.mean(eval_lossv[i:i + len(validation_dataloader)]) for i in range(0, len(eval_lossv), len(validation_dataloader))]\n",
        "\n",
        "# Plot\n",
        "plt.figure(figsize=(10, 6))\n",
        "plt.plot(range(1, len(epoch_train_loss) + 1), epoch_train_loss, label='Training Loss', color='blue')\n",
        "plt.plot(range(1, len(epoch_eval_loss) + 1), epoch_eval_loss, label='Validation Loss', color='orange')\n",
        "plt.xlabel('Epoch')\n",
        "plt.ylabel('Loss')\n",
        "plt.title('Training and Validation Loss (Epoch Level)')\n",
        "plt.legend()\n",
        "plt.show()"
      ],
      "metadata": {
        "id": "vNnBW7gmzzHY",
        "colab": {
          "base_uri": "https://localhost:8080/",
          "height": 573
        },
        "outputId": "51d1b26f-b2f4-4c87-f6d0-114cb2a6b61d"
      },
      "execution_count": 31,
      "outputs": [
        {
          "output_type": "display_data",
          "data": {
            "text/plain": [
              "<Figure size 1000x600 with 1 Axes>"
            ],
            "image/png": "[encoded data removed]"
          },
          "metadata": {}
        }
      ]
    },
    {
      "cell_type": "markdown",
      "metadata": {
        "id": "IQLpN-Q1jvW7"
      },
      "source": [
        "## Evaluation\n",
        "\n",
        "For a better measure of the quality of the model, let's see the model accuracy, precision, recall and F1 score for the two data sets (tweets and news headlines)."
      ]
    },
    {
      "cell_type": "code",
      "source": [
        "#Redefine the evaluate function → classification report + confusion matrix\n",
        "def evaluate(loader):\n",
        "  model.eval()\n",
        "\n",
        "  n_correct, n_all = 0, 0\n",
        "\n",
        "  all_predictions = []\n",
        "  all_labels = []\n",
        "\n",
        "  for batch in loader:\n",
        "    batch = tuple(t.to(device) for t in batch)\n",
        "    b_input_ids, b_input_mask, b_labels = batch\n",
        "\n",
        "    with torch.no_grad():\n",
        "      outputs = model(b_input_ids, token_type_ids=None,\n",
        "                      attention_mask=b_input_mask)\n",
        "      logits = outputs[0]\n",
        "\n",
        "    logits = logits.detach().cpu().numpy()\n",
        "    predictions = np.argmax(logits, axis=1)\n",
        "\n",
        "    labels = b_labels.to('cpu').numpy()\n",
        "    n_correct += np.sum(predictions == labels)\n",
        "    n_all += len(labels)\n",
        "\n",
        "    #Update preds and labels for the classification report\n",
        "    all_predictions.extend(predictions)\n",
        "    all_labels.extend(labels)\n",
        "\n",
        "  print('Accuracy: [{}/{}] {:.4f}'.format(n_correct, n_all,\n",
        "                                          n_correct/n_all))\n",
        "\n",
        "  report = classification_report(all_labels, all_predictions, digits= 4)\n",
        "  print(\"Classification Report:\\n\", report)\n",
        "\n",
        "  # Create confusion matrix and plot\n",
        "  conf_matrix = confusion_matrix(all_labels, all_predictions)\n",
        "  plt.figure(figsize=(8, 6))\n",
        "  sns.heatmap(conf_matrix, annot=True, fmt='d', cmap='Blues',\n",
        "              xticklabels=[str(i) for i in range(conf_matrix.shape[1])],\n",
        "              yticklabels=[str(i) for i in range(conf_matrix.shape[0])])\n",
        "  plt.title('Confusion Matrix')\n",
        "  plt.xlabel('Prediction')\n",
        "  plt.ylabel('Gold')\n",
        "  plt.show()"
      ],
      "metadata": {
        "id": "JVFFeXBAMHc_"
      },
      "execution_count": 32,
      "outputs": []
    },
    {
      "cell_type": "code",
      "execution_count": 33,
      "metadata": {
        "colab": {
          "base_uri": "https://localhost:8080/",
          "height": 781
        },
        "id": "mDIYn1Mqjz-2",
        "outputId": "fa861e07-323c-4d43-a3cc-d3b5259b2b30"
      },
      "outputs": [
        {
          "output_type": "stream",
          "name": "stdout",
          "text": [
            "------Test set 1 (Tweets):------\n",
            "Accuracy: [975/1263] 0.7720\n",
            "Classification Report:\n",
            "               precision    recall  f1-score   support\n",
            "\n",
            "           0     0.7842    0.7598    0.7718       641\n",
            "           1     0.7601    0.7846    0.7722       622\n",
            "\n",
            "    accuracy                         0.7720      1263\n",
            "   macro avg     0.7722    0.7722    0.7720      1263\n",
            "weighted avg     0.7724    0.7720    0.7720      1263\n",
            "\n"
          ]
        },
        {
          "output_type": "display_data",
          "data": {
            "text/plain": [
              "<Figure size 800x600 with 2 Axes>"
            ],
            "image/png": "[encoded data removed]"
          },
          "metadata": {}
        }
      ],
      "source": [
        "print('------Test set 1 (Tweets):------')\n",
        "evaluate(test_dataloader_tweets)"
      ]
    },
    {
      "cell_type": "code",
      "execution_count": 34,
      "metadata": {
        "id": "vS9ybeVFPspM",
        "colab": {
          "base_uri": "https://localhost:8080/",
          "height": 781
        },
        "outputId": "314449e0-487d-44f9-d9c8-6498e9f2fbbb"
      },
      "outputs": [
        {
          "output_type": "stream",
          "name": "stdout",
          "text": [
            "------Test set 2 (News):------\n",
            "Accuracy: [386/500] 0.7720\n",
            "Classification Report:\n",
            "               precision    recall  f1-score   support\n",
            "\n",
            "           0     0.7556    0.9498    0.8417       319\n",
            "           1     0.8384    0.4586    0.5929       181\n",
            "\n",
            "    accuracy                         0.7720       500\n",
            "   macro avg     0.7970    0.7042    0.7173       500\n",
            "weighted avg     0.7856    0.7720    0.7516       500\n",
            "\n"
          ]
        },
        {
          "output_type": "display_data",
          "data": {
            "text/plain": [
              "<Figure size 800x600 with 2 Axes>"
            ],
            "image/png": "[encoded data removed]"
          },
          "metadata": {}
        }
      ],
      "source": [
        "print('------Test set 2 (News):------')\n",
        "evaluate(test_dataloader_news)"
      ]
    }
  ],
  "metadata": {
    "accelerator": "GPU",
    "colab": {
      "provenance": [],
      "gpuType": "T4"
    },
    "kernelspec": {
      "display_name": "Python 3",
      "name": "python3"
    },
    "language_info": {
      "name": "python"
    },
    "widgets": {
      "application/vnd.jupyter.widget-state+json": {
        "28bdd31f56c147928235762b80391c6f": {
          "model_module": "@jupyter-widgets/controls",
          "model_name": "HBoxModel",
          "model_module_version": "1.5.0",
          "state": {
            "_dom_classes": [],
            "_model_module": "@jupyter-widgets/controls",
            "_model_module_version": "1.5.0",
            "_model_name": "HBoxModel",
            "_view_count": null,
            "_view_module": "@jupyter-widgets/controls",
            "_view_module_version": "1.5.0",
            "_view_name": "HBoxView",
            "box_style": "",
            "children": [
              "IPY_MODEL_b629edd4da2f44ff981e52704bb80b06",
              "IPY_MODEL_3b8fbd932edc4a96b64f3f003fd1125c",
              "IPY_MODEL_3c812cdc92d14961a60e0c5306991643"
            ],
            "layout": "IPY_MODEL_4bddcf4e5a7846db974357270fb0f8a5"
          }
        },
        "b629edd4da2f44ff981e52704bb80b06": {
          "model_module": "@jupyter-widgets/controls",
          "model_name": "HTMLModel",
          "model_module_version": "1.5.0",
          "state": {
            "_dom_classes": [],
            "_model_module": "@jupyter-widgets/controls",
            "_model_module_version": "1.5.0",
            "_model_name": "HTMLModel",
            "_view_count": null,
            "_view_module": "@jupyter-widgets/controls",
            "_view_module_version": "1.5.0",
            "_view_name": "HTMLView",
            "description": "",
            "description_tooltip": null,
            "layout": "IPY_MODEL_67991eabd9d2439ebe56c41ed0026db3",
            "placeholder": "​",
            "style": "IPY_MODEL_b8f91bb1736c4621adefe6912dcac88f",
            "value": "vocab.txt: 100%"
          }
        },
        "3b8fbd932edc4a96b64f3f003fd1125c": {
          "model_module": "@jupyter-widgets/controls",
          "model_name": "FloatProgressModel",
          "model_module_version": "1.5.0",
          "state": {
            "_dom_classes": [],
            "_model_module": "@jupyter-widgets/controls",
            "_model_module_version": "1.5.0",
            "_model_name": "FloatProgressModel",
            "_view_count": null,
            "_view_module": "@jupyter-widgets/controls",
            "_view_module_version": "1.5.0",
            "_view_name": "ProgressView",
            "bar_style": "success",
            "description": "",
            "description_tooltip": null,
            "layout": "IPY_MODEL_7f5b469bd3eb42e79d268dff00874214",
            "max": 1108715,
            "min": 0,
            "orientation": "horizontal",
            "style": "IPY_MODEL_ec21c6a06c5942e98137c5d05b14f67b",
            "value": 1108715
          }
        },
        "3c812cdc92d14961a60e0c5306991643": {
          "model_module": "@jupyter-widgets/controls",
          "model_name": "HTMLModel",
          "model_module_version": "1.5.0",
          "state": {
            "_dom_classes": [],
            "_model_module": "@jupyter-widgets/controls",
            "_model_module_version": "1.5.0",
            "_model_name": "HTMLModel",
            "_view_count": null,
            "_view_module": "@jupyter-widgets/controls",
            "_view_module_version": "1.5.0",
            "_view_name": "HTMLView",
            "description": "",
            "description_tooltip": null,
            "layout": "IPY_MODEL_cbb4c015d35243179bd6b8db4b3db78c",
            "placeholder": "​",
            "style": "IPY_MODEL_47808be39e0641f3a301984e95c4a53b",
            "value": " 1.11M/1.11M [00:00&lt;00:00, 9.21MB/s]"
          }
        },
        "4bddcf4e5a7846db974357270fb0f8a5": {
          "model_module": "@jupyter-widgets/base",
          "model_name": "LayoutModel",
          "model_module_version": "1.2.0",
          "state": {
            "_model_module": "@jupyter-widgets/base",
            "_model_module_version": "1.2.0",
            "_model_name": "LayoutModel",
            "_view_count": null,
            "_view_module": "@jupyter-widgets/base",
            "_view_module_version": "1.2.0",
            "_view_name": "LayoutView",
            "align_content": null,
            "align_items": null,
            "align_self": null,
            "border": null,
            "bottom": null,
            "display": null,
            "flex": null,
            "flex_flow": null,
            "grid_area": null,
            "grid_auto_columns": null,
            "grid_auto_flow": null,
            "grid_auto_rows": null,
            "grid_column": null,
            "grid_gap": null,
            "grid_row": null,
            "grid_template_areas": null,
            "grid_template_columns": null,
            "grid_template_rows": null,
            "height": null,
            "justify_content": null,
            "justify_items": null,
            "left": null,
            "margin": null,
            "max_height": null,
            "max_width": null,
            "min_height": null,
            "min_width": null,
            "object_fit": null,
            "object_position": null,
            "order": null,
            "overflow": null,
            "overflow_x": null,
            "overflow_y": null,
            "padding": null,
            "right": null,
            "top": null,
            "visibility": null,
            "width": null
          }
        },
        "67991eabd9d2439ebe56c41ed0026db3": {
          "model_module": "@jupyter-widgets/base",
          "model_name": "LayoutModel",
          "model_module_version": "1.2.0",
          "state": {
            "_model_module": "@jupyter-widgets/base",
            "_model_module_version": "1.2.0",
            "_model_name": "LayoutModel",
            "_view_count": null,
            "_view_module": "@jupyter-widgets/base",
            "_view_module_version": "1.2.0",
            "_view_name": "LayoutView",
            "align_content": null,
            "align_items": null,
            "align_self": null,
            "border": null,
            "bottom": null,
            "display": null,
            "flex": null,
            "flex_flow": null,
            "grid_area": null,
            "grid_auto_columns": null,
            "grid_auto_flow": null,
            "grid_auto_rows": null,
            "grid_column": null,
            "grid_gap": null,
            "grid_row": null,
            "grid_template_areas": null,
            "grid_template_columns": null,
            "grid_template_rows": null,
            "height": null,
            "justify_content": null,
            "justify_items": null,
            "left": null,
            "margin": null,
            "max_height": null,
            "max_width": null,
            "min_height": null,
            "min_width": null,
            "object_fit": null,
            "object_position": null,
            "order": null,
            "overflow": null,
            "overflow_x": null,
            "overflow_y": null,
            "padding": null,
            "right": null,
            "top": null,
            "visibility": null,
            "width": null
          }
        },
        "b8f91bb1736c4621adefe6912dcac88f": {
          "model_module": "@jupyter-widgets/controls",
          "model_name": "DescriptionStyleModel",
          "model_module_version": "1.5.0",
          "state": {
            "_model_module": "@jupyter-widgets/controls",
            "_model_module_version": "1.5.0",
            "_model_name": "DescriptionStyleModel",
            "_view_count": null,
            "_view_module": "@jupyter-widgets/base",
            "_view_module_version": "1.2.0",
            "_view_name": "StyleView",
            "description_width": ""
          }
        },
        "7f5b469bd3eb42e79d268dff00874214": {
          "model_module": "@jupyter-widgets/base",
          "model_name": "LayoutModel",
          "model_module_version": "1.2.0",
          "state": {
            "_model_module": "@jupyter-widgets/base",
            "_model_module_version": "1.2.0",
            "_model_name": "LayoutModel",
            "_view_count": null,
            "_view_module": "@jupyter-widgets/base",
            "_view_module_version": "1.2.0",
            "_view_name": "LayoutView",
            "align_content": null,
            "align_items": null,
            "align_self": null,
            "border": null,
            "bottom": null,
            "display": null,
            "flex": null,
            "flex_flow": null,
            "grid_area": null,
            "grid_auto_columns": null,
            "grid_auto_flow": null,
            "grid_auto_rows": null,
            "grid_column": null,
            "grid_gap": null,
            "grid_row": null,
            "grid_template_areas": null,
            "grid_template_columns": null,
            "grid_template_rows": null,
            "height": null,
            "justify_content": null,
            "justify_items": null,
            "left": null,
            "margin": null,
            "max_height": null,
            "max_width": null,
            "min_height": null,
            "min_width": null,
            "object_fit": null,
            "object_position": null,
            "order": null,
            "overflow": null,
            "overflow_x": null,
            "overflow_y": null,
            "padding": null,
            "right": null,
            "top": null,
            "visibility": null,
            "width": null
          }
        },
        "ec21c6a06c5942e98137c5d05b14f67b": {
          "model_module": "@jupyter-widgets/controls",
          "model_name": "ProgressStyleModel",
          "model_module_version": "1.5.0",
          "state": {
            "_model_module": "@jupyter-widgets/controls",
            "_model_module_version": "1.5.0",
            "_model_name": "ProgressStyleModel",
            "_view_count": null,
            "_view_module": "@jupyter-widgets/base",
            "_view_module_version": "1.2.0",
            "_view_name": "StyleView",
            "bar_color": null,
            "description_width": ""
          }
        },
        "cbb4c015d35243179bd6b8db4b3db78c": {
          "model_module": "@jupyter-widgets/base",
          "model_name": "LayoutModel",
          "model_module_version": "1.2.0",
          "state": {
            "_model_module": "@jupyter-widgets/base",
            "_model_module_version": "1.2.0",
            "_model_name": "LayoutModel",
            "_view_count": null,
            "_view_module": "@jupyter-widgets/base",
            "_view_module_version": "1.2.0",
            "_view_name": "LayoutView",
            "align_content": null,
            "align_items": null,
            "align_self": null,
            "border": null,
            "bottom": null,
            "display": null,
            "flex": null,
            "flex_flow": null,
            "grid_area": null,
            "grid_auto_columns": null,
            "grid_auto_flow": null,
            "grid_auto_rows": null,
            "grid_column": null,
            "grid_gap": null,
            "grid_row": null,
            "grid_template_areas": null,
            "grid_template_columns": null,
            "grid_template_rows": null,
            "height": null,
            "justify_content": null,
            "justify_items": null,
            "left": null,
            "margin": null,
            "max_height": null,
            "max_width": null,
            "min_height": null,
            "min_width": null,
            "object_fit": null,
            "object_position": null,
            "order": null,
            "overflow": null,
            "overflow_x": null,
            "overflow_y": null,
            "padding": null,
            "right": null,
            "top": null,
            "visibility": null,
            "width": null
          }
        },
        "47808be39e0641f3a301984e95c4a53b": {
          "model_module": "@jupyter-widgets/controls",
          "model_name": "DescriptionStyleModel",
          "model_module_version": "1.5.0",
          "state": {
            "_model_module": "@jupyter-widgets/controls",
            "_model_module_version": "1.5.0",
            "_model_name": "DescriptionStyleModel",
            "_view_count": null,
            "_view_module": "@jupyter-widgets/base",
            "_view_module_version": "1.2.0",
            "_view_name": "StyleView",
            "description_width": ""
          }
        },
        "1542cfad9dc048f887fd958994b392aa": {
          "model_module": "@jupyter-widgets/controls",
          "model_name": "HBoxModel",
          "model_module_version": "1.5.0",
          "state": {
            "_dom_classes": [],
            "_model_module": "@jupyter-widgets/controls",
            "_model_module_version": "1.5.0",
            "_model_name": "HBoxModel",
            "_view_count": null,
            "_view_module": "@jupyter-widgets/controls",
            "_view_module_version": "1.5.0",
            "_view_name": "HBoxView",
            "box_style": "",
            "children": [
              "IPY_MODEL_e837339546a842b6a0ce9b6fd63f7e3d",
              "IPY_MODEL_f50a75d806f44d7f9a950de500482512",
              "IPY_MODEL_f2ee89268723449e8e92f6f202a968ec"
            ],
            "layout": "IPY_MODEL_38035e10b23d4d9585f15b6fe2eaa468"
          }
        },
        "e837339546a842b6a0ce9b6fd63f7e3d": {
          "model_module": "@jupyter-widgets/controls",
          "model_name": "HTMLModel",
          "model_module_version": "1.5.0",
          "state": {
            "_dom_classes": [],
            "_model_module": "@jupyter-widgets/controls",
            "_model_module_version": "1.5.0",
            "_model_name": "HTMLModel",
            "_view_count": null,
            "_view_module": "@jupyter-widgets/controls",
            "_view_module_version": "1.5.0",
            "_view_name": "HTMLView",
            "description": "",
            "description_tooltip": null,
            "layout": "IPY_MODEL_f179284b1da54b4e9a8d08fca88daee0",
            "placeholder": "​",
            "style": "IPY_MODEL_c4d3214d601b4f1ea8191e68bbc634d9",
            "value": "config.json: 100%"
          }
        },
        "f50a75d806f44d7f9a950de500482512": {
          "model_module": "@jupyter-widgets/controls",
          "model_name": "FloatProgressModel",
          "model_module_version": "1.5.0",
          "state": {
            "_dom_classes": [],
            "_model_module": "@jupyter-widgets/controls",
            "_model_module_version": "1.5.0",
            "_model_name": "FloatProgressModel",
            "_view_count": null,
            "_view_module": "@jupyter-widgets/controls",
            "_view_module_version": "1.5.0",
            "_view_name": "ProgressView",
            "bar_style": "success",
            "description": "",
            "description_tooltip": null,
            "layout": "IPY_MODEL_998686baebd9472583634c26fe597867",
            "max": 625,
            "min": 0,
            "orientation": "horizontal",
            "style": "IPY_MODEL_e968f0ca73c14b73be9b2a4f075d5224",
            "value": 625
          }
        },
        "f2ee89268723449e8e92f6f202a968ec": {
          "model_module": "@jupyter-widgets/controls",
          "model_name": "HTMLModel",
          "model_module_version": "1.5.0",
          "state": {
            "_dom_classes": [],
            "_model_module": "@jupyter-widgets/controls",
            "_model_module_version": "1.5.0",
            "_model_name": "HTMLModel",
            "_view_count": null,
            "_view_module": "@jupyter-widgets/controls",
            "_view_module_version": "1.5.0",
            "_view_name": "HTMLView",
            "description": "",
            "description_tooltip": null,
            "layout": "IPY_MODEL_f8eeeccfd660405b9ffa0b5b15ce6ba7",
            "placeholder": "​",
            "style": "IPY_MODEL_d98c125fb41349f6921294034af5e751",
            "value": " 625/625 [00:00&lt;00:00, 10.5kB/s]"
          }
        },
        "38035e10b23d4d9585f15b6fe2eaa468": {
          "model_module": "@jupyter-widgets/base",
          "model_name": "LayoutModel",
          "model_module_version": "1.2.0",
          "state": {
            "_model_module": "@jupyter-widgets/base",
            "_model_module_version": "1.2.0",
            "_model_name": "LayoutModel",
            "_view_count": null,
            "_view_module": "@jupyter-widgets/base",
            "_view_module_version": "1.2.0",
            "_view_name": "LayoutView",
            "align_content": null,
            "align_items": null,
            "align_self": null,
            "border": null,
            "bottom": null,
            "display": null,
            "flex": null,
            "flex_flow": null,
            "grid_area": null,
            "grid_auto_columns": null,
            "grid_auto_flow": null,
            "grid_auto_rows": null,
            "grid_column": null,
            "grid_gap": null,
            "grid_row": null,
            "grid_template_areas": null,
            "grid_template_columns": null,
            "grid_template_rows": null,
            "height": null,
            "justify_content": null,
            "justify_items": null,
            "left": null,
            "margin": null,
            "max_height": null,
            "max_width": null,
            "min_height": null,
            "min_width": null,
            "object_fit": null,
            "object_position": null,
            "order": null,
            "overflow": null,
            "overflow_x": null,
            "overflow_y": null,
            "padding": null,
            "right": null,
            "top": null,
            "visibility": null,
            "width": null
          }
        },
        "f179284b1da54b4e9a8d08fca88daee0": {
          "model_module": "@jupyter-widgets/base",
          "model_name": "LayoutModel",
          "model_module_version": "1.2.0",
          "state": {
            "_model_module": "@jupyter-widgets/base",
            "_model_module_version": "1.2.0",
            "_model_name": "LayoutModel",
            "_view_count": null,
            "_view_module": "@jupyter-widgets/base",
            "_view_module_version": "1.2.0",
            "_view_name": "LayoutView",
            "align_content": null,
            "align_items": null,
            "align_self": null,
            "border": null,
            "bottom": null,
            "display": null,
            "flex": null,
            "flex_flow": null,
            "grid_area": null,
            "grid_auto_columns": null,
            "grid_auto_flow": null,
            "grid_auto_rows": null,
            "grid_column": null,
            "grid_gap": null,
            "grid_row": null,
            "grid_template_areas": null,
            "grid_template_columns": null,
            "grid_template_rows": null,
            "height": null,
            "justify_content": null,
            "justify_items": null,
            "left": null,
            "margin": null,
            "max_height": null,
            "max_width": null,
            "min_height": null,
            "min_width": null,
            "object_fit": null,
            "object_position": null,
            "order": null,
            "overflow": null,
            "overflow_x": null,
            "overflow_y": null,
            "padding": null,
            "right": null,
            "top": null,
            "visibility": null,
            "width": null
          }
        },
        "c4d3214d601b4f1ea8191e68bbc634d9": {
          "model_module": "@jupyter-widgets/controls",
          "model_name": "DescriptionStyleModel",
          "model_module_version": "1.5.0",
          "state": {
            "_model_module": "@jupyter-widgets/controls",
            "_model_module_version": "1.5.0",
            "_model_name": "DescriptionStyleModel",
            "_view_count": null,
            "_view_module": "@jupyter-widgets/base",
            "_view_module_version": "1.2.0",
            "_view_name": "StyleView",
            "description_width": ""
          }
        },
        "998686baebd9472583634c26fe597867": {
          "model_module": "@jupyter-widgets/base",
          "model_name": "LayoutModel",
          "model_module_version": "1.2.0",
          "state": {
            "_model_module": "@jupyter-widgets/base",
            "_model_module_version": "1.2.0",
            "_model_name": "LayoutModel",
            "_view_count": null,
            "_view_module": "@jupyter-widgets/base",
            "_view_module_version": "1.2.0",
            "_view_name": "LayoutView",
            "align_content": null,
            "align_items": null,
            "align_self": null,
            "border": null,
            "bottom": null,
            "display": null,
            "flex": null,
            "flex_flow": null,
            "grid_area": null,
            "grid_auto_columns": null,
            "grid_auto_flow": null,
            "grid_auto_rows": null,
            "grid_column": null,
            "grid_gap": null,
            "grid_row": null,
            "grid_template_areas": null,
            "grid_template_columns": null,
            "grid_template_rows": null,
            "height": null,
            "justify_content": null,
            "justify_items": null,
            "left": null,
            "margin": null,
            "max_height": null,
            "max_width": null,
            "min_height": null,
            "min_width": null,
            "object_fit": null,
            "object_position": null,
            "order": null,
            "overflow": null,
            "overflow_x": null,
            "overflow_y": null,
            "padding": null,
            "right": null,
            "top": null,
            "visibility": null,
            "width": null
          }
        },
        "e968f0ca73c14b73be9b2a4f075d5224": {
          "model_module": "@jupyter-widgets/controls",
          "model_name": "ProgressStyleModel",
          "model_module_version": "1.5.0",
          "state": {
            "_model_module": "@jupyter-widgets/controls",
            "_model_module_version": "1.5.0",
            "_model_name": "ProgressStyleModel",
            "_view_count": null,
            "_view_module": "@jupyter-widgets/base",
            "_view_module_version": "1.2.0",
            "_view_name": "StyleView",
            "bar_color": null,
            "description_width": ""
          }
        },
        "f8eeeccfd660405b9ffa0b5b15ce6ba7": {
          "model_module": "@jupyter-widgets/base",
          "model_name": "LayoutModel",
          "model_module_version": "1.2.0",
          "state": {
            "_model_module": "@jupyter-widgets/base",
            "_model_module_version": "1.2.0",
            "_model_name": "LayoutModel",
            "_view_count": null,
            "_view_module": "@jupyter-widgets/base",
            "_view_module_version": "1.2.0",
            "_view_name": "LayoutView",
            "align_content": null,
            "align_items": null,
            "align_self": null,
            "border": null,
            "bottom": null,
            "display": null,
            "flex": null,
            "flex_flow": null,
            "grid_area": null,
            "grid_auto_columns": null,
            "grid_auto_flow": null,
            "grid_auto_rows": null,
            "grid_column": null,
            "grid_gap": null,
            "grid_row": null,
            "grid_template_areas": null,
            "grid_template_columns": null,
            "grid_template_rows": null,
            "height": null,
            "justify_content": null,
            "justify_items": null,
            "left": null,
            "margin": null,
            "max_height": null,
            "max_width": null,
            "min_height": null,
            "min_width": null,
            "object_fit": null,
            "object_position": null,
            "order": null,
            "overflow": null,
            "overflow_x": null,
            "overflow_y": null,
            "padding": null,
            "right": null,
            "top": null,
            "visibility": null,
            "width": null
          }
        },
        "d98c125fb41349f6921294034af5e751": {
          "model_module": "@jupyter-widgets/controls",
          "model_name": "DescriptionStyleModel",
          "model_module_version": "1.5.0",
          "state": {
            "_model_module": "@jupyter-widgets/controls",
            "_model_module_version": "1.5.0",
            "_model_name": "DescriptionStyleModel",
            "_view_count": null,
            "_view_module": "@jupyter-widgets/base",
            "_view_module_version": "1.2.0",
            "_view_name": "StyleView",
            "description_width": ""
          }
        },
        "a67e1b4bf617448f9db20fd46dc56f46": {
          "model_module": "@jupyter-widgets/controls",
          "model_name": "HBoxModel",
          "model_module_version": "1.5.0",
          "state": {
            "_dom_classes": [],
            "_model_module": "@jupyter-widgets/controls",
            "_model_module_version": "1.5.0",
            "_model_name": "HBoxModel",
            "_view_count": null,
            "_view_module": "@jupyter-widgets/controls",
            "_view_module_version": "1.5.0",
            "_view_name": "HBoxView",
            "box_style": "",
            "children": [
              "IPY_MODEL_11d1b591773d4b829d98d9d780c25161",
              "IPY_MODEL_53bfe85b38c848b0b3ea02abed50f33d",
              "IPY_MODEL_db5c52b41b0e4242bca881dc14b642a3"
            ],
            "layout": "IPY_MODEL_cd751523a0ae4a46892f13602c5b5916"
          }
        },
        "11d1b591773d4b829d98d9d780c25161": {
          "model_module": "@jupyter-widgets/controls",
          "model_name": "HTMLModel",
          "model_module_version": "1.5.0",
          "state": {
            "_dom_classes": [],
            "_model_module": "@jupyter-widgets/controls",
            "_model_module_version": "1.5.0",
            "_model_name": "HTMLModel",
            "_view_count": null,
            "_view_module": "@jupyter-widgets/controls",
            "_view_module_version": "1.5.0",
            "_view_name": "HTMLView",
            "description": "",
            "description_tooltip": null,
            "layout": "IPY_MODEL_344289826beb4c56aa3f612891a82135",
            "placeholder": "​",
            "style": "IPY_MODEL_a444a7b7eff94a94a24f6ada365bf6c5",
            "value": "pytorch_model.bin: 100%"
          }
        },
        "53bfe85b38c848b0b3ea02abed50f33d": {
          "model_module": "@jupyter-widgets/controls",
          "model_name": "FloatProgressModel",
          "model_module_version": "1.5.0",
          "state": {
            "_dom_classes": [],
            "_model_module": "@jupyter-widgets/controls",
            "_model_module_version": "1.5.0",
            "_model_name": "FloatProgressModel",
            "_view_count": null,
            "_view_module": "@jupyter-widgets/controls",
            "_view_module_version": "1.5.0",
            "_view_name": "ProgressView",
            "bar_style": "success",
            "description": "",
            "description_tooltip": null,
            "layout": "IPY_MODEL_c95a34b695814dc29bc440ec6c45d658",
            "max": 740314266,
            "min": 0,
            "orientation": "horizontal",
            "style": "IPY_MODEL_f7c8b37f6a3545ad8fff6b634a6f8406",
            "value": 740314266
          }
        },
        "db5c52b41b0e4242bca881dc14b642a3": {
          "model_module": "@jupyter-widgets/controls",
          "model_name": "HTMLModel",
          "model_module_version": "1.5.0",
          "state": {
            "_dom_classes": [],
            "_model_module": "@jupyter-widgets/controls",
            "_model_module_version": "1.5.0",
            "_model_name": "HTMLModel",
            "_view_count": null,
            "_view_module": "@jupyter-widgets/controls",
            "_view_module_version": "1.5.0",
            "_view_name": "HTMLView",
            "description": "",
            "description_tooltip": null,
            "layout": "IPY_MODEL_05954e578fac410891c0ed47b466a136",
            "placeholder": "​",
            "style": "IPY_MODEL_7b7007bb5269451da6a576835b8b6953",
            "value": " 740M/740M [00:06&lt;00:00, 81.5MB/s]"
          }
        },
        "cd751523a0ae4a46892f13602c5b5916": {
          "model_module": "@jupyter-widgets/base",
          "model_name": "LayoutModel",
          "model_module_version": "1.2.0",
          "state": {
            "_model_module": "@jupyter-widgets/base",
            "_model_module_version": "1.2.0",
            "_model_name": "LayoutModel",
            "_view_count": null,
            "_view_module": "@jupyter-widgets/base",
            "_view_module_version": "1.2.0",
            "_view_name": "LayoutView",
            "align_content": null,
            "align_items": null,
            "align_self": null,
            "border": null,
            "bottom": null,
            "display": null,
            "flex": null,
            "flex_flow": null,
            "grid_area": null,
            "grid_auto_columns": null,
            "grid_auto_flow": null,
            "grid_auto_rows": null,
            "grid_column": null,
            "grid_gap": null,
            "grid_row": null,
            "grid_template_areas": null,
            "grid_template_columns": null,
            "grid_template_rows": null,
            "height": null,
            "justify_content": null,
            "justify_items": null,
            "left": null,
            "margin": null,
            "max_height": null,
            "max_width": null,
            "min_height": null,
            "min_width": null,
            "object_fit": null,
            "object_position": null,
            "order": null,
            "overflow": null,
            "overflow_x": null,
            "overflow_y": null,
            "padding": null,
            "right": null,
            "top": null,
            "visibility": null,
            "width": null
          }
        },
        "344289826beb4c56aa3f612891a82135": {
          "model_module": "@jupyter-widgets/base",
          "model_name": "LayoutModel",
          "model_module_version": "1.2.0",
          "state": {
            "_model_module": "@jupyter-widgets/base",
            "_model_module_version": "1.2.0",
            "_model_name": "LayoutModel",
            "_view_count": null,
            "_view_module": "@jupyter-widgets/base",
            "_view_module_version": "1.2.0",
            "_view_name": "LayoutView",
            "align_content": null,
            "align_items": null,
            "align_self": null,
            "border": null,
            "bottom": null,
            "display": null,
            "flex": null,
            "flex_flow": null,
            "grid_area": null,
            "grid_auto_columns": null,
            "grid_auto_flow": null,
            "grid_auto_rows": null,
            "grid_column": null,
            "grid_gap": null,
            "grid_row": null,
            "grid_template_areas": null,
            "grid_template_columns": null,
            "grid_template_rows": null,
            "height": null,
            "justify_content": null,
            "justify_items": null,
            "left": null,
            "margin": null,
            "max_height": null,
            "max_width": null,
            "min_height": null,
            "min_width": null,
            "object_fit": null,
            "object_position": null,
            "order": null,
            "overflow": null,
            "overflow_x": null,
            "overflow_y": null,
            "padding": null,
            "right": null,
            "top": null,
            "visibility": null,
            "width": null
          }
        },
        "a444a7b7eff94a94a24f6ada365bf6c5": {
          "model_module": "@jupyter-widgets/controls",
          "model_name": "DescriptionStyleModel",
          "model_module_version": "1.5.0",
          "state": {
            "_model_module": "@jupyter-widgets/controls",
            "_model_module_version": "1.5.0",
            "_model_name": "DescriptionStyleModel",
            "_view_count": null,
            "_view_module": "@jupyter-widgets/base",
            "_view_module_version": "1.2.0",
            "_view_name": "StyleView",
            "description_width": ""
          }
        },
        "c95a34b695814dc29bc440ec6c45d658": {
          "model_module": "@jupyter-widgets/base",
          "model_name": "LayoutModel",
          "model_module_version": "1.2.0",
          "state": {
            "_model_module": "@jupyter-widgets/base",
            "_model_module_version": "1.2.0",
            "_model_name": "LayoutModel",
            "_view_count": null,
            "_view_module": "@jupyter-widgets/base",
            "_view_module_version": "1.2.0",
            "_view_name": "LayoutView",
            "align_content": null,
            "align_items": null,
            "align_self": null,
            "border": null,
            "bottom": null,
            "display": null,
            "flex": null,
            "flex_flow": null,
            "grid_area": null,
            "grid_auto_columns": null,
            "grid_auto_flow": null,
            "grid_auto_rows": null,
            "grid_column": null,
            "grid_gap": null,
            "grid_row": null,
            "grid_template_areas": null,
            "grid_template_columns": null,
            "grid_template_rows": null,
            "height": null,
            "justify_content": null,
            "justify_items": null,
            "left": null,
            "margin": null,
            "max_height": null,
            "max_width": null,
            "min_height": null,
            "min_width": null,
            "object_fit": null,
            "object_position": null,
            "order": null,
            "overflow": null,
            "overflow_x": null,
            "overflow_y": null,
            "padding": null,
            "right": null,
            "top": null,
            "visibility": null,
            "width": null
          }
        },
        "f7c8b37f6a3545ad8fff6b634a6f8406": {
          "model_module": "@jupyter-widgets/controls",
          "model_name": "ProgressStyleModel",
          "model_module_version": "1.5.0",
          "state": {
            "_model_module": "@jupyter-widgets/controls",
            "_model_module_version": "1.5.0",
            "_model_name": "ProgressStyleModel",
            "_view_count": null,
            "_view_module": "@jupyter-widgets/base",
            "_view_module_version": "1.2.0",
            "_view_name": "StyleView",
            "bar_color": null,
            "description_width": ""
          }
        },
        "05954e578fac410891c0ed47b466a136": {
          "model_module": "@jupyter-widgets/base",
          "model_name": "LayoutModel",
          "model_module_version": "1.2.0",
          "state": {
            "_model_module": "@jupyter-widgets/base",
            "_model_module_version": "1.2.0",
            "_model_name": "LayoutModel",
            "_view_count": null,
            "_view_module": "@jupyter-widgets/base",
            "_view_module_version": "1.2.0",
            "_view_name": "LayoutView",
            "align_content": null,
            "align_items": null,
            "align_self": null,
            "border": null,
            "bottom": null,
            "display": null,
            "flex": null,
            "flex_flow": null,
            "grid_area": null,
            "grid_auto_columns": null,
            "grid_auto_flow": null,
            "grid_auto_rows": null,
            "grid_column": null,
            "grid_gap": null,
            "grid_row": null,
            "grid_template_areas": null,
            "grid_template_columns": null,
            "grid_template_rows": null,
            "height": null,
            "justify_content": null,
            "justify_items": null,
            "left": null,
            "margin": null,
            "max_height": null,
            "max_width": null,
            "min_height": null,
            "min_width": null,
            "object_fit": null,
            "object_position": null,
            "order": null,
            "overflow": null,
            "overflow_x": null,
            "overflow_y": null,
            "padding": null,
            "right": null,
            "top": null,
            "visibility": null,
            "width": null
          }
        },
        "7b7007bb5269451da6a576835b8b6953": {
          "model_module": "@jupyter-widgets/controls",
          "model_name": "DescriptionStyleModel",
          "model_module_version": "1.5.0",
          "state": {
            "_model_module": "@jupyter-widgets/controls",
            "_model_module_version": "1.5.0",
            "_model_name": "DescriptionStyleModel",
            "_view_count": null,
            "_view_module": "@jupyter-widgets/base",
            "_view_module_version": "1.2.0",
            "_view_name": "StyleView",
            "description_width": ""
          }
        }
      }
    }
  },
  "nbformat": 4,
  "nbformat_minor": 0
}