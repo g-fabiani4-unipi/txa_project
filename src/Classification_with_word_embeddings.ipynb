{
 "cells": [
  {
   "cell_type": "markdown",
   "metadata": {
    "colab_type": "text",
    "id": "view-in-github"
   },
   "source": [
    "<a href=\"https://colab.research.google.com/github/g-fabiani4-unipi/txa_project/blob/camilla/src/Classification_with_word_embeddings.ipynb\" target=\"_parent\"><img src=\"https://colab.research.google.com/assets/colab-badge.svg\" alt=\"Open In Colab\"/></a>"
   ]
  },
  {
   "cell_type": "code",
   "execution_count": 98,
   "metadata": {
    "colab": {
     "base_uri": "https://localhost:8080/"
    },
    "id": "WYGBPEhx-1sn",
    "outputId": "2919106d-c9cf-4204-8c87-83997164056a"
   },
   "outputs": [],
   "source": [
    "#!git clone https://github.com/g-fabiani4-unipi/txa_project.git\n"
   ]
  },
  {
   "cell_type": "code",
   "execution_count": 99,
   "metadata": {
    "colab": {
     "base_uri": "https://localhost:8080/"
    },
    "id": "hTFn4pC_aqiR",
    "outputId": "8c2cfaba-c2cd-4e12-9544-e1a6c552ec14"
   },
   "outputs": [],
   "source": [
    "#%cd txa_project"
   ]
  },
  {
   "cell_type": "code",
   "execution_count": 100,
   "metadata": {
    "colab": {
     "base_uri": "https://localhost:8080/"
    },
    "id": "65VXRGwZPSOw",
    "outputId": "5ed6676a-8417-4c85-e590-a34a4c7c7f90"
   },
   "outputs": [],
   "source": [
    "#!pip install stanza"
   ]
  },
  {
   "cell_type": "code",
   "execution_count": 101,
   "metadata": {
    "id": "KECaNccn_JB3"
   },
   "outputs": [],
   "source": [
    "import numpy as np\n",
    "import pandas as pd\n",
    "from pathlib import Path\n",
    "from sklearn.manifold import TSNE\n",
    "import matplotlib.pyplot as plt\n",
    "import seaborn as sns\n",
    "import re\n",
    "import pickle\n",
    "import stanza\n",
    "from collections import Counter"
   ]
  },
  {
   "cell_type": "code",
   "execution_count": 102,
   "metadata": {
    "colab": {
     "base_uri": "https://localhost:8080/",
     "height": 124
    },
    "id": "Md9b3ZiVan0-",
    "outputId": "003e0632-b4c2-4c75-afeb-fa18cb5c0c81"
   },
   "outputs": [
    {
     "ename": "OperationalError",
     "evalue": "no such table: store",
     "output_type": "error",
     "traceback": [
      "\u001b[1;31m---------------------------------------------------------------------------\u001b[0m",
      "\u001b[1;31mOperationalError\u001b[0m                          Traceback (most recent call last)",
      "File \u001b[1;32m<timed exec>:13\u001b[0m\n",
      "\u001b[1;31mOperationalError\u001b[0m: no such table: store"
     ]
    }
   ],
   "source": [
    "%%time\n",
    "import sqlite3\n",
    "# Load embeddings from database\n",
    "\n",
    "data_path = Path(\"../data\")\n",
    "emb_file = \"twitter128.sqlite\"\n",
    "\n",
    "emb_path = data_path / emb_file\n",
    "embeddings = dict()\n",
    "\n",
    "\n",
    "with sqlite3.connect(emb_path) as connection:\n",
    "    cur = connection.cursor()\n",
    "    for row in cur.execute(\"SELECT * FROM store\"):\n",
    "        word = row[0]\n",
    "        # The last column is the rank frequency and we don't need it\n",
    "        embedding = np.array(row[1:-1])\n",
    "        embeddings[word] = embedding"
   ]
  },
  {
   "cell_type": "markdown",
   "metadata": {
    "id": "iyntE6IMDGDD"
   },
   "source": [
    "# Semantic space discovery and understanding\n",
    "\n"
   ]
  },
  {
   "cell_type": "code",
   "execution_count": 103,
   "metadata": {
    "colab": {
     "base_uri": "https://localhost:8080/"
    },
    "id": "49bPvbB_FOf1",
    "outputId": "d6d7268f-9b41-4f84-c3d7-da1a1457900e"
   },
   "outputs": [
    {
     "name": "stdout",
     "output_type": "stream",
     "text": [
      "Minimum value = 99999\n",
      "Maximum value = -99999\n"
     ]
    }
   ],
   "source": [
    "\"\"\"See the range of variance of the embeddings' components \"\"\"\n",
    "\n",
    "min_value = 99999\n",
    "max_value = -99999\n",
    "for word in embeddings:\n",
    "    for comp in embeddings[word]:\n",
    "        if comp > max_value:\n",
    "            max_value = comp\n",
    "        elif comp < min_value:\n",
    "            min_value = comp\n",
    "\n",
    "print(f'Minimum value = {min_value}')\n",
    "print(f'Maximum value = {max_value}')"
   ]
  },
  {
   "cell_type": "markdown",
   "metadata": {
    "id": "W9ExQacSFs-j"
   },
   "source": [
    "## Word representation\n",
    "TSNE: dimensionality reduction algorithm → allows us to map our 128 dimensional vectors in a  bidimensional space"
   ]
  },
  {
   "cell_type": "code",
   "execution_count": 104,
   "metadata": {
    "id": "yc_60awPFsqm"
   },
   "outputs": [
    {
     "ename": "KeyError",
     "evalue": "'rom'",
     "output_type": "error",
     "traceback": [
      "\u001b[1;31m---------------------------------------------------------------------------\u001b[0m",
      "\u001b[1;31mKeyError\u001b[0m                                  Traceback (most recent call last)",
      "Cell \u001b[1;32mIn[104], line 2\u001b[0m\n\u001b[0;32m      1\u001b[0m top20_clean \u001b[38;5;241m=\u001b[39m [\u001b[38;5;124m'\u001b[39m\u001b[38;5;124mrom\u001b[39m\u001b[38;5;124m'\u001b[39m, \u001b[38;5;124m'\u001b[39m\u001b[38;5;124mmigranti\u001b[39m\u001b[38;5;124m'\u001b[39m, \u001b[38;5;124m'\u001b[39m\u001b[38;5;124mRoma\u001b[39m\u001b[38;5;124m'\u001b[39m, \u001b[38;5;124m'\u001b[39m\u001b[38;5;124mimmigrati\u001b[39m\u001b[38;5;124m'\u001b[39m, \u001b[38;5;124m'\u001b[39m\u001b[38;5;124mitalia\u001b[39m\u001b[38;5;124m'\u001b[39m, \u001b[38;5;124m'\u001b[39m\u001b[38;5;124mcampo\u001b[39m\u001b[38;5;124m'\u001b[39m, \u001b[38;5;124m'\u001b[39m\u001b[38;5;124mnomadi\u001b[39m\u001b[38;5;124m'\u001b[39m, \u001b[38;5;124m'\u001b[39m\u001b[38;5;124mstranieri\u001b[39m\u001b[38;5;124m'\u001b[39m,\u001b[38;5;124m'\u001b[39m\u001b[38;5;124mitaliani\u001b[39m\u001b[38;5;124m'\u001b[39m,\u001b[38;5;124m'\u001b[39m\u001b[38;5;124mvia\u001b[39m\u001b[38;5;124m'\u001b[39m, \u001b[38;5;124m'\u001b[39m\u001b[38;5;124msolo\u001b[39m\u001b[38;5;124m'\u001b[39m, \u001b[38;5;124m'\u001b[39m\u001b[38;5;124mSalvini\u001b[39m\u001b[38;5;124m'\u001b[39m, \u001b[38;5;124m'\u001b[39m\u001b[38;5;124mimmigrazione\u001b[39m\u001b[38;5;124m'\u001b[39m, \u001b[38;5;124m'\u001b[39m\u001b[38;5;124mprofughi\u001b[39m\u001b[38;5;124m'\u001b[39m, \u001b[38;5;124m'\u001b[39m\u001b[38;5;124mMilano\u001b[39m\u001b[38;5;124m'\u001b[39m, \u001b[38;5;124m'\u001b[39m\u001b[38;5;124mcampi\u001b[39m\u001b[38;5;124m'\u001b[39m, \u001b[38;5;124m'\u001b[39m\u001b[38;5;124mterrorismo\u001b[39m\u001b[38;5;124m'\u001b[39m, \u001b[38;5;124m'\u001b[39m\u001b[38;5;124mfare\u001b[39m\u001b[38;5;124m'\u001b[39m, \u001b[38;5;124m'\u001b[39m\u001b[38;5;124mdue\u001b[39m\u001b[38;5;124m'\u001b[39m, \u001b[38;5;124m'\u001b[39m\u001b[38;5;124mdopo\u001b[39m\u001b[38;5;124m'\u001b[39m]\n\u001b[1;32m----> 2\u001b[0m embs \u001b[38;5;241m=\u001b[39m [embeddings[word] \u001b[38;5;28;01mfor\u001b[39;00m word \u001b[38;5;129;01min\u001b[39;00m top20_clean]\n\u001b[0;32m      3\u001b[0m embs \u001b[38;5;241m=\u001b[39m np\u001b[38;5;241m.\u001b[39mstack(embs, axis\u001b[38;5;241m=\u001b[39m\u001b[38;5;241m0\u001b[39m)\n",
      "Cell \u001b[1;32mIn[104], line 2\u001b[0m, in \u001b[0;36m<listcomp>\u001b[1;34m(.0)\u001b[0m\n\u001b[0;32m      1\u001b[0m top20_clean \u001b[38;5;241m=\u001b[39m [\u001b[38;5;124m'\u001b[39m\u001b[38;5;124mrom\u001b[39m\u001b[38;5;124m'\u001b[39m, \u001b[38;5;124m'\u001b[39m\u001b[38;5;124mmigranti\u001b[39m\u001b[38;5;124m'\u001b[39m, \u001b[38;5;124m'\u001b[39m\u001b[38;5;124mRoma\u001b[39m\u001b[38;5;124m'\u001b[39m, \u001b[38;5;124m'\u001b[39m\u001b[38;5;124mimmigrati\u001b[39m\u001b[38;5;124m'\u001b[39m, \u001b[38;5;124m'\u001b[39m\u001b[38;5;124mitalia\u001b[39m\u001b[38;5;124m'\u001b[39m, \u001b[38;5;124m'\u001b[39m\u001b[38;5;124mcampo\u001b[39m\u001b[38;5;124m'\u001b[39m, \u001b[38;5;124m'\u001b[39m\u001b[38;5;124mnomadi\u001b[39m\u001b[38;5;124m'\u001b[39m, \u001b[38;5;124m'\u001b[39m\u001b[38;5;124mstranieri\u001b[39m\u001b[38;5;124m'\u001b[39m,\u001b[38;5;124m'\u001b[39m\u001b[38;5;124mitaliani\u001b[39m\u001b[38;5;124m'\u001b[39m,\u001b[38;5;124m'\u001b[39m\u001b[38;5;124mvia\u001b[39m\u001b[38;5;124m'\u001b[39m, \u001b[38;5;124m'\u001b[39m\u001b[38;5;124msolo\u001b[39m\u001b[38;5;124m'\u001b[39m, \u001b[38;5;124m'\u001b[39m\u001b[38;5;124mSalvini\u001b[39m\u001b[38;5;124m'\u001b[39m, \u001b[38;5;124m'\u001b[39m\u001b[38;5;124mimmigrazione\u001b[39m\u001b[38;5;124m'\u001b[39m, \u001b[38;5;124m'\u001b[39m\u001b[38;5;124mprofughi\u001b[39m\u001b[38;5;124m'\u001b[39m, \u001b[38;5;124m'\u001b[39m\u001b[38;5;124mMilano\u001b[39m\u001b[38;5;124m'\u001b[39m, \u001b[38;5;124m'\u001b[39m\u001b[38;5;124mcampi\u001b[39m\u001b[38;5;124m'\u001b[39m, \u001b[38;5;124m'\u001b[39m\u001b[38;5;124mterrorismo\u001b[39m\u001b[38;5;124m'\u001b[39m, \u001b[38;5;124m'\u001b[39m\u001b[38;5;124mfare\u001b[39m\u001b[38;5;124m'\u001b[39m, \u001b[38;5;124m'\u001b[39m\u001b[38;5;124mdue\u001b[39m\u001b[38;5;124m'\u001b[39m, \u001b[38;5;124m'\u001b[39m\u001b[38;5;124mdopo\u001b[39m\u001b[38;5;124m'\u001b[39m]\n\u001b[1;32m----> 2\u001b[0m embs \u001b[38;5;241m=\u001b[39m [embeddings[word] \u001b[38;5;28;01mfor\u001b[39;00m word \u001b[38;5;129;01min\u001b[39;00m top20_clean]\n\u001b[0;32m      3\u001b[0m embs \u001b[38;5;241m=\u001b[39m np\u001b[38;5;241m.\u001b[39mstack(embs, axis\u001b[38;5;241m=\u001b[39m\u001b[38;5;241m0\u001b[39m)\n",
      "\u001b[1;31mKeyError\u001b[0m: 'rom'"
     ]
    }
   ],
   "source": [
    "top20_clean = ['rom', 'migranti', 'Roma', 'immigrati', 'italia', 'campo', 'nomadi', 'stranieri','italiani','via', 'solo', 'Salvini', 'immigrazione', 'profughi', 'Milano', 'campi', 'terrorismo', 'fare', 'due', 'dopo']\n",
    "embs = [embeddings[word] for word in top20_clean]\n",
    "embs = np.stack(embs, axis=0) # la funzione stack \"attacca\" una lista di vettori, creando una matrice"
   ]
  },
  {
   "cell_type": "code",
   "execution_count": 8,
   "metadata": {
    "id": "dawv-LAeSVIH"
   },
   "outputs": [],
   "source": [
    "reduced_embs = TSNE(n_components=2, learning_rate='auto', init='random', perplexity=3).fit_transform(embs)\n",
    "#n_components=2 → riduce la dimensionalità a 2; il resto sono parametri di default"
   ]
  },
  {
   "cell_type": "code",
   "execution_count": 9,
   "metadata": {
    "colab": {
     "base_uri": "https://localhost:8080/"
    },
    "id": "7ua0OD7USWDt",
    "outputId": "92a41064-b38b-4a32-b376-5639a2fa1286"
   },
   "outputs": [
    {
     "data": {
      "text/plain": [
       "((20, 128), (20, 2))"
      ]
     },
     "execution_count": 9,
     "metadata": {},
     "output_type": "execute_result"
    }
   ],
   "source": [
    "embs.shape, reduced_embs.shape #128 vs 2 dimensions"
   ]
  },
  {
   "cell_type": "code",
   "execution_count": 10,
   "metadata": {
    "colab": {
     "base_uri": "https://localhost:8080/",
     "height": 430
    },
    "id": "nVZRBVwPSgal",
    "outputId": "e62ca67a-5093-4992-d62b-989e3b3ba38f"
   },
   "outputs": [
    {
     "data": {
      "image/png": "[encoded data removed]",
      "text/plain": [
       "<Figure size 640x480 with 1 Axes>"
      ]
     },
     "metadata": {},
     "output_type": "display_data"
    }
   ],
   "source": [
    "\n",
    "fig, ax = plt.subplots()\n",
    "ax.scatter(reduced_embs[:,0], reduced_embs[:,1])\n",
    "for i, word in enumerate(top20_clean):\n",
    "    ax.annotate(word, (reduced_embs[i,0]+0.5, reduced_embs[i, 1]+0.5))"
   ]
  },
  {
   "cell_type": "markdown",
   "metadata": {
    "id": "NRh1QN7vHtgz"
   },
   "source": [
    "# Text normalization\n",
    "[Preprocessing functions by the ItaliaNLP lab](http://www.italianlp.it/we-distributed/norm_script.py)\n"
   ]
  },
  {
   "cell_type": "code",
   "execution_count": 29,
   "metadata": {
    "id": "ltoMEN2ZHr4t"
   },
   "outputs": [],
   "source": [
    "def get_digits(text):\n",
    "    try:\n",
    "      val = int(text)\n",
    "    except:\n",
    "      text = re.sub(r'\\d', '@Dg', text)\n",
    "      return text\n",
    "    if val >= 0 and val < 2100:\n",
    "      return str(val)\n",
    "    else:\n",
    "      return \"DIGLEN_\" + str(len(str(val)))\n",
    "\n",
    "def normalize_text(word):\n",
    "    if \"http\" in word or (\".\" in word and \"/\" in word):\n",
    "      word = \"___URL___\" #word = unicode(\"___URL___\") → obsolete\n",
    "      return word\n",
    "    if len(word) > 26:\n",
    "      return \"__LONG-LONG__\"\n",
    "    new_word = get_digits(word)\n",
    "    if new_word != word:\n",
    "      word = new_word\n",
    "    if word[0].isupper():\n",
    "      word = word.capitalize()\n",
    "    else:\n",
    "      word = word.lower()\n",
    "    return word"
   ]
  },
  {
   "cell_type": "code",
   "execution_count": 30,
   "metadata": {
    "id": "fbtf_yqCNw0a"
   },
   "outputs": [],
   "source": [
    "#import the docs → pickle file by Giulia\n",
    "'''\n",
    "Dict of dicts → Save each document in a dictionary:\n",
    "id document id: string\n",
    "raw_text document text as is (no processing): string\n",
    "hs: int\n",
    "stereotype: int\n",
    "proc_text document text processed by Stanza Pipeline: stanza Document\n",
    "'''\n",
    "results_path = Path(\"../results\")\n",
    "pickle_file = \"stanza_proc_train.pkl\"\n",
    "\n",
    "with open(results_path / pickle_file, 'rb') as infile:\n",
    "    loaded_docs = pickle.load(infile)"
   ]
  },
  {
   "cell_type": "code",
   "execution_count": 7,
   "metadata": {
    "colab": {
     "base_uri": "https://localhost:8080/"
    },
    "id": "FE1CL8pKSCtZ",
    "outputId": "c40c69ad-827a-4507-a169-bdc38e15532c"
   },
   "outputs": [
    {
     "data": {
      "text/plain": [
       "True"
      ]
     },
     "execution_count": 7,
     "metadata": {},
     "output_type": "execute_result"
    }
   ],
   "source": [
    "isinstance(loaded_docs[0]['proc_text'].to_dict()[0][19]['id'], int)"
   ]
  },
  {
   "cell_type": "code",
   "execution_count": 8,
   "metadata": {
    "colab": {
     "base_uri": "https://localhost:8080/"
    },
    "id": "woIwU23RSayv",
    "outputId": "05a1ea62-fbca-45a1-b543-222e15d2747f"
   },
   "outputs": [
    {
     "data": {
      "text/plain": [
       "True"
      ]
     },
     "execution_count": 8,
     "metadata": {},
     "output_type": "execute_result"
    }
   ],
   "source": [
    "#loaded_docs[0]['proc_text'].to_dict()[0][16]['id']\n",
    "isinstance(loaded_docs[0]['proc_text'].to_dict()[0][15]['id'], tuple)\n",
    "#len(loaded_docs[0]['proc_text'].to_dict()[0][15]['id'])"
   ]
  },
  {
   "cell_type": "code",
   "execution_count": 9,
   "metadata": {
    "colab": {
     "base_uri": "https://localhost:8080/"
    },
    "id": "EI7ZqMqpTx9H",
    "outputId": "c3c16bef-6517-4f1f-a682-7daf207e9244"
   },
   "outputs": [
    {
     "data": {
      "text/plain": [
       "[\n",
       "  {\n",
       "    \"id\": [\n",
       "      16,\n",
       "      17\n",
       "    ],\n",
       "    \"text\": \"renderle\",\n",
       "    \"start_char\": 79,\n",
       "    \"end_char\": 87\n",
       "  },\n",
       "  {\n",
       "    \"id\": 16,\n",
       "    \"text\": \"render\",\n",
       "    \"lemma\": \"rendere\",\n",
       "    \"upos\": \"VERB\",\n",
       "    \"xpos\": \"V\",\n",
       "    \"feats\": \"VerbForm=Inf\",\n",
       "    \"head\": 7,\n",
       "    \"deprel\": \"conj\",\n",
       "    \"start_char\": 79,\n",
       "    \"end_char\": 85\n",
       "  },\n",
       "  {\n",
       "    \"id\": 17,\n",
       "    \"text\": \"le\",\n",
       "    \"lemma\": \"le\",\n",
       "    \"upos\": \"PRON\",\n",
       "    \"xpos\": \"PC\",\n",
       "    \"feats\": \"Clitic=Yes|Gender=Fem|Number=Plur|Person=3|PronType=Prs\",\n",
       "    \"head\": 16,\n",
       "    \"deprel\": \"obj\",\n",
       "    \"start_char\": 85,\n",
       "    \"end_char\": 87\n",
       "  }\n",
       "]"
      ]
     },
     "execution_count": 9,
     "metadata": {},
     "output_type": "execute_result"
    }
   ],
   "source": [
    "loaded_docs[0]['proc_text'].sentences[0].tokens[15] #example: token w/ clitic"
   ]
  },
  {
   "cell_type": "code",
   "execution_count": 10,
   "metadata": {
    "colab": {
     "base_uri": "https://localhost:8080/"
    },
    "id": "S4PHS1i2ojK7",
    "outputId": "f9dacb9f-fb39-4511-f456-8e5df524070b"
   },
   "outputs": [
    {
     "data": {
      "text/plain": [
       "{\n",
       "  \"id\": 17,\n",
       "  \"text\": \"le\",\n",
       "  \"lemma\": \"le\",\n",
       "  \"upos\": \"PRON\",\n",
       "  \"xpos\": \"PC\",\n",
       "  \"feats\": \"Clitic=Yes|Gender=Fem|Number=Plur|Person=3|PronType=Prs\",\n",
       "  \"head\": 16,\n",
       "  \"deprel\": \"obj\",\n",
       "  \"start_char\": 85,\n",
       "  \"end_char\": 87\n",
       "}"
      ]
     },
     "execution_count": 10,
     "metadata": {},
     "output_type": "execute_result"
    }
   ],
   "source": [
    "loaded_docs[0]['proc_text'].sentences[0].tokens[15].words[1] #host: first word of the token"
   ]
  },
  {
   "cell_type": "code",
   "execution_count": 17,
   "metadata": {
    "colab": {
     "base_uri": "https://localhost:8080/",
     "height": 182
    },
    "id": "PtpgTdTPhyAF",
    "outputId": "f38fce03-2c15-475e-8c93-b6bd83c3551c"
   },
   "outputs": [
    {
     "data": {
      "text/plain": [
       "\"\\ndef get_tokens_from_tweet(doc):\\n    document_tokens = []\\n    for token in doc['proc_text'].iter_tokens():  #Prendi stanza doc dei tweet → tokenizzato, itera sui token\\n        if isinstance(token.id, tuple):  # Se il token ha un ID composto (clitico)\\n            word = normalize_text(token.text)\\n            token_data = {\\n                'word': word,\\n                'pos': token.words[0].upos #pos della parola lessicale principale\\n            }\\n            document_tokens.append(token_data)\\n\\n        else:  # Token normale, l'id è un int\\n            word = normalize_text(token.text)\\n            pos = token.upos\\n            token_data = {\\n                'word': word,\\n                'pos': pos\\n            }\\n            document_tokens.append(token_data)\\n    return document_tokens\\n    \""
      ]
     },
     "execution_count": 17,
     "metadata": {},
     "output_type": "execute_result"
    }
   ],
   "source": [
    "#Longer but more readable\n",
    "\n",
    "\"\"\"\n",
    "def get_tokens_from_tweet(doc):\n",
    "    document_tokens = []\n",
    "    for token in doc['proc_text'].iter_tokens():  #Prendi stanza doc dei tweet → tokenizzato, itera sui token\n",
    "        if isinstance(token.id, tuple):  # Se il token ha un ID composto (clitico)\n",
    "            word = normalize_text(token.text)\n",
    "            token_data = {\n",
    "                'word': word,\n",
    "                'pos': token.words[0].upos #pos della parola lessicale principale\n",
    "            }\n",
    "            document_tokens.append(token_data)\n",
    "\n",
    "        else:  # Token normale, l'id è un int\n",
    "            word = normalize_text(token.text)\n",
    "            pos = token.upos\n",
    "            token_data = {\n",
    "                'word': word,\n",
    "                'pos': pos\n",
    "            }\n",
    "            document_tokens.append(token_data)\n",
    "    return document_tokens\n",
    "    \"\"\""
   ]
  },
  {
   "cell_type": "code",
   "execution_count": 31,
   "metadata": {
    "id": "qyKzxzzL6bEn"
   },
   "outputs": [],
   "source": [
    "def create_token_data(word, pos):\n",
    "  \"\"\"\n",
    "  Helper function, builds a dictionary with the token data.\n",
    "  \"\"\"\n",
    "  return {'word': word, 'pos': pos}\n",
    "\n",
    "def get_tokens_from_tweet(doc):\n",
    "  \"\"\"\n",
    "  For a doc (tweet), iterate over its tokens and creates a dict for each token,\n",
    "  containing its normalized form (that matches the embeddings' normalization) and its POS.\n",
    "  If the token has clitics, the POS is taken from the host (in Italian: the first word).\n",
    "  \"\"\"\n",
    "  document_tokens = []\n",
    "  for token in doc['proc_text'].iter_tokens():  #Prendi stanza doc dei tweet → tokenizzato, itera sui token\n",
    "      word = normalize_text(token.text)\n",
    "      token_data = create_token_data(word, token.words[0].upos if isinstance(token.id, tuple) else token.upos) #if isinstance(token.id, tuple), the token has at least a clitic\n",
    "      document_tokens.append(token_data)\n",
    "  return document_tokens"
   ]
  },
  {
   "cell_type": "code",
   "execution_count": 32,
   "metadata": {
    "id": "8QBVOQXaNB_j"
   },
   "outputs": [],
   "source": [
    "all_documents = []\n",
    "for doc in loaded_docs: #itera sui tweet\n",
    "  document_tokens = get_tokens_from_tweet(doc)\n",
    "  all_documents.append(document_tokens)"
   ]
  },
  {
   "cell_type": "code",
   "execution_count": 33,
   "metadata": {
    "colab": {
     "base_uri": "https://localhost:8080/"
    },
    "id": "0WERPaOdQpOt",
    "outputId": "9d78d392-27a7-4948-b740-04bcab092f9c"
   },
   "outputs": [
    {
     "data": {
      "text/plain": [
       "[{'word': 'Pontina', 'pos': 'PROPN'},\n",
       " {'word': ',', 'pos': 'PUNCT'},\n",
       " {'word': 'ora', 'pos': 'ADV'},\n",
       " {'word': 'i', 'pos': 'DET'},\n",
       " {'word': 'rom', 'pos': 'NOUN'},\n",
       " {'word': 'assaltano', 'pos': 'VERB'},\n",
       " {'word': 'anche', 'pos': 'ADV'},\n",
       " {'word': 'gli', 'pos': 'DET'},\n",
       " {'word': 'automobilisti', 'pos': 'NOUN'}]"
      ]
     },
     "execution_count": 33,
     "metadata": {},
     "output_type": "execute_result"
    }
   ],
   "source": [
    "all_documents[2589]#[1]['word']"
   ]
  },
  {
   "cell_type": "markdown",
   "metadata": {
    "id": "D6rE0q1CextF"
   },
   "source": [
    "# Exploring the embedding representation of the tweets"
   ]
  },
  {
   "cell_type": "code",
   "execution_count": 14,
   "metadata": {
    "id": "tTXMcYQ1fM7o"
   },
   "outputs": [],
   "source": [
    "def vocabulary_tweets(all_documents):\n",
    "  vocabulary = set()\n",
    "  for tweet in all_documents:\n",
    "    for token in tweet:\n",
    "      vocabulary.add(token['word'])\n",
    "  return vocabulary"
   ]
  },
  {
   "cell_type": "code",
   "execution_count": 22,
   "metadata": {
    "id": "ZfU_TJsMgGJ3"
   },
   "outputs": [],
   "source": [
    "tweets_vocab = vocabulary_tweets(all_documents)\n",
    "embs_vocab = set(embeddings.keys())\n",
    "\n",
    "missing_words = tweets_vocab - embs_vocab"
   ]
  },
  {
   "cell_type": "code",
   "execution_count": 23,
   "metadata": {
    "colab": {
     "base_uri": "https://localhost:8080/"
    },
    "id": "1uS1DQv3igsL",
    "outputId": "60f2fae3-3ec1-4fba-b7fd-01e8275da4e8"
   },
   "outputs": [
    {
     "name": "stdout",
     "output_type": "stream",
     "text": [
      "Numero di parole OOV: 2703 su 22709.\n",
      "Copertura embedding: 88.10%.\n"
     ]
    }
   ],
   "source": [
    "coverage = (len(tweets_vocab - missing_words) / len(tweets_vocab)) * 100\n",
    "print(f\"Numero di parole OOV: {len(missing_words)} su {len(tweets_vocab)}.\")\n",
    "print(f\"Copertura embedding: {coverage:.2f}%.\")"
   ]
  },
  {
   "cell_type": "code",
   "execution_count": 24,
   "metadata": {
    "colab": {
     "base_uri": "https://localhost:8080/"
    },
    "id": "xt8UHdRLkT72",
    "outputId": "f0d4c4a2-707a-46d8-d0cf-1c90b44b8c4a"
   },
   "outputs": [
    {
     "data": {
      "text/plain": [
       "Counter({'domestich': 1,\n",
       "         'Immigrati-': 1,\n",
       "         'Pa…': 1,\n",
       "         '…le': 1,\n",
       "         'oggidueprofughihanno': 1,\n",
       "         'noto…': 1,\n",
       "         'Noislamnoglobalcompact': 1,\n",
       "         'leiene': 1,\n",
       "         'it]': 1,\n",
       "         'Desiréemariottini': 1,\n",
       "         'Tesfahun': 1,\n",
       "         'pro-capitale': 1,\n",
       "         'Paneuropeo': 1,\n",
       "         'prima!': 1,\n",
       "         'meriti…': 1,\n",
       "         'Viapadova': 1,\n",
       "         'noway': 1,\n",
       "         'siutare': 1,\n",
       "         'Nabellezza': 1,\n",
       "         'barbarians': 1,\n",
       "         'diciotti': 1,\n",
       "         'Stronzateil': 1,\n",
       "         ':quanti': 1,\n",
       "         '-&gt': 1,\n",
       "         'stopmigranti': 1,\n",
       "         'proiettandoli': 1,\n",
       "         '!!diventato': 1,\n",
       "         'gabbiaopen': 1,\n",
       "         'salvinimmerda': 1,\n",
       "         'Ue.invece': 1,\n",
       "         'rasserenarli': 1,\n",
       "         'Na…': 1,\n",
       "         'vogliounarisposta': 1,\n",
       "         '•cgil': 1,\n",
       "         ':danno': 1,\n",
       "         '!avete': 1,\n",
       "         'Velvetmag': 1,\n",
       "         'nascosti…': 1,\n",
       "         'blq': 1,\n",
       "         'porrajmos': 1,\n",
       "         'Torinonapoli': 1,\n",
       "         'M@dgs=': 1,\n",
       "         '!!👎👎😠': 1,\n",
       "         'Italiani….stranieri': 1,\n",
       "         'Openarms': 1,\n",
       "         'frustalo': 1,\n",
       "         'popoliamole': 1,\n",
       "         'Libri!stop': 1,\n",
       "         'veri…': 1,\n",
       "         '🇮🇪come': 1,\n",
       "         \"Mostri'\": 1,\n",
       "         'chic!': 1,\n",
       "         'religiosi/giuridici': 1,\n",
       "         '😳poi': 1,\n",
       "         '-terrorismo': 1,\n",
       "         'arrestatecitutti': 1,\n",
       "         'maleminore': 1,\n",
       "         'pdisastro': 1,\n",
       "         'D’': 1,\n",
       "         'musulmani\\\\': 1,\n",
       "         'Pianominniti': 1,\n",
       "         'Parcodellevalli': 1,\n",
       "         's’': 1,\n",
       "         'pluripregiudicata': 1,\n",
       "         'Animebelle': 1,\n",
       "         'toughts': 1,\n",
       "         \"ce'\": 1,\n",
       "         'credenti/fedeli': 1,\n",
       "         'fancazzeggiano': 1,\n",
       "         'Africa:tanto': 1,\n",
       "         'ammaxxa': 1,\n",
       "         '!bisogna': 1,\n",
       "         'Schifo!': 1,\n",
       "         'milano👏😡': 1,\n",
       "         'Hijri@dg@dg@dg@dg': 1,\n",
       "         '?e': 1,\n",
       "         'tutti…': 1,\n",
       "         'Decretorazzista': 1,\n",
       "         'Isis😢': 1,\n",
       "         \"cio'\": 1,\n",
       "         '@dg@dg@dgebrei': 1,\n",
       "         'Anziani:truffati': 1,\n",
       "         'Importanteperò': 1,\n",
       "         'filippobubbico': 1,\n",
       "         'Inal': 1,\n",
       "         'Norrebro': 1,\n",
       "         'Esatto!!': 1,\n",
       "         'nudo(': 1,\n",
       "         'Tbc.': 1,\n",
       "         'M…': 1,\n",
       "         'lsciati': 1,\n",
       "         'Nulla.__coglioni': 1,\n",
       "         'pen…': 1,\n",
       "         '😱mi': 1,\n",
       "         'italiani!': 1,\n",
       "         '!natalesiriano': 1,\n",
       "         'contrattodigoverno': 1,\n",
       "         'Grandenon': 1,\n",
       "         'Efferati': 1,\n",
       "         'confondiamoli': 1,\n",
       "         'contentivoi': 1,\n",
       "         'sposebambine': 1,\n",
       "         'concordonn': 1,\n",
       "         'road@dgsportnews': 1,\n",
       "         'ijaidisti': 1,\n",
       "         'casteldaccia': 1,\n",
       "         \".l'\": 1,\n",
       "         'Ferocissimo': 1,\n",
       "         'gestendoli': 1,\n",
       "         'Ruspetta': 1,\n",
       "         'Dopoillegali': 1,\n",
       "         'rifornivi': 1,\n",
       "         'Famigliestraniere': 1,\n",
       "         'Coranonon': 1,\n",
       "         'Roma…': 1,\n",
       "         'culoblocco': 1,\n",
       "         '💣💥': 1,\n",
       "         '🤔però': 1,\n",
       "         'difesa😡😡': 1,\n",
       "         'indifendibi…': 1,\n",
       "         'po’': 1,\n",
       "         'denk': 1,\n",
       "         'Nighttabloid': 1,\n",
       "         'Fuoridalcoro': 1,\n",
       "         'Pd,': 1,\n",
       "         '!hai': 1,\n",
       "         'cas…': 1,\n",
       "         ':tutto': 1,\n",
       "         'mult…': 1,\n",
       "         '🇮🇹': 1,\n",
       "         'etnicamen*e': 1,\n",
       "         '🌿cita': 1,\n",
       "         'Delcambiamento': 1,\n",
       "         '!mai': 1,\n",
       "         'giornatadellamemoria': 1,\n",
       "         'immigrazi…': 1,\n",
       "         'centrisociale': 1,\n",
       "         'buonisti🤡': 1,\n",
       "         'F…': 1,\n",
       "         'occhi!': 1,\n",
       "         'Poliziottiper': 1,\n",
       "         'mai!': 1,\n",
       "         'casalombroso': 1,\n",
       "         '!sulla': 1,\n",
       "         'vetsmente': 1,\n",
       "         'confiscarla': 1,\n",
       "         'bagarotti': 1,\n",
       "         'Ifantasmi': 1,\n",
       "         '@dg°orizzonte': 1,\n",
       "         'Trattatiroma': 1,\n",
       "         'irregolaro': 1,\n",
       "         'dia…': 1,\n",
       "         'Regahliamo': 1,\n",
       "         'Pd)': 1,\n",
       "         'governodelcambiamento': 1,\n",
       "         'misteriudinesi': 1,\n",
       "         'Compatiti': 1,\n",
       "         'graziemattarella': 1,\n",
       "         \"piu'\": 1,\n",
       "         'Merd.👎👎👎': 1,\n",
       "         '#€urolager': 1,\n",
       "         ':necessario': 1,\n",
       "         'fanagni': 1,\n",
       "         'qualificatissima': 1,\n",
       "         'mangiacotti': 1,\n",
       "         'nostri😡': 1,\n",
       "         \"sta'\": 1,\n",
       "         'Casae': 1,\n",
       "         '!ringraziamo': 1,\n",
       "         'cuiconcordo': 1,\n",
       "         'Affaritalian': 1,\n",
       "         'Popolie': 1,\n",
       "         '️forza': 1,\n",
       "         'Natalestopinvasione': 1,\n",
       "         'all-': 1,\n",
       "         'Abruz…': 1,\n",
       "         'scimmieperchè': 1,\n",
       "         'Aguzzino': 1,\n",
       "         'Sicurezzamigranti': 1,\n",
       "         'Anisamri': 1,\n",
       "         'Alil': 1,\n",
       "         'Deficienze': 1,\n",
       "         'incazzatifatti': 1,\n",
       "         '️condividete': 1,\n",
       "         'restiamoumani': 1,\n",
       "         'Boncore': 1,\n",
       "         'Ong’s': 1,\n",
       "         'islamizzarsi': 1,\n",
       "         'legittimadifesa': 1,\n",
       "         'Rimini…': 1,\n",
       "         'arrivando🤮siamo': 1,\n",
       "         '-turco': 1,\n",
       "         'Corvacci': 1,\n",
       "         'violenzasulledonne': 1,\n",
       "         '▶✳️lmmcompanyfull': 1,\n",
       "         '🇬🇧': 1,\n",
       "         'Welcomerefugees': 1,\n",
       "         'judei': 1,\n",
       "         'notengodinero': 1,\n",
       "         'invad@dgndo': 1,\n",
       "         '«@dg@dg@dg': 1,\n",
       "         'coffeebreakla': 1,\n",
       "         'negriera': 1,\n",
       "         'decretosicurezza': 1,\n",
       "         'so…': 1,\n",
       "         'ht…': 1,\n",
       "         'urbanesimo': 1,\n",
       "         \"qui'\": 1,\n",
       "         'lorodallavostraparte': 1,\n",
       "         'Governopd': 1,\n",
       "         '😂ma': 1,\n",
       "         'Nonato…': 1,\n",
       "         'ilblogdi': 1,\n",
       "         'facci…': 1,\n",
       "         'sceleris': 1,\n",
       "         'srmplice': 1,\n",
       "         \"Perche'\": 1,\n",
       "         ':caro': 1,\n",
       "         \"Astral'\": 1,\n",
       "         'Unicorni!': 1,\n",
       "         '/clandestino': 1,\n",
       "         'profughi\\\\': 1,\n",
       "         'metropole': 1,\n",
       "         'noban': 1,\n",
       "         'euroentusiasta': 1,\n",
       "         '”e': 1,\n",
       "         '@dg@dg@dg@dg€/mese': 1,\n",
       "         'scatà': 1,\n",
       "         'facenti/spacciatori': 1,\n",
       "         'stopfintiprofughi': 1,\n",
       "         '+orlandik': 1,\n",
       "         'digeri': 1,\n",
       "         \"a'\": 1,\n",
       "         \"Rassegnatevi.all'\": 1,\n",
       "         'sparareavista': 1,\n",
       "         'overstayers': 1,\n",
       "         'p)': 1,\n",
       "         'monnezzaaaa': 1,\n",
       "         'Orecchio!': 1,\n",
       "         'mezziladri': 1,\n",
       "         'esre': 1,\n",
       "         'in🇮🇹xla': 1,\n",
       "         'indignatoh': 1,\n",
       "         'Impugniamo': 1,\n",
       "         'Italialibia': 1,\n",
       "         '!basta': 1,\n",
       "         '🤦\\u200d♀️🤦\\u200d♀️🤣🤣🤣': 1,\n",
       "         'fattrici/serve': 1,\n",
       "         'Colonnasei': 1,\n",
       "         'boicottala@dg': 1,\n",
       "         'Favelaspertutti': 1,\n",
       "         'fuckisis': 1,\n",
       "         'islamizzazzione': 1,\n",
       "         'Bastabergoglio': 1,\n",
       "         '-centro': 1,\n",
       "         \"Chissa'\": 1,\n",
       "         'Chiusi,': 1,\n",
       "         'invasoone': 1,\n",
       "         'Invadere,': 1,\n",
       "         'pamelamastropietro': 1,\n",
       "         'Indagare,': 1,\n",
       "         '🤮poveri': 1,\n",
       "         'Globalcompactformigration': 1,\n",
       "         'salvinati': 1,\n",
       "         'Lavoro,': 1,\n",
       "         'stopisis': 1,\n",
       "         'quartarepubblica': 1,\n",
       "         'termovalorizzari': 1,\n",
       "         'Nataleper': 1,\n",
       "         'Stazionecentrale': 1,\n",
       "         'boldrinotta': 1,\n",
       "         'Aapds': 1,\n",
       "         'Ilcaos': 1,\n",
       "         'annidipiombo': 1,\n",
       "         'milirdi': 1,\n",
       "         '!!😀👍✌': 1,\n",
       "         ':antirazzista!': 1,\n",
       "         'Wilpopolo': 1,\n",
       "         'deiclandestini': 1,\n",
       "         'Scarcerano': 1,\n",
       "         'informat…': 1,\n",
       "         'dall…': 1,\n",
       "         'Erostraniero': 1,\n",
       "         'rom”': 1,\n",
       "         'Aleppolibera': 1,\n",
       "         'Afro-musulmane': 1,\n",
       "         'randellino': 1,\n",
       "         'amri': 1,\n",
       "         'ammantava': 1,\n",
       "         'animalifanatici': 1,\n",
       "         'aclandestino': 1,\n",
       "         'protessi': 1,\n",
       "         'siria=nuove': 1,\n",
       "         'Privandoli': 1,\n",
       "         'pdvergognanazionale': 1,\n",
       "         'Rimpatriamolitutti': 1,\n",
       "         'ore…': 1,\n",
       "         '*scambio': 1,\n",
       "         '🤣🤣': 1,\n",
       "         'Playhitmusic': 1,\n",
       "         'Antidemocraticocalpesta': 1,\n",
       "         'terrosristi': 1,\n",
       "         'c@xxo': 1,\n",
       "         'Coca_party': 1,\n",
       "         'Hastato': 1,\n",
       "         'Noiimbecille': 1,\n",
       "         'Zero!ora': 1,\n",
       "         '🤕🤕😨😨': 1,\n",
       "         'nonunadimeno': 1,\n",
       "         'Siamotuttirazzisti': 1,\n",
       "         'Stazionetiburtina': 1,\n",
       "         'Acclarata': 1,\n",
       "         'marilen': 1,\n",
       "         'Pensione:ai': 1,\n",
       "         'misu…': 1,\n",
       "         'cartabianca': 1,\n",
       "         'ugulano': 1,\n",
       "         'islsmici': 1,\n",
       "         'geaxue': 1,\n",
       "         'suda…': 1,\n",
       "         '/legiferare': 1,\n",
       "         'stoccolma…': 1,\n",
       "         '😁😁': 1,\n",
       "         'Etc.etc': 1,\n",
       "         '-sovrastimato': 1,\n",
       "         'mediocro': 1,\n",
       "         'c***': 1,\n",
       "         'sosituzione': 1,\n",
       "         '!voglio': 1,\n",
       "         'glimmigrati': 1,\n",
       "         'os…': 1,\n",
       "         'domoni': 1,\n",
       "         'xpregare': 1,\n",
       "         'dell!': 1,\n",
       "         'Musulmanivogliono': 1,\n",
       "         'Elmundo': 1,\n",
       "         'sgabia': 1,\n",
       "         'Politicacondiviso': 1,\n",
       "         'Soundcity': 1,\n",
       "         'regressività': 1,\n",
       "         'Satanism': 1,\n",
       "         'Sbattiam': 1,\n",
       "         'No!': 1,\n",
       "         'Notorio': 1,\n",
       "         '🤢🤢': 1,\n",
       "         'attrvità': 1,\n",
       "         ':napoli': 1,\n",
       "         'sovranismi': 1,\n",
       "         'd…': 1,\n",
       "         'Italiano!': 1,\n",
       "         'r…': 1,\n",
       "         'ed…': 1,\n",
       "         'Microaree': 1,\n",
       "         '-dice': 1,\n",
       "         'nero=delinquente': 1,\n",
       "         'concordo!!': 1,\n",
       "         \"sara'\": 1,\n",
       "         'Mutat': 1,\n",
       "         'e`con': 1,\n",
       "         'Pericolosi!ormai': 1,\n",
       "         'Pontercorvo': 1,\n",
       "         'califfata': 1,\n",
       "         'emancipano': 1,\n",
       "         'Notiziaro': 1,\n",
       "         'Piccheglobal': 1,\n",
       "         'Ong,': 1,\n",
       "         'dreyfusiani': 1,\n",
       "         'se…': 1,\n",
       "         'accollarseli': 1,\n",
       "         'europeizzata': 1,\n",
       "         'vergogna👎👎👎👎👎👎': 1,\n",
       "         '!!!siamo': 1,\n",
       "         'Pd…': 1,\n",
       "         'casabianca': 1,\n",
       "         'Imponendoci': 1,\n",
       "         'clisterini': 1,\n",
       "         'panicoincittà': 1,\n",
       "         'Maisicurezza': 1,\n",
       "         'Siam…': 1,\n",
       "         \"noi'\": 1,\n",
       "         'Samengo': 1,\n",
       "         'sessodebole': 1,\n",
       "         '?(': 1,\n",
       "         'fugito': 1,\n",
       "         'musulmania': 1,\n",
       "         'rapinata+uccisa': 1,\n",
       "         'Milanoèmemoria': 1,\n",
       "         'lsfri': 1,\n",
       "         'ammazzati/e': 1,\n",
       "         'ladigetto': 1,\n",
       "         'scemi�': 1,\n",
       "         '!nonsonorazzista': 1,\n",
       "         'No!!!': 1,\n",
       "         \"immigratixl'\": 1,\n",
       "         'lampidipoesia': 1,\n",
       "         'Barcellonanave': 1,\n",
       "         'Maledettiiiiiii!': 1,\n",
       "         'i…': 1,\n",
       "         '��������������magna': 1,\n",
       "         'soggiornoper': 1,\n",
       "         'grav…': 1,\n",
       "         'Clandestini!w': 1,\n",
       "         'Cazzo!': 1,\n",
       "         'in🇮🇹mantenuto': 1,\n",
       "         'Giuanturco': 1,\n",
       "         'Salvinimmerda': 1,\n",
       "         'Cizire': 1,\n",
       "         'daleggere': 1,\n",
       "         'sussid': 1,\n",
       "         'africo': 1,\n",
       "         \"che'\": 1,\n",
       "         'Più.e': 1,\n",
       "         'Globalcompactforrefugees': 1,\n",
       "         'sslvini': 1,\n",
       "         '-rom': 1,\n",
       "         '☺️': 1,\n",
       "         'noi…': 1,\n",
       "         '+++++': 1,\n",
       "         'Noislam': 1,\n",
       "         'giachettiane': 1,\n",
       "         'Bangladesi': 1,\n",
       "         'sradicheremo': 1,\n",
       "         'Scalmato': 1,\n",
       "         'L\\\\': 1,\n",
       "         '-narrazione': 1,\n",
       "         'piccolasiamo': 1,\n",
       "         \"famo'\": 1,\n",
       "         'iovotosalvini': 1,\n",
       "         '@dg@dg@dg@dgitaliani': 1,\n",
       "         'Consi…': 1,\n",
       "         'Cristianesimo.': 1,\n",
       "         'somaliland': 1,\n",
       "         'Un_': 1,\n",
       "         'saperva': 1,\n",
       "         'djffondetelo': 1,\n",
       "         'agorai': 1,\n",
       "         'Islamici.': 1,\n",
       "         'Giornaliera!': 1,\n",
       "         'inficeranno': 1,\n",
       "         'Lardosa': 1,\n",
       "         \"Verra'\": 1,\n",
       "         'Italiani!': 1,\n",
       "         'Romanon': 1,\n",
       "         '´': 1,\n",
       "         '—': 1,\n",
       "         'Rossa/': 1,\n",
       "         'X:@dg@dg': 1,\n",
       "         'lavanguardia': 1,\n",
       "         'minoranz…': 1,\n",
       "         'Giletsjaunes': 1,\n",
       "         'stopjihad': 1,\n",
       "         'figli:@dgpiano': 1,\n",
       "         'islamici…': 1,\n",
       "         'frustratella': 1,\n",
       "         'Migratis': 1,\n",
       "         '😢mi': 1,\n",
       "         'Wi-': 1,\n",
       "         'all`': 1,\n",
       "         '🔴roma,@dgesercito': 1,\n",
       "         '‘militare': 1,\n",
       "         'Infibulazioni': 1,\n",
       "         '!!!⚡⛅': 1,\n",
       "         'munnezzzzzzz': 1,\n",
       "         'halilovich': 1,\n",
       "         'pontemorandi': 1,\n",
       "         'Dirittooo': 1,\n",
       "         'Specieroma': 1,\n",
       "         '🇪🇺di': 1,\n",
       "         'empieta': 1,\n",
       "         'Ingabbiano': 1,\n",
       "         's@dgp@dg@dg@dg@dg': 1,\n",
       "         'Jabuillon': 1,\n",
       "         'stranierisiete': 1,\n",
       "         '$clandestini': 1,\n",
       "         '-qaradawi': 1,\n",
       "         'stefanocatone': 1,\n",
       "         'patronaggio': 1,\n",
       "         '💩schifose!': 1,\n",
       "         'Sx!': 1,\n",
       "         'salvinidimettiti': 1,\n",
       "         'scafist': 1,\n",
       "         'preconciliari': 1,\n",
       "         'Sispara': 1,\n",
       "         'Darwinday': 1,\n",
       "         'economici❗️': 1,\n",
       "         'Digrazia': 1,\n",
       "         'guerrasanta\\\\': 1,\n",
       "         'microaree': 1,\n",
       "         'londonattack': 1,\n",
       "         'Sestosangiovanni': 1,\n",
       "         'maximessa': 1,\n",
       "         'Cambianiente': 1,\n",
       "         'Buonnatale@dg@dg@dg@dg': 1,\n",
       "         '!!a': 1,\n",
       "         'Afferratevi': 1,\n",
       "         'rosiconeeee': 1,\n",
       "         'Albapairetti': 1,\n",
       "         '/romni': 1,\n",
       "         'Riacenonsiarresta': 1,\n",
       "         ':nessun': 1,\n",
       "         'Ammazzano.': 1,\n",
       "         'Clandestino.': 1,\n",
       "         'anticoleriche': 1,\n",
       "         'dеllа': 1,\n",
       "         'eladri': 1,\n",
       "         '@dg,@dgmln': 1,\n",
       "         'mastropoietro': 1,\n",
       "         'disilluderla': 1,\n",
       "         'Papampero': 1,\n",
       "         '😁saviano': 1,\n",
       "         'Bartolomè': 1,\n",
       "         'esmaredzepova': 1,\n",
       "         '“': 1,\n",
       "         'semprepiuconsalvini': 1,\n",
       "         'estirp…': 1,\n",
       "         'Arms».e': 1,\n",
       "         'Diboldrinia': 1,\n",
       "         '/mediterranea': 1,\n",
       "         'Napoli…': 1,\n",
       "         'sindacodiriace': 1,\n",
       "         'Costruzionie': 1,\n",
       "         'paladinba': 1,\n",
       "         '👇🏻achmed': 1,\n",
       "         'Refurtivama.chi': 1,\n",
       "         'mondezzaro': 1,\n",
       "         'bastainvasione': 1,\n",
       "         'fuckmuslims…': 1,\n",
       "         '^civiltà': 1,\n",
       "         'Ottemperavano': 1,\n",
       "         'Papafrancisco': 1,\n",
       "         'Asia/indonesia': 1,\n",
       "         'migranti…': 1,\n",
       "         'lapidavano': 1,\n",
       "         'veletti': 1,\n",
       "         'pactum': 1,\n",
       "         '•malversazione•fav': 1,\n",
       "         'Pd👀': 1,\n",
       "         'leredita': 1,\n",
       "         'roncola…': 1,\n",
       "         'Pisapippah': 1,\n",
       "         ':perk': 1,\n",
       "         'no!tutti': 1,\n",
       "         'campoprofughi': 1,\n",
       "         'Presenza.non': 1,\n",
       "         '•associazione': 1,\n",
       "         'maloxx': 1,\n",
       "         'ris…': 1,\n",
       "         'Bibliotucommenti': 1,\n",
       "         \"-l'\": 1,\n",
       "         'com…': 1,\n",
       "         'ocvupazioni': 1,\n",
       "         'Cіttà': 1,\n",
       "         'Vialeone': 1,\n",
       "         'No!siete': 1,\n",
       "         ':nessuno': 1,\n",
       "         'Hotspots': 1,\n",
       "         'barcone!migranti': 1,\n",
       "         'Iostoconsalvini': 1,\n",
       "         'huricano': 1,\n",
       "         'Iphone.': 1,\n",
       "         'Lascienzah': 1,\n",
       "         'Lobbydeicamper': 1,\n",
       "         'stragi/atti': 1,\n",
       "         'Zeitung…': 1,\n",
       "         'noimmigratiinbasilicata': 1,\n",
       "         'schiavis…': 1,\n",
       "         'Lenostretradizioni': 1,\n",
       "         'infolibera': 1,\n",
       "         'behqti': 1,\n",
       "         'raccoltadifferenziata': 1,\n",
       "         '❗️sveglia': 1,\n",
       "         '@dg@dg@dg@dgmigranti': 1,\n",
       "         'Incitamento=terrorismo': 1,\n",
       "         'Decretosalvini': 1,\n",
       "         '!!fossero': 1,\n",
       "         'Manifestazionii': 1,\n",
       "         'Wekab': 1,\n",
       "         'br/&gt': 1,\n",
       "         'islammigranti': 1,\n",
       "         '@dg€/ora': 1,\n",
       "         'islammoderato': 1,\n",
       "         ':jihadisti': 1,\n",
       "         'omnibusla@dg.': 1,\n",
       "         '👎👎👎': 1,\n",
       "         'hai+bisogno': 1,\n",
       "         'Merde!': 1,\n",
       "         \"vu'\": 1,\n",
       "         'Domenicolucano': 1,\n",
       "         'Anale:se': 1,\n",
       "         'integrazionemigranti': 1,\n",
       "         'Chibunna': 1,\n",
       "         'Europa@dg@dg@dg@dg': 1,\n",
       "         'L’': 1,\n",
       "         'skyfopd@dg@dg': 1,\n",
       "         'descrittoci': 1,\n",
       "         '🙄🤔🤨': 1,\n",
       "         'Si…certo': 1,\n",
       "         'Clandstini': 1,\n",
       "         'domani…': 1,\n",
       "         'd`origine': 1,\n",
       "         '!leggi': 1,\n",
       "         'un`': 1,\n",
       "         'Arteriosclerotico': 1,\n",
       "         'vero…': 1,\n",
       "         'Sull’': 1,\n",
       "         'mazzularli': 1,\n",
       "         'giovenissni': 1,\n",
       "         'cuoriaperti': 1,\n",
       "         '-migrante': 1,\n",
       "         'Alri': 1,\n",
       "         'Politici.a': 1,\n",
       "         'Ripijam': 1,\n",
       "         'primamarcello': 1,\n",
       "         'campi”…': 1,\n",
       "         '↪mattielli': 1,\n",
       "         'Abibi': 1,\n",
       "         'nomadano': 1,\n",
       "         'Roma!': 1,\n",
       "         'stopimmigrazione': 1,\n",
       "         'Verticeue': 1,\n",
       "         '-agenti': 1,\n",
       "         '”fratelli': 1,\n",
       "         'Voisapete': 1,\n",
       "         'unodiporticichetifajuve': 1,\n",
       "         'viammazzo': 1,\n",
       "         'risorse!': 1,\n",
       "         'spread!': 1,\n",
       "         'Immatricolate': 1,\n",
       "         'gl`immigrati': 1,\n",
       "         '&lt': 1,\n",
       "         'Baldodegli': 1,\n",
       "         'Karak': 1,\n",
       "         'Nonmollare': 1,\n",
       "         '-portati': 1,\n",
       "         'Ogboru': 1,\n",
       "         'extralegali': 1,\n",
       "         'viae': 1,\n",
       "         'Fiasché': 1,\n",
       "         'Hannorottoilcazzo': 1,\n",
       "         'Arrestacitutti': 1,\n",
       "         'Islamè': 1,\n",
       "         'Pre…': 1,\n",
       "         'Laltrafaenza': 1,\n",
       "         'Pd!': 1,\n",
       "         'Romeni!': 1,\n",
       "         'arrafando': 1,\n",
       "         'Globalismo': 1,\n",
       "         \"Severita'\": 1,\n",
       "         'Tracing': 1,\n",
       "         'derubò': 1,\n",
       "         'Espressio': 1,\n",
       "         'peridirittiumani': 1,\n",
       "         '🦅migratori': 1,\n",
       "         '“@dg': 1,\n",
       "         'degrante': 1,\n",
       "         'Roma\"': 1,\n",
       "         '😈@dg@dg@dg.@dg@dg@dg': 1,\n",
       "         'Lintervista': 1,\n",
       "         '�������������������������': 1,\n",
       "         '!tornate': 1,\n",
       "         'stranieri!leggete': 1,\n",
       "         'dichiar…': 1,\n",
       "         'pisqua': 1,\n",
       "         'fratelliditalia': 1,\n",
       "         'Stopinvasione…': 1,\n",
       "         'muslimban': 1,\n",
       "         'ridistrubuzione': 1,\n",
       "         'cacheremo': 1,\n",
       "         'bergogliesca': 1,\n",
       "         '#€urolandia': 1,\n",
       "         'Rimpatri.e': 1,\n",
       "         'religionecristiana': 1,\n",
       "         'Adessotutti': 1,\n",
       "         'Mettervelo': 1,\n",
       "         'Renzi,': 1,\n",
       "         'Graziestato': 1,\n",
       "         'Radicalizzarsi': 1,\n",
       "         'sntenze': 1,\n",
       "         \"se'\": 1,\n",
       "         'Saype': 1,\n",
       "         'Permes': 1,\n",
       "         'Anni…': 1,\n",
       "         '‘disperati': 1,\n",
       "         'Åkesson': 1,\n",
       "         'ricci…': 1,\n",
       "         'Italiagrande': 1,\n",
       "         'amnantano': 1,\n",
       "         'sociali/pensionistici': 1,\n",
       "         'noterrorismo': 1,\n",
       "         'soddisfandoli': 1,\n",
       "         'evangelizzati': 1,\n",
       "         'f…': 1,\n",
       "         'Aquarius@dg': 1,\n",
       "         'stopislam': 1,\n",
       "         'Assurdepotevatericri.le': 1,\n",
       "         'Stopinvasion': 1,\n",
       "         '-motrad': 1,\n",
       "         \"anni'@dg@dg\": 1,\n",
       "         'Diparole': 1,\n",
       "         'Iovoto': 1,\n",
       "         '-guerra': 1,\n",
       "         'lamerd': 1,\n",
       "         'Umaniquando': 1,\n",
       "         'romena…': 1,\n",
       "         \"po'\": 1,\n",
       "         'legalizzava': 1,\n",
       "         'is…': 1,\n",
       "         'Slarp😁': 1,\n",
       "         'brutalita': 1,\n",
       "         'redditocittadinanza': 1,\n",
       "         '@dgattualita': 1,\n",
       "         'spantaneamente': 1,\n",
       "         'sicurezzagrazie': 1,\n",
       "         'stranieri(': 1,\n",
       "         'Filcamscollettiva': 1,\n",
       "         ':cdm': 1,\n",
       "         'prospettiva💩💩💩': 1,\n",
       "         'nonelarena': 1,\n",
       "         'Subito!': 1,\n",
       "         '���������': 1,\n",
       "         '🤦🏻\\u200d♂': 1,\n",
       "         'prrseguire': 1,\n",
       "         'Romaè': 1,\n",
       "         'ricordasero': 1,\n",
       "         'tedeschi!': 1,\n",
       "         'Seq': 1,\n",
       "         'salvininonmollare': 1,\n",
       "         'Addossandoci': 1,\n",
       "         ':berlusca': 1,\n",
       "         'te…': 1,\n",
       "         'rom/': 1,\n",
       "         'Umani!': 1,\n",
       "         'Fourquet': 1,\n",
       "         'notiziediprato': 1,\n",
       "         'permessirimpatri': 1,\n",
       "         'Storace🖊news': 1,\n",
       "         'lazanzara': 1,\n",
       "         'Ue/renzi': 1,\n",
       "         'Bellofigo': 1,\n",
       "         '-poverini': 1,\n",
       "         'marcocf@dg@dg': 1,\n",
       "         '.🤣': 1,\n",
       "         'Corsodiperfezionamento': 1,\n",
       "         'attacheremo': 1,\n",
       "         'passateglieli': 1,\n",
       "         'Emuoionmartiri': 1,\n",
       "         'vampo': 1,\n",
       "         '!vogliono': 1,\n",
       "         'mercia\\\\': 1,\n",
       "         'Bureij': 1,\n",
       "         'Roma&rom': 1,\n",
       "         ':dopo': 1,\n",
       "         'Afghanconf': 1,\n",
       "         'boicottasky': 1,\n",
       "         'migrationnocrime': 1,\n",
       "         'Stefaniapucciarelli': 1,\n",
       "         'porci/infedeli': 1,\n",
       "         'staderaitalia': 1,\n",
       "         'Delinquentivoglio': 1,\n",
       "         'e´una': 1,\n",
       "         '–': 1,\n",
       "         'ritwittato@dgsolo': 1,\n",
       "         'Omicide': 1,\n",
       "         'Darat': 1,\n",
       "         'Globalcompact': 1,\n",
       "         'stranieri!': 1,\n",
       "         'occultandoli': 1,\n",
       "         'Nonlasciamoli': 1,\n",
       "         'Matiasromany': 1,\n",
       "         '!porci': 1,\n",
       "         'bomberdate': 1,\n",
       "         'magnapolenta': 1,\n",
       "         '-stranieri': 1,\n",
       "         'fragilizzare': 1,\n",
       "         'Siria🇸🇾': 1,\n",
       "         'antislamista': 1,\n",
       "         'Migrazione.': 1,\n",
       "         'Iostocon': 1,\n",
       "         '🧐': 1,\n",
       "         'Sx=': 1,\n",
       "         '”non': 1,\n",
       "         'Salvinidimettiti': 1,\n",
       "         'cager': 1,\n",
       "         'papamilano@dg@dg@dg@dg': 1,\n",
       "         'comportono': 1,\n",
       "         'instabul': 1,\n",
       "         'Dalibro': 1,\n",
       "         'destabilizzeranno': 1,\n",
       "         'Siria🇸': 1,\n",
       "         'economia!avete': 1,\n",
       "         'mezzorainpiu': 1,\n",
       "         'trasformateci': 1,\n",
       "         'portargl': 1,\n",
       "         '…….': 1,\n",
       "         'Incompatibiltà': 1,\n",
       "         '!!ma': 1,\n",
       "         'avemus': 1,\n",
       "         'sradicante': 1,\n",
       "         'Rottto': 1,\n",
       "         'Sansaba': 1,\n",
       "         'Monastirla': 1,\n",
       "         'Siria(': 1,\n",
       "         'Betorinon': 1,\n",
       "         'ppartamento': 1,\n",
       "         '-i-migranti': 1,\n",
       "         'blogstelle': 1,\n",
       "         '@dg@dg@dg€/mese': 1,\n",
       "         'oessh': 1,\n",
       "         '🖕🏿👎🏿': 1,\n",
       "         'No!finestopinvasione': 1,\n",
       "         '”': 1,\n",
       "         'Droga!!lo': 1,\n",
       "         'exstacomunitari': 1,\n",
       "         'metidate': 1,\n",
       "         '€/die': 1,\n",
       "         'sgombrarli': 1,\n",
       "         \"Inutilee'\": 1,\n",
       "         ':nn': 1,\n",
       "         'Nomas♻': 1,\n",
       "         'Venduto,': 1,\n",
       "         '~riportare': 1,\n",
       "         '•arci': 1,\n",
       "         '-clandestini': 1,\n",
       "         'anch’': 1,\n",
       "         'wlitalia': 1,\n",
       "         '€uropa': 1,\n",
       "         'impadroniree': 1,\n",
       "         'Piagnisteipensate': 1,\n",
       "         'L@dg@dg@dg@dg@dg@dg': 1,\n",
       "         'Stradatutte': 1,\n",
       "         'perdu…': 1,\n",
       "         'Enez': 1,\n",
       "         'Obblighisiamo': 1,\n",
       "         'rt…': 1,\n",
       "         'Alfano/renzi': 1,\n",
       "         'q.maschera': 1,\n",
       "         'terroristicamente': 1,\n",
       "         'khmer-': 1,\n",
       "         \"Gia'\": 1,\n",
       "         'Noi?che': 1,\n",
       "         'moderatiuncazzo': 1,\n",
       "         'ilsognodigiovanni': 1,\n",
       "         '!tutte': 1,\n",
       "         'sgozzarci\\\\': 1,\n",
       "         'Negroidi': 1,\n",
       "         'bastaislam': 1,\n",
       "         'piazzadelpopolo': 1,\n",
       "         'sottoogniforma': 1,\n",
       "         'Quintacolonnama': 1,\n",
       "         'Islamophobia': 1,\n",
       "         '💩💩': 1,\n",
       "         'fuoritutti': 1,\n",
       "         'sorosiane': 1,\n",
       "         'Canaaniti': 1,\n",
       "         'ladri-': 1,\n",
       "         'panarabo': 1,\n",
       "         'Bddocumenta': 1,\n",
       "         ':francesco': 1,\n",
       "         '💩💩uomini': 1,\n",
       "         'tasca\\\\': 1,\n",
       "         'Cristo.la': 1,\n",
       "         'Gr…': 1,\n",
       "         'artedicondividere': 1,\n",
       "         'Pseudovalori': 1,\n",
       "         'Chiudervi': 1,\n",
       "         'bastardislamici': 1,\n",
       "         'Squartano': 1,\n",
       "         'Guerracivile': 1,\n",
       "         'differentispossible': 1,\n",
       "         'Èunministro': 1,\n",
       "         'crozzameraviglie': 1,\n",
       "         '.🤮🤮': 1,\n",
       "         '️basta': 1,\n",
       "         'Whitegenocide': 1,\n",
       "         'Rmcnews': 1,\n",
       "         'de…': 1,\n",
       "         'Senadid': 1,\n",
       "         'Relion': 1,\n",
       "         'Democraziae': 1,\n",
       "         'thexeon': 1,\n",
       "         'Disperazione.per': 1,\n",
       "         'Iiimunicipio': 1,\n",
       "         'Diariocivile': 1,\n",
       "         'Ahle': 1,\n",
       "         'ragazzi�': 1,\n",
       "         \"Pipi'\": 1,\n",
       "         'Spese!': 1,\n",
       "         'corridoumanitari': 1,\n",
       "         '-tunisia': 1,\n",
       "         'Inguerra': 1,\n",
       "         'Foundations': 1,\n",
       "         'portichiusi': 1,\n",
       "         'Radiorpl': 1,\n",
       "         'All’': 1,\n",
       "         'migranteuscite': 1,\n",
       "         'cazzoi': 1,\n",
       "         'monologale': 1,\n",
       "         'iostocon': 1,\n",
       "         ':alta': 1,\n",
       "         \"Si'\": 1,\n",
       "         'clandestina•illeciti': 1,\n",
       "         'antyi': 1,\n",
       "         '“missione': 1,\n",
       "         'Guadeloupean': 1,\n",
       "         'Stufi!': 1,\n",
       "         '+agevolmente': 1,\n",
       "         'albanianews': 1,\n",
       "         'retroguadie': 1,\n",
       "         'ro…': 1,\n",
       "         'Cose\"': 1,\n",
       "         '-richiedente': 1,\n",
       "         'Igles…': 1,\n",
       "         'sussidi/': 1,\n",
       "         'Guerramai': 1,\n",
       "         'paluso': 1,\n",
       "         'Democraziaè': 1,\n",
       "         \"Cosi'\": 1,\n",
       "         'fuckislam': 1,\n",
       "         'Assassini,': 1,\n",
       "         '+…': 1,\n",
       "         'defechino': 1,\n",
       "         'A…': 1,\n",
       "         'Humanrights': 1,\n",
       "         'Tg@dg@dgnotizie': 1,\n",
       "         'sbandieranti': 1,\n",
       "         'Acsim': 1,\n",
       "         'pdfogna': 1,\n",
       "         'dare…': 1,\n",
       "         'assolvera': 1,\n",
       "         'itafrica': 1,\n",
       "         'preucoppi': 1,\n",
       "         'Nord!nemici': 1,\n",
       "         'de\"': 1,\n",
       "         \"Liberta'\": 1,\n",
       "         'traferire': 1,\n",
       "         'Libia!': 1,\n",
       "         '.prima': 1,\n",
       "         'ruabano': 1,\n",
       "         '@ibico@dg@dg': 1,\n",
       "         'sudura': 1,\n",
       "         'arrestatementre': 1,\n",
       "         'Uncazzo': 1,\n",
       "         'viverfe': 1,\n",
       "         'Lʼ': 1,\n",
       "         'folliaitaliana': 1,\n",
       "         \"Identita'\": 1,\n",
       "         'Novoli…': 1,\n",
       "         'Coglione,': 1,\n",
       "         'Spedirli': 1,\n",
       "         'thepillo': 1,\n",
       "         'Responsabilitàsoggettiva': 1,\n",
       "         'iostoconilgoverno': 1,\n",
       "         'lineatelenova': 1,\n",
       "         '🤣🤣🤣😂😂😂😁😁': 1,\n",
       "         'glorificarli': 1,\n",
       "         'Ladriarate': 1,\n",
       "         ':musulmana': 1,\n",
       "         'Tratto’': 1,\n",
       "         'Giornoagli': 1,\n",
       "         'Dropmire': 1,\n",
       "         'sorosiana': 1,\n",
       "         'Bivaccare': 1,\n",
       "         'pulirselo': 1,\n",
       "         'immigratti': 1,\n",
       "         'mauela': 1,\n",
       "         'Olbes': 1,\n",
       "         'Respiriamo.': 1,\n",
       "         'liportasse': 1,\n",
       "         'puz…': 1,\n",
       "         '😡😡😡😡👿👿👿👿o': 1,\n",
       "         'Piattaformafuturo': 1,\n",
       "         'iostoconmimmo': 1,\n",
       "         'palmeti': 1,\n",
       "         \"mo'\": 1,\n",
       "         'pretedono': 1,\n",
       "         '@dg°mun': 1,\n",
       "         '@dg@dg°ed': 1,\n",
       "         'rubato@dg@dg€e': 1,\n",
       "         'rateizziamo': 1,\n",
       "         'ecc.etc': 1,\n",
       "         '?o': 1,\n",
       "         \"campionedell'\": 1,\n",
       "         'Umanrightday': 1,\n",
       "         '-comunitaria': 1,\n",
       "         'cyberwarfare': 1,\n",
       "         'peralba': 1,\n",
       "         'Bestat': 1,\n",
       "         '-germania': 1,\n",
       "         'cos’': 1,\n",
       "         'Discriminati!!pezzi': 1,\n",
       "         'tua…': 1,\n",
       "         'Maglietterosse': 1,\n",
       "         'islam!': 1,\n",
       "         'Migranti”': 1,\n",
       "         'lottomarzo': 1,\n",
       "         'Marcheschi': 1,\n",
       "         'cammello🤣🤣🤣🤣': 1,\n",
       "         'cianfe': 1,\n",
       "         'ròm–nome': 1,\n",
       "         'mafia/napoli/scampia': 1,\n",
       "         ...})"
      ]
     },
     "execution_count": 24,
     "metadata": {},
     "output_type": "execute_result"
    }
   ],
   "source": [
    "missing_words_freq = Counter(missing_words)\n",
    "missing_words_freq"
   ]
  },
  {
   "cell_type": "markdown",
   "metadata": {
    "id": "Zz3viur2mDls"
   },
   "source": [
    "All OOV words only appear once. At closer inspection, most of them seem to be caused by hashtags (characterized by the lack of seaparation between the words, failed tokenization (especially of repeated emojiis and of punctuation) and typos."
   ]
  },
  {
   "cell_type": "markdown",
   "metadata": {
    "id": "Lu23cA0l99oW"
   },
   "source": [
    "# Feature Extraction\n"
   ]
  },
  {
   "cell_type": "markdown",
   "metadata": {
    "id": "f2mjQUbKIYS7"
   },
   "source": [
    "## Averaging word embeddings\n",
    "We'll represent each tweet by aggreagating the embeddings of its tokens.\n",
    "\n",
    "\n",
    "1.   Doc = mean of all its token embeddings\n",
    "2.   Doc = mean of its \"lessically full\" token embeddings\n",
    "3.   Doc = concatenation of the 3 mean vectors of its nouns, verbs and adjectives.\n",
    "\n"
   ]
  },
  {
   "cell_type": "code",
   "execution_count": 34,
   "metadata": {
    "id": "xAk76vOsONnW"
   },
   "outputs": [],
   "source": [
    "def compute_embeddings_mean(document_embeddings):\n",
    "    sum_array = np.sum(document_embeddings, axis=0) #axis=0→media per righe\n",
    "    mean_array = np.divide(sum_array, len(document_embeddings))\n",
    "    return mean_array"
   ]
  },
  {
   "cell_type": "code",
   "execution_count": 35,
   "metadata": {
    "id": "hkr-1WovOvcK"
   },
   "outputs": [],
   "source": [
    "def compute_all_embeddings_mean(document_tokens):\n",
    "    \"\"\"\n",
    "    1. Doc = mean of all its token embeddings\n",
    "    \"\"\"\n",
    "    document_embeddings = []\n",
    "\n",
    "    for token in document_tokens:\n",
    "        word = token['word']\n",
    "        if word in embeddings:\n",
    "            document_embeddings.append(embeddings[word])\n",
    "\n",
    "    if len(document_embeddings) == 0: #if no words are in the embeddings dict\n",
    "        mean_document_embeddings = np.zeros(128) #128-dimensional vect with only 0s\n",
    "    else:\n",
    "        mean_document_embeddings = compute_embeddings_mean(document_embeddings)\n",
    "    return mean_document_embeddings"
   ]
  },
  {
   "cell_type": "code",
   "execution_count": 36,
   "metadata": {
    "id": "fMhcm99hP02f"
   },
   "outputs": [],
   "source": [
    "def compute_filtered_embeddings_mean(document_tokens):\n",
    "    \"\"\"\n",
    "    2. Doc = mean of its \"lessically full\" token embeddings\n",
    "    \"\"\"\n",
    "    document_embeddings = []\n",
    "\n",
    "    for token in document_tokens:\n",
    "        word = token['word']\n",
    "        pos = token['pos']\n",
    "        if word in embeddings and pos in ['ADJ', 'NOUN', 'VERB']:\n",
    "            document_embeddings.append(embeddings[word])\n",
    "\n",
    "    if len(document_embeddings) == 0:\n",
    "        mean_document_embeddings = np.zeros(128)\n",
    "    else:\n",
    "        mean_document_embeddings = compute_embeddings_mean(document_embeddings)\n",
    "    return mean_document_embeddings"
   ]
  },
  {
   "cell_type": "code",
   "execution_count": 37,
   "metadata": {
    "id": "vrzGOdefR1Kp"
   },
   "outputs": [],
   "source": [
    "def compute_filtered_embeddings_sep_means(document_tokens):\n",
    "    \"\"\"\n",
    "    3. Doc = concatenation of the 3 mean vectors of its nouns, verbs and adjectives.\n",
    "    \"\"\"\n",
    "    pos_groups = {'ADJ': [], 'NOUN': [], 'VERB': []}\n",
    "\n",
    "    # Collect embeddings by POS group\n",
    "    for token in document_tokens:\n",
    "        word, pos = token['word'], token['pos']\n",
    "        if word in embeddings and pos in pos_groups:\n",
    "            pos_groups[pos].append(embeddings[word])\n",
    "\n",
    "    # Compute mean embeddings or default to zeros\n",
    "    mean_embeddings = {\n",
    "        pos: compute_embeddings_mean(pos_groups[pos]) if pos_groups[pos] else np.zeros(128)\n",
    "        for pos in pos_groups\n",
    "    }\n",
    "\n",
    "    # Concatenate all means into a single vector\n",
    "    mean_document_embeddings = np.concatenate(\n",
    "        [mean_embeddings['ADJ'], mean_embeddings['NOUN'], mean_embeddings['VERB']], axis=None\n",
    "    )\n",
    "    return mean_document_embeddings"
   ]
  },
  {
   "cell_type": "markdown",
   "metadata": {
    "id": "aeQWqbfzc8qv"
   },
   "source": [
    "# Build feature matrix"
   ]
  },
  {
   "cell_type": "code",
   "execution_count": 29,
   "metadata": {
    "id": "r1LFM9m_c6ZA"
   },
   "outputs": [],
   "source": [
    "def extract_features(documents):\n",
    "    dataset_features = []\n",
    "    for document_tokens in documents:\n",
    "        # document_embeddings = compute_all_embeddings_mean(document_tokens)\n",
    "        # document_embeddings = compute_filtered_embeddings_mean(document_tokens)\n",
    "        document_embeddings = compute_filtered_embeddings_sep_means(document_tokens)\n",
    "        dataset_features.append(document_embeddings)\n",
    "    return dataset_features"
   ]
  },
  {
   "cell_type": "code",
   "execution_count": 30,
   "metadata": {
    "colab": {
     "base_uri": "https://localhost:8080/",
     "height": 287
    },
    "id": "ppDkQMyLdERb",
    "outputId": "76c4c7c0-1504-4713-9c8c-cd218e047561"
   },
   "outputs": [],
   "source": [
    "all_features = extract_features(all_documents)"
   ]
  },
  {
   "cell_type": "code",
   "execution_count": 31,
   "metadata": {
    "colab": {
     "base_uri": "https://localhost:8080/"
    },
    "id": "yLHL4pD4dQtl",
    "outputId": "d9230531-a76d-4f06-c81f-9d8310a7628e"
   },
   "outputs": [
    {
     "data": {
      "text/plain": [
       "(6837, 384)"
      ]
     },
     "execution_count": 31,
     "metadata": {},
     "output_type": "execute_result"
    }
   ],
   "source": [
    "len(all_features), len(all_features[0])\n",
    "#(n. tweets, embeddings' dimensions)"
   ]
  },
  {
   "cell_type": "code",
   "execution_count": 38,
   "metadata": {
    "id": "A-5pC12GddO_"
   },
   "outputs": [],
   "source": [
    "def create_label_list(loaded_docs):\n",
    "  labels = []\n",
    "  for doc in loaded_docs:\n",
    "    labels.append(doc['hs'])\n",
    "  return labels\n",
    "\n",
    "all_labels = create_label_list(loaded_docs)"
   ]
  },
  {
   "cell_type": "code",
   "execution_count": 33,
   "metadata": {
    "id": "JiI-JNR4an1T",
    "outputId": "d0ccc0a6-94dd-4a7d-8c43-7e04938e5482"
   },
   "outputs": [
    {
     "data": {
      "text/html": [
       "<div>\n",
       "<style scoped>\n",
       "    .dataframe tbody tr th:only-of-type {\n",
       "        vertical-align: middle;\n",
       "    }\n",
       "\n",
       "    .dataframe tbody tr th {\n",
       "        vertical-align: top;\n",
       "    }\n",
       "\n",
       "    .dataframe thead th {\n",
       "        text-align: right;\n",
       "    }\n",
       "</style>\n",
       "<table border=\"1\" class=\"dataframe\">\n",
       "  <thead>\n",
       "    <tr style=\"text-align: right;\">\n",
       "      <th></th>\n",
       "      <th>0</th>\n",
       "      <th>1</th>\n",
       "      <th>2</th>\n",
       "      <th>3</th>\n",
       "      <th>4</th>\n",
       "      <th>5</th>\n",
       "      <th>6</th>\n",
       "      <th>7</th>\n",
       "      <th>8</th>\n",
       "      <th>9</th>\n",
       "      <th>...</th>\n",
       "      <th>374</th>\n",
       "      <th>375</th>\n",
       "      <th>376</th>\n",
       "      <th>377</th>\n",
       "      <th>378</th>\n",
       "      <th>379</th>\n",
       "      <th>380</th>\n",
       "      <th>381</th>\n",
       "      <th>382</th>\n",
       "      <th>383</th>\n",
       "    </tr>\n",
       "  </thead>\n",
       "  <tbody>\n",
       "    <tr>\n",
       "      <th>2066</th>\n",
       "      <td>-0.081803</td>\n",
       "      <td>0.046935</td>\n",
       "      <td>-0.008746</td>\n",
       "      <td>0.010225</td>\n",
       "      <td>-0.118619</td>\n",
       "      <td>-0.076745</td>\n",
       "      <td>0.003125</td>\n",
       "      <td>0.091324</td>\n",
       "      <td>-0.136131</td>\n",
       "      <td>-0.037451</td>\n",
       "      <td>...</td>\n",
       "      <td>0.053196</td>\n",
       "      <td>-0.036134</td>\n",
       "      <td>0.117367</td>\n",
       "      <td>0.040471</td>\n",
       "      <td>0.139597</td>\n",
       "      <td>0.159097</td>\n",
       "      <td>0.041008</td>\n",
       "      <td>0.042588</td>\n",
       "      <td>-0.069196</td>\n",
       "      <td>0.004214</td>\n",
       "    </tr>\n",
       "    <tr>\n",
       "      <th>2045</th>\n",
       "      <td>0.000000</td>\n",
       "      <td>0.000000</td>\n",
       "      <td>0.000000</td>\n",
       "      <td>0.000000</td>\n",
       "      <td>0.000000</td>\n",
       "      <td>0.000000</td>\n",
       "      <td>0.000000</td>\n",
       "      <td>0.000000</td>\n",
       "      <td>0.000000</td>\n",
       "      <td>0.000000</td>\n",
       "      <td>...</td>\n",
       "      <td>-0.223732</td>\n",
       "      <td>0.111129</td>\n",
       "      <td>-0.042918</td>\n",
       "      <td>-0.016430</td>\n",
       "      <td>-0.000787</td>\n",
       "      <td>-0.064883</td>\n",
       "      <td>0.066916</td>\n",
       "      <td>0.006924</td>\n",
       "      <td>0.041080</td>\n",
       "      <td>-0.071082</td>\n",
       "    </tr>\n",
       "    <tr>\n",
       "      <th>61</th>\n",
       "      <td>0.000000</td>\n",
       "      <td>0.000000</td>\n",
       "      <td>0.000000</td>\n",
       "      <td>0.000000</td>\n",
       "      <td>0.000000</td>\n",
       "      <td>0.000000</td>\n",
       "      <td>0.000000</td>\n",
       "      <td>0.000000</td>\n",
       "      <td>0.000000</td>\n",
       "      <td>0.000000</td>\n",
       "      <td>...</td>\n",
       "      <td>0.000000</td>\n",
       "      <td>0.000000</td>\n",
       "      <td>0.000000</td>\n",
       "      <td>0.000000</td>\n",
       "      <td>0.000000</td>\n",
       "      <td>0.000000</td>\n",
       "      <td>0.000000</td>\n",
       "      <td>0.000000</td>\n",
       "      <td>0.000000</td>\n",
       "      <td>0.000000</td>\n",
       "    </tr>\n",
       "    <tr>\n",
       "      <th>1259</th>\n",
       "      <td>-0.055492</td>\n",
       "      <td>-0.022582</td>\n",
       "      <td>-0.154473</td>\n",
       "      <td>0.063425</td>\n",
       "      <td>-0.002762</td>\n",
       "      <td>0.011725</td>\n",
       "      <td>0.178043</td>\n",
       "      <td>0.135282</td>\n",
       "      <td>0.059664</td>\n",
       "      <td>-0.040627</td>\n",
       "      <td>...</td>\n",
       "      <td>0.004323</td>\n",
       "      <td>0.076618</td>\n",
       "      <td>-0.003702</td>\n",
       "      <td>0.022941</td>\n",
       "      <td>-0.012233</td>\n",
       "      <td>-0.055637</td>\n",
       "      <td>0.167063</td>\n",
       "      <td>0.075947</td>\n",
       "      <td>-0.035068</td>\n",
       "      <td>0.077677</td>\n",
       "    </tr>\n",
       "    <tr>\n",
       "      <th>949</th>\n",
       "      <td>-0.003092</td>\n",
       "      <td>0.012208</td>\n",
       "      <td>0.002386</td>\n",
       "      <td>0.000757</td>\n",
       "      <td>-0.019894</td>\n",
       "      <td>-0.024054</td>\n",
       "      <td>0.001961</td>\n",
       "      <td>-0.021134</td>\n",
       "      <td>0.131911</td>\n",
       "      <td>-0.012630</td>\n",
       "      <td>...</td>\n",
       "      <td>0.114646</td>\n",
       "      <td>-0.042935</td>\n",
       "      <td>0.041047</td>\n",
       "      <td>0.060730</td>\n",
       "      <td>0.042754</td>\n",
       "      <td>-0.084166</td>\n",
       "      <td>0.019583</td>\n",
       "      <td>-0.024915</td>\n",
       "      <td>-0.008184</td>\n",
       "      <td>0.006205</td>\n",
       "    </tr>\n",
       "  </tbody>\n",
       "</table>\n",
       "<p>5 rows × 384 columns</p>\n",
       "</div>"
      ],
      "text/plain": [
       "           0         1         2         3         4         5         6    \\\n",
       "2066 -0.081803  0.046935 -0.008746  0.010225 -0.118619 -0.076745  0.003125   \n",
       "2045  0.000000  0.000000  0.000000  0.000000  0.000000  0.000000  0.000000   \n",
       "61    0.000000  0.000000  0.000000  0.000000  0.000000  0.000000  0.000000   \n",
       "1259 -0.055492 -0.022582 -0.154473  0.063425 -0.002762  0.011725  0.178043   \n",
       "949  -0.003092  0.012208  0.002386  0.000757 -0.019894 -0.024054  0.001961   \n",
       "\n",
       "           7         8         9    ...       374       375       376  \\\n",
       "2066  0.091324 -0.136131 -0.037451  ...  0.053196 -0.036134  0.117367   \n",
       "2045  0.000000  0.000000  0.000000  ... -0.223732  0.111129 -0.042918   \n",
       "61    0.000000  0.000000  0.000000  ...  0.000000  0.000000  0.000000   \n",
       "1259  0.135282  0.059664 -0.040627  ...  0.004323  0.076618 -0.003702   \n",
       "949  -0.021134  0.131911 -0.012630  ...  0.114646 -0.042935  0.041047   \n",
       "\n",
       "           377       378       379       380       381       382       383  \n",
       "2066  0.040471  0.139597  0.159097  0.041008  0.042588 -0.069196  0.004214  \n",
       "2045 -0.016430 -0.000787 -0.064883  0.066916  0.006924  0.041080 -0.071082  \n",
       "61    0.000000  0.000000  0.000000  0.000000  0.000000  0.000000  0.000000  \n",
       "1259  0.022941 -0.012233 -0.055637  0.167063  0.075947 -0.035068  0.077677  \n",
       "949   0.060730  0.042754 -0.084166  0.019583 -0.024915 -0.008184  0.006205  \n",
       "\n",
       "[5 rows x 384 columns]"
      ]
     },
     "execution_count": 33,
     "metadata": {},
     "output_type": "execute_result"
    }
   ],
   "source": [
    "embeddings_df = pd.DataFrame(all_features, index=[doc['id'] for doc in loaded_docs])\n",
    "embeddings_df.head()"
   ]
  },
  {
   "cell_type": "markdown",
   "metadata": {
    "id": "gO6so4F6an1U"
   },
   "source": [
    "Export embeddings dataframe for further use (uncomment code in extract features and change outfile name for exporting different embeddings)."
   ]
  },
  {
   "cell_type": "code",
   "execution_count": 39,
   "metadata": {},
   "outputs": [],
   "source": [
    "results_path = Path('../results')"
   ]
  },
  {
   "cell_type": "code",
   "execution_count": 18,
   "metadata": {
    "id": "qZsHNA94an1U"
   },
   "outputs": [
    {
     "ename": "KeyboardInterrupt",
     "evalue": "",
     "output_type": "error",
     "traceback": [
      "\u001b[1;31m---------------------------------------------------------------------------\u001b[0m",
      "\u001b[1;31mKeyboardInterrupt\u001b[0m                         Traceback (most recent call last)",
      "Cell \u001b[1;32mIn[18], line 5\u001b[0m\n\u001b[0;32m      2\u001b[0m \u001b[38;5;66;03m#outfile = 'embs_all_train.csv'\u001b[39;00m\n\u001b[0;32m      3\u001b[0m \u001b[38;5;66;03m#outfile = 'embs_filt_sep_train.csv'\u001b[39;00m\n\u001b[0;32m      4\u001b[0m outfile \u001b[38;5;241m=\u001b[39m \u001b[38;5;124m'\u001b[39m\u001b[38;5;124membs_filt_sep_train.csv\u001b[39m\u001b[38;5;124m'\u001b[39m\n\u001b[1;32m----> 5\u001b[0m embeddings_df\u001b[38;5;241m.\u001b[39mto_csv(results_path \u001b[38;5;241m/\u001b[39m outfile)\n",
      "File \u001b[1;32mc:\\Users\\camim\\anaconda3\\Lib\\site-packages\\pandas\\core\\generic.py:3902\u001b[0m, in \u001b[0;36mNDFrame.to_csv\u001b[1;34m(self, path_or_buf, sep, na_rep, float_format, columns, header, index, index_label, mode, encoding, compression, quoting, quotechar, lineterminator, chunksize, date_format, doublequote, escapechar, decimal, errors, storage_options)\u001b[0m\n\u001b[0;32m   3891\u001b[0m df \u001b[38;5;241m=\u001b[39m \u001b[38;5;28mself\u001b[39m \u001b[38;5;28;01mif\u001b[39;00m \u001b[38;5;28misinstance\u001b[39m(\u001b[38;5;28mself\u001b[39m, ABCDataFrame) \u001b[38;5;28;01melse\u001b[39;00m \u001b[38;5;28mself\u001b[39m\u001b[38;5;241m.\u001b[39mto_frame()\n\u001b[0;32m   3893\u001b[0m formatter \u001b[38;5;241m=\u001b[39m DataFrameFormatter(\n\u001b[0;32m   3894\u001b[0m     frame\u001b[38;5;241m=\u001b[39mdf,\n\u001b[0;32m   3895\u001b[0m     header\u001b[38;5;241m=\u001b[39mheader,\n\u001b[1;32m   (...)\u001b[0m\n\u001b[0;32m   3899\u001b[0m     decimal\u001b[38;5;241m=\u001b[39mdecimal,\n\u001b[0;32m   3900\u001b[0m )\n\u001b[1;32m-> 3902\u001b[0m \u001b[38;5;28;01mreturn\u001b[39;00m DataFrameRenderer(formatter)\u001b[38;5;241m.\u001b[39mto_csv(\n\u001b[0;32m   3903\u001b[0m     path_or_buf,\n\u001b[0;32m   3904\u001b[0m     lineterminator\u001b[38;5;241m=\u001b[39mlineterminator,\n\u001b[0;32m   3905\u001b[0m     sep\u001b[38;5;241m=\u001b[39msep,\n\u001b[0;32m   3906\u001b[0m     encoding\u001b[38;5;241m=\u001b[39mencoding,\n\u001b[0;32m   3907\u001b[0m     errors\u001b[38;5;241m=\u001b[39merrors,\n\u001b[0;32m   3908\u001b[0m     compression\u001b[38;5;241m=\u001b[39mcompression,\n\u001b[0;32m   3909\u001b[0m     quoting\u001b[38;5;241m=\u001b[39mquoting,\n\u001b[0;32m   3910\u001b[0m     columns\u001b[38;5;241m=\u001b[39mcolumns,\n\u001b[0;32m   3911\u001b[0m     index_label\u001b[38;5;241m=\u001b[39mindex_label,\n\u001b[0;32m   3912\u001b[0m     mode\u001b[38;5;241m=\u001b[39mmode,\n\u001b[0;32m   3913\u001b[0m     chunksize\u001b[38;5;241m=\u001b[39mchunksize,\n\u001b[0;32m   3914\u001b[0m     quotechar\u001b[38;5;241m=\u001b[39mquotechar,\n\u001b[0;32m   3915\u001b[0m     date_format\u001b[38;5;241m=\u001b[39mdate_format,\n\u001b[0;32m   3916\u001b[0m     doublequote\u001b[38;5;241m=\u001b[39mdoublequote,\n\u001b[0;32m   3917\u001b[0m     escapechar\u001b[38;5;241m=\u001b[39mescapechar,\n\u001b[0;32m   3918\u001b[0m     storage_options\u001b[38;5;241m=\u001b[39mstorage_options,\n\u001b[0;32m   3919\u001b[0m )\n",
      "File \u001b[1;32mc:\\Users\\camim\\anaconda3\\Lib\\site-packages\\pandas\\io\\formats\\format.py:1152\u001b[0m, in \u001b[0;36mDataFrameRenderer.to_csv\u001b[1;34m(self, path_or_buf, encoding, sep, columns, index_label, mode, compression, quoting, quotechar, lineterminator, chunksize, date_format, doublequote, escapechar, errors, storage_options)\u001b[0m\n\u001b[0;32m   1131\u001b[0m     created_buffer \u001b[38;5;241m=\u001b[39m \u001b[38;5;28;01mFalse\u001b[39;00m\n\u001b[0;32m   1133\u001b[0m csv_formatter \u001b[38;5;241m=\u001b[39m CSVFormatter(\n\u001b[0;32m   1134\u001b[0m     path_or_buf\u001b[38;5;241m=\u001b[39mpath_or_buf,\n\u001b[0;32m   1135\u001b[0m     lineterminator\u001b[38;5;241m=\u001b[39mlineterminator,\n\u001b[1;32m   (...)\u001b[0m\n\u001b[0;32m   1150\u001b[0m     formatter\u001b[38;5;241m=\u001b[39m\u001b[38;5;28mself\u001b[39m\u001b[38;5;241m.\u001b[39mfmt,\n\u001b[0;32m   1151\u001b[0m )\n\u001b[1;32m-> 1152\u001b[0m csv_formatter\u001b[38;5;241m.\u001b[39msave()\n\u001b[0;32m   1154\u001b[0m \u001b[38;5;28;01mif\u001b[39;00m created_buffer:\n\u001b[0;32m   1155\u001b[0m     \u001b[38;5;28;01massert\u001b[39;00m \u001b[38;5;28misinstance\u001b[39m(path_or_buf, StringIO)\n",
      "File \u001b[1;32mc:\\Users\\camim\\anaconda3\\Lib\\site-packages\\pandas\\io\\formats\\csvs.py:266\u001b[0m, in \u001b[0;36mCSVFormatter.save\u001b[1;34m(self)\u001b[0m\n\u001b[0;32m    247\u001b[0m \u001b[38;5;28;01mwith\u001b[39;00m get_handle(\n\u001b[0;32m    248\u001b[0m     \u001b[38;5;28mself\u001b[39m\u001b[38;5;241m.\u001b[39mfilepath_or_buffer,\n\u001b[0;32m    249\u001b[0m     \u001b[38;5;28mself\u001b[39m\u001b[38;5;241m.\u001b[39mmode,\n\u001b[1;32m   (...)\u001b[0m\n\u001b[0;32m    254\u001b[0m ) \u001b[38;5;28;01mas\u001b[39;00m handles:\n\u001b[0;32m    255\u001b[0m     \u001b[38;5;66;03m# Note: self.encoding is irrelevant here\u001b[39;00m\n\u001b[0;32m    256\u001b[0m     \u001b[38;5;28mself\u001b[39m\u001b[38;5;241m.\u001b[39mwriter \u001b[38;5;241m=\u001b[39m csvlib\u001b[38;5;241m.\u001b[39mwriter(\n\u001b[0;32m    257\u001b[0m         handles\u001b[38;5;241m.\u001b[39mhandle,\n\u001b[0;32m    258\u001b[0m         lineterminator\u001b[38;5;241m=\u001b[39m\u001b[38;5;28mself\u001b[39m\u001b[38;5;241m.\u001b[39mlineterminator,\n\u001b[1;32m   (...)\u001b[0m\n\u001b[0;32m    263\u001b[0m         quotechar\u001b[38;5;241m=\u001b[39m\u001b[38;5;28mself\u001b[39m\u001b[38;5;241m.\u001b[39mquotechar,\n\u001b[0;32m    264\u001b[0m     )\n\u001b[1;32m--> 266\u001b[0m     \u001b[38;5;28mself\u001b[39m\u001b[38;5;241m.\u001b[39m_save()\n",
      "File \u001b[1;32mc:\\Users\\camim\\anaconda3\\Lib\\site-packages\\pandas\\io\\formats\\csvs.py:271\u001b[0m, in \u001b[0;36mCSVFormatter._save\u001b[1;34m(self)\u001b[0m\n\u001b[0;32m    269\u001b[0m \u001b[38;5;28;01mif\u001b[39;00m \u001b[38;5;28mself\u001b[39m\u001b[38;5;241m.\u001b[39m_need_to_save_header:\n\u001b[0;32m    270\u001b[0m     \u001b[38;5;28mself\u001b[39m\u001b[38;5;241m.\u001b[39m_save_header()\n\u001b[1;32m--> 271\u001b[0m \u001b[38;5;28mself\u001b[39m\u001b[38;5;241m.\u001b[39m_save_body()\n",
      "File \u001b[1;32mc:\\Users\\camim\\anaconda3\\Lib\\site-packages\\pandas\\io\\formats\\csvs.py:309\u001b[0m, in \u001b[0;36mCSVFormatter._save_body\u001b[1;34m(self)\u001b[0m\n\u001b[0;32m    307\u001b[0m \u001b[38;5;28;01mif\u001b[39;00m start_i \u001b[38;5;241m>\u001b[39m\u001b[38;5;241m=\u001b[39m end_i:\n\u001b[0;32m    308\u001b[0m     \u001b[38;5;28;01mbreak\u001b[39;00m\n\u001b[1;32m--> 309\u001b[0m \u001b[38;5;28mself\u001b[39m\u001b[38;5;241m.\u001b[39m_save_chunk(start_i, end_i)\n",
      "File \u001b[1;32mc:\\Users\\camim\\anaconda3\\Lib\\site-packages\\pandas\\io\\formats\\csvs.py:316\u001b[0m, in \u001b[0;36mCSVFormatter._save_chunk\u001b[1;34m(self, start_i, end_i)\u001b[0m\n\u001b[0;32m    313\u001b[0m slicer \u001b[38;5;241m=\u001b[39m \u001b[38;5;28mslice\u001b[39m(start_i, end_i)\n\u001b[0;32m    314\u001b[0m df \u001b[38;5;241m=\u001b[39m \u001b[38;5;28mself\u001b[39m\u001b[38;5;241m.\u001b[39mobj\u001b[38;5;241m.\u001b[39miloc[slicer]\n\u001b[1;32m--> 316\u001b[0m res \u001b[38;5;241m=\u001b[39m df\u001b[38;5;241m.\u001b[39m_mgr\u001b[38;5;241m.\u001b[39mto_native_types(\u001b[38;5;241m*\u001b[39m\u001b[38;5;241m*\u001b[39m\u001b[38;5;28mself\u001b[39m\u001b[38;5;241m.\u001b[39m_number_format)\n\u001b[0;32m    317\u001b[0m data \u001b[38;5;241m=\u001b[39m [res\u001b[38;5;241m.\u001b[39miget_values(i) \u001b[38;5;28;01mfor\u001b[39;00m i \u001b[38;5;129;01min\u001b[39;00m \u001b[38;5;28mrange\u001b[39m(\u001b[38;5;28mlen\u001b[39m(res\u001b[38;5;241m.\u001b[39mitems))]\n\u001b[0;32m    319\u001b[0m ix \u001b[38;5;241m=\u001b[39m \u001b[38;5;28mself\u001b[39m\u001b[38;5;241m.\u001b[39mdata_index[slicer]\u001b[38;5;241m.\u001b[39m_format_native_types(\u001b[38;5;241m*\u001b[39m\u001b[38;5;241m*\u001b[39m\u001b[38;5;28mself\u001b[39m\u001b[38;5;241m.\u001b[39m_number_format)\n",
      "File \u001b[1;32mc:\\Users\\camim\\anaconda3\\Lib\\site-packages\\pandas\\core\\internals\\managers.py:438\u001b[0m, in \u001b[0;36mBaseBlockManager.to_native_types\u001b[1;34m(self, **kwargs)\u001b[0m\n\u001b[0;32m    433\u001b[0m \u001b[38;5;28;01mdef\u001b[39;00m \u001b[38;5;21mto_native_types\u001b[39m(\u001b[38;5;28mself\u001b[39m, \u001b[38;5;241m*\u001b[39m\u001b[38;5;241m*\u001b[39mkwargs) \u001b[38;5;241m-\u001b[39m\u001b[38;5;241m>\u001b[39m Self:\n\u001b[0;32m    434\u001b[0m \u001b[38;5;250m    \u001b[39m\u001b[38;5;124;03m\"\"\"\u001b[39;00m\n\u001b[0;32m    435\u001b[0m \u001b[38;5;124;03m    Convert values to native types (strings / python objects) that are used\u001b[39;00m\n\u001b[0;32m    436\u001b[0m \u001b[38;5;124;03m    in formatting (repr / csv).\u001b[39;00m\n\u001b[0;32m    437\u001b[0m \u001b[38;5;124;03m    \"\"\"\u001b[39;00m\n\u001b[1;32m--> 438\u001b[0m     \u001b[38;5;28;01mreturn\u001b[39;00m \u001b[38;5;28mself\u001b[39m\u001b[38;5;241m.\u001b[39mapply(\u001b[38;5;124m\"\u001b[39m\u001b[38;5;124mto_native_types\u001b[39m\u001b[38;5;124m\"\u001b[39m, \u001b[38;5;241m*\u001b[39m\u001b[38;5;241m*\u001b[39mkwargs)\n",
      "File \u001b[1;32mc:\\Users\\camim\\anaconda3\\Lib\\site-packages\\pandas\\core\\internals\\managers.py:354\u001b[0m, in \u001b[0;36mBaseBlockManager.apply\u001b[1;34m(self, f, align_keys, **kwargs)\u001b[0m\n\u001b[0;32m    352\u001b[0m         applied \u001b[38;5;241m=\u001b[39m b\u001b[38;5;241m.\u001b[39mapply(f, \u001b[38;5;241m*\u001b[39m\u001b[38;5;241m*\u001b[39mkwargs)\n\u001b[0;32m    353\u001b[0m     \u001b[38;5;28;01melse\u001b[39;00m:\n\u001b[1;32m--> 354\u001b[0m         applied \u001b[38;5;241m=\u001b[39m \u001b[38;5;28mgetattr\u001b[39m(b, f)(\u001b[38;5;241m*\u001b[39m\u001b[38;5;241m*\u001b[39mkwargs)\n\u001b[0;32m    355\u001b[0m     result_blocks \u001b[38;5;241m=\u001b[39m extend_blocks(applied, result_blocks)\n\u001b[0;32m    357\u001b[0m out \u001b[38;5;241m=\u001b[39m \u001b[38;5;28mtype\u001b[39m(\u001b[38;5;28mself\u001b[39m)\u001b[38;5;241m.\u001b[39mfrom_blocks(result_blocks, \u001b[38;5;28mself\u001b[39m\u001b[38;5;241m.\u001b[39maxes)\n",
      "File \u001b[1;32mc:\\Users\\camim\\anaconda3\\Lib\\site-packages\\pandas\\core\\internals\\blocks.py:636\u001b[0m, in \u001b[0;36mBlock.to_native_types\u001b[1;34m(self, na_rep, quoting, **kwargs)\u001b[0m\n\u001b[0;32m    633\u001b[0m \u001b[38;5;129m@final\u001b[39m\n\u001b[0;32m    634\u001b[0m \u001b[38;5;28;01mdef\u001b[39;00m \u001b[38;5;21mto_native_types\u001b[39m(\u001b[38;5;28mself\u001b[39m, na_rep: \u001b[38;5;28mstr\u001b[39m \u001b[38;5;241m=\u001b[39m \u001b[38;5;124m\"\u001b[39m\u001b[38;5;124mnan\u001b[39m\u001b[38;5;124m\"\u001b[39m, quoting\u001b[38;5;241m=\u001b[39m\u001b[38;5;28;01mNone\u001b[39;00m, \u001b[38;5;241m*\u001b[39m\u001b[38;5;241m*\u001b[39mkwargs) \u001b[38;5;241m-\u001b[39m\u001b[38;5;241m>\u001b[39m Block:\n\u001b[0;32m    635\u001b[0m \u001b[38;5;250m    \u001b[39m\u001b[38;5;124;03m\"\"\"convert to our native types format\"\"\"\u001b[39;00m\n\u001b[1;32m--> 636\u001b[0m     result \u001b[38;5;241m=\u001b[39m to_native_types(\u001b[38;5;28mself\u001b[39m\u001b[38;5;241m.\u001b[39mvalues, na_rep\u001b[38;5;241m=\u001b[39mna_rep, quoting\u001b[38;5;241m=\u001b[39mquoting, \u001b[38;5;241m*\u001b[39m\u001b[38;5;241m*\u001b[39mkwargs)\n\u001b[0;32m    637\u001b[0m     \u001b[38;5;28;01mreturn\u001b[39;00m \u001b[38;5;28mself\u001b[39m\u001b[38;5;241m.\u001b[39mmake_block(result)\n",
      "File \u001b[1;32mc:\\Users\\camim\\anaconda3\\Lib\\site-packages\\pandas\\core\\internals\\blocks.py:2544\u001b[0m, in \u001b[0;36mto_native_types\u001b[1;34m(values, na_rep, quoting, float_format, decimal, **kwargs)\u001b[0m\n\u001b[0;32m   2541\u001b[0m \u001b[38;5;28;01melse\u001b[39;00m:\n\u001b[0;32m   2542\u001b[0m     values \u001b[38;5;241m=\u001b[39m np\u001b[38;5;241m.\u001b[39marray(values, dtype\u001b[38;5;241m=\u001b[39m\u001b[38;5;124m\"\u001b[39m\u001b[38;5;124mobject\u001b[39m\u001b[38;5;124m\"\u001b[39m)\n\u001b[1;32m-> 2544\u001b[0m values[mask] \u001b[38;5;241m=\u001b[39m na_rep\n\u001b[0;32m   2545\u001b[0m values \u001b[38;5;241m=\u001b[39m values\u001b[38;5;241m.\u001b[39mastype(\u001b[38;5;28mobject\u001b[39m, copy\u001b[38;5;241m=\u001b[39m\u001b[38;5;28;01mFalse\u001b[39;00m)\n\u001b[0;32m   2546\u001b[0m \u001b[38;5;28;01mreturn\u001b[39;00m values\n",
      "\u001b[1;31mKeyboardInterrupt\u001b[0m: "
     ]
    }
   ],
   "source": [
    "#outfile = 'embs_all_train.csv'\n",
    "#outfile = 'embs_filt_sep_train.csv'\n",
    "outfile = 'embs_filt_sep_train.csv'\n",
    "embeddings_df.to_csv(results_path / outfile)"
   ]
  },
  {
   "cell_type": "markdown",
   "metadata": {
    "id": "G9G1tsvJVqAp"
   },
   "source": [
    "# Run experiment: SVM"
   ]
  },
  {
   "cell_type": "code",
   "execution_count": 125,
   "metadata": {
    "id": "EZ0dti68iaWB"
   },
   "outputs": [],
   "source": [
    "from sklearn.preprocessing import MinMaxScaler\n",
    "from sklearn.svm import LinearSVC\n",
    "from sklearn.pipeline import Pipeline\n",
    "\n",
    "\n",
    "from sklearn.model_selection import cross_validate, StratifiedKFold\n",
    "from sklearn.metrics import make_scorer, precision_score, recall_score, f1_score\n",
    "\n",
    "\n",
    "\n",
    "from sklearn.model_selection import cross_val_predict\n",
    "from sklearn.metrics import classification_report, ConfusionMatrixDisplay\n",
    "\n",
    "from sklearn.dummy import DummyClassifier"
   ]
  },
  {
   "cell_type": "markdown",
   "metadata": {
    "id": "GEuSbUN8ccTW"
   },
   "source": [
    "I loaded the cvs files for the different embedding dataframes bc I'm having trouble loading the sqlite databases in colab."
   ]
  },
  {
   "cell_type": "markdown",
   "metadata": {
    "id": "1H1vta-kdvKM"
   },
   "source": [
    "## 1. Doc = mean of all its token embeddings"
   ]
  },
  {
   "cell_type": "code",
   "execution_count": 41,
   "metadata": {
    "id": "UHSEaEbaculE"
   },
   "outputs": [],
   "source": [
    "embeddings_df = pd.read_csv(results_path / 'embs_all_train.csv', index_col=0)\n",
    "#embs_filt_df = pd.read_csv(results_path /'embs_filt_train.csv', index_col=0)\n",
    "#embs_filt_sep_df = pd.read_csv(results_path / 'embs_filt_sep_train.csv', index_col=0)"
   ]
  },
  {
   "cell_type": "code",
   "execution_count": null,
   "metadata": {
    "colab": {
     "base_uri": "https://localhost:8080/",
     "height": 255
    },
    "id": "anepjn7offI7",
    "outputId": "629f71d2-861f-4460-94de-b2b612f993e0"
   },
   "outputs": [
    {
     "data": {
      "text/html": [
       "<div>\n",
       "<style scoped>\n",
       "    .dataframe tbody tr th:only-of-type {\n",
       "        vertical-align: middle;\n",
       "    }\n",
       "\n",
       "    .dataframe tbody tr th {\n",
       "        vertical-align: top;\n",
       "    }\n",
       "\n",
       "    .dataframe thead th {\n",
       "        text-align: right;\n",
       "    }\n",
       "</style>\n",
       "<table border=\"1\" class=\"dataframe\">\n",
       "  <thead>\n",
       "    <tr style=\"text-align: right;\">\n",
       "      <th></th>\n",
       "      <th>0</th>\n",
       "      <th>1</th>\n",
       "      <th>2</th>\n",
       "      <th>3</th>\n",
       "      <th>4</th>\n",
       "      <th>5</th>\n",
       "      <th>6</th>\n",
       "      <th>7</th>\n",
       "      <th>8</th>\n",
       "      <th>9</th>\n",
       "      <th>...</th>\n",
       "      <th>118</th>\n",
       "      <th>119</th>\n",
       "      <th>120</th>\n",
       "      <th>121</th>\n",
       "      <th>122</th>\n",
       "      <th>123</th>\n",
       "      <th>124</th>\n",
       "      <th>125</th>\n",
       "      <th>126</th>\n",
       "      <th>127</th>\n",
       "    </tr>\n",
       "  </thead>\n",
       "  <tbody>\n",
       "    <tr>\n",
       "      <th>2066</th>\n",
       "      <td>-0.006062</td>\n",
       "      <td>0.072376</td>\n",
       "      <td>0.010651</td>\n",
       "      <td>-0.073998</td>\n",
       "      <td>0.017990</td>\n",
       "      <td>0.003484</td>\n",
       "      <td>0.019266</td>\n",
       "      <td>-0.027016</td>\n",
       "      <td>0.069026</td>\n",
       "      <td>-0.101700</td>\n",
       "      <td>...</td>\n",
       "      <td>-0.092315</td>\n",
       "      <td>-0.006482</td>\n",
       "      <td>0.004965</td>\n",
       "      <td>-0.015565</td>\n",
       "      <td>0.001102</td>\n",
       "      <td>0.108430</td>\n",
       "      <td>0.055107</td>\n",
       "      <td>0.012827</td>\n",
       "      <td>0.033794</td>\n",
       "      <td>0.015369</td>\n",
       "    </tr>\n",
       "    <tr>\n",
       "      <th>2045</th>\n",
       "      <td>0.017895</td>\n",
       "      <td>0.018627</td>\n",
       "      <td>0.039470</td>\n",
       "      <td>-0.076852</td>\n",
       "      <td>0.044878</td>\n",
       "      <td>0.016091</td>\n",
       "      <td>0.028579</td>\n",
       "      <td>-0.050919</td>\n",
       "      <td>0.113941</td>\n",
       "      <td>-0.070175</td>\n",
       "      <td>...</td>\n",
       "      <td>-0.102982</td>\n",
       "      <td>-0.009680</td>\n",
       "      <td>0.031605</td>\n",
       "      <td>-0.014103</td>\n",
       "      <td>0.004536</td>\n",
       "      <td>0.047874</td>\n",
       "      <td>0.057404</td>\n",
       "      <td>-0.010024</td>\n",
       "      <td>0.025529</td>\n",
       "      <td>0.026676</td>\n",
       "    </tr>\n",
       "    <tr>\n",
       "      <th>61</th>\n",
       "      <td>-0.008394</td>\n",
       "      <td>0.015177</td>\n",
       "      <td>0.032384</td>\n",
       "      <td>-0.102647</td>\n",
       "      <td>-0.020765</td>\n",
       "      <td>-0.038488</td>\n",
       "      <td>-0.001151</td>\n",
       "      <td>-0.040632</td>\n",
       "      <td>0.039853</td>\n",
       "      <td>-0.044210</td>\n",
       "      <td>...</td>\n",
       "      <td>-0.110790</td>\n",
       "      <td>-0.035368</td>\n",
       "      <td>0.018365</td>\n",
       "      <td>-0.022573</td>\n",
       "      <td>-0.000332</td>\n",
       "      <td>-0.012821</td>\n",
       "      <td>0.043854</td>\n",
       "      <td>-0.015398</td>\n",
       "      <td>-0.039438</td>\n",
       "      <td>0.101354</td>\n",
       "    </tr>\n",
       "    <tr>\n",
       "      <th>1259</th>\n",
       "      <td>-0.001102</td>\n",
       "      <td>0.067599</td>\n",
       "      <td>0.004827</td>\n",
       "      <td>-0.056914</td>\n",
       "      <td>0.030413</td>\n",
       "      <td>-0.004119</td>\n",
       "      <td>0.042919</td>\n",
       "      <td>-0.014802</td>\n",
       "      <td>0.092756</td>\n",
       "      <td>-0.090799</td>\n",
       "      <td>...</td>\n",
       "      <td>-0.082383</td>\n",
       "      <td>0.002918</td>\n",
       "      <td>0.006570</td>\n",
       "      <td>-0.020704</td>\n",
       "      <td>-0.025993</td>\n",
       "      <td>0.093011</td>\n",
       "      <td>0.072015</td>\n",
       "      <td>0.025828</td>\n",
       "      <td>0.012830</td>\n",
       "      <td>0.074992</td>\n",
       "    </tr>\n",
       "    <tr>\n",
       "      <th>949</th>\n",
       "      <td>0.005197</td>\n",
       "      <td>0.062689</td>\n",
       "      <td>0.022621</td>\n",
       "      <td>-0.057928</td>\n",
       "      <td>-0.004946</td>\n",
       "      <td>0.024055</td>\n",
       "      <td>0.001098</td>\n",
       "      <td>-0.044488</td>\n",
       "      <td>0.078992</td>\n",
       "      <td>-0.035705</td>\n",
       "      <td>...</td>\n",
       "      <td>-0.040242</td>\n",
       "      <td>-0.030930</td>\n",
       "      <td>-0.018728</td>\n",
       "      <td>-0.040692</td>\n",
       "      <td>-0.011330</td>\n",
       "      <td>0.034857</td>\n",
       "      <td>0.020099</td>\n",
       "      <td>-0.004775</td>\n",
       "      <td>0.001370</td>\n",
       "      <td>0.084870</td>\n",
       "    </tr>\n",
       "  </tbody>\n",
       "</table>\n",
       "<p>5 rows × 128 columns</p>\n",
       "</div>"
      ],
      "text/plain": [
       "             0         1         2         3         4         5         6  \\\n",
       "2066 -0.006062  0.072376  0.010651 -0.073998  0.017990  0.003484  0.019266   \n",
       "2045  0.017895  0.018627  0.039470 -0.076852  0.044878  0.016091  0.028579   \n",
       "61   -0.008394  0.015177  0.032384 -0.102647 -0.020765 -0.038488 -0.001151   \n",
       "1259 -0.001102  0.067599  0.004827 -0.056914  0.030413 -0.004119  0.042919   \n",
       "949   0.005197  0.062689  0.022621 -0.057928 -0.004946  0.024055  0.001098   \n",
       "\n",
       "             7         8         9  ...       118       119       120  \\\n",
       "2066 -0.027016  0.069026 -0.101700  ... -0.092315 -0.006482  0.004965   \n",
       "2045 -0.050919  0.113941 -0.070175  ... -0.102982 -0.009680  0.031605   \n",
       "61   -0.040632  0.039853 -0.044210  ... -0.110790 -0.035368  0.018365   \n",
       "1259 -0.014802  0.092756 -0.090799  ... -0.082383  0.002918  0.006570   \n",
       "949  -0.044488  0.078992 -0.035705  ... -0.040242 -0.030930 -0.018728   \n",
       "\n",
       "           121       122       123       124       125       126       127  \n",
       "2066 -0.015565  0.001102  0.108430  0.055107  0.012827  0.033794  0.015369  \n",
       "2045 -0.014103  0.004536  0.047874  0.057404 -0.010024  0.025529  0.026676  \n",
       "61   -0.022573 -0.000332 -0.012821  0.043854 -0.015398 -0.039438  0.101354  \n",
       "1259 -0.020704 -0.025993  0.093011  0.072015  0.025828  0.012830  0.074992  \n",
       "949  -0.040692 -0.011330  0.034857  0.020099 -0.004775  0.001370  0.084870  \n",
       "\n",
       "[5 rows x 128 columns]"
      ]
     },
     "execution_count": 42,
     "metadata": {},
     "output_type": "execute_result"
    }
   ],
   "source": [
    "embeddings_df.head()"
   ]
  },
  {
   "cell_type": "code",
   "execution_count": 43,
   "metadata": {
    "id": "Mk_M4dvZip8L"
   },
   "outputs": [],
   "source": [
    "train_X = embeddings_df #features\n",
    "train_Y = all_labels #labels"
   ]
  },
  {
   "cell_type": "code",
   "execution_count": 44,
   "metadata": {
    "colab": {
     "base_uri": "https://localhost:8080/",
     "height": 142
    },
    "id": "W5p-bL8loL0O",
    "outputId": "0dd46d42-eb38-4162-ee6c-957ebda155a0"
   },
   "outputs": [
    {
     "data": {
      "text/html": [
       "<style>#sk-container-id-2 {color: black;background-color: white;}#sk-container-id-2 pre{padding: 0;}#sk-container-id-2 div.sk-toggleable {background-color: white;}#sk-container-id-2 label.sk-toggleable__label {cursor: pointer;display: block;width: 100%;margin-bottom: 0;padding: 0.3em;box-sizing: border-box;text-align: center;}#sk-container-id-2 label.sk-toggleable__label-arrow:before {content: \"▸\";float: left;margin-right: 0.25em;color: #696969;}#sk-container-id-2 label.sk-toggleable__label-arrow:hover:before {color: black;}#sk-container-id-2 div.sk-estimator:hover label.sk-toggleable__label-arrow:before {color: black;}#sk-container-id-2 div.sk-toggleable__content {max-height: 0;max-width: 0;overflow: hidden;text-align: left;background-color: #f0f8ff;}#sk-container-id-2 div.sk-toggleable__content pre {margin: 0.2em;color: black;border-radius: 0.25em;background-color: #f0f8ff;}#sk-container-id-2 input.sk-toggleable__control:checked~div.sk-toggleable__content {max-height: 200px;max-width: 100%;overflow: auto;}#sk-container-id-2 input.sk-toggleable__control:checked~label.sk-toggleable__label-arrow:before {content: \"▾\";}#sk-container-id-2 div.sk-estimator input.sk-toggleable__control:checked~label.sk-toggleable__label {background-color: #d4ebff;}#sk-container-id-2 div.sk-label input.sk-toggleable__control:checked~label.sk-toggleable__label {background-color: #d4ebff;}#sk-container-id-2 input.sk-hidden--visually {border: 0;clip: rect(1px 1px 1px 1px);clip: rect(1px, 1px, 1px, 1px);height: 1px;margin: -1px;overflow: hidden;padding: 0;position: absolute;width: 1px;}#sk-container-id-2 div.sk-estimator {font-family: monospace;background-color: #f0f8ff;border: 1px dotted black;border-radius: 0.25em;box-sizing: border-box;margin-bottom: 0.5em;}#sk-container-id-2 div.sk-estimator:hover {background-color: #d4ebff;}#sk-container-id-2 div.sk-parallel-item::after {content: \"\";width: 100%;border-bottom: 1px solid gray;flex-grow: 1;}#sk-container-id-2 div.sk-label:hover label.sk-toggleable__label {background-color: #d4ebff;}#sk-container-id-2 div.sk-serial::before {content: \"\";position: absolute;border-left: 1px solid gray;box-sizing: border-box;top: 0;bottom: 0;left: 50%;z-index: 0;}#sk-container-id-2 div.sk-serial {display: flex;flex-direction: column;align-items: center;background-color: white;padding-right: 0.2em;padding-left: 0.2em;position: relative;}#sk-container-id-2 div.sk-item {position: relative;z-index: 1;}#sk-container-id-2 div.sk-parallel {display: flex;align-items: stretch;justify-content: center;background-color: white;position: relative;}#sk-container-id-2 div.sk-item::before, #sk-container-id-2 div.sk-parallel-item::before {content: \"\";position: absolute;border-left: 1px solid gray;box-sizing: border-box;top: 0;bottom: 0;left: 50%;z-index: -1;}#sk-container-id-2 div.sk-parallel-item {display: flex;flex-direction: column;z-index: 1;position: relative;background-color: white;}#sk-container-id-2 div.sk-parallel-item:first-child::after {align-self: flex-end;width: 50%;}#sk-container-id-2 div.sk-parallel-item:last-child::after {align-self: flex-start;width: 50%;}#sk-container-id-2 div.sk-parallel-item:only-child::after {width: 0;}#sk-container-id-2 div.sk-dashed-wrapped {border: 1px dashed gray;margin: 0 0.4em 0.5em 0.4em;box-sizing: border-box;padding-bottom: 0.4em;background-color: white;}#sk-container-id-2 div.sk-label label {font-family: monospace;font-weight: bold;display: inline-block;line-height: 1.2em;}#sk-container-id-2 div.sk-label-container {text-align: center;}#sk-container-id-2 div.sk-container {/* jupyter's `normalize.less` sets `[hidden] { display: none; }` but bootstrap.min.css set `[hidden] { display: none !important; }` so we also need the `!important` here to be able to override the default hidden behavior on the sphinx rendered scikit-learn.org. See: https://github.com/scikit-learn/scikit-learn/issues/21755 */display: inline-block !important;position: relative;}#sk-container-id-2 div.sk-text-repr-fallback {display: none;}</style><div id=\"sk-container-id-2\" class=\"sk-top-container\"><div class=\"sk-text-repr-fallback\"><pre>Pipeline(steps=[(&#x27;scaler&#x27;, MinMaxScaler()), (&#x27;clf&#x27;, LinearSVC())], verbose=True)</pre><b>In a Jupyter environment, please rerun this cell to show the HTML representation or trust the notebook. <br />On GitHub, the HTML representation is unable to render, please try loading this page with nbviewer.org.</b></div><div class=\"sk-container\" hidden><div class=\"sk-item sk-dashed-wrapped\"><div class=\"sk-label-container\"><div class=\"sk-label sk-toggleable\"><input class=\"sk-toggleable__control sk-hidden--visually\" id=\"sk-estimator-id-4\" type=\"checkbox\" ><label for=\"sk-estimator-id-4\" class=\"sk-toggleable__label sk-toggleable__label-arrow\">Pipeline</label><div class=\"sk-toggleable__content\"><pre>Pipeline(steps=[(&#x27;scaler&#x27;, MinMaxScaler()), (&#x27;clf&#x27;, LinearSVC())], verbose=True)</pre></div></div></div><div class=\"sk-serial\"><div class=\"sk-item\"><div class=\"sk-estimator sk-toggleable\"><input class=\"sk-toggleable__control sk-hidden--visually\" id=\"sk-estimator-id-5\" type=\"checkbox\" ><label for=\"sk-estimator-id-5\" class=\"sk-toggleable__label sk-toggleable__label-arrow\">MinMaxScaler</label><div class=\"sk-toggleable__content\"><pre>MinMaxScaler()</pre></div></div></div><div class=\"sk-item\"><div class=\"sk-estimator sk-toggleable\"><input class=\"sk-toggleable__control sk-hidden--visually\" id=\"sk-estimator-id-6\" type=\"checkbox\" ><label for=\"sk-estimator-id-6\" class=\"sk-toggleable__label sk-toggleable__label-arrow\">LinearSVC</label><div class=\"sk-toggleable__content\"><pre>LinearSVC()</pre></div></div></div></div></div></div></div>"
      ],
      "text/plain": [
       "Pipeline(steps=[('scaler', MinMaxScaler()), ('clf', LinearSVC())], verbose=True)"
      ]
     },
     "execution_count": 44,
     "metadata": {},
     "output_type": "execute_result"
    }
   ],
   "source": [
    "pipeline = Pipeline([\n",
    "    ('scaler', MinMaxScaler()),\n",
    "    ('clf', LinearSVC())\n",
    "    ], verbose=True)\n",
    "\n",
    "pipeline"
   ]
  },
  {
   "cell_type": "code",
   "execution_count": null,
   "metadata": {
    "colab": {
     "base_uri": "https://localhost:8080/",
     "height": 177
    },
    "id": "BRH7HMt0tWmy",
    "outputId": "7a76ee6f-ff43-4573-d247-debfb74530ad"
   },
   "outputs": [
    {
     "name": "stdout",
     "output_type": "stream",
     "text": [
      "[Pipeline] ............ (step 1 of 2) Processing scaler, total=   0.0s\n",
      "[Pipeline] ............... (step 2 of 2) Processing clf, total=   2.5s\n"
     ]
    },
    {
     "data": {
      "text/html": [
       "<style>#sk-container-id-3 {color: black;background-color: white;}#sk-container-id-3 pre{padding: 0;}#sk-container-id-3 div.sk-toggleable {background-color: white;}#sk-container-id-3 label.sk-toggleable__label {cursor: pointer;display: block;width: 100%;margin-bottom: 0;padding: 0.3em;box-sizing: border-box;text-align: center;}#sk-container-id-3 label.sk-toggleable__label-arrow:before {content: \"▸\";float: left;margin-right: 0.25em;color: #696969;}#sk-container-id-3 label.sk-toggleable__label-arrow:hover:before {color: black;}#sk-container-id-3 div.sk-estimator:hover label.sk-toggleable__label-arrow:before {color: black;}#sk-container-id-3 div.sk-toggleable__content {max-height: 0;max-width: 0;overflow: hidden;text-align: left;background-color: #f0f8ff;}#sk-container-id-3 div.sk-toggleable__content pre {margin: 0.2em;color: black;border-radius: 0.25em;background-color: #f0f8ff;}#sk-container-id-3 input.sk-toggleable__control:checked~div.sk-toggleable__content {max-height: 200px;max-width: 100%;overflow: auto;}#sk-container-id-3 input.sk-toggleable__control:checked~label.sk-toggleable__label-arrow:before {content: \"▾\";}#sk-container-id-3 div.sk-estimator input.sk-toggleable__control:checked~label.sk-toggleable__label {background-color: #d4ebff;}#sk-container-id-3 div.sk-label input.sk-toggleable__control:checked~label.sk-toggleable__label {background-color: #d4ebff;}#sk-container-id-3 input.sk-hidden--visually {border: 0;clip: rect(1px 1px 1px 1px);clip: rect(1px, 1px, 1px, 1px);height: 1px;margin: -1px;overflow: hidden;padding: 0;position: absolute;width: 1px;}#sk-container-id-3 div.sk-estimator {font-family: monospace;background-color: #f0f8ff;border: 1px dotted black;border-radius: 0.25em;box-sizing: border-box;margin-bottom: 0.5em;}#sk-container-id-3 div.sk-estimator:hover {background-color: #d4ebff;}#sk-container-id-3 div.sk-parallel-item::after {content: \"\";width: 100%;border-bottom: 1px solid gray;flex-grow: 1;}#sk-container-id-3 div.sk-label:hover label.sk-toggleable__label {background-color: #d4ebff;}#sk-container-id-3 div.sk-serial::before {content: \"\";position: absolute;border-left: 1px solid gray;box-sizing: border-box;top: 0;bottom: 0;left: 50%;z-index: 0;}#sk-container-id-3 div.sk-serial {display: flex;flex-direction: column;align-items: center;background-color: white;padding-right: 0.2em;padding-left: 0.2em;position: relative;}#sk-container-id-3 div.sk-item {position: relative;z-index: 1;}#sk-container-id-3 div.sk-parallel {display: flex;align-items: stretch;justify-content: center;background-color: white;position: relative;}#sk-container-id-3 div.sk-item::before, #sk-container-id-3 div.sk-parallel-item::before {content: \"\";position: absolute;border-left: 1px solid gray;box-sizing: border-box;top: 0;bottom: 0;left: 50%;z-index: -1;}#sk-container-id-3 div.sk-parallel-item {display: flex;flex-direction: column;z-index: 1;position: relative;background-color: white;}#sk-container-id-3 div.sk-parallel-item:first-child::after {align-self: flex-end;width: 50%;}#sk-container-id-3 div.sk-parallel-item:last-child::after {align-self: flex-start;width: 50%;}#sk-container-id-3 div.sk-parallel-item:only-child::after {width: 0;}#sk-container-id-3 div.sk-dashed-wrapped {border: 1px dashed gray;margin: 0 0.4em 0.5em 0.4em;box-sizing: border-box;padding-bottom: 0.4em;background-color: white;}#sk-container-id-3 div.sk-label label {font-family: monospace;font-weight: bold;display: inline-block;line-height: 1.2em;}#sk-container-id-3 div.sk-label-container {text-align: center;}#sk-container-id-3 div.sk-container {/* jupyter's `normalize.less` sets `[hidden] { display: none; }` but bootstrap.min.css set `[hidden] { display: none !important; }` so we also need the `!important` here to be able to override the default hidden behavior on the sphinx rendered scikit-learn.org. See: https://github.com/scikit-learn/scikit-learn/issues/21755 */display: inline-block !important;position: relative;}#sk-container-id-3 div.sk-text-repr-fallback {display: none;}</style><div id=\"sk-container-id-3\" class=\"sk-top-container\"><div class=\"sk-text-repr-fallback\"><pre>Pipeline(steps=[(&#x27;scaler&#x27;, MinMaxScaler()), (&#x27;clf&#x27;, LinearSVC())], verbose=True)</pre><b>In a Jupyter environment, please rerun this cell to show the HTML representation or trust the notebook. <br />On GitHub, the HTML representation is unable to render, please try loading this page with nbviewer.org.</b></div><div class=\"sk-container\" hidden><div class=\"sk-item sk-dashed-wrapped\"><div class=\"sk-label-container\"><div class=\"sk-label sk-toggleable\"><input class=\"sk-toggleable__control sk-hidden--visually\" id=\"sk-estimator-id-7\" type=\"checkbox\" ><label for=\"sk-estimator-id-7\" class=\"sk-toggleable__label sk-toggleable__label-arrow\">Pipeline</label><div class=\"sk-toggleable__content\"><pre>Pipeline(steps=[(&#x27;scaler&#x27;, MinMaxScaler()), (&#x27;clf&#x27;, LinearSVC())], verbose=True)</pre></div></div></div><div class=\"sk-serial\"><div class=\"sk-item\"><div class=\"sk-estimator sk-toggleable\"><input class=\"sk-toggleable__control sk-hidden--visually\" id=\"sk-estimator-id-8\" type=\"checkbox\" ><label for=\"sk-estimator-id-8\" class=\"sk-toggleable__label sk-toggleable__label-arrow\">MinMaxScaler</label><div class=\"sk-toggleable__content\"><pre>MinMaxScaler()</pre></div></div></div><div class=\"sk-item\"><div class=\"sk-estimator sk-toggleable\"><input class=\"sk-toggleable__control sk-hidden--visually\" id=\"sk-estimator-id-9\" type=\"checkbox\" ><label for=\"sk-estimator-id-9\" class=\"sk-toggleable__label sk-toggleable__label-arrow\">LinearSVC</label><div class=\"sk-toggleable__content\"><pre>LinearSVC()</pre></div></div></div></div></div></div></div>"
      ],
      "text/plain": [
       "Pipeline(steps=[('scaler', MinMaxScaler()), ('clf', LinearSVC())], verbose=True)"
      ]
     },
     "execution_count": 45,
     "metadata": {},
     "output_type": "execute_result"
    }
   ],
   "source": [
    "pipeline.fit(train_X, train_Y)"
   ]
  },
  {
   "cell_type": "code",
   "execution_count": 46,
   "metadata": {
    "id": "kYjcgr5foaAS"
   },
   "outputs": [],
   "source": [
    "splitter = StratifiedKFold(n_splits=5, shuffle=True, random_state=42)\n",
    "scoring = {\n",
    "    'accuracy': 'accuracy',\n",
    "    'precision_macro': make_scorer(precision_score, average='macro', zero_division=0),\n",
    "    'recall_macro': make_scorer(recall_score, average='macro', zero_division=0),\n",
    "    'f1_macro': make_scorer(f1_score, average='macro', zero_division=0),\n",
    "    'f1_positive': make_scorer(f1_score, pos_label=1, zero_division=0)\n",
    "}"
   ]
  },
  {
   "cell_type": "code",
   "execution_count": null,
   "metadata": {
    "colab": {
     "base_uri": "https://localhost:8080/"
    },
    "id": "Aj5pCavxomjj",
    "outputId": "a09326f7-0063-49af-a8af-a8bc90c74e0b"
   },
   "outputs": [
    {
     "name": "stdout",
     "output_type": "stream",
     "text": [
      "[Pipeline] ............ (step 1 of 2) Processing scaler, total=   0.0s\n",
      "[Pipeline] ............... (step 2 of 2) Processing clf, total=   2.3s\n",
      "[Pipeline] ............ (step 1 of 2) Processing scaler, total=   0.0s\n"
     ]
    },
    {
     "name": "stderr",
     "output_type": "stream",
     "text": [
      "c:\\Users\\camim\\anaconda3\\Lib\\site-packages\\sklearn\\svm\\_base.py:1244: ConvergenceWarning: Liblinear failed to converge, increase the number of iterations.\n",
      "  warnings.warn(\n"
     ]
    },
    {
     "name": "stdout",
     "output_type": "stream",
     "text": [
      "[Pipeline] ............... (step 2 of 2) Processing clf, total=   2.0s\n",
      "[Pipeline] ............ (step 1 of 2) Processing scaler, total=   0.0s\n",
      "[Pipeline] ............... (step 2 of 2) Processing clf, total=   1.7s\n",
      "[Pipeline] ............ (step 1 of 2) Processing scaler, total=   0.0s\n",
      "[Pipeline] ............... (step 2 of 2) Processing clf, total=   1.6s\n",
      "[Pipeline] ............ (step 1 of 2) Processing scaler, total=   0.0s\n",
      "[Pipeline] ............... (step 2 of 2) Processing clf, total=   1.8s\n",
      "----------MODEL 1----------\n",
      "Mean macro-f1: 0.744\n",
      "Standard deviation macro-f1: 0.014\n"
     ]
    },
    {
     "name": "stderr",
     "output_type": "stream",
     "text": [
      "c:\\Users\\camim\\anaconda3\\Lib\\site-packages\\sklearn\\svm\\_base.py:1244: ConvergenceWarning: Liblinear failed to converge, increase the number of iterations.\n",
      "  warnings.warn(\n"
     ]
    }
   ],
   "source": [
    "scores = cross_validate(pipeline, train_X, train_Y, scoring=scoring, cv=splitter)\n",
    "print(\"----------MODEL 1----------\")\n",
    "print(\"Mean macro-f1:\", np.mean(scores['test_f1_macro']).round(3))\n",
    "print(\"Standard deviation macro-f1:\", np.std(scores['test_f1_macro']).round(3))"
   ]
  },
  {
   "cell_type": "code",
   "execution_count": 48,
   "metadata": {
    "id": "vIer6cXWpHyP"
   },
   "outputs": [],
   "source": [
    "dummy_clf = DummyClassifier(strategy='most_frequent')\n",
    "baselines_scores = cross_validate(dummy_clf, train_X, train_Y, scoring=scoring)"
   ]
  },
  {
   "cell_type": "code",
   "execution_count": 49,
   "metadata": {
    "id": "ujT4D86QpSqW"
   },
   "outputs": [],
   "source": [
    "scores_df = pd.DataFrame(scores)\n",
    "scores_df['model'] = 'actual model'\n",
    "scores_df['iteration'] = list(range(1, 6))\n",
    "baselines_scores_df = pd.DataFrame(baselines_scores)\n",
    "baselines_scores_df['model'] = 'dummy classifier'\n",
    "baselines_scores_df['iteration'] = list(range(1, 6))\n",
    "\n",
    "scores_df = pd.concat([scores_df, baselines_scores_df]).drop(['fit_time', 'score_time'], axis=1)\n",
    "scores_df_long = pd.melt(scores_df, id_vars=['model', 'iteration'], var_name='metric')"
   ]
  },
  {
   "cell_type": "code",
   "execution_count": null,
   "metadata": {
    "colab": {
     "base_uri": "https://localhost:8080/",
     "height": 472
    },
    "id": "Qv68wLmCpVY1",
    "outputId": "5f553199-1b47-48b9-e3ef-8ddd6f0fa39e"
   },
   "outputs": [
    {
     "name": "stderr",
     "output_type": "stream",
     "text": [
      "c:\\Users\\camim\\anaconda3\\Lib\\site-packages\\seaborn\\_oldcore.py:1119: FutureWarning: use_inf_as_na option is deprecated and will be removed in a future version. Convert inf values to NaN before operating instead.\n",
      "  with pd.option_context('mode.use_inf_as_na', True):\n",
      "c:\\Users\\camim\\anaconda3\\Lib\\site-packages\\seaborn\\_oldcore.py:1119: FutureWarning: use_inf_as_na option is deprecated and will be removed in a future version. Convert inf values to NaN before operating instead.\n",
      "  with pd.option_context('mode.use_inf_as_na', True):\n"
     ]
    },
    {
     "data": {
      "image/png": "[encoded data removed]",
      "text/plain": [
       "<Figure size 640x480 with 1 Axes>"
      ]
     },
     "metadata": {},
     "output_type": "display_data"
    }
   ],
   "source": [
    "sns.lineplot(scores_df_long, x='iteration', y='value', hue='metric', style='model')\n",
    "plt.xticks(list(range(1, 6)))\n",
    "plt.xlabel(\"Fold\")\n",
    "plt.ylabel(\"Score\")\n",
    "plt.title(\"Accuracy, Precision, Recall, F1-Score\")\n",
    "plt.legend(loc='upper left', bbox_to_anchor=(1, 1))\n",
    "plt.show()"
   ]
  },
  {
   "cell_type": "code",
   "execution_count": null,
   "metadata": {
    "colab": {
     "base_uri": "https://localhost:8080/",
     "height": 623
    },
    "id": "QOwC5b7cswlA",
    "outputId": "499d59ae-e7c7-4414-d3de-24a8adf3f69d"
   },
   "outputs": [
    {
     "name": "stdout",
     "output_type": "stream",
     "text": [
      "[Pipeline] ............ (step 1 of 2) Processing scaler, total=   0.0s\n"
     ]
    },
    {
     "name": "stderr",
     "output_type": "stream",
     "text": [
      "c:\\Users\\camim\\anaconda3\\Lib\\site-packages\\sklearn\\svm\\_base.py:1244: ConvergenceWarning: Liblinear failed to converge, increase the number of iterations.\n",
      "  warnings.warn(\n"
     ]
    },
    {
     "name": "stdout",
     "output_type": "stream",
     "text": [
      "[Pipeline] ............... (step 2 of 2) Processing clf, total=   1.8s\n",
      "[Pipeline] ............ (step 1 of 2) Processing scaler, total=   0.0s\n",
      "[Pipeline] ............... (step 2 of 2) Processing clf, total=   1.6s\n",
      "[Pipeline] ............ (step 1 of 2) Processing scaler, total=   0.0s\n",
      "[Pipeline] ............... (step 2 of 2) Processing clf, total=   1.7s\n",
      "[Pipeline] ............ (step 1 of 2) Processing scaler, total=   0.0s\n",
      "[Pipeline] ............... (step 2 of 2) Processing clf, total=   1.6s\n",
      "[Pipeline] ............ (step 1 of 2) Processing scaler, total=   0.0s\n",
      "[Pipeline] ............... (step 2 of 2) Processing clf, total=   1.7s\n"
     ]
    },
    {
     "data": {
      "image/png": "[encoded data removed]",
      "text/plain": [
       "<Figure size 640x480 with 2 Axes>"
      ]
     },
     "metadata": {},
     "output_type": "display_data"
    }
   ],
   "source": [
    "y_pred = cross_val_predict(pipeline, train_X, train_Y, cv=splitter)\n",
    "ConfusionMatrixDisplay.from_predictions(y_pred=y_pred, y_true=train_Y, cmap='Greens', normalize='true')\n",
    "plt.show()"
   ]
  },
  {
   "cell_type": "markdown",
   "metadata": {
    "id": "oQi4QMm2ttfd"
   },
   "source": [
    "## 2. Doc = mean of its \"lessically full\" token embeddings"
   ]
  },
  {
   "cell_type": "code",
   "execution_count": 52,
   "metadata": {
    "id": "9GoMUQtvuG5Q"
   },
   "outputs": [],
   "source": [
    "embeddings_df = pd.read_csv(results_path / 'embs_filt_train.csv', index_col=0)"
   ]
  },
  {
   "cell_type": "code",
   "execution_count": 53,
   "metadata": {
    "colab": {
     "base_uri": "https://localhost:8080/",
     "height": 255
    },
    "id": "LH9pL-BPuSYH",
    "outputId": "c6c0943d-127d-49eb-c5fa-b9dcca1e3e1b"
   },
   "outputs": [
    {
     "data": {
      "text/html": [
       "<div>\n",
       "<style scoped>\n",
       "    .dataframe tbody tr th:only-of-type {\n",
       "        vertical-align: middle;\n",
       "    }\n",
       "\n",
       "    .dataframe tbody tr th {\n",
       "        vertical-align: top;\n",
       "    }\n",
       "\n",
       "    .dataframe thead th {\n",
       "        text-align: right;\n",
       "    }\n",
       "</style>\n",
       "<table border=\"1\" class=\"dataframe\">\n",
       "  <thead>\n",
       "    <tr style=\"text-align: right;\">\n",
       "      <th></th>\n",
       "      <th>0</th>\n",
       "      <th>1</th>\n",
       "      <th>2</th>\n",
       "      <th>3</th>\n",
       "      <th>4</th>\n",
       "      <th>5</th>\n",
       "      <th>6</th>\n",
       "      <th>7</th>\n",
       "      <th>8</th>\n",
       "      <th>9</th>\n",
       "      <th>...</th>\n",
       "      <th>118</th>\n",
       "      <th>119</th>\n",
       "      <th>120</th>\n",
       "      <th>121</th>\n",
       "      <th>122</th>\n",
       "      <th>123</th>\n",
       "      <th>124</th>\n",
       "      <th>125</th>\n",
       "      <th>126</th>\n",
       "      <th>127</th>\n",
       "    </tr>\n",
       "  </thead>\n",
       "  <tbody>\n",
       "    <tr>\n",
       "      <th>2066</th>\n",
       "      <td>-0.023554</td>\n",
       "      <td>0.027130</td>\n",
       "      <td>-0.000432</td>\n",
       "      <td>-0.029591</td>\n",
       "      <td>-0.022031</td>\n",
       "      <td>0.049638</td>\n",
       "      <td>0.040972</td>\n",
       "      <td>0.036950</td>\n",
       "      <td>0.015072</td>\n",
       "      <td>-0.075435</td>\n",
       "      <td>...</td>\n",
       "      <td>-0.057036</td>\n",
       "      <td>-0.024219</td>\n",
       "      <td>0.018207</td>\n",
       "      <td>0.018727</td>\n",
       "      <td>0.068265</td>\n",
       "      <td>0.115931</td>\n",
       "      <td>0.055385</td>\n",
       "      <td>-0.001035</td>\n",
       "      <td>0.045038</td>\n",
       "      <td>-0.006856</td>\n",
       "    </tr>\n",
       "    <tr>\n",
       "      <th>2045</th>\n",
       "      <td>-0.031964</td>\n",
       "      <td>-0.056993</td>\n",
       "      <td>0.025179</td>\n",
       "      <td>-0.076456</td>\n",
       "      <td>0.040504</td>\n",
       "      <td>-0.000710</td>\n",
       "      <td>0.095376</td>\n",
       "      <td>0.021991</td>\n",
       "      <td>0.021390</td>\n",
       "      <td>-0.038187</td>\n",
       "      <td>...</td>\n",
       "      <td>-0.206137</td>\n",
       "      <td>0.036438</td>\n",
       "      <td>-0.004652</td>\n",
       "      <td>0.026415</td>\n",
       "      <td>-0.083843</td>\n",
       "      <td>0.037612</td>\n",
       "      <td>0.052658</td>\n",
       "      <td>-0.026111</td>\n",
       "      <td>-0.067885</td>\n",
       "      <td>0.051971</td>\n",
       "    </tr>\n",
       "    <tr>\n",
       "      <th>61</th>\n",
       "      <td>-0.111423</td>\n",
       "      <td>-0.046028</td>\n",
       "      <td>0.040770</td>\n",
       "      <td>-0.064032</td>\n",
       "      <td>0.041582</td>\n",
       "      <td>0.035945</td>\n",
       "      <td>0.041664</td>\n",
       "      <td>0.006210</td>\n",
       "      <td>0.029492</td>\n",
       "      <td>-0.121628</td>\n",
       "      <td>...</td>\n",
       "      <td>-0.212880</td>\n",
       "      <td>-0.046174</td>\n",
       "      <td>-0.013132</td>\n",
       "      <td>0.004880</td>\n",
       "      <td>-0.061144</td>\n",
       "      <td>0.054428</td>\n",
       "      <td>0.071008</td>\n",
       "      <td>-0.060472</td>\n",
       "      <td>-0.113408</td>\n",
       "      <td>0.096294</td>\n",
       "    </tr>\n",
       "    <tr>\n",
       "      <th>1259</th>\n",
       "      <td>-0.060468</td>\n",
       "      <td>-0.043023</td>\n",
       "      <td>-0.052510</td>\n",
       "      <td>0.023677</td>\n",
       "      <td>0.023202</td>\n",
       "      <td>-0.051142</td>\n",
       "      <td>0.080349</td>\n",
       "      <td>0.059627</td>\n",
       "      <td>0.073381</td>\n",
       "      <td>-0.061777</td>\n",
       "      <td>...</td>\n",
       "      <td>-0.063427</td>\n",
       "      <td>0.006783</td>\n",
       "      <td>-0.007050</td>\n",
       "      <td>0.046664</td>\n",
       "      <td>0.010796</td>\n",
       "      <td>0.049447</td>\n",
       "      <td>0.111809</td>\n",
       "      <td>0.004300</td>\n",
       "      <td>-0.013103</td>\n",
       "      <td>0.081020</td>\n",
       "    </tr>\n",
       "    <tr>\n",
       "      <th>949</th>\n",
       "      <td>-0.009945</td>\n",
       "      <td>0.019211</td>\n",
       "      <td>0.024179</td>\n",
       "      <td>-0.041553</td>\n",
       "      <td>-0.002044</td>\n",
       "      <td>0.030355</td>\n",
       "      <td>0.030129</td>\n",
       "      <td>-0.000529</td>\n",
       "      <td>0.038174</td>\n",
       "      <td>-0.040866</td>\n",
       "      <td>...</td>\n",
       "      <td>-0.040693</td>\n",
       "      <td>-0.041646</td>\n",
       "      <td>0.006025</td>\n",
       "      <td>0.009600</td>\n",
       "      <td>0.002418</td>\n",
       "      <td>0.042125</td>\n",
       "      <td>0.018858</td>\n",
       "      <td>-0.010105</td>\n",
       "      <td>-0.007577</td>\n",
       "      <td>0.118815</td>\n",
       "    </tr>\n",
       "  </tbody>\n",
       "</table>\n",
       "<p>5 rows × 128 columns</p>\n",
       "</div>"
      ],
      "text/plain": [
       "             0         1         2         3         4         5         6  \\\n",
       "2066 -0.023554  0.027130 -0.000432 -0.029591 -0.022031  0.049638  0.040972   \n",
       "2045 -0.031964 -0.056993  0.025179 -0.076456  0.040504 -0.000710  0.095376   \n",
       "61   -0.111423 -0.046028  0.040770 -0.064032  0.041582  0.035945  0.041664   \n",
       "1259 -0.060468 -0.043023 -0.052510  0.023677  0.023202 -0.051142  0.080349   \n",
       "949  -0.009945  0.019211  0.024179 -0.041553 -0.002044  0.030355  0.030129   \n",
       "\n",
       "             7         8         9  ...       118       119       120  \\\n",
       "2066  0.036950  0.015072 -0.075435  ... -0.057036 -0.024219  0.018207   \n",
       "2045  0.021991  0.021390 -0.038187  ... -0.206137  0.036438 -0.004652   \n",
       "61    0.006210  0.029492 -0.121628  ... -0.212880 -0.046174 -0.013132   \n",
       "1259  0.059627  0.073381 -0.061777  ... -0.063427  0.006783 -0.007050   \n",
       "949  -0.000529  0.038174 -0.040866  ... -0.040693 -0.041646  0.006025   \n",
       "\n",
       "           121       122       123       124       125       126       127  \n",
       "2066  0.018727  0.068265  0.115931  0.055385 -0.001035  0.045038 -0.006856  \n",
       "2045  0.026415 -0.083843  0.037612  0.052658 -0.026111 -0.067885  0.051971  \n",
       "61    0.004880 -0.061144  0.054428  0.071008 -0.060472 -0.113408  0.096294  \n",
       "1259  0.046664  0.010796  0.049447  0.111809  0.004300 -0.013103  0.081020  \n",
       "949   0.009600  0.002418  0.042125  0.018858 -0.010105 -0.007577  0.118815  \n",
       "\n",
       "[5 rows x 128 columns]"
      ]
     },
     "execution_count": 53,
     "metadata": {},
     "output_type": "execute_result"
    }
   ],
   "source": [
    "embeddings_df.head()"
   ]
  },
  {
   "cell_type": "code",
   "execution_count": 54,
   "metadata": {
    "id": "FopNgqJvuWql"
   },
   "outputs": [],
   "source": [
    "train_X = embeddings_df #overwrite features"
   ]
  },
  {
   "cell_type": "code",
   "execution_count": null,
   "metadata": {
    "colab": {
     "base_uri": "https://localhost:8080/",
     "height": 177
    },
    "id": "qPjKT12Hug3A",
    "outputId": "6b93f4a7-aac5-4729-bb81-06f3d4478dc8"
   },
   "outputs": [
    {
     "name": "stdout",
     "output_type": "stream",
     "text": [
      "[Pipeline] ............ (step 1 of 2) Processing scaler, total=   0.0s\n",
      "[Pipeline] ............... (step 2 of 2) Processing clf, total=   2.5s\n"
     ]
    },
    {
     "name": "stderr",
     "output_type": "stream",
     "text": [
      "c:\\Users\\camim\\anaconda3\\Lib\\site-packages\\sklearn\\svm\\_base.py:1244: ConvergenceWarning: Liblinear failed to converge, increase the number of iterations.\n",
      "  warnings.warn(\n"
     ]
    },
    {
     "data": {
      "text/html": [
       "<style>#sk-container-id-4 {color: black;background-color: white;}#sk-container-id-4 pre{padding: 0;}#sk-container-id-4 div.sk-toggleable {background-color: white;}#sk-container-id-4 label.sk-toggleable__label {cursor: pointer;display: block;width: 100%;margin-bottom: 0;padding: 0.3em;box-sizing: border-box;text-align: center;}#sk-container-id-4 label.sk-toggleable__label-arrow:before {content: \"▸\";float: left;margin-right: 0.25em;color: #696969;}#sk-container-id-4 label.sk-toggleable__label-arrow:hover:before {color: black;}#sk-container-id-4 div.sk-estimator:hover label.sk-toggleable__label-arrow:before {color: black;}#sk-container-id-4 div.sk-toggleable__content {max-height: 0;max-width: 0;overflow: hidden;text-align: left;background-color: #f0f8ff;}#sk-container-id-4 div.sk-toggleable__content pre {margin: 0.2em;color: black;border-radius: 0.25em;background-color: #f0f8ff;}#sk-container-id-4 input.sk-toggleable__control:checked~div.sk-toggleable__content {max-height: 200px;max-width: 100%;overflow: auto;}#sk-container-id-4 input.sk-toggleable__control:checked~label.sk-toggleable__label-arrow:before {content: \"▾\";}#sk-container-id-4 div.sk-estimator input.sk-toggleable__control:checked~label.sk-toggleable__label {background-color: #d4ebff;}#sk-container-id-4 div.sk-label input.sk-toggleable__control:checked~label.sk-toggleable__label {background-color: #d4ebff;}#sk-container-id-4 input.sk-hidden--visually {border: 0;clip: rect(1px 1px 1px 1px);clip: rect(1px, 1px, 1px, 1px);height: 1px;margin: -1px;overflow: hidden;padding: 0;position: absolute;width: 1px;}#sk-container-id-4 div.sk-estimator {font-family: monospace;background-color: #f0f8ff;border: 1px dotted black;border-radius: 0.25em;box-sizing: border-box;margin-bottom: 0.5em;}#sk-container-id-4 div.sk-estimator:hover {background-color: #d4ebff;}#sk-container-id-4 div.sk-parallel-item::after {content: \"\";width: 100%;border-bottom: 1px solid gray;flex-grow: 1;}#sk-container-id-4 div.sk-label:hover label.sk-toggleable__label {background-color: #d4ebff;}#sk-container-id-4 div.sk-serial::before {content: \"\";position: absolute;border-left: 1px solid gray;box-sizing: border-box;top: 0;bottom: 0;left: 50%;z-index: 0;}#sk-container-id-4 div.sk-serial {display: flex;flex-direction: column;align-items: center;background-color: white;padding-right: 0.2em;padding-left: 0.2em;position: relative;}#sk-container-id-4 div.sk-item {position: relative;z-index: 1;}#sk-container-id-4 div.sk-parallel {display: flex;align-items: stretch;justify-content: center;background-color: white;position: relative;}#sk-container-id-4 div.sk-item::before, #sk-container-id-4 div.sk-parallel-item::before {content: \"\";position: absolute;border-left: 1px solid gray;box-sizing: border-box;top: 0;bottom: 0;left: 50%;z-index: -1;}#sk-container-id-4 div.sk-parallel-item {display: flex;flex-direction: column;z-index: 1;position: relative;background-color: white;}#sk-container-id-4 div.sk-parallel-item:first-child::after {align-self: flex-end;width: 50%;}#sk-container-id-4 div.sk-parallel-item:last-child::after {align-self: flex-start;width: 50%;}#sk-container-id-4 div.sk-parallel-item:only-child::after {width: 0;}#sk-container-id-4 div.sk-dashed-wrapped {border: 1px dashed gray;margin: 0 0.4em 0.5em 0.4em;box-sizing: border-box;padding-bottom: 0.4em;background-color: white;}#sk-container-id-4 div.sk-label label {font-family: monospace;font-weight: bold;display: inline-block;line-height: 1.2em;}#sk-container-id-4 div.sk-label-container {text-align: center;}#sk-container-id-4 div.sk-container {/* jupyter's `normalize.less` sets `[hidden] { display: none; }` but bootstrap.min.css set `[hidden] { display: none !important; }` so we also need the `!important` here to be able to override the default hidden behavior on the sphinx rendered scikit-learn.org. See: https://github.com/scikit-learn/scikit-learn/issues/21755 */display: inline-block !important;position: relative;}#sk-container-id-4 div.sk-text-repr-fallback {display: none;}</style><div id=\"sk-container-id-4\" class=\"sk-top-container\"><div class=\"sk-text-repr-fallback\"><pre>Pipeline(steps=[(&#x27;scaler&#x27;, MinMaxScaler()), (&#x27;clf&#x27;, LinearSVC())], verbose=True)</pre><b>In a Jupyter environment, please rerun this cell to show the HTML representation or trust the notebook. <br />On GitHub, the HTML representation is unable to render, please try loading this page with nbviewer.org.</b></div><div class=\"sk-container\" hidden><div class=\"sk-item sk-dashed-wrapped\"><div class=\"sk-label-container\"><div class=\"sk-label sk-toggleable\"><input class=\"sk-toggleable__control sk-hidden--visually\" id=\"sk-estimator-id-10\" type=\"checkbox\" ><label for=\"sk-estimator-id-10\" class=\"sk-toggleable__label sk-toggleable__label-arrow\">Pipeline</label><div class=\"sk-toggleable__content\"><pre>Pipeline(steps=[(&#x27;scaler&#x27;, MinMaxScaler()), (&#x27;clf&#x27;, LinearSVC())], verbose=True)</pre></div></div></div><div class=\"sk-serial\"><div class=\"sk-item\"><div class=\"sk-estimator sk-toggleable\"><input class=\"sk-toggleable__control sk-hidden--visually\" id=\"sk-estimator-id-11\" type=\"checkbox\" ><label for=\"sk-estimator-id-11\" class=\"sk-toggleable__label sk-toggleable__label-arrow\">MinMaxScaler</label><div class=\"sk-toggleable__content\"><pre>MinMaxScaler()</pre></div></div></div><div class=\"sk-item\"><div class=\"sk-estimator sk-toggleable\"><input class=\"sk-toggleable__control sk-hidden--visually\" id=\"sk-estimator-id-12\" type=\"checkbox\" ><label for=\"sk-estimator-id-12\" class=\"sk-toggleable__label sk-toggleable__label-arrow\">LinearSVC</label><div class=\"sk-toggleable__content\"><pre>LinearSVC()</pre></div></div></div></div></div></div></div>"
      ],
      "text/plain": [
       "Pipeline(steps=[('scaler', MinMaxScaler()), ('clf', LinearSVC())], verbose=True)"
      ]
     },
     "execution_count": 55,
     "metadata": {},
     "output_type": "execute_result"
    }
   ],
   "source": [
    "pipeline.fit(train_X, train_Y)"
   ]
  },
  {
   "cell_type": "code",
   "execution_count": null,
   "metadata": {
    "colab": {
     "base_uri": "https://localhost:8080/"
    },
    "id": "4zQSEv4duod_",
    "outputId": "8971e9cf-3fac-4c82-b614-300a4aa56e10"
   },
   "outputs": [
    {
     "name": "stdout",
     "output_type": "stream",
     "text": [
      "[Pipeline] ............ (step 1 of 2) Processing scaler, total=   0.0s\n"
     ]
    },
    {
     "name": "stderr",
     "output_type": "stream",
     "text": [
      "c:\\Users\\camim\\anaconda3\\Lib\\site-packages\\sklearn\\svm\\_base.py:1244: ConvergenceWarning: Liblinear failed to converge, increase the number of iterations.\n",
      "  warnings.warn(\n"
     ]
    },
    {
     "name": "stdout",
     "output_type": "stream",
     "text": [
      "[Pipeline] ............... (step 2 of 2) Processing clf, total=   1.8s\n",
      "[Pipeline] ............ (step 1 of 2) Processing scaler, total=   0.0s\n",
      "[Pipeline] ............... (step 2 of 2) Processing clf, total=   1.7s\n",
      "[Pipeline] ............ (step 1 of 2) Processing scaler, total=   0.0s\n"
     ]
    },
    {
     "name": "stderr",
     "output_type": "stream",
     "text": [
      "c:\\Users\\camim\\anaconda3\\Lib\\site-packages\\sklearn\\svm\\_base.py:1244: ConvergenceWarning: Liblinear failed to converge, increase the number of iterations.\n",
      "  warnings.warn(\n"
     ]
    },
    {
     "name": "stdout",
     "output_type": "stream",
     "text": [
      "[Pipeline] ............... (step 2 of 2) Processing clf, total=   1.8s\n",
      "[Pipeline] ............ (step 1 of 2) Processing scaler, total=   0.0s\n",
      "[Pipeline] ............... (step 2 of 2) Processing clf, total=   1.7s\n",
      "[Pipeline] ............ (step 1 of 2) Processing scaler, total=   0.0s\n",
      "[Pipeline] ............... (step 2 of 2) Processing clf, total=   1.7s\n",
      "----------MODEL 2----------\n",
      "Mean macro-f1: 0.726\n",
      "Standard deviation macro-f1: 0.012\n"
     ]
    }
   ],
   "source": [
    "scores = cross_validate(pipeline, train_X, train_Y, scoring=scoring, cv=splitter)\n",
    "print(\"----------MODEL 2----------\")\n",
    "print(\"Mean macro-f1:\", np.mean(scores['test_f1_macro']).round(3))\n",
    "print(\"Standard deviation macro-f1:\", np.std(scores['test_f1_macro']).round(3))"
   ]
  },
  {
   "cell_type": "code",
   "execution_count": 57,
   "metadata": {
    "id": "B3sJLBWKvKgH"
   },
   "outputs": [],
   "source": [
    "scores_df = pd.DataFrame(scores)\n",
    "scores_df['model'] = 'actual model'\n",
    "scores_df['iteration'] = list(range(1, 6))\n",
    "baselines_scores_df = pd.DataFrame(baselines_scores)\n",
    "baselines_scores_df['model'] = 'dummy classifier'\n",
    "baselines_scores_df['iteration'] = list(range(1, 6))\n",
    "\n",
    "scores_df = pd.concat([scores_df, baselines_scores_df]).drop(['fit_time', 'score_time'], axis=1)\n",
    "scores_df_long = pd.melt(scores_df, id_vars=['model', 'iteration'], var_name='metric')"
   ]
  },
  {
   "cell_type": "code",
   "execution_count": null,
   "metadata": {
    "colab": {
     "base_uri": "https://localhost:8080/",
     "height": 472
    },
    "id": "caKgS6_2vPLI",
    "outputId": "78b755ab-9779-4952-d219-fd8668d9f4a6"
   },
   "outputs": [
    {
     "name": "stderr",
     "output_type": "stream",
     "text": [
      "c:\\Users\\camim\\anaconda3\\Lib\\site-packages\\seaborn\\_oldcore.py:1119: FutureWarning: use_inf_as_na option is deprecated and will be removed in a future version. Convert inf values to NaN before operating instead.\n",
      "  with pd.option_context('mode.use_inf_as_na', True):\n",
      "c:\\Users\\camim\\anaconda3\\Lib\\site-packages\\seaborn\\_oldcore.py:1119: FutureWarning: use_inf_as_na option is deprecated and will be removed in a future version. Convert inf values to NaN before operating instead.\n",
      "  with pd.option_context('mode.use_inf_as_na', True):\n"
     ]
    },
    {
     "data": {
      "image/png": "[encoded data removed]",
      "text/plain": [
       "<Figure size 640x480 with 1 Axes>"
      ]
     },
     "metadata": {},
     "output_type": "display_data"
    }
   ],
   "source": [
    "sns.lineplot(scores_df_long, x='iteration', y='value', hue='metric', style='model')\n",
    "plt.xticks(list(range(1, 6)))\n",
    "plt.xlabel(\"Fold\")\n",
    "plt.ylabel(\"Score\")\n",
    "plt.title(\"Accuracy, Precision, Recall, F1-Score\")\n",
    "plt.legend(loc='upper left', bbox_to_anchor=(1, 1))\n",
    "plt.show()"
   ]
  },
  {
   "cell_type": "code",
   "execution_count": null,
   "metadata": {
    "colab": {
     "base_uri": "https://localhost:8080/",
     "height": 626
    },
    "id": "JvzIlZWjvhhu",
    "outputId": "d1d89ce9-f04d-42bb-dbd5-6beb4a4799d7"
   },
   "outputs": [
    {
     "name": "stdout",
     "output_type": "stream",
     "text": [
      "[Pipeline] ............ (step 1 of 2) Processing scaler, total=   0.0s\n"
     ]
    },
    {
     "name": "stderr",
     "output_type": "stream",
     "text": [
      "c:\\Users\\camim\\anaconda3\\Lib\\site-packages\\sklearn\\svm\\_base.py:1244: ConvergenceWarning: Liblinear failed to converge, increase the number of iterations.\n",
      "  warnings.warn(\n"
     ]
    },
    {
     "name": "stdout",
     "output_type": "stream",
     "text": [
      "[Pipeline] ............... (step 2 of 2) Processing clf, total=   1.8s\n",
      "[Pipeline] ............ (step 1 of 2) Processing scaler, total=   0.0s\n"
     ]
    },
    {
     "name": "stderr",
     "output_type": "stream",
     "text": [
      "c:\\Users\\camim\\anaconda3\\Lib\\site-packages\\sklearn\\svm\\_base.py:1244: ConvergenceWarning: Liblinear failed to converge, increase the number of iterations.\n",
      "  warnings.warn(\n"
     ]
    },
    {
     "name": "stdout",
     "output_type": "stream",
     "text": [
      "[Pipeline] ............... (step 2 of 2) Processing clf, total=   1.9s\n",
      "[Pipeline] ............ (step 1 of 2) Processing scaler, total=   0.0s\n"
     ]
    },
    {
     "name": "stderr",
     "output_type": "stream",
     "text": [
      "c:\\Users\\camim\\anaconda3\\Lib\\site-packages\\sklearn\\svm\\_base.py:1244: ConvergenceWarning: Liblinear failed to converge, increase the number of iterations.\n",
      "  warnings.warn(\n"
     ]
    },
    {
     "name": "stdout",
     "output_type": "stream",
     "text": [
      "[Pipeline] ............... (step 2 of 2) Processing clf, total=   1.9s\n",
      "[Pipeline] ............ (step 1 of 2) Processing scaler, total=   0.0s\n",
      "[Pipeline] ............... (step 2 of 2) Processing clf, total=   1.6s\n",
      "[Pipeline] ............ (step 1 of 2) Processing scaler, total=   0.0s\n",
      "[Pipeline] ............... (step 2 of 2) Processing clf, total=   1.6s\n"
     ]
    },
    {
     "data": {
      "image/png": "[encoded data removed]",
      "text/plain": [
       "<Figure size 640x480 with 2 Axes>"
      ]
     },
     "metadata": {},
     "output_type": "display_data"
    }
   ],
   "source": [
    "y_pred = cross_val_predict(pipeline, train_X, train_Y, cv=splitter)\n",
    "ConfusionMatrixDisplay.from_predictions(y_pred=y_pred, y_true=train_Y, cmap='Greens', normalize='true')\n",
    "plt.show()"
   ]
  },
  {
   "cell_type": "markdown",
   "metadata": {
    "id": "595Ysuq6vvyL"
   },
   "source": [
    "## 3. Doc = concatenation of the 3 mean vectors of its nouns, verbs and adjectives"
   ]
  },
  {
   "cell_type": "code",
   "execution_count": 60,
   "metadata": {
    "id": "Wm1FYDMzwOM2"
   },
   "outputs": [],
   "source": [
    "embeddings_df = pd.read_csv(results_path / 'embs_filt_sep_train.csv', index_col=0)"
   ]
  },
  {
   "cell_type": "code",
   "execution_count": null,
   "metadata": {
    "colab": {
     "base_uri": "https://localhost:8080/",
     "height": 255
    },
    "id": "lnry4KbHwOM3",
    "outputId": "2987c285-2e70-4494-a537-427d9e10512f"
   },
   "outputs": [
    {
     "data": {
      "text/html": [
       "<div>\n",
       "<style scoped>\n",
       "    .dataframe tbody tr th:only-of-type {\n",
       "        vertical-align: middle;\n",
       "    }\n",
       "\n",
       "    .dataframe tbody tr th {\n",
       "        vertical-align: top;\n",
       "    }\n",
       "\n",
       "    .dataframe thead th {\n",
       "        text-align: right;\n",
       "    }\n",
       "</style>\n",
       "<table border=\"1\" class=\"dataframe\">\n",
       "  <thead>\n",
       "    <tr style=\"text-align: right;\">\n",
       "      <th></th>\n",
       "      <th>0</th>\n",
       "      <th>1</th>\n",
       "      <th>2</th>\n",
       "      <th>3</th>\n",
       "      <th>4</th>\n",
       "      <th>5</th>\n",
       "      <th>6</th>\n",
       "      <th>7</th>\n",
       "      <th>8</th>\n",
       "      <th>9</th>\n",
       "      <th>...</th>\n",
       "      <th>758</th>\n",
       "      <th>759</th>\n",
       "      <th>760</th>\n",
       "      <th>761</th>\n",
       "      <th>762</th>\n",
       "      <th>763</th>\n",
       "      <th>764</th>\n",
       "      <th>765</th>\n",
       "      <th>766</th>\n",
       "      <th>767</th>\n",
       "    </tr>\n",
       "  </thead>\n",
       "  <tbody>\n",
       "    <tr>\n",
       "      <th>2066</th>\n",
       "      <td>0.644360</td>\n",
       "      <td>-0.322945</td>\n",
       "      <td>-0.067169</td>\n",
       "      <td>0.433594</td>\n",
       "      <td>-0.808968</td>\n",
       "      <td>-0.152856</td>\n",
       "      <td>-0.647717</td>\n",
       "      <td>0.184886</td>\n",
       "      <td>0.296216</td>\n",
       "      <td>0.320703</td>\n",
       "      <td>...</td>\n",
       "      <td>1.217888</td>\n",
       "      <td>-0.477606</td>\n",
       "      <td>0.415001</td>\n",
       "      <td>-0.565366</td>\n",
       "      <td>0.155336</td>\n",
       "      <td>-0.465147</td>\n",
       "      <td>0.415667</td>\n",
       "      <td>-0.456462</td>\n",
       "      <td>0.381620</td>\n",
       "      <td>-0.039221</td>\n",
       "    </tr>\n",
       "    <tr>\n",
       "      <th>2045</th>\n",
       "      <td>0.450706</td>\n",
       "      <td>-0.424301</td>\n",
       "      <td>0.411551</td>\n",
       "      <td>0.328261</td>\n",
       "      <td>0.030625</td>\n",
       "      <td>-0.186563</td>\n",
       "      <td>-0.686519</td>\n",
       "      <td>0.170887</td>\n",
       "      <td>-0.283004</td>\n",
       "      <td>0.599489</td>\n",
       "      <td>...</td>\n",
       "      <td>1.025982</td>\n",
       "      <td>-0.918605</td>\n",
       "      <td>0.689864</td>\n",
       "      <td>-0.410859</td>\n",
       "      <td>-0.162232</td>\n",
       "      <td>-0.233352</td>\n",
       "      <td>0.712453</td>\n",
       "      <td>0.026411</td>\n",
       "      <td>0.085908</td>\n",
       "      <td>0.151146</td>\n",
       "    </tr>\n",
       "    <tr>\n",
       "      <th>61</th>\n",
       "      <td>0.201871</td>\n",
       "      <td>-0.709691</td>\n",
       "      <td>0.472239</td>\n",
       "      <td>0.021727</td>\n",
       "      <td>-0.761589</td>\n",
       "      <td>-0.614881</td>\n",
       "      <td>-0.017946</td>\n",
       "      <td>-0.493089</td>\n",
       "      <td>0.020694</td>\n",
       "      <td>0.596931</td>\n",
       "      <td>...</td>\n",
       "      <td>0.950691</td>\n",
       "      <td>-0.165642</td>\n",
       "      <td>0.930925</td>\n",
       "      <td>-0.179106</td>\n",
       "      <td>-0.878670</td>\n",
       "      <td>0.208187</td>\n",
       "      <td>0.963974</td>\n",
       "      <td>0.759506</td>\n",
       "      <td>-0.602236</td>\n",
       "      <td>0.605712</td>\n",
       "    </tr>\n",
       "    <tr>\n",
       "      <th>1259</th>\n",
       "      <td>0.591678</td>\n",
       "      <td>-0.093739</td>\n",
       "      <td>0.016063</td>\n",
       "      <td>-0.190001</td>\n",
       "      <td>-1.040889</td>\n",
       "      <td>-0.339110</td>\n",
       "      <td>-0.732730</td>\n",
       "      <td>0.514930</td>\n",
       "      <td>0.003258</td>\n",
       "      <td>0.302663</td>\n",
       "      <td>...</td>\n",
       "      <td>1.096214</td>\n",
       "      <td>-0.606475</td>\n",
       "      <td>-0.055335</td>\n",
       "      <td>0.177271</td>\n",
       "      <td>-0.339264</td>\n",
       "      <td>0.044101</td>\n",
       "      <td>0.427433</td>\n",
       "      <td>0.326121</td>\n",
       "      <td>0.159303</td>\n",
       "      <td>0.334155</td>\n",
       "    </tr>\n",
       "    <tr>\n",
       "      <th>949</th>\n",
       "      <td>-0.378547</td>\n",
       "      <td>-0.582111</td>\n",
       "      <td>-0.293676</td>\n",
       "      <td>0.505529</td>\n",
       "      <td>-1.042519</td>\n",
       "      <td>1.041653</td>\n",
       "      <td>-1.042608</td>\n",
       "      <td>-0.270629</td>\n",
       "      <td>1.146068</td>\n",
       "      <td>0.159086</td>\n",
       "      <td>...</td>\n",
       "      <td>1.316795</td>\n",
       "      <td>-0.544019</td>\n",
       "      <td>0.471581</td>\n",
       "      <td>-0.037146</td>\n",
       "      <td>-0.368860</td>\n",
       "      <td>-0.030393</td>\n",
       "      <td>0.960981</td>\n",
       "      <td>-0.530280</td>\n",
       "      <td>-0.155071</td>\n",
       "      <td>-0.379835</td>\n",
       "    </tr>\n",
       "  </tbody>\n",
       "</table>\n",
       "<p>5 rows × 768 columns</p>\n",
       "</div>"
      ],
      "text/plain": [
       "             0         1         2         3         4         5         6  \\\n",
       "2066  0.644360 -0.322945 -0.067169  0.433594 -0.808968 -0.152856 -0.647717   \n",
       "2045  0.450706 -0.424301  0.411551  0.328261  0.030625 -0.186563 -0.686519   \n",
       "61    0.201871 -0.709691  0.472239  0.021727 -0.761589 -0.614881 -0.017946   \n",
       "1259  0.591678 -0.093739  0.016063 -0.190001 -1.040889 -0.339110 -0.732730   \n",
       "949  -0.378547 -0.582111 -0.293676  0.505529 -1.042519  1.041653 -1.042608   \n",
       "\n",
       "             7         8         9  ...       758       759       760  \\\n",
       "2066  0.184886  0.296216  0.320703  ...  1.217888 -0.477606  0.415001   \n",
       "2045  0.170887 -0.283004  0.599489  ...  1.025982 -0.918605  0.689864   \n",
       "61   -0.493089  0.020694  0.596931  ...  0.950691 -0.165642  0.930925   \n",
       "1259  0.514930  0.003258  0.302663  ...  1.096214 -0.606475 -0.055335   \n",
       "949  -0.270629  1.146068  0.159086  ...  1.316795 -0.544019  0.471581   \n",
       "\n",
       "           761       762       763       764       765       766       767  \n",
       "2066 -0.565366  0.155336 -0.465147  0.415667 -0.456462  0.381620 -0.039221  \n",
       "2045 -0.410859 -0.162232 -0.233352  0.712453  0.026411  0.085908  0.151146  \n",
       "61   -0.179106 -0.878670  0.208187  0.963974  0.759506 -0.602236  0.605712  \n",
       "1259  0.177271 -0.339264  0.044101  0.427433  0.326121  0.159303  0.334155  \n",
       "949  -0.037146 -0.368860 -0.030393  0.960981 -0.530280 -0.155071 -0.379835  \n",
       "\n",
       "[5 rows x 768 columns]"
      ]
     },
     "execution_count": 61,
     "metadata": {},
     "output_type": "execute_result"
    }
   ],
   "source": [
    "embeddings_df.head()"
   ]
  },
  {
   "cell_type": "code",
   "execution_count": 62,
   "metadata": {
    "id": "_eN5dNyawOM3"
   },
   "outputs": [],
   "source": [
    "train_X = embeddings_df #overwrite features"
   ]
  },
  {
   "cell_type": "code",
   "execution_count": 64,
   "metadata": {
    "colab": {
     "base_uri": "https://localhost:8080/",
     "height": 177
    },
    "id": "wWpuj6AYwOM3",
    "outputId": "b21409a8-fed3-4ebb-a873-87366e21c404"
   },
   "outputs": [
    {
     "name": "stdout",
     "output_type": "stream",
     "text": [
      "[Pipeline] ............ (step 1 of 2) Processing scaler, total=   0.1s\n"
     ]
    },
    {
     "ename": "ValueError",
     "evalue": "Found input variables with inconsistent numbers of samples: [3250, 6837]",
     "output_type": "error",
     "traceback": [
      "\u001b[1;31m---------------------------------------------------------------------------\u001b[0m",
      "\u001b[1;31mValueError\u001b[0m                                Traceback (most recent call last)",
      "Cell \u001b[1;32mIn[64], line 1\u001b[0m\n\u001b[1;32m----> 1\u001b[0m pipeline\u001b[38;5;241m.\u001b[39mfit(train_X, train_Y)\n",
      "File \u001b[1;32mc:\\Users\\camim\\anaconda3\\Lib\\site-packages\\sklearn\\pipeline.py:405\u001b[0m, in \u001b[0;36mPipeline.fit\u001b[1;34m(self, X, y, **fit_params)\u001b[0m\n\u001b[0;32m    403\u001b[0m     \u001b[38;5;28;01mif\u001b[39;00m \u001b[38;5;28mself\u001b[39m\u001b[38;5;241m.\u001b[39m_final_estimator \u001b[38;5;241m!=\u001b[39m \u001b[38;5;124m\"\u001b[39m\u001b[38;5;124mpassthrough\u001b[39m\u001b[38;5;124m\"\u001b[39m:\n\u001b[0;32m    404\u001b[0m         fit_params_last_step \u001b[38;5;241m=\u001b[39m fit_params_steps[\u001b[38;5;28mself\u001b[39m\u001b[38;5;241m.\u001b[39msteps[\u001b[38;5;241m-\u001b[39m\u001b[38;5;241m1\u001b[39m][\u001b[38;5;241m0\u001b[39m]]\n\u001b[1;32m--> 405\u001b[0m         \u001b[38;5;28mself\u001b[39m\u001b[38;5;241m.\u001b[39m_final_estimator\u001b[38;5;241m.\u001b[39mfit(Xt, y, \u001b[38;5;241m*\u001b[39m\u001b[38;5;241m*\u001b[39mfit_params_last_step)\n\u001b[0;32m    407\u001b[0m \u001b[38;5;28;01mreturn\u001b[39;00m \u001b[38;5;28mself\u001b[39m\n",
      "File \u001b[1;32mc:\\Users\\camim\\anaconda3\\Lib\\site-packages\\sklearn\\svm\\_classes.py:263\u001b[0m, in \u001b[0;36mLinearSVC.fit\u001b[1;34m(self, X, y, sample_weight)\u001b[0m\n\u001b[0;32m    238\u001b[0m \u001b[38;5;250m\u001b[39m\u001b[38;5;124;03m\"\"\"Fit the model according to the given training data.\u001b[39;00m\n\u001b[0;32m    239\u001b[0m \n\u001b[0;32m    240\u001b[0m \u001b[38;5;124;03mParameters\u001b[39;00m\n\u001b[1;32m   (...)\u001b[0m\n\u001b[0;32m    259\u001b[0m \u001b[38;5;124;03m    An instance of the estimator.\u001b[39;00m\n\u001b[0;32m    260\u001b[0m \u001b[38;5;124;03m\"\"\"\u001b[39;00m\n\u001b[0;32m    261\u001b[0m \u001b[38;5;28mself\u001b[39m\u001b[38;5;241m.\u001b[39m_validate_params()\n\u001b[1;32m--> 263\u001b[0m X, y \u001b[38;5;241m=\u001b[39m \u001b[38;5;28mself\u001b[39m\u001b[38;5;241m.\u001b[39m_validate_data(\n\u001b[0;32m    264\u001b[0m     X,\n\u001b[0;32m    265\u001b[0m     y,\n\u001b[0;32m    266\u001b[0m     accept_sparse\u001b[38;5;241m=\u001b[39m\u001b[38;5;124m\"\u001b[39m\u001b[38;5;124mcsr\u001b[39m\u001b[38;5;124m\"\u001b[39m,\n\u001b[0;32m    267\u001b[0m     dtype\u001b[38;5;241m=\u001b[39mnp\u001b[38;5;241m.\u001b[39mfloat64,\n\u001b[0;32m    268\u001b[0m     order\u001b[38;5;241m=\u001b[39m\u001b[38;5;124m\"\u001b[39m\u001b[38;5;124mC\u001b[39m\u001b[38;5;124m\"\u001b[39m,\n\u001b[0;32m    269\u001b[0m     accept_large_sparse\u001b[38;5;241m=\u001b[39m\u001b[38;5;28;01mFalse\u001b[39;00m,\n\u001b[0;32m    270\u001b[0m )\n\u001b[0;32m    271\u001b[0m check_classification_targets(y)\n\u001b[0;32m    272\u001b[0m \u001b[38;5;28mself\u001b[39m\u001b[38;5;241m.\u001b[39mclasses_ \u001b[38;5;241m=\u001b[39m np\u001b[38;5;241m.\u001b[39munique(y)\n",
      "File \u001b[1;32mc:\\Users\\camim\\anaconda3\\Lib\\site-packages\\sklearn\\base.py:584\u001b[0m, in \u001b[0;36mBaseEstimator._validate_data\u001b[1;34m(self, X, y, reset, validate_separately, **check_params)\u001b[0m\n\u001b[0;32m    582\u001b[0m         y \u001b[38;5;241m=\u001b[39m check_array(y, input_name\u001b[38;5;241m=\u001b[39m\u001b[38;5;124m\"\u001b[39m\u001b[38;5;124my\u001b[39m\u001b[38;5;124m\"\u001b[39m, \u001b[38;5;241m*\u001b[39m\u001b[38;5;241m*\u001b[39mcheck_y_params)\n\u001b[0;32m    583\u001b[0m     \u001b[38;5;28;01melse\u001b[39;00m:\n\u001b[1;32m--> 584\u001b[0m         X, y \u001b[38;5;241m=\u001b[39m check_X_y(X, y, \u001b[38;5;241m*\u001b[39m\u001b[38;5;241m*\u001b[39mcheck_params)\n\u001b[0;32m    585\u001b[0m     out \u001b[38;5;241m=\u001b[39m X, y\n\u001b[0;32m    587\u001b[0m \u001b[38;5;28;01mif\u001b[39;00m \u001b[38;5;129;01mnot\u001b[39;00m no_val_X \u001b[38;5;129;01mand\u001b[39;00m check_params\u001b[38;5;241m.\u001b[39mget(\u001b[38;5;124m\"\u001b[39m\u001b[38;5;124mensure_2d\u001b[39m\u001b[38;5;124m\"\u001b[39m, \u001b[38;5;28;01mTrue\u001b[39;00m):\n",
      "File \u001b[1;32mc:\\Users\\camim\\anaconda3\\Lib\\site-packages\\sklearn\\utils\\validation.py:1124\u001b[0m, in \u001b[0;36mcheck_X_y\u001b[1;34m(X, y, accept_sparse, accept_large_sparse, dtype, order, copy, force_all_finite, ensure_2d, allow_nd, multi_output, ensure_min_samples, ensure_min_features, y_numeric, estimator)\u001b[0m\n\u001b[0;32m   1106\u001b[0m X \u001b[38;5;241m=\u001b[39m check_array(\n\u001b[0;32m   1107\u001b[0m     X,\n\u001b[0;32m   1108\u001b[0m     accept_sparse\u001b[38;5;241m=\u001b[39maccept_sparse,\n\u001b[1;32m   (...)\u001b[0m\n\u001b[0;32m   1119\u001b[0m     input_name\u001b[38;5;241m=\u001b[39m\u001b[38;5;124m\"\u001b[39m\u001b[38;5;124mX\u001b[39m\u001b[38;5;124m\"\u001b[39m,\n\u001b[0;32m   1120\u001b[0m )\n\u001b[0;32m   1122\u001b[0m y \u001b[38;5;241m=\u001b[39m _check_y(y, multi_output\u001b[38;5;241m=\u001b[39mmulti_output, y_numeric\u001b[38;5;241m=\u001b[39my_numeric, estimator\u001b[38;5;241m=\u001b[39mestimator)\n\u001b[1;32m-> 1124\u001b[0m check_consistent_length(X, y)\n\u001b[0;32m   1126\u001b[0m \u001b[38;5;28;01mreturn\u001b[39;00m X, y\n",
      "File \u001b[1;32mc:\\Users\\camim\\anaconda3\\Lib\\site-packages\\sklearn\\utils\\validation.py:397\u001b[0m, in \u001b[0;36mcheck_consistent_length\u001b[1;34m(*arrays)\u001b[0m\n\u001b[0;32m    395\u001b[0m uniques \u001b[38;5;241m=\u001b[39m np\u001b[38;5;241m.\u001b[39munique(lengths)\n\u001b[0;32m    396\u001b[0m \u001b[38;5;28;01mif\u001b[39;00m \u001b[38;5;28mlen\u001b[39m(uniques) \u001b[38;5;241m>\u001b[39m \u001b[38;5;241m1\u001b[39m:\n\u001b[1;32m--> 397\u001b[0m     \u001b[38;5;28;01mraise\u001b[39;00m \u001b[38;5;167;01mValueError\u001b[39;00m(\n\u001b[0;32m    398\u001b[0m         \u001b[38;5;124m\"\u001b[39m\u001b[38;5;124mFound input variables with inconsistent numbers of samples: \u001b[39m\u001b[38;5;132;01m%r\u001b[39;00m\u001b[38;5;124m\"\u001b[39m\n\u001b[0;32m    399\u001b[0m         \u001b[38;5;241m%\u001b[39m [\u001b[38;5;28mint\u001b[39m(l) \u001b[38;5;28;01mfor\u001b[39;00m l \u001b[38;5;129;01min\u001b[39;00m lengths]\n\u001b[0;32m    400\u001b[0m     )\n",
      "\u001b[1;31mValueError\u001b[0m: Found input variables with inconsistent numbers of samples: [3250, 6837]"
     ]
    }
   ],
   "source": [
    "pipeline.fit(train_X, train_Y)"
   ]
  },
  {
   "cell_type": "code",
   "execution_count": 57,
   "metadata": {
    "colab": {
     "base_uri": "https://localhost:8080/"
    },
    "id": "soWuZdqawOM3",
    "outputId": "9245712a-8344-4ce7-d553-740107b4a289"
   },
   "outputs": [
    {
     "name": "stdout",
     "output_type": "stream",
     "text": [
      "[Pipeline] ............ (step 1 of 2) Processing scaler, total=   0.0s\n"
     ]
    },
    {
     "name": "stderr",
     "output_type": "stream",
     "text": [
      "c:\\Users\\camim\\anaconda3\\Lib\\site-packages\\sklearn\\svm\\_base.py:1244: ConvergenceWarning: Liblinear failed to converge, increase the number of iterations.\n",
      "  warnings.warn(\n"
     ]
    },
    {
     "name": "stdout",
     "output_type": "stream",
     "text": [
      "[Pipeline] ............... (step 2 of 2) Processing clf, total=   6.8s\n",
      "[Pipeline] ............ (step 1 of 2) Processing scaler, total=   0.0s\n"
     ]
    },
    {
     "name": "stderr",
     "output_type": "stream",
     "text": [
      "c:\\Users\\camim\\anaconda3\\Lib\\site-packages\\sklearn\\svm\\_base.py:1244: ConvergenceWarning: Liblinear failed to converge, increase the number of iterations.\n",
      "  warnings.warn(\n"
     ]
    },
    {
     "name": "stdout",
     "output_type": "stream",
     "text": [
      "[Pipeline] ............... (step 2 of 2) Processing clf, total=   7.5s\n",
      "[Pipeline] ............ (step 1 of 2) Processing scaler, total=   0.0s\n"
     ]
    },
    {
     "name": "stderr",
     "output_type": "stream",
     "text": [
      "c:\\Users\\camim\\anaconda3\\Lib\\site-packages\\sklearn\\svm\\_base.py:1244: ConvergenceWarning: Liblinear failed to converge, increase the number of iterations.\n",
      "  warnings.warn(\n"
     ]
    },
    {
     "name": "stdout",
     "output_type": "stream",
     "text": [
      "[Pipeline] ............... (step 2 of 2) Processing clf, total=   6.8s\n",
      "[Pipeline] ............ (step 1 of 2) Processing scaler, total=   0.0s\n"
     ]
    },
    {
     "name": "stderr",
     "output_type": "stream",
     "text": [
      "c:\\Users\\camim\\anaconda3\\Lib\\site-packages\\sklearn\\svm\\_base.py:1244: ConvergenceWarning: Liblinear failed to converge, increase the number of iterations.\n",
      "  warnings.warn(\n"
     ]
    },
    {
     "name": "stdout",
     "output_type": "stream",
     "text": [
      "[Pipeline] ............... (step 2 of 2) Processing clf, total=   6.8s\n",
      "[Pipeline] ............ (step 1 of 2) Processing scaler, total=   0.0s\n",
      "[Pipeline] ............... (step 2 of 2) Processing clf, total=   7.0s\n",
      "----------MODEL 3----------\n",
      "Mean macro-f1: 0.715\n",
      "Standard deviation macro-f1: 0.012\n"
     ]
    },
    {
     "name": "stderr",
     "output_type": "stream",
     "text": [
      "c:\\Users\\camim\\anaconda3\\Lib\\site-packages\\sklearn\\svm\\_base.py:1244: ConvergenceWarning: Liblinear failed to converge, increase the number of iterations.\n",
      "  warnings.warn(\n"
     ]
    }
   ],
   "source": [
    "scores = cross_validate(pipeline, train_X, train_Y, scoring=scoring, cv=splitter)\n",
    "print(\"----------MODEL 3----------\")\n",
    "print(\"Mean macro-f1:\", np.mean(scores['test_f1_macro']).round(3))\n",
    "print(\"Standard deviation macro-f1:\", np.std(scores['test_f1_macro']).round(3))"
   ]
  },
  {
   "cell_type": "code",
   "execution_count": 58,
   "metadata": {
    "id": "KxduwU65wOM4"
   },
   "outputs": [],
   "source": [
    "scores_df = pd.DataFrame(scores)\n",
    "scores_df['model'] = 'actual model'\n",
    "scores_df['iteration'] = list(range(1, 6))\n",
    "baselines_scores_df = pd.DataFrame(baselines_scores)\n",
    "baselines_scores_df['model'] = 'dummy classifier'\n",
    "baselines_scores_df['iteration'] = list(range(1, 6))\n",
    "\n",
    "scores_df = pd.concat([scores_df, baselines_scores_df]).drop(['fit_time', 'score_time'], axis=1)\n",
    "scores_df_long = pd.melt(scores_df, id_vars=['model', 'iteration'], var_name='metric')"
   ]
  },
  {
   "cell_type": "code",
   "execution_count": 59,
   "metadata": {
    "colab": {
     "base_uri": "https://localhost:8080/",
     "height": 472
    },
    "id": "EUzyylm5wOM4",
    "outputId": "0b10579b-fb6e-4d88-8fb1-3f9ddd06e0a9"
   },
   "outputs": [
    {
     "name": "stderr",
     "output_type": "stream",
     "text": [
      "c:\\Users\\camim\\anaconda3\\Lib\\site-packages\\seaborn\\_oldcore.py:1119: FutureWarning: use_inf_as_na option is deprecated and will be removed in a future version. Convert inf values to NaN before operating instead.\n",
      "  with pd.option_context('mode.use_inf_as_na', True):\n",
      "c:\\Users\\camim\\anaconda3\\Lib\\site-packages\\seaborn\\_oldcore.py:1119: FutureWarning: use_inf_as_na option is deprecated and will be removed in a future version. Convert inf values to NaN before operating instead.\n",
      "  with pd.option_context('mode.use_inf_as_na', True):\n"
     ]
    },
    {
     "data": {
      "image/png": "[encoded data removed]",
      "text/plain": [
       "<Figure size 640x480 with 1 Axes>"
      ]
     },
     "metadata": {},
     "output_type": "display_data"
    }
   ],
   "source": [
    "sns.lineplot(scores_df_long, x='iteration', y='value', hue='metric', style='model')\n",
    "plt.xticks(list(range(1, 6)))\n",
    "plt.xlabel(\"Fold\")\n",
    "plt.ylabel(\"Score\")\n",
    "plt.title(\"Accuracy, Precision, Recall, F1-Score\")\n",
    "plt.legend(loc='upper left', bbox_to_anchor=(1, 1))\n",
    "plt.show()"
   ]
  },
  {
   "cell_type": "code",
   "execution_count": 60,
   "metadata": {
    "colab": {
     "base_uri": "https://localhost:8080/",
     "height": 623
    },
    "id": "rkUlJWLnwOM4",
    "outputId": "5699fcff-064b-4a47-e10e-07ef71ebe6c7"
   },
   "outputs": [
    {
     "name": "stdout",
     "output_type": "stream",
     "text": [
      "[Pipeline] ............ (step 1 of 2) Processing scaler, total=   0.0s\n"
     ]
    },
    {
     "name": "stderr",
     "output_type": "stream",
     "text": [
      "c:\\Users\\camim\\anaconda3\\Lib\\site-packages\\sklearn\\svm\\_base.py:1244: ConvergenceWarning: Liblinear failed to converge, increase the number of iterations.\n",
      "  warnings.warn(\n"
     ]
    },
    {
     "name": "stdout",
     "output_type": "stream",
     "text": [
      "[Pipeline] ............... (step 2 of 2) Processing clf, total=   7.0s\n",
      "[Pipeline] ............ (step 1 of 2) Processing scaler, total=   0.0s\n"
     ]
    },
    {
     "name": "stderr",
     "output_type": "stream",
     "text": [
      "c:\\Users\\camim\\anaconda3\\Lib\\site-packages\\sklearn\\svm\\_base.py:1244: ConvergenceWarning: Liblinear failed to converge, increase the number of iterations.\n",
      "  warnings.warn(\n"
     ]
    },
    {
     "name": "stdout",
     "output_type": "stream",
     "text": [
      "[Pipeline] ............... (step 2 of 2) Processing clf, total=   7.0s\n",
      "[Pipeline] ............ (step 1 of 2) Processing scaler, total=   0.0s\n"
     ]
    },
    {
     "name": "stderr",
     "output_type": "stream",
     "text": [
      "c:\\Users\\camim\\anaconda3\\Lib\\site-packages\\sklearn\\svm\\_base.py:1244: ConvergenceWarning: Liblinear failed to converge, increase the number of iterations.\n",
      "  warnings.warn(\n"
     ]
    },
    {
     "name": "stdout",
     "output_type": "stream",
     "text": [
      "[Pipeline] ............... (step 2 of 2) Processing clf, total=   7.0s\n",
      "[Pipeline] ............ (step 1 of 2) Processing scaler, total=   0.0s\n"
     ]
    },
    {
     "name": "stderr",
     "output_type": "stream",
     "text": [
      "c:\\Users\\camim\\anaconda3\\Lib\\site-packages\\sklearn\\svm\\_base.py:1244: ConvergenceWarning: Liblinear failed to converge, increase the number of iterations.\n",
      "  warnings.warn(\n"
     ]
    },
    {
     "name": "stdout",
     "output_type": "stream",
     "text": [
      "[Pipeline] ............... (step 2 of 2) Processing clf, total=   6.7s\n",
      "[Pipeline] ............ (step 1 of 2) Processing scaler, total=   0.0s\n",
      "[Pipeline] ............... (step 2 of 2) Processing clf, total=   6.4s\n"
     ]
    },
    {
     "name": "stderr",
     "output_type": "stream",
     "text": [
      "c:\\Users\\camim\\anaconda3\\Lib\\site-packages\\sklearn\\svm\\_base.py:1244: ConvergenceWarning: Liblinear failed to converge, increase the number of iterations.\n",
      "  warnings.warn(\n"
     ]
    },
    {
     "data": {
      "image/png": "[encoded data removed]",
      "text/plain": [
       "<Figure size 640x480 with 2 Axes>"
      ]
     },
     "metadata": {},
     "output_type": "display_data"
    }
   ],
   "source": [
    "y_pred = cross_val_predict(pipeline, train_X, train_Y, cv=splitter)\n",
    "ConfusionMatrixDisplay.from_predictions(y_pred=y_pred, y_true=train_Y, cmap='Greens', normalize='true')\n",
    "plt.show()"
   ]
  },
  {
   "cell_type": "markdown",
   "metadata": {},
   "source": [
    "# SVM with contextual embeddings\n",
    "We also evaluate the performance of contextual embeddings extracted using the Italian BERT model.\n",
    "1) [CLS] embedding\n",
    "2) Pooled sentence embeddings (with Sentence Transformer)"
   ]
  },
  {
   "cell_type": "markdown",
   "metadata": {},
   "source": [
    "## [CLS] embeddings"
   ]
  },
  {
   "cell_type": "code",
   "execution_count": 65,
   "metadata": {},
   "outputs": [],
   "source": [
    "embeddings_df = pd.read_csv(results_path / 'sent_embs_cls_train.csv', index_col=0)"
   ]
  },
  {
   "cell_type": "code",
   "execution_count": 66,
   "metadata": {},
   "outputs": [
    {
     "data": {
      "text/html": [
       "<div>\n",
       "<style scoped>\n",
       "    .dataframe tbody tr th:only-of-type {\n",
       "        vertical-align: middle;\n",
       "    }\n",
       "\n",
       "    .dataframe tbody tr th {\n",
       "        vertical-align: top;\n",
       "    }\n",
       "\n",
       "    .dataframe thead th {\n",
       "        text-align: right;\n",
       "    }\n",
       "</style>\n",
       "<table border=\"1\" class=\"dataframe\">\n",
       "  <thead>\n",
       "    <tr style=\"text-align: right;\">\n",
       "      <th></th>\n",
       "      <th>0</th>\n",
       "      <th>1</th>\n",
       "      <th>2</th>\n",
       "      <th>3</th>\n",
       "      <th>4</th>\n",
       "      <th>5</th>\n",
       "      <th>6</th>\n",
       "      <th>7</th>\n",
       "      <th>8</th>\n",
       "      <th>9</th>\n",
       "      <th>...</th>\n",
       "      <th>758</th>\n",
       "      <th>759</th>\n",
       "      <th>760</th>\n",
       "      <th>761</th>\n",
       "      <th>762</th>\n",
       "      <th>763</th>\n",
       "      <th>764</th>\n",
       "      <th>765</th>\n",
       "      <th>766</th>\n",
       "      <th>767</th>\n",
       "    </tr>\n",
       "  </thead>\n",
       "  <tbody>\n",
       "    <tr>\n",
       "      <th>2066</th>\n",
       "      <td>0.330913</td>\n",
       "      <td>-0.255601</td>\n",
       "      <td>0.099565</td>\n",
       "      <td>-0.162353</td>\n",
       "      <td>0.028167</td>\n",
       "      <td>0.115740</td>\n",
       "      <td>0.006777</td>\n",
       "      <td>-0.128799</td>\n",
       "      <td>0.150491</td>\n",
       "      <td>0.125800</td>\n",
       "      <td>...</td>\n",
       "      <td>-0.167303</td>\n",
       "      <td>0.202621</td>\n",
       "      <td>-0.450907</td>\n",
       "      <td>0.971462</td>\n",
       "      <td>0.071537</td>\n",
       "      <td>0.061021</td>\n",
       "      <td>0.101291</td>\n",
       "      <td>-0.336357</td>\n",
       "      <td>-0.018048</td>\n",
       "      <td>0.419867</td>\n",
       "    </tr>\n",
       "    <tr>\n",
       "      <th>2045</th>\n",
       "      <td>-0.176426</td>\n",
       "      <td>0.430140</td>\n",
       "      <td>-0.020807</td>\n",
       "      <td>0.300881</td>\n",
       "      <td>-0.077966</td>\n",
       "      <td>-0.207650</td>\n",
       "      <td>-0.422625</td>\n",
       "      <td>-0.218152</td>\n",
       "      <td>-0.231880</td>\n",
       "      <td>-0.323087</td>\n",
       "      <td>...</td>\n",
       "      <td>-0.362934</td>\n",
       "      <td>0.090953</td>\n",
       "      <td>-0.012831</td>\n",
       "      <td>0.149438</td>\n",
       "      <td>0.072081</td>\n",
       "      <td>-0.019213</td>\n",
       "      <td>-0.187425</td>\n",
       "      <td>0.001177</td>\n",
       "      <td>0.002967</td>\n",
       "      <td>-0.141162</td>\n",
       "    </tr>\n",
       "    <tr>\n",
       "      <th>61</th>\n",
       "      <td>0.094847</td>\n",
       "      <td>-0.043276</td>\n",
       "      <td>0.030565</td>\n",
       "      <td>0.295105</td>\n",
       "      <td>-0.137413</td>\n",
       "      <td>-0.192275</td>\n",
       "      <td>-0.487759</td>\n",
       "      <td>0.237893</td>\n",
       "      <td>-0.025203</td>\n",
       "      <td>-0.364422</td>\n",
       "      <td>...</td>\n",
       "      <td>-0.157764</td>\n",
       "      <td>0.196601</td>\n",
       "      <td>-0.210170</td>\n",
       "      <td>-0.216122</td>\n",
       "      <td>-0.208825</td>\n",
       "      <td>0.084819</td>\n",
       "      <td>-0.156896</td>\n",
       "      <td>0.000059</td>\n",
       "      <td>-0.066262</td>\n",
       "      <td>-0.047716</td>\n",
       "    </tr>\n",
       "    <tr>\n",
       "      <th>1259</th>\n",
       "      <td>-0.043310</td>\n",
       "      <td>0.053228</td>\n",
       "      <td>-0.073848</td>\n",
       "      <td>0.045386</td>\n",
       "      <td>-0.065473</td>\n",
       "      <td>-0.121833</td>\n",
       "      <td>-0.112266</td>\n",
       "      <td>-0.036860</td>\n",
       "      <td>0.073647</td>\n",
       "      <td>-0.110107</td>\n",
       "      <td>...</td>\n",
       "      <td>-0.065180</td>\n",
       "      <td>0.038570</td>\n",
       "      <td>-0.116088</td>\n",
       "      <td>-0.050137</td>\n",
       "      <td>-0.215983</td>\n",
       "      <td>0.059105</td>\n",
       "      <td>-0.093424</td>\n",
       "      <td>-0.018517</td>\n",
       "      <td>0.073619</td>\n",
       "      <td>-0.088922</td>\n",
       "    </tr>\n",
       "    <tr>\n",
       "      <th>949</th>\n",
       "      <td>-0.008078</td>\n",
       "      <td>-0.031456</td>\n",
       "      <td>-0.093861</td>\n",
       "      <td>-0.106218</td>\n",
       "      <td>0.025641</td>\n",
       "      <td>-0.139674</td>\n",
       "      <td>-0.073613</td>\n",
       "      <td>-0.047472</td>\n",
       "      <td>0.142491</td>\n",
       "      <td>-0.187894</td>\n",
       "      <td>...</td>\n",
       "      <td>-0.066059</td>\n",
       "      <td>0.021286</td>\n",
       "      <td>-0.143739</td>\n",
       "      <td>0.113479</td>\n",
       "      <td>-0.063397</td>\n",
       "      <td>0.001536</td>\n",
       "      <td>-0.103806</td>\n",
       "      <td>-0.023710</td>\n",
       "      <td>0.287298</td>\n",
       "      <td>-0.046536</td>\n",
       "    </tr>\n",
       "  </tbody>\n",
       "</table>\n",
       "<p>5 rows × 768 columns</p>\n",
       "</div>"
      ],
      "text/plain": [
       "             0         1         2         3         4         5         6  \\\n",
       "2066  0.330913 -0.255601  0.099565 -0.162353  0.028167  0.115740  0.006777   \n",
       "2045 -0.176426  0.430140 -0.020807  0.300881 -0.077966 -0.207650 -0.422625   \n",
       "61    0.094847 -0.043276  0.030565  0.295105 -0.137413 -0.192275 -0.487759   \n",
       "1259 -0.043310  0.053228 -0.073848  0.045386 -0.065473 -0.121833 -0.112266   \n",
       "949  -0.008078 -0.031456 -0.093861 -0.106218  0.025641 -0.139674 -0.073613   \n",
       "\n",
       "             7         8         9  ...       758       759       760  \\\n",
       "2066 -0.128799  0.150491  0.125800  ... -0.167303  0.202621 -0.450907   \n",
       "2045 -0.218152 -0.231880 -0.323087  ... -0.362934  0.090953 -0.012831   \n",
       "61    0.237893 -0.025203 -0.364422  ... -0.157764  0.196601 -0.210170   \n",
       "1259 -0.036860  0.073647 -0.110107  ... -0.065180  0.038570 -0.116088   \n",
       "949  -0.047472  0.142491 -0.187894  ... -0.066059  0.021286 -0.143739   \n",
       "\n",
       "           761       762       763       764       765       766       767  \n",
       "2066  0.971462  0.071537  0.061021  0.101291 -0.336357 -0.018048  0.419867  \n",
       "2045  0.149438  0.072081 -0.019213 -0.187425  0.001177  0.002967 -0.141162  \n",
       "61   -0.216122 -0.208825  0.084819 -0.156896  0.000059 -0.066262 -0.047716  \n",
       "1259 -0.050137 -0.215983  0.059105 -0.093424 -0.018517  0.073619 -0.088922  \n",
       "949   0.113479 -0.063397  0.001536 -0.103806 -0.023710  0.287298 -0.046536  \n",
       "\n",
       "[5 rows x 768 columns]"
      ]
     },
     "execution_count": 66,
     "metadata": {},
     "output_type": "execute_result"
    }
   ],
   "source": [
    "embeddings_df.head()"
   ]
  },
  {
   "cell_type": "code",
   "execution_count": 67,
   "metadata": {},
   "outputs": [],
   "source": [
    "train_X = embeddings_df #overwrite features"
   ]
  },
  {
   "cell_type": "code",
   "execution_count": null,
   "metadata": {},
   "outputs": [
    {
     "name": "stdout",
     "output_type": "stream",
     "text": [
      "[Pipeline] ............ (step 1 of 2) Processing scaler, total=   0.1s\n",
      "[Pipeline] ............... (step 2 of 2) Processing clf, total=  12.5s\n"
     ]
    },
    {
     "name": "stderr",
     "output_type": "stream",
     "text": [
      "c:\\Users\\camim\\anaconda3\\Lib\\site-packages\\sklearn\\svm\\_base.py:1244: ConvergenceWarning: Liblinear failed to converge, increase the number of iterations.\n",
      "  warnings.warn(\n"
     ]
    },
    {
     "data": {
      "text/html": [
       "<style>#sk-container-id-5 {color: black;background-color: white;}#sk-container-id-5 pre{padding: 0;}#sk-container-id-5 div.sk-toggleable {background-color: white;}#sk-container-id-5 label.sk-toggleable__label {cursor: pointer;display: block;width: 100%;margin-bottom: 0;padding: 0.3em;box-sizing: border-box;text-align: center;}#sk-container-id-5 label.sk-toggleable__label-arrow:before {content: \"▸\";float: left;margin-right: 0.25em;color: #696969;}#sk-container-id-5 label.sk-toggleable__label-arrow:hover:before {color: black;}#sk-container-id-5 div.sk-estimator:hover label.sk-toggleable__label-arrow:before {color: black;}#sk-container-id-5 div.sk-toggleable__content {max-height: 0;max-width: 0;overflow: hidden;text-align: left;background-color: #f0f8ff;}#sk-container-id-5 div.sk-toggleable__content pre {margin: 0.2em;color: black;border-radius: 0.25em;background-color: #f0f8ff;}#sk-container-id-5 input.sk-toggleable__control:checked~div.sk-toggleable__content {max-height: 200px;max-width: 100%;overflow: auto;}#sk-container-id-5 input.sk-toggleable__control:checked~label.sk-toggleable__label-arrow:before {content: \"▾\";}#sk-container-id-5 div.sk-estimator input.sk-toggleable__control:checked~label.sk-toggleable__label {background-color: #d4ebff;}#sk-container-id-5 div.sk-label input.sk-toggleable__control:checked~label.sk-toggleable__label {background-color: #d4ebff;}#sk-container-id-5 input.sk-hidden--visually {border: 0;clip: rect(1px 1px 1px 1px);clip: rect(1px, 1px, 1px, 1px);height: 1px;margin: -1px;overflow: hidden;padding: 0;position: absolute;width: 1px;}#sk-container-id-5 div.sk-estimator {font-family: monospace;background-color: #f0f8ff;border: 1px dotted black;border-radius: 0.25em;box-sizing: border-box;margin-bottom: 0.5em;}#sk-container-id-5 div.sk-estimator:hover {background-color: #d4ebff;}#sk-container-id-5 div.sk-parallel-item::after {content: \"\";width: 100%;border-bottom: 1px solid gray;flex-grow: 1;}#sk-container-id-5 div.sk-label:hover label.sk-toggleable__label {background-color: #d4ebff;}#sk-container-id-5 div.sk-serial::before {content: \"\";position: absolute;border-left: 1px solid gray;box-sizing: border-box;top: 0;bottom: 0;left: 50%;z-index: 0;}#sk-container-id-5 div.sk-serial {display: flex;flex-direction: column;align-items: center;background-color: white;padding-right: 0.2em;padding-left: 0.2em;position: relative;}#sk-container-id-5 div.sk-item {position: relative;z-index: 1;}#sk-container-id-5 div.sk-parallel {display: flex;align-items: stretch;justify-content: center;background-color: white;position: relative;}#sk-container-id-5 div.sk-item::before, #sk-container-id-5 div.sk-parallel-item::before {content: \"\";position: absolute;border-left: 1px solid gray;box-sizing: border-box;top: 0;bottom: 0;left: 50%;z-index: -1;}#sk-container-id-5 div.sk-parallel-item {display: flex;flex-direction: column;z-index: 1;position: relative;background-color: white;}#sk-container-id-5 div.sk-parallel-item:first-child::after {align-self: flex-end;width: 50%;}#sk-container-id-5 div.sk-parallel-item:last-child::after {align-self: flex-start;width: 50%;}#sk-container-id-5 div.sk-parallel-item:only-child::after {width: 0;}#sk-container-id-5 div.sk-dashed-wrapped {border: 1px dashed gray;margin: 0 0.4em 0.5em 0.4em;box-sizing: border-box;padding-bottom: 0.4em;background-color: white;}#sk-container-id-5 div.sk-label label {font-family: monospace;font-weight: bold;display: inline-block;line-height: 1.2em;}#sk-container-id-5 div.sk-label-container {text-align: center;}#sk-container-id-5 div.sk-container {/* jupyter's `normalize.less` sets `[hidden] { display: none; }` but bootstrap.min.css set `[hidden] { display: none !important; }` so we also need the `!important` here to be able to override the default hidden behavior on the sphinx rendered scikit-learn.org. See: https://github.com/scikit-learn/scikit-learn/issues/21755 */display: inline-block !important;position: relative;}#sk-container-id-5 div.sk-text-repr-fallback {display: none;}</style><div id=\"sk-container-id-5\" class=\"sk-top-container\"><div class=\"sk-text-repr-fallback\"><pre>Pipeline(steps=[(&#x27;scaler&#x27;, MinMaxScaler()), (&#x27;clf&#x27;, LinearSVC())], verbose=True)</pre><b>In a Jupyter environment, please rerun this cell to show the HTML representation or trust the notebook. <br />On GitHub, the HTML representation is unable to render, please try loading this page with nbviewer.org.</b></div><div class=\"sk-container\" hidden><div class=\"sk-item sk-dashed-wrapped\"><div class=\"sk-label-container\"><div class=\"sk-label sk-toggleable\"><input class=\"sk-toggleable__control sk-hidden--visually\" id=\"sk-estimator-id-13\" type=\"checkbox\" ><label for=\"sk-estimator-id-13\" class=\"sk-toggleable__label sk-toggleable__label-arrow\">Pipeline</label><div class=\"sk-toggleable__content\"><pre>Pipeline(steps=[(&#x27;scaler&#x27;, MinMaxScaler()), (&#x27;clf&#x27;, LinearSVC())], verbose=True)</pre></div></div></div><div class=\"sk-serial\"><div class=\"sk-item\"><div class=\"sk-estimator sk-toggleable\"><input class=\"sk-toggleable__control sk-hidden--visually\" id=\"sk-estimator-id-14\" type=\"checkbox\" ><label for=\"sk-estimator-id-14\" class=\"sk-toggleable__label sk-toggleable__label-arrow\">MinMaxScaler</label><div class=\"sk-toggleable__content\"><pre>MinMaxScaler()</pre></div></div></div><div class=\"sk-item\"><div class=\"sk-estimator sk-toggleable\"><input class=\"sk-toggleable__control sk-hidden--visually\" id=\"sk-estimator-id-15\" type=\"checkbox\" ><label for=\"sk-estimator-id-15\" class=\"sk-toggleable__label sk-toggleable__label-arrow\">LinearSVC</label><div class=\"sk-toggleable__content\"><pre>LinearSVC()</pre></div></div></div></div></div></div></div>"
      ],
      "text/plain": [
       "Pipeline(steps=[('scaler', MinMaxScaler()), ('clf', LinearSVC())], verbose=True)"
      ]
     },
     "execution_count": 68,
     "metadata": {},
     "output_type": "execute_result"
    }
   ],
   "source": [
    "pipeline.fit(train_X, train_Y)"
   ]
  },
  {
   "cell_type": "code",
   "execution_count": 69,
   "metadata": {},
   "outputs": [
    {
     "name": "stdout",
     "output_type": "stream",
     "text": [
      "[Pipeline] ............ (step 1 of 2) Processing scaler, total=   0.1s\n"
     ]
    },
    {
     "name": "stderr",
     "output_type": "stream",
     "text": [
      "c:\\Users\\camim\\anaconda3\\Lib\\site-packages\\sklearn\\svm\\_base.py:1244: ConvergenceWarning: Liblinear failed to converge, increase the number of iterations.\n",
      "  warnings.warn(\n"
     ]
    },
    {
     "name": "stdout",
     "output_type": "stream",
     "text": [
      "[Pipeline] ............... (step 2 of 2) Processing clf, total=   9.7s\n",
      "[Pipeline] ............ (step 1 of 2) Processing scaler, total=   0.1s\n"
     ]
    },
    {
     "name": "stderr",
     "output_type": "stream",
     "text": [
      "c:\\Users\\camim\\anaconda3\\Lib\\site-packages\\sklearn\\svm\\_base.py:1244: ConvergenceWarning: Liblinear failed to converge, increase the number of iterations.\n",
      "  warnings.warn(\n"
     ]
    },
    {
     "name": "stdout",
     "output_type": "stream",
     "text": [
      "[Pipeline] ............... (step 2 of 2) Processing clf, total=   9.1s\n",
      "[Pipeline] ............ (step 1 of 2) Processing scaler, total=   0.1s\n"
     ]
    },
    {
     "name": "stderr",
     "output_type": "stream",
     "text": [
      "c:\\Users\\camim\\anaconda3\\Lib\\site-packages\\sklearn\\svm\\_base.py:1244: ConvergenceWarning: Liblinear failed to converge, increase the number of iterations.\n",
      "  warnings.warn(\n"
     ]
    },
    {
     "name": "stdout",
     "output_type": "stream",
     "text": [
      "[Pipeline] ............... (step 2 of 2) Processing clf, total=   9.0s\n",
      "[Pipeline] ............ (step 1 of 2) Processing scaler, total=   0.1s\n"
     ]
    },
    {
     "name": "stderr",
     "output_type": "stream",
     "text": [
      "c:\\Users\\camim\\anaconda3\\Lib\\site-packages\\sklearn\\svm\\_base.py:1244: ConvergenceWarning: Liblinear failed to converge, increase the number of iterations.\n",
      "  warnings.warn(\n"
     ]
    },
    {
     "name": "stdout",
     "output_type": "stream",
     "text": [
      "[Pipeline] ............... (step 2 of 2) Processing clf, total=   9.1s\n",
      "[Pipeline] ............ (step 1 of 2) Processing scaler, total=   0.1s\n",
      "[Pipeline] ............... (step 2 of 2) Processing clf, total=   9.2s\n",
      "----------MODEL [CLS]----------\n",
      "Mean macro-f1: 0.689\n",
      "Standard deviation macro-f1: 0.012\n"
     ]
    },
    {
     "name": "stderr",
     "output_type": "stream",
     "text": [
      "c:\\Users\\camim\\anaconda3\\Lib\\site-packages\\sklearn\\svm\\_base.py:1244: ConvergenceWarning: Liblinear failed to converge, increase the number of iterations.\n",
      "  warnings.warn(\n"
     ]
    }
   ],
   "source": [
    "scores = cross_validate(pipeline, train_X, train_Y, scoring=scoring, cv=splitter)\n",
    "print(\"----------MODEL [CLS]----------\")\n",
    "print(\"Mean macro-f1:\", np.mean(scores['test_f1_macro']).round(3))\n",
    "print(\"Standard deviation macro-f1:\", np.std(scores['test_f1_macro']).round(3))"
   ]
  },
  {
   "cell_type": "code",
   "execution_count": 70,
   "metadata": {},
   "outputs": [],
   "source": [
    "scores_df = pd.DataFrame(scores)\n",
    "scores_df['model'] = 'actual model'\n",
    "scores_df['iteration'] = list(range(1, 6))\n",
    "baselines_scores_df = pd.DataFrame(baselines_scores)\n",
    "baselines_scores_df['model'] = 'dummy classifier'\n",
    "baselines_scores_df['iteration'] = list(range(1, 6))\n",
    "\n",
    "scores_df = pd.concat([scores_df, baselines_scores_df]).drop(['fit_time', 'score_time'], axis=1)\n",
    "scores_df_long = pd.melt(scores_df, id_vars=['model', 'iteration'], var_name='metric')"
   ]
  },
  {
   "cell_type": "code",
   "execution_count": null,
   "metadata": {},
   "outputs": [
    {
     "name": "stderr",
     "output_type": "stream",
     "text": [
      "c:\\Users\\camim\\anaconda3\\Lib\\site-packages\\seaborn\\_oldcore.py:1119: FutureWarning: use_inf_as_na option is deprecated and will be removed in a future version. Convert inf values to NaN before operating instead.\n",
      "  with pd.option_context('mode.use_inf_as_na', True):\n",
      "c:\\Users\\camim\\anaconda3\\Lib\\site-packages\\seaborn\\_oldcore.py:1119: FutureWarning: use_inf_as_na option is deprecated and will be removed in a future version. Convert inf values to NaN before operating instead.\n",
      "  with pd.option_context('mode.use_inf_as_na', True):\n"
     ]
    },
    {
     "data": {
      "image/png": "[encoded data removed]",
      "text/plain": [
       "<Figure size 640x480 with 1 Axes>"
      ]
     },
     "metadata": {},
     "output_type": "display_data"
    }
   ],
   "source": [
    "sns.lineplot(scores_df_long, x='iteration', y='value', hue='metric', style='model')\n",
    "plt.xticks(list(range(1, 6)))\n",
    "plt.xlabel(\"Fold\")\n",
    "plt.ylabel(\"Score\")\n",
    "plt.title(\"Accuracy, Precision, Recall, F1-Score\")\n",
    "plt.legend(loc='upper left', bbox_to_anchor=(1, 1))\n",
    "plt.show()"
   ]
  },
  {
   "cell_type": "code",
   "execution_count": null,
   "metadata": {},
   "outputs": [
    {
     "name": "stdout",
     "output_type": "stream",
     "text": [
      "[Pipeline] ............ (step 1 of 2) Processing scaler, total=   0.1s\n"
     ]
    },
    {
     "name": "stderr",
     "output_type": "stream",
     "text": [
      "c:\\Users\\camim\\anaconda3\\Lib\\site-packages\\sklearn\\svm\\_base.py:1244: ConvergenceWarning: Liblinear failed to converge, increase the number of iterations.\n",
      "  warnings.warn(\n"
     ]
    },
    {
     "name": "stdout",
     "output_type": "stream",
     "text": [
      "[Pipeline] ............... (step 2 of 2) Processing clf, total=   9.8s\n",
      "[Pipeline] ............ (step 1 of 2) Processing scaler, total=   0.1s\n"
     ]
    },
    {
     "name": "stderr",
     "output_type": "stream",
     "text": [
      "c:\\Users\\camim\\anaconda3\\Lib\\site-packages\\sklearn\\svm\\_base.py:1244: ConvergenceWarning: Liblinear failed to converge, increase the number of iterations.\n",
      "  warnings.warn(\n"
     ]
    },
    {
     "name": "stdout",
     "output_type": "stream",
     "text": [
      "[Pipeline] ............... (step 2 of 2) Processing clf, total=   9.6s\n",
      "[Pipeline] ............ (step 1 of 2) Processing scaler, total=   0.1s\n"
     ]
    },
    {
     "name": "stderr",
     "output_type": "stream",
     "text": [
      "c:\\Users\\camim\\anaconda3\\Lib\\site-packages\\sklearn\\svm\\_base.py:1244: ConvergenceWarning: Liblinear failed to converge, increase the number of iterations.\n",
      "  warnings.warn(\n"
     ]
    },
    {
     "name": "stdout",
     "output_type": "stream",
     "text": [
      "[Pipeline] ............... (step 2 of 2) Processing clf, total=   9.2s\n",
      "[Pipeline] ............ (step 1 of 2) Processing scaler, total=   0.1s\n"
     ]
    },
    {
     "name": "stderr",
     "output_type": "stream",
     "text": [
      "c:\\Users\\camim\\anaconda3\\Lib\\site-packages\\sklearn\\svm\\_base.py:1244: ConvergenceWarning: Liblinear failed to converge, increase the number of iterations.\n",
      "  warnings.warn(\n"
     ]
    },
    {
     "name": "stdout",
     "output_type": "stream",
     "text": [
      "[Pipeline] ............... (step 2 of 2) Processing clf, total=  10.0s\n",
      "[Pipeline] ............ (step 1 of 2) Processing scaler, total=   0.1s\n"
     ]
    },
    {
     "name": "stderr",
     "output_type": "stream",
     "text": [
      "c:\\Users\\camim\\anaconda3\\Lib\\site-packages\\sklearn\\svm\\_base.py:1244: ConvergenceWarning: Liblinear failed to converge, increase the number of iterations.\n",
      "  warnings.warn(\n"
     ]
    },
    {
     "name": "stdout",
     "output_type": "stream",
     "text": [
      "[Pipeline] ............... (step 2 of 2) Processing clf, total=  10.8s\n"
     ]
    },
    {
     "data": {
      "image/png": "[encoded data removed]",
      "text/plain": [
       "<Figure size 640x480 with 2 Axes>"
      ]
     },
     "metadata": {},
     "output_type": "display_data"
    }
   ],
   "source": [
    "y_pred = cross_val_predict(pipeline, train_X, train_Y, cv=splitter)\n",
    "ConfusionMatrixDisplay.from_predictions(y_pred=y_pred, y_true=train_Y, cmap='Greens', normalize='true')\n",
    "plt.show()"
   ]
  },
  {
   "cell_type": "markdown",
   "metadata": {},
   "source": [
    "## Pooled sentence embeddings (with Sentence Transformer)"
   ]
  },
  {
   "cell_type": "code",
   "execution_count": 73,
   "metadata": {},
   "outputs": [],
   "source": [
    "embeddings_df = pd.read_csv(results_path / 'sent_embs_pooled_train.csv', index_col=0)"
   ]
  },
  {
   "cell_type": "code",
   "execution_count": 74,
   "metadata": {},
   "outputs": [
    {
     "data": {
      "text/html": [
       "<div>\n",
       "<style scoped>\n",
       "    .dataframe tbody tr th:only-of-type {\n",
       "        vertical-align: middle;\n",
       "    }\n",
       "\n",
       "    .dataframe tbody tr th {\n",
       "        vertical-align: top;\n",
       "    }\n",
       "\n",
       "    .dataframe thead th {\n",
       "        text-align: right;\n",
       "    }\n",
       "</style>\n",
       "<table border=\"1\" class=\"dataframe\">\n",
       "  <thead>\n",
       "    <tr style=\"text-align: right;\">\n",
       "      <th></th>\n",
       "      <th>0</th>\n",
       "      <th>1</th>\n",
       "      <th>2</th>\n",
       "      <th>3</th>\n",
       "      <th>4</th>\n",
       "      <th>5</th>\n",
       "      <th>6</th>\n",
       "      <th>7</th>\n",
       "      <th>8</th>\n",
       "      <th>9</th>\n",
       "      <th>...</th>\n",
       "      <th>758</th>\n",
       "      <th>759</th>\n",
       "      <th>760</th>\n",
       "      <th>761</th>\n",
       "      <th>762</th>\n",
       "      <th>763</th>\n",
       "      <th>764</th>\n",
       "      <th>765</th>\n",
       "      <th>766</th>\n",
       "      <th>767</th>\n",
       "    </tr>\n",
       "  </thead>\n",
       "  <tbody>\n",
       "    <tr>\n",
       "      <th>2066</th>\n",
       "      <td>-0.158180</td>\n",
       "      <td>-0.095946</td>\n",
       "      <td>0.093634</td>\n",
       "      <td>0.379927</td>\n",
       "      <td>0.079886</td>\n",
       "      <td>0.367576</td>\n",
       "      <td>-0.116891</td>\n",
       "      <td>-0.129829</td>\n",
       "      <td>-0.059884</td>\n",
       "      <td>-0.211322</td>\n",
       "      <td>...</td>\n",
       "      <td>0.135857</td>\n",
       "      <td>0.111227</td>\n",
       "      <td>-0.172573</td>\n",
       "      <td>-0.249292</td>\n",
       "      <td>-0.004123</td>\n",
       "      <td>0.140916</td>\n",
       "      <td>0.235578</td>\n",
       "      <td>-0.268505</td>\n",
       "      <td>0.058081</td>\n",
       "      <td>-0.109750</td>\n",
       "    </tr>\n",
       "    <tr>\n",
       "      <th>2045</th>\n",
       "      <td>-0.171309</td>\n",
       "      <td>0.073012</td>\n",
       "      <td>0.085175</td>\n",
       "      <td>-0.004990</td>\n",
       "      <td>0.017174</td>\n",
       "      <td>0.321580</td>\n",
       "      <td>0.016343</td>\n",
       "      <td>-0.209061</td>\n",
       "      <td>-0.003585</td>\n",
       "      <td>-0.026075</td>\n",
       "      <td>...</td>\n",
       "      <td>-0.176989</td>\n",
       "      <td>0.156726</td>\n",
       "      <td>0.005133</td>\n",
       "      <td>0.099889</td>\n",
       "      <td>0.256760</td>\n",
       "      <td>-0.079786</td>\n",
       "      <td>-0.344093</td>\n",
       "      <td>-0.093583</td>\n",
       "      <td>-0.134889</td>\n",
       "      <td>-0.043373</td>\n",
       "    </tr>\n",
       "    <tr>\n",
       "      <th>61</th>\n",
       "      <td>-0.246598</td>\n",
       "      <td>0.161771</td>\n",
       "      <td>0.133039</td>\n",
       "      <td>0.402667</td>\n",
       "      <td>0.133085</td>\n",
       "      <td>0.591527</td>\n",
       "      <td>-0.285158</td>\n",
       "      <td>-0.072103</td>\n",
       "      <td>-0.009710</td>\n",
       "      <td>-0.057412</td>\n",
       "      <td>...</td>\n",
       "      <td>0.428057</td>\n",
       "      <td>0.726110</td>\n",
       "      <td>0.082723</td>\n",
       "      <td>0.085876</td>\n",
       "      <td>0.479539</td>\n",
       "      <td>-0.006699</td>\n",
       "      <td>-0.274346</td>\n",
       "      <td>-0.274852</td>\n",
       "      <td>0.033653</td>\n",
       "      <td>0.056907</td>\n",
       "    </tr>\n",
       "    <tr>\n",
       "      <th>1259</th>\n",
       "      <td>0.093394</td>\n",
       "      <td>0.146723</td>\n",
       "      <td>0.193343</td>\n",
       "      <td>0.154804</td>\n",
       "      <td>-0.043327</td>\n",
       "      <td>0.205783</td>\n",
       "      <td>-0.028684</td>\n",
       "      <td>-0.420744</td>\n",
       "      <td>0.006844</td>\n",
       "      <td>0.040950</td>\n",
       "      <td>...</td>\n",
       "      <td>0.006352</td>\n",
       "      <td>-0.053703</td>\n",
       "      <td>0.148035</td>\n",
       "      <td>-0.131488</td>\n",
       "      <td>0.198386</td>\n",
       "      <td>0.173133</td>\n",
       "      <td>-0.248725</td>\n",
       "      <td>0.083605</td>\n",
       "      <td>-0.231437</td>\n",
       "      <td>-0.054648</td>\n",
       "    </tr>\n",
       "    <tr>\n",
       "      <th>949</th>\n",
       "      <td>0.057813</td>\n",
       "      <td>0.234703</td>\n",
       "      <td>0.269425</td>\n",
       "      <td>0.047158</td>\n",
       "      <td>0.111977</td>\n",
       "      <td>0.288683</td>\n",
       "      <td>-0.123735</td>\n",
       "      <td>-0.315585</td>\n",
       "      <td>0.041978</td>\n",
       "      <td>0.155960</td>\n",
       "      <td>...</td>\n",
       "      <td>0.185213</td>\n",
       "      <td>0.439666</td>\n",
       "      <td>-0.106471</td>\n",
       "      <td>0.012941</td>\n",
       "      <td>0.306468</td>\n",
       "      <td>-0.099841</td>\n",
       "      <td>-0.299336</td>\n",
       "      <td>-0.047937</td>\n",
       "      <td>0.142510</td>\n",
       "      <td>-0.115172</td>\n",
       "    </tr>\n",
       "  </tbody>\n",
       "</table>\n",
       "<p>5 rows × 768 columns</p>\n",
       "</div>"
      ],
      "text/plain": [
       "             0         1         2         3         4         5         6  \\\n",
       "2066 -0.158180 -0.095946  0.093634  0.379927  0.079886  0.367576 -0.116891   \n",
       "2045 -0.171309  0.073012  0.085175 -0.004990  0.017174  0.321580  0.016343   \n",
       "61   -0.246598  0.161771  0.133039  0.402667  0.133085  0.591527 -0.285158   \n",
       "1259  0.093394  0.146723  0.193343  0.154804 -0.043327  0.205783 -0.028684   \n",
       "949   0.057813  0.234703  0.269425  0.047158  0.111977  0.288683 -0.123735   \n",
       "\n",
       "             7         8         9  ...       758       759       760  \\\n",
       "2066 -0.129829 -0.059884 -0.211322  ...  0.135857  0.111227 -0.172573   \n",
       "2045 -0.209061 -0.003585 -0.026075  ... -0.176989  0.156726  0.005133   \n",
       "61   -0.072103 -0.009710 -0.057412  ...  0.428057  0.726110  0.082723   \n",
       "1259 -0.420744  0.006844  0.040950  ...  0.006352 -0.053703  0.148035   \n",
       "949  -0.315585  0.041978  0.155960  ...  0.185213  0.439666 -0.106471   \n",
       "\n",
       "           761       762       763       764       765       766       767  \n",
       "2066 -0.249292 -0.004123  0.140916  0.235578 -0.268505  0.058081 -0.109750  \n",
       "2045  0.099889  0.256760 -0.079786 -0.344093 -0.093583 -0.134889 -0.043373  \n",
       "61    0.085876  0.479539 -0.006699 -0.274346 -0.274852  0.033653  0.056907  \n",
       "1259 -0.131488  0.198386  0.173133 -0.248725  0.083605 -0.231437 -0.054648  \n",
       "949   0.012941  0.306468 -0.099841 -0.299336 -0.047937  0.142510 -0.115172  \n",
       "\n",
       "[5 rows x 768 columns]"
      ]
     },
     "execution_count": 74,
     "metadata": {},
     "output_type": "execute_result"
    }
   ],
   "source": [
    "embeddings_df.head()"
   ]
  },
  {
   "cell_type": "code",
   "execution_count": 75,
   "metadata": {},
   "outputs": [],
   "source": [
    "train_X = embeddings_df #overwrite features"
   ]
  },
  {
   "cell_type": "code",
   "execution_count": 76,
   "metadata": {},
   "outputs": [
    {
     "name": "stdout",
     "output_type": "stream",
     "text": [
      "[Pipeline] ............ (step 1 of 2) Processing scaler, total=   0.1s\n",
      "[Pipeline] ............... (step 2 of 2) Processing clf, total=  12.8s\n"
     ]
    },
    {
     "name": "stderr",
     "output_type": "stream",
     "text": [
      "c:\\Users\\camim\\anaconda3\\Lib\\site-packages\\sklearn\\svm\\_base.py:1244: ConvergenceWarning: Liblinear failed to converge, increase the number of iterations.\n",
      "  warnings.warn(\n"
     ]
    },
    {
     "data": {
      "text/html": [
       "<style>#sk-container-id-6 {color: black;background-color: white;}#sk-container-id-6 pre{padding: 0;}#sk-container-id-6 div.sk-toggleable {background-color: white;}#sk-container-id-6 label.sk-toggleable__label {cursor: pointer;display: block;width: 100%;margin-bottom: 0;padding: 0.3em;box-sizing: border-box;text-align: center;}#sk-container-id-6 label.sk-toggleable__label-arrow:before {content: \"▸\";float: left;margin-right: 0.25em;color: #696969;}#sk-container-id-6 label.sk-toggleable__label-arrow:hover:before {color: black;}#sk-container-id-6 div.sk-estimator:hover label.sk-toggleable__label-arrow:before {color: black;}#sk-container-id-6 div.sk-toggleable__content {max-height: 0;max-width: 0;overflow: hidden;text-align: left;background-color: #f0f8ff;}#sk-container-id-6 div.sk-toggleable__content pre {margin: 0.2em;color: black;border-radius: 0.25em;background-color: #f0f8ff;}#sk-container-id-6 input.sk-toggleable__control:checked~div.sk-toggleable__content {max-height: 200px;max-width: 100%;overflow: auto;}#sk-container-id-6 input.sk-toggleable__control:checked~label.sk-toggleable__label-arrow:before {content: \"▾\";}#sk-container-id-6 div.sk-estimator input.sk-toggleable__control:checked~label.sk-toggleable__label {background-color: #d4ebff;}#sk-container-id-6 div.sk-label input.sk-toggleable__control:checked~label.sk-toggleable__label {background-color: #d4ebff;}#sk-container-id-6 input.sk-hidden--visually {border: 0;clip: rect(1px 1px 1px 1px);clip: rect(1px, 1px, 1px, 1px);height: 1px;margin: -1px;overflow: hidden;padding: 0;position: absolute;width: 1px;}#sk-container-id-6 div.sk-estimator {font-family: monospace;background-color: #f0f8ff;border: 1px dotted black;border-radius: 0.25em;box-sizing: border-box;margin-bottom: 0.5em;}#sk-container-id-6 div.sk-estimator:hover {background-color: #d4ebff;}#sk-container-id-6 div.sk-parallel-item::after {content: \"\";width: 100%;border-bottom: 1px solid gray;flex-grow: 1;}#sk-container-id-6 div.sk-label:hover label.sk-toggleable__label {background-color: #d4ebff;}#sk-container-id-6 div.sk-serial::before {content: \"\";position: absolute;border-left: 1px solid gray;box-sizing: border-box;top: 0;bottom: 0;left: 50%;z-index: 0;}#sk-container-id-6 div.sk-serial {display: flex;flex-direction: column;align-items: center;background-color: white;padding-right: 0.2em;padding-left: 0.2em;position: relative;}#sk-container-id-6 div.sk-item {position: relative;z-index: 1;}#sk-container-id-6 div.sk-parallel {display: flex;align-items: stretch;justify-content: center;background-color: white;position: relative;}#sk-container-id-6 div.sk-item::before, #sk-container-id-6 div.sk-parallel-item::before {content: \"\";position: absolute;border-left: 1px solid gray;box-sizing: border-box;top: 0;bottom: 0;left: 50%;z-index: -1;}#sk-container-id-6 div.sk-parallel-item {display: flex;flex-direction: column;z-index: 1;position: relative;background-color: white;}#sk-container-id-6 div.sk-parallel-item:first-child::after {align-self: flex-end;width: 50%;}#sk-container-id-6 div.sk-parallel-item:last-child::after {align-self: flex-start;width: 50%;}#sk-container-id-6 div.sk-parallel-item:only-child::after {width: 0;}#sk-container-id-6 div.sk-dashed-wrapped {border: 1px dashed gray;margin: 0 0.4em 0.5em 0.4em;box-sizing: border-box;padding-bottom: 0.4em;background-color: white;}#sk-container-id-6 div.sk-label label {font-family: monospace;font-weight: bold;display: inline-block;line-height: 1.2em;}#sk-container-id-6 div.sk-label-container {text-align: center;}#sk-container-id-6 div.sk-container {/* jupyter's `normalize.less` sets `[hidden] { display: none; }` but bootstrap.min.css set `[hidden] { display: none !important; }` so we also need the `!important` here to be able to override the default hidden behavior on the sphinx rendered scikit-learn.org. See: https://github.com/scikit-learn/scikit-learn/issues/21755 */display: inline-block !important;position: relative;}#sk-container-id-6 div.sk-text-repr-fallback {display: none;}</style><div id=\"sk-container-id-6\" class=\"sk-top-container\"><div class=\"sk-text-repr-fallback\"><pre>Pipeline(steps=[(&#x27;scaler&#x27;, MinMaxScaler()), (&#x27;clf&#x27;, LinearSVC())], verbose=True)</pre><b>In a Jupyter environment, please rerun this cell to show the HTML representation or trust the notebook. <br />On GitHub, the HTML representation is unable to render, please try loading this page with nbviewer.org.</b></div><div class=\"sk-container\" hidden><div class=\"sk-item sk-dashed-wrapped\"><div class=\"sk-label-container\"><div class=\"sk-label sk-toggleable\"><input class=\"sk-toggleable__control sk-hidden--visually\" id=\"sk-estimator-id-16\" type=\"checkbox\" ><label for=\"sk-estimator-id-16\" class=\"sk-toggleable__label sk-toggleable__label-arrow\">Pipeline</label><div class=\"sk-toggleable__content\"><pre>Pipeline(steps=[(&#x27;scaler&#x27;, MinMaxScaler()), (&#x27;clf&#x27;, LinearSVC())], verbose=True)</pre></div></div></div><div class=\"sk-serial\"><div class=\"sk-item\"><div class=\"sk-estimator sk-toggleable\"><input class=\"sk-toggleable__control sk-hidden--visually\" id=\"sk-estimator-id-17\" type=\"checkbox\" ><label for=\"sk-estimator-id-17\" class=\"sk-toggleable__label sk-toggleable__label-arrow\">MinMaxScaler</label><div class=\"sk-toggleable__content\"><pre>MinMaxScaler()</pre></div></div></div><div class=\"sk-item\"><div class=\"sk-estimator sk-toggleable\"><input class=\"sk-toggleable__control sk-hidden--visually\" id=\"sk-estimator-id-18\" type=\"checkbox\" ><label for=\"sk-estimator-id-18\" class=\"sk-toggleable__label sk-toggleable__label-arrow\">LinearSVC</label><div class=\"sk-toggleable__content\"><pre>LinearSVC()</pre></div></div></div></div></div></div></div>"
      ],
      "text/plain": [
       "Pipeline(steps=[('scaler', MinMaxScaler()), ('clf', LinearSVC())], verbose=True)"
      ]
     },
     "execution_count": 76,
     "metadata": {},
     "output_type": "execute_result"
    }
   ],
   "source": [
    "pipeline.fit(train_X, train_Y)"
   ]
  },
  {
   "cell_type": "code",
   "execution_count": null,
   "metadata": {},
   "outputs": [
    {
     "name": "stdout",
     "output_type": "stream",
     "text": [
      "[Pipeline] ............ (step 1 of 2) Processing scaler, total=   0.1s\n"
     ]
    },
    {
     "name": "stderr",
     "output_type": "stream",
     "text": [
      "c:\\Users\\camim\\anaconda3\\Lib\\site-packages\\sklearn\\svm\\_base.py:1244: ConvergenceWarning: Liblinear failed to converge, increase the number of iterations.\n",
      "  warnings.warn(\n"
     ]
    },
    {
     "name": "stdout",
     "output_type": "stream",
     "text": [
      "[Pipeline] ............... (step 2 of 2) Processing clf, total=  10.3s\n",
      "[Pipeline] ............ (step 1 of 2) Processing scaler, total=   0.1s\n"
     ]
    },
    {
     "name": "stderr",
     "output_type": "stream",
     "text": [
      "c:\\Users\\camim\\anaconda3\\Lib\\site-packages\\sklearn\\svm\\_base.py:1244: ConvergenceWarning: Liblinear failed to converge, increase the number of iterations.\n",
      "  warnings.warn(\n"
     ]
    },
    {
     "name": "stdout",
     "output_type": "stream",
     "text": [
      "[Pipeline] ............... (step 2 of 2) Processing clf, total=   9.3s\n",
      "[Pipeline] ............ (step 1 of 2) Processing scaler, total=   0.1s\n"
     ]
    },
    {
     "name": "stderr",
     "output_type": "stream",
     "text": [
      "c:\\Users\\camim\\anaconda3\\Lib\\site-packages\\sklearn\\svm\\_base.py:1244: ConvergenceWarning: Liblinear failed to converge, increase the number of iterations.\n",
      "  warnings.warn(\n"
     ]
    },
    {
     "name": "stdout",
     "output_type": "stream",
     "text": [
      "[Pipeline] ............... (step 2 of 2) Processing clf, total=   9.0s\n",
      "[Pipeline] ............ (step 1 of 2) Processing scaler, total=   0.1s\n"
     ]
    },
    {
     "name": "stderr",
     "output_type": "stream",
     "text": [
      "c:\\Users\\camim\\anaconda3\\Lib\\site-packages\\sklearn\\svm\\_base.py:1244: ConvergenceWarning: Liblinear failed to converge, increase the number of iterations.\n",
      "  warnings.warn(\n"
     ]
    },
    {
     "name": "stdout",
     "output_type": "stream",
     "text": [
      "[Pipeline] ............... (step 2 of 2) Processing clf, total=   8.9s\n",
      "[Pipeline] ............ (step 1 of 2) Processing scaler, total=   0.1s\n",
      "[Pipeline] ............... (step 2 of 2) Processing clf, total=   8.9s\n",
      "----------MODEL POOLED----------\n",
      "Mean macro-f1: 0.725\n",
      "Standard deviation macro-f1: 0.008\n"
     ]
    },
    {
     "name": "stderr",
     "output_type": "stream",
     "text": [
      "c:\\Users\\camim\\anaconda3\\Lib\\site-packages\\sklearn\\svm\\_base.py:1244: ConvergenceWarning: Liblinear failed to converge, increase the number of iterations.\n",
      "  warnings.warn(\n"
     ]
    }
   ],
   "source": [
    "scores = cross_validate(pipeline, train_X, train_Y, scoring=scoring, cv=splitter)\n",
    "print(\"----------MODEL POOLED----------\")\n",
    "print(\"Mean macro-f1:\", np.mean(scores['test_f1_macro']).round(3))\n",
    "print(\"Standard deviation macro-f1:\", np.std(scores['test_f1_macro']).round(3))"
   ]
  },
  {
   "cell_type": "code",
   "execution_count": 78,
   "metadata": {},
   "outputs": [],
   "source": [
    "scores_df = pd.DataFrame(scores)\n",
    "scores_df['model'] = 'actual model'\n",
    "scores_df['iteration'] = list(range(1, 6))\n",
    "baselines_scores_df = pd.DataFrame(baselines_scores)\n",
    "baselines_scores_df['model'] = 'dummy classifier'\n",
    "baselines_scores_df['iteration'] = list(range(1, 6))\n",
    "\n",
    "scores_df = pd.concat([scores_df, baselines_scores_df]).drop(['fit_time', 'score_time'], axis=1)\n",
    "scores_df_long = pd.melt(scores_df, id_vars=['model', 'iteration'], var_name='metric')"
   ]
  },
  {
   "cell_type": "code",
   "execution_count": null,
   "metadata": {},
   "outputs": [
    {
     "name": "stderr",
     "output_type": "stream",
     "text": [
      "c:\\Users\\camim\\anaconda3\\Lib\\site-packages\\seaborn\\_oldcore.py:1119: FutureWarning: use_inf_as_na option is deprecated and will be removed in a future version. Convert inf values to NaN before operating instead.\n",
      "  with pd.option_context('mode.use_inf_as_na', True):\n",
      "c:\\Users\\camim\\anaconda3\\Lib\\site-packages\\seaborn\\_oldcore.py:1119: FutureWarning: use_inf_as_na option is deprecated and will be removed in a future version. Convert inf values to NaN before operating instead.\n",
      "  with pd.option_context('mode.use_inf_as_na', True):\n"
     ]
    },
    {
     "data": {
      "image/png": "[encoded data removed]",
      "text/plain": [
       "<Figure size 640x480 with 1 Axes>"
      ]
     },
     "metadata": {},
     "output_type": "display_data"
    }
   ],
   "source": [
    "sns.lineplot(scores_df_long, x='iteration', y='value', hue='metric', style='model')\n",
    "plt.xticks(list(range(1, 6)))\n",
    "plt.xlabel(\"Fold\")\n",
    "plt.ylabel(\"Score\")\n",
    "plt.title(\"Accuracy, Precision, Recall, F1-Score\")\n",
    "plt.legend(loc='upper left', bbox_to_anchor=(1, 1))\n",
    "plt.show()"
   ]
  },
  {
   "cell_type": "code",
   "execution_count": null,
   "metadata": {},
   "outputs": [
    {
     "name": "stdout",
     "output_type": "stream",
     "text": [
      "[Pipeline] ............ (step 1 of 2) Processing scaler, total=   0.1s\n"
     ]
    },
    {
     "name": "stderr",
     "output_type": "stream",
     "text": [
      "c:\\Users\\camim\\anaconda3\\Lib\\site-packages\\sklearn\\svm\\_base.py:1244: ConvergenceWarning: Liblinear failed to converge, increase the number of iterations.\n",
      "  warnings.warn(\n"
     ]
    },
    {
     "name": "stdout",
     "output_type": "stream",
     "text": [
      "[Pipeline] ............... (step 2 of 2) Processing clf, total=   8.7s\n",
      "[Pipeline] ............ (step 1 of 2) Processing scaler, total=   0.1s\n"
     ]
    },
    {
     "name": "stderr",
     "output_type": "stream",
     "text": [
      "c:\\Users\\camim\\anaconda3\\Lib\\site-packages\\sklearn\\svm\\_base.py:1244: ConvergenceWarning: Liblinear failed to converge, increase the number of iterations.\n",
      "  warnings.warn(\n"
     ]
    },
    {
     "name": "stdout",
     "output_type": "stream",
     "text": [
      "[Pipeline] ............... (step 2 of 2) Processing clf, total=   8.4s\n",
      "[Pipeline] ............ (step 1 of 2) Processing scaler, total=   0.1s\n"
     ]
    },
    {
     "name": "stderr",
     "output_type": "stream",
     "text": [
      "c:\\Users\\camim\\anaconda3\\Lib\\site-packages\\sklearn\\svm\\_base.py:1244: ConvergenceWarning: Liblinear failed to converge, increase the number of iterations.\n",
      "  warnings.warn(\n"
     ]
    },
    {
     "name": "stdout",
     "output_type": "stream",
     "text": [
      "[Pipeline] ............... (step 2 of 2) Processing clf, total=   8.4s\n",
      "[Pipeline] ............ (step 1 of 2) Processing scaler, total=   0.1s\n"
     ]
    },
    {
     "name": "stderr",
     "output_type": "stream",
     "text": [
      "c:\\Users\\camim\\anaconda3\\Lib\\site-packages\\sklearn\\svm\\_base.py:1244: ConvergenceWarning: Liblinear failed to converge, increase the number of iterations.\n",
      "  warnings.warn(\n"
     ]
    },
    {
     "name": "stdout",
     "output_type": "stream",
     "text": [
      "[Pipeline] ............... (step 2 of 2) Processing clf, total=   9.0s\n",
      "[Pipeline] ............ (step 1 of 2) Processing scaler, total=   0.1s\n",
      "[Pipeline] ............... (step 2 of 2) Processing clf, total=   9.2s\n"
     ]
    },
    {
     "name": "stderr",
     "output_type": "stream",
     "text": [
      "c:\\Users\\camim\\anaconda3\\Lib\\site-packages\\sklearn\\svm\\_base.py:1244: ConvergenceWarning: Liblinear failed to converge, increase the number of iterations.\n",
      "  warnings.warn(\n"
     ]
    },
    {
     "data": {
      "image/png": "[encoded data removed]",
      "text/plain": [
       "<Figure size 640x480 with 2 Axes>"
      ]
     },
     "metadata": {},
     "output_type": "display_data"
    }
   ],
   "source": [
    "y_pred = cross_val_predict(pipeline, train_X, train_Y, cv=splitter)\n",
    "ConfusionMatrixDisplay.from_predictions(y_pred=y_pred, y_true=train_Y, cmap='Greens', normalize='true')\n",
    "plt.show()"
   ]
  },
  {
   "cell_type": "markdown",
   "metadata": {
    "id": "0_pmtdinGo5m"
   },
   "source": [
    "# Conclusions"
   ]
  },
  {
   "cell_type": "markdown",
   "metadata": {
    "id": "mZQx8F-jJo7n"
   },
   "source": [
    "Although all static word embeddings models perform better than the baseline, the best performance is achieved by the first one. Therefore the most suitable aggregation of the word-embeddings among the presented possibilities is the average of all the word embeddings for each a tweet.\n",
    "The contextual embeddings perform worse than the static ones."
   ]
  },
  {
   "cell_type": "markdown",
   "metadata": {},
   "source": [
    "# Addendum: SVM with contextual embeddings → alternative model: AlBERTo\n",
    "Same as before, but we're using a model that has been pretrained on tweets.\n"
   ]
  },
  {
   "cell_type": "markdown",
   "metadata": {},
   "source": [
    "## [CLS] embeddings"
   ]
  },
  {
   "cell_type": "code",
   "execution_count": 81,
   "metadata": {},
   "outputs": [],
   "source": [
    "embeddings_df = pd.read_csv(results_path / 'alberto_sent_embs_cls_train.csv', index_col=0)"
   ]
  },
  {
   "cell_type": "code",
   "execution_count": 82,
   "metadata": {},
   "outputs": [
    {
     "data": {
      "text/html": [
       "<div>\n",
       "<style scoped>\n",
       "    .dataframe tbody tr th:only-of-type {\n",
       "        vertical-align: middle;\n",
       "    }\n",
       "\n",
       "    .dataframe tbody tr th {\n",
       "        vertical-align: top;\n",
       "    }\n",
       "\n",
       "    .dataframe thead th {\n",
       "        text-align: right;\n",
       "    }\n",
       "</style>\n",
       "<table border=\"1\" class=\"dataframe\">\n",
       "  <thead>\n",
       "    <tr style=\"text-align: right;\">\n",
       "      <th></th>\n",
       "      <th>0</th>\n",
       "      <th>1</th>\n",
       "      <th>2</th>\n",
       "      <th>3</th>\n",
       "      <th>4</th>\n",
       "      <th>5</th>\n",
       "      <th>6</th>\n",
       "      <th>7</th>\n",
       "      <th>8</th>\n",
       "      <th>9</th>\n",
       "      <th>...</th>\n",
       "      <th>758</th>\n",
       "      <th>759</th>\n",
       "      <th>760</th>\n",
       "      <th>761</th>\n",
       "      <th>762</th>\n",
       "      <th>763</th>\n",
       "      <th>764</th>\n",
       "      <th>765</th>\n",
       "      <th>766</th>\n",
       "      <th>767</th>\n",
       "    </tr>\n",
       "  </thead>\n",
       "  <tbody>\n",
       "    <tr>\n",
       "      <th>2066</th>\n",
       "      <td>0.760471</td>\n",
       "      <td>0.355727</td>\n",
       "      <td>0.137676</td>\n",
       "      <td>0.726673</td>\n",
       "      <td>-2.574655</td>\n",
       "      <td>0.532848</td>\n",
       "      <td>-0.557170</td>\n",
       "      <td>0.991323</td>\n",
       "      <td>1.060009</td>\n",
       "      <td>1.304483</td>\n",
       "      <td>...</td>\n",
       "      <td>1.570961</td>\n",
       "      <td>0.551430</td>\n",
       "      <td>1.155125</td>\n",
       "      <td>-0.538862</td>\n",
       "      <td>-0.374520</td>\n",
       "      <td>-1.204794</td>\n",
       "      <td>-0.279696</td>\n",
       "      <td>0.470140</td>\n",
       "      <td>-0.233849</td>\n",
       "      <td>0.586996</td>\n",
       "    </tr>\n",
       "    <tr>\n",
       "      <th>2045</th>\n",
       "      <td>0.518653</td>\n",
       "      <td>-0.293679</td>\n",
       "      <td>0.897923</td>\n",
       "      <td>0.939203</td>\n",
       "      <td>-1.704334</td>\n",
       "      <td>-0.979643</td>\n",
       "      <td>-0.562785</td>\n",
       "      <td>0.861344</td>\n",
       "      <td>1.091536</td>\n",
       "      <td>1.580141</td>\n",
       "      <td>...</td>\n",
       "      <td>0.838024</td>\n",
       "      <td>0.897236</td>\n",
       "      <td>0.382713</td>\n",
       "      <td>0.015039</td>\n",
       "      <td>-0.517843</td>\n",
       "      <td>-0.360566</td>\n",
       "      <td>-0.452485</td>\n",
       "      <td>0.644569</td>\n",
       "      <td>-0.130328</td>\n",
       "      <td>0.309873</td>\n",
       "    </tr>\n",
       "    <tr>\n",
       "      <th>61</th>\n",
       "      <td>0.115341</td>\n",
       "      <td>-0.349727</td>\n",
       "      <td>0.932148</td>\n",
       "      <td>0.280881</td>\n",
       "      <td>-1.950502</td>\n",
       "      <td>-0.653145</td>\n",
       "      <td>-0.628392</td>\n",
       "      <td>1.047905</td>\n",
       "      <td>0.908966</td>\n",
       "      <td>0.880580</td>\n",
       "      <td>...</td>\n",
       "      <td>1.181039</td>\n",
       "      <td>1.182339</td>\n",
       "      <td>0.504200</td>\n",
       "      <td>-0.307845</td>\n",
       "      <td>-0.903916</td>\n",
       "      <td>-0.378418</td>\n",
       "      <td>-0.335408</td>\n",
       "      <td>1.087676</td>\n",
       "      <td>-0.558887</td>\n",
       "      <td>1.066654</td>\n",
       "    </tr>\n",
       "    <tr>\n",
       "      <th>1259</th>\n",
       "      <td>0.193663</td>\n",
       "      <td>-0.478391</td>\n",
       "      <td>-0.421454</td>\n",
       "      <td>0.399825</td>\n",
       "      <td>-2.441012</td>\n",
       "      <td>-2.016848</td>\n",
       "      <td>-1.222893</td>\n",
       "      <td>1.228242</td>\n",
       "      <td>1.137831</td>\n",
       "      <td>0.676533</td>\n",
       "      <td>...</td>\n",
       "      <td>0.282832</td>\n",
       "      <td>0.679007</td>\n",
       "      <td>-0.052450</td>\n",
       "      <td>0.247086</td>\n",
       "      <td>-0.596628</td>\n",
       "      <td>0.294246</td>\n",
       "      <td>-0.161220</td>\n",
       "      <td>0.476959</td>\n",
       "      <td>-0.525230</td>\n",
       "      <td>0.145264</td>\n",
       "    </tr>\n",
       "    <tr>\n",
       "      <th>949</th>\n",
       "      <td>-0.066913</td>\n",
       "      <td>0.163852</td>\n",
       "      <td>0.749034</td>\n",
       "      <td>0.494454</td>\n",
       "      <td>-1.948137</td>\n",
       "      <td>0.647738</td>\n",
       "      <td>-0.576177</td>\n",
       "      <td>0.213923</td>\n",
       "      <td>1.084984</td>\n",
       "      <td>1.494356</td>\n",
       "      <td>...</td>\n",
       "      <td>1.011368</td>\n",
       "      <td>0.536174</td>\n",
       "      <td>0.886733</td>\n",
       "      <td>-0.752797</td>\n",
       "      <td>-0.571638</td>\n",
       "      <td>-1.107355</td>\n",
       "      <td>0.005425</td>\n",
       "      <td>0.552604</td>\n",
       "      <td>-0.146092</td>\n",
       "      <td>0.227068</td>\n",
       "    </tr>\n",
       "  </tbody>\n",
       "</table>\n",
       "<p>5 rows × 768 columns</p>\n",
       "</div>"
      ],
      "text/plain": [
       "             0         1         2         3         4         5         6  \\\n",
       "2066  0.760471  0.355727  0.137676  0.726673 -2.574655  0.532848 -0.557170   \n",
       "2045  0.518653 -0.293679  0.897923  0.939203 -1.704334 -0.979643 -0.562785   \n",
       "61    0.115341 -0.349727  0.932148  0.280881 -1.950502 -0.653145 -0.628392   \n",
       "1259  0.193663 -0.478391 -0.421454  0.399825 -2.441012 -2.016848 -1.222893   \n",
       "949  -0.066913  0.163852  0.749034  0.494454 -1.948137  0.647738 -0.576177   \n",
       "\n",
       "             7         8         9  ...       758       759       760  \\\n",
       "2066  0.991323  1.060009  1.304483  ...  1.570961  0.551430  1.155125   \n",
       "2045  0.861344  1.091536  1.580141  ...  0.838024  0.897236  0.382713   \n",
       "61    1.047905  0.908966  0.880580  ...  1.181039  1.182339  0.504200   \n",
       "1259  1.228242  1.137831  0.676533  ...  0.282832  0.679007 -0.052450   \n",
       "949   0.213923  1.084984  1.494356  ...  1.011368  0.536174  0.886733   \n",
       "\n",
       "           761       762       763       764       765       766       767  \n",
       "2066 -0.538862 -0.374520 -1.204794 -0.279696  0.470140 -0.233849  0.586996  \n",
       "2045  0.015039 -0.517843 -0.360566 -0.452485  0.644569 -0.130328  0.309873  \n",
       "61   -0.307845 -0.903916 -0.378418 -0.335408  1.087676 -0.558887  1.066654  \n",
       "1259  0.247086 -0.596628  0.294246 -0.161220  0.476959 -0.525230  0.145264  \n",
       "949  -0.752797 -0.571638 -1.107355  0.005425  0.552604 -0.146092  0.227068  \n",
       "\n",
       "[5 rows x 768 columns]"
      ]
     },
     "execution_count": 82,
     "metadata": {},
     "output_type": "execute_result"
    }
   ],
   "source": [
    "embeddings_df.head()"
   ]
  },
  {
   "cell_type": "code",
   "execution_count": 83,
   "metadata": {},
   "outputs": [],
   "source": [
    "train_X = embeddings_df #overwrite features"
   ]
  },
  {
   "cell_type": "code",
   "execution_count": null,
   "metadata": {},
   "outputs": [
    {
     "name": "stdout",
     "output_type": "stream",
     "text": [
      "[Pipeline] ............ (step 1 of 2) Processing scaler, total=   0.1s\n",
      "[Pipeline] ............... (step 2 of 2) Processing clf, total=  11.9s\n"
     ]
    },
    {
     "name": "stderr",
     "output_type": "stream",
     "text": [
      "c:\\Users\\camim\\anaconda3\\Lib\\site-packages\\sklearn\\svm\\_base.py:1244: ConvergenceWarning: Liblinear failed to converge, increase the number of iterations.\n",
      "  warnings.warn(\n"
     ]
    },
    {
     "data": {
      "text/html": [
       "<style>#sk-container-id-7 {color: black;background-color: white;}#sk-container-id-7 pre{padding: 0;}#sk-container-id-7 div.sk-toggleable {background-color: white;}#sk-container-id-7 label.sk-toggleable__label {cursor: pointer;display: block;width: 100%;margin-bottom: 0;padding: 0.3em;box-sizing: border-box;text-align: center;}#sk-container-id-7 label.sk-toggleable__label-arrow:before {content: \"▸\";float: left;margin-right: 0.25em;color: #696969;}#sk-container-id-7 label.sk-toggleable__label-arrow:hover:before {color: black;}#sk-container-id-7 div.sk-estimator:hover label.sk-toggleable__label-arrow:before {color: black;}#sk-container-id-7 div.sk-toggleable__content {max-height: 0;max-width: 0;overflow: hidden;text-align: left;background-color: #f0f8ff;}#sk-container-id-7 div.sk-toggleable__content pre {margin: 0.2em;color: black;border-radius: 0.25em;background-color: #f0f8ff;}#sk-container-id-7 input.sk-toggleable__control:checked~div.sk-toggleable__content {max-height: 200px;max-width: 100%;overflow: auto;}#sk-container-id-7 input.sk-toggleable__control:checked~label.sk-toggleable__label-arrow:before {content: \"▾\";}#sk-container-id-7 div.sk-estimator input.sk-toggleable__control:checked~label.sk-toggleable__label {background-color: #d4ebff;}#sk-container-id-7 div.sk-label input.sk-toggleable__control:checked~label.sk-toggleable__label {background-color: #d4ebff;}#sk-container-id-7 input.sk-hidden--visually {border: 0;clip: rect(1px 1px 1px 1px);clip: rect(1px, 1px, 1px, 1px);height: 1px;margin: -1px;overflow: hidden;padding: 0;position: absolute;width: 1px;}#sk-container-id-7 div.sk-estimator {font-family: monospace;background-color: #f0f8ff;border: 1px dotted black;border-radius: 0.25em;box-sizing: border-box;margin-bottom: 0.5em;}#sk-container-id-7 div.sk-estimator:hover {background-color: #d4ebff;}#sk-container-id-7 div.sk-parallel-item::after {content: \"\";width: 100%;border-bottom: 1px solid gray;flex-grow: 1;}#sk-container-id-7 div.sk-label:hover label.sk-toggleable__label {background-color: #d4ebff;}#sk-container-id-7 div.sk-serial::before {content: \"\";position: absolute;border-left: 1px solid gray;box-sizing: border-box;top: 0;bottom: 0;left: 50%;z-index: 0;}#sk-container-id-7 div.sk-serial {display: flex;flex-direction: column;align-items: center;background-color: white;padding-right: 0.2em;padding-left: 0.2em;position: relative;}#sk-container-id-7 div.sk-item {position: relative;z-index: 1;}#sk-container-id-7 div.sk-parallel {display: flex;align-items: stretch;justify-content: center;background-color: white;position: relative;}#sk-container-id-7 div.sk-item::before, #sk-container-id-7 div.sk-parallel-item::before {content: \"\";position: absolute;border-left: 1px solid gray;box-sizing: border-box;top: 0;bottom: 0;left: 50%;z-index: -1;}#sk-container-id-7 div.sk-parallel-item {display: flex;flex-direction: column;z-index: 1;position: relative;background-color: white;}#sk-container-id-7 div.sk-parallel-item:first-child::after {align-self: flex-end;width: 50%;}#sk-container-id-7 div.sk-parallel-item:last-child::after {align-self: flex-start;width: 50%;}#sk-container-id-7 div.sk-parallel-item:only-child::after {width: 0;}#sk-container-id-7 div.sk-dashed-wrapped {border: 1px dashed gray;margin: 0 0.4em 0.5em 0.4em;box-sizing: border-box;padding-bottom: 0.4em;background-color: white;}#sk-container-id-7 div.sk-label label {font-family: monospace;font-weight: bold;display: inline-block;line-height: 1.2em;}#sk-container-id-7 div.sk-label-container {text-align: center;}#sk-container-id-7 div.sk-container {/* jupyter's `normalize.less` sets `[hidden] { display: none; }` but bootstrap.min.css set `[hidden] { display: none !important; }` so we also need the `!important` here to be able to override the default hidden behavior on the sphinx rendered scikit-learn.org. See: https://github.com/scikit-learn/scikit-learn/issues/21755 */display: inline-block !important;position: relative;}#sk-container-id-7 div.sk-text-repr-fallback {display: none;}</style><div id=\"sk-container-id-7\" class=\"sk-top-container\"><div class=\"sk-text-repr-fallback\"><pre>Pipeline(steps=[(&#x27;scaler&#x27;, MinMaxScaler()), (&#x27;clf&#x27;, LinearSVC())], verbose=True)</pre><b>In a Jupyter environment, please rerun this cell to show the HTML representation or trust the notebook. <br />On GitHub, the HTML representation is unable to render, please try loading this page with nbviewer.org.</b></div><div class=\"sk-container\" hidden><div class=\"sk-item sk-dashed-wrapped\"><div class=\"sk-label-container\"><div class=\"sk-label sk-toggleable\"><input class=\"sk-toggleable__control sk-hidden--visually\" id=\"sk-estimator-id-19\" type=\"checkbox\" ><label for=\"sk-estimator-id-19\" class=\"sk-toggleable__label sk-toggleable__label-arrow\">Pipeline</label><div class=\"sk-toggleable__content\"><pre>Pipeline(steps=[(&#x27;scaler&#x27;, MinMaxScaler()), (&#x27;clf&#x27;, LinearSVC())], verbose=True)</pre></div></div></div><div class=\"sk-serial\"><div class=\"sk-item\"><div class=\"sk-estimator sk-toggleable\"><input class=\"sk-toggleable__control sk-hidden--visually\" id=\"sk-estimator-id-20\" type=\"checkbox\" ><label for=\"sk-estimator-id-20\" class=\"sk-toggleable__label sk-toggleable__label-arrow\">MinMaxScaler</label><div class=\"sk-toggleable__content\"><pre>MinMaxScaler()</pre></div></div></div><div class=\"sk-item\"><div class=\"sk-estimator sk-toggleable\"><input class=\"sk-toggleable__control sk-hidden--visually\" id=\"sk-estimator-id-21\" type=\"checkbox\" ><label for=\"sk-estimator-id-21\" class=\"sk-toggleable__label sk-toggleable__label-arrow\">LinearSVC</label><div class=\"sk-toggleable__content\"><pre>LinearSVC()</pre></div></div></div></div></div></div></div>"
      ],
      "text/plain": [
       "Pipeline(steps=[('scaler', MinMaxScaler()), ('clf', LinearSVC())], verbose=True)"
      ]
     },
     "execution_count": 84,
     "metadata": {},
     "output_type": "execute_result"
    }
   ],
   "source": [
    "pipeline.fit(train_X, train_Y)"
   ]
  },
  {
   "cell_type": "code",
   "execution_count": null,
   "metadata": {},
   "outputs": [
    {
     "name": "stdout",
     "output_type": "stream",
     "text": [
      "[Pipeline] ............ (step 1 of 2) Processing scaler, total=   0.1s\n"
     ]
    },
    {
     "name": "stderr",
     "output_type": "stream",
     "text": [
      "c:\\Users\\camim\\anaconda3\\Lib\\site-packages\\sklearn\\svm\\_base.py:1244: ConvergenceWarning: Liblinear failed to converge, increase the number of iterations.\n",
      "  warnings.warn(\n"
     ]
    },
    {
     "name": "stdout",
     "output_type": "stream",
     "text": [
      "[Pipeline] ............... (step 2 of 2) Processing clf, total=   9.4s\n",
      "[Pipeline] ............ (step 1 of 2) Processing scaler, total=   0.1s\n"
     ]
    },
    {
     "name": "stderr",
     "output_type": "stream",
     "text": [
      "c:\\Users\\camim\\anaconda3\\Lib\\site-packages\\sklearn\\svm\\_base.py:1244: ConvergenceWarning: Liblinear failed to converge, increase the number of iterations.\n",
      "  warnings.warn(\n"
     ]
    },
    {
     "name": "stdout",
     "output_type": "stream",
     "text": [
      "[Pipeline] ............... (step 2 of 2) Processing clf, total=   9.6s\n",
      "[Pipeline] ............ (step 1 of 2) Processing scaler, total=   0.1s\n"
     ]
    },
    {
     "name": "stderr",
     "output_type": "stream",
     "text": [
      "c:\\Users\\camim\\anaconda3\\Lib\\site-packages\\sklearn\\svm\\_base.py:1244: ConvergenceWarning: Liblinear failed to converge, increase the number of iterations.\n",
      "  warnings.warn(\n"
     ]
    },
    {
     "name": "stdout",
     "output_type": "stream",
     "text": [
      "[Pipeline] ............... (step 2 of 2) Processing clf, total=   8.9s\n",
      "[Pipeline] ............ (step 1 of 2) Processing scaler, total=   0.1s\n"
     ]
    },
    {
     "name": "stderr",
     "output_type": "stream",
     "text": [
      "c:\\Users\\camim\\anaconda3\\Lib\\site-packages\\sklearn\\svm\\_base.py:1244: ConvergenceWarning: Liblinear failed to converge, increase the number of iterations.\n",
      "  warnings.warn(\n"
     ]
    },
    {
     "name": "stdout",
     "output_type": "stream",
     "text": [
      "[Pipeline] ............... (step 2 of 2) Processing clf, total=   8.5s\n",
      "[Pipeline] ............ (step 1 of 2) Processing scaler, total=   0.1s\n",
      "[Pipeline] ............... (step 2 of 2) Processing clf, total=   8.6s\n",
      "----------MODEL [CLS] ALBERTO ----------\n",
      "Mean macro-f1: 0.741\n",
      "Standard deviation macro-f1: 0.012\n"
     ]
    },
    {
     "name": "stderr",
     "output_type": "stream",
     "text": [
      "c:\\Users\\camim\\anaconda3\\Lib\\site-packages\\sklearn\\svm\\_base.py:1244: ConvergenceWarning: Liblinear failed to converge, increase the number of iterations.\n",
      "  warnings.warn(\n"
     ]
    }
   ],
   "source": [
    "scores = cross_validate(pipeline, train_X, train_Y, scoring=scoring, cv=splitter)\n",
    "print(\"----------MODEL [CLS] ALBERTO ----------\")\n",
    "print(\"Mean macro-f1:\", np.mean(scores['test_f1_macro']).round(3))\n",
    "print(\"Standard deviation macro-f1:\", np.std(scores['test_f1_macro']).round(3))"
   ]
  },
  {
   "cell_type": "code",
   "execution_count": 86,
   "metadata": {},
   "outputs": [],
   "source": [
    "scores_df = pd.DataFrame(scores)\n",
    "scores_df['model'] = 'actual model'\n",
    "scores_df['iteration'] = list(range(1, 6))\n",
    "baselines_scores_df = pd.DataFrame(baselines_scores)\n",
    "baselines_scores_df['model'] = 'dummy classifier'\n",
    "baselines_scores_df['iteration'] = list(range(1, 6))\n",
    "\n",
    "scores_df = pd.concat([scores_df, baselines_scores_df]).drop(['fit_time', 'score_time'], axis=1)\n",
    "scores_df_long = pd.melt(scores_df, id_vars=['model', 'iteration'], var_name='metric')"
   ]
  },
  {
   "cell_type": "code",
   "execution_count": null,
   "metadata": {},
   "outputs": [
    {
     "name": "stderr",
     "output_type": "stream",
     "text": [
      "c:\\Users\\camim\\anaconda3\\Lib\\site-packages\\seaborn\\_oldcore.py:1119: FutureWarning: use_inf_as_na option is deprecated and will be removed in a future version. Convert inf values to NaN before operating instead.\n",
      "  with pd.option_context('mode.use_inf_as_na', True):\n",
      "c:\\Users\\camim\\anaconda3\\Lib\\site-packages\\seaborn\\_oldcore.py:1119: FutureWarning: use_inf_as_na option is deprecated and will be removed in a future version. Convert inf values to NaN before operating instead.\n",
      "  with pd.option_context('mode.use_inf_as_na', True):\n"
     ]
    },
    {
     "data": {
      "image/png": "[encoded data removed]",
      "text/plain": [
       "<Figure size 640x480 with 1 Axes>"
      ]
     },
     "metadata": {},
     "output_type": "display_data"
    }
   ],
   "source": [
    "sns.lineplot(scores_df_long, x='iteration', y='value', hue='metric', style='model')\n",
    "plt.xticks(list(range(1, 6)))\n",
    "plt.xlabel(\"Fold\")\n",
    "plt.ylabel(\"Score\")\n",
    "plt.title(\"Accuracy, Precision, Recall, F1-Score\")\n",
    "plt.legend(loc='upper left', bbox_to_anchor=(1, 1))\n",
    "plt.show()"
   ]
  },
  {
   "cell_type": "code",
   "execution_count": null,
   "metadata": {},
   "outputs": [
    {
     "name": "stdout",
     "output_type": "stream",
     "text": [
      "[Pipeline] ............ (step 1 of 2) Processing scaler, total=   0.1s\n"
     ]
    },
    {
     "name": "stderr",
     "output_type": "stream",
     "text": [
      "c:\\Users\\camim\\anaconda3\\Lib\\site-packages\\sklearn\\svm\\_base.py:1244: ConvergenceWarning: Liblinear failed to converge, increase the number of iterations.\n",
      "  warnings.warn(\n"
     ]
    },
    {
     "name": "stdout",
     "output_type": "stream",
     "text": [
      "[Pipeline] ............... (step 2 of 2) Processing clf, total=   8.5s\n",
      "[Pipeline] ............ (step 1 of 2) Processing scaler, total=   0.1s\n"
     ]
    },
    {
     "name": "stderr",
     "output_type": "stream",
     "text": [
      "c:\\Users\\camim\\anaconda3\\Lib\\site-packages\\sklearn\\svm\\_base.py:1244: ConvergenceWarning: Liblinear failed to converge, increase the number of iterations.\n",
      "  warnings.warn(\n"
     ]
    },
    {
     "name": "stdout",
     "output_type": "stream",
     "text": [
      "[Pipeline] ............... (step 2 of 2) Processing clf, total=   8.5s\n",
      "[Pipeline] ............ (step 1 of 2) Processing scaler, total=   0.1s\n"
     ]
    },
    {
     "name": "stderr",
     "output_type": "stream",
     "text": [
      "c:\\Users\\camim\\anaconda3\\Lib\\site-packages\\sklearn\\svm\\_base.py:1244: ConvergenceWarning: Liblinear failed to converge, increase the number of iterations.\n",
      "  warnings.warn(\n"
     ]
    },
    {
     "name": "stdout",
     "output_type": "stream",
     "text": [
      "[Pipeline] ............... (step 2 of 2) Processing clf, total=   9.2s\n",
      "[Pipeline] ............ (step 1 of 2) Processing scaler, total=   0.1s\n"
     ]
    },
    {
     "name": "stderr",
     "output_type": "stream",
     "text": [
      "c:\\Users\\camim\\anaconda3\\Lib\\site-packages\\sklearn\\svm\\_base.py:1244: ConvergenceWarning: Liblinear failed to converge, increase the number of iterations.\n",
      "  warnings.warn(\n"
     ]
    },
    {
     "name": "stdout",
     "output_type": "stream",
     "text": [
      "[Pipeline] ............... (step 2 of 2) Processing clf, total=   9.2s\n",
      "[Pipeline] ............ (step 1 of 2) Processing scaler, total=   0.1s\n",
      "[Pipeline] ............... (step 2 of 2) Processing clf, total=   9.0s\n"
     ]
    },
    {
     "name": "stderr",
     "output_type": "stream",
     "text": [
      "c:\\Users\\camim\\anaconda3\\Lib\\site-packages\\sklearn\\svm\\_base.py:1244: ConvergenceWarning: Liblinear failed to converge, increase the number of iterations.\n",
      "  warnings.warn(\n"
     ]
    },
    {
     "data": {
      "image/png": "[encoded data removed]",
      "text/plain": [
       "<Figure size 640x480 with 2 Axes>"
      ]
     },
     "metadata": {},
     "output_type": "display_data"
    }
   ],
   "source": [
    "y_pred = cross_val_predict(pipeline, train_X, train_Y, cv=splitter)\n",
    "ConfusionMatrixDisplay.from_predictions(y_pred=y_pred, y_true=train_Y, cmap='Greens', normalize='true')\n",
    "plt.show()"
   ]
  },
  {
   "cell_type": "markdown",
   "metadata": {},
   "source": [
    "## Pooled sentence embeddings (with Sentence Transformer)"
   ]
  },
  {
   "cell_type": "code",
   "execution_count": 89,
   "metadata": {},
   "outputs": [],
   "source": [
    "embeddings_df = pd.read_csv(results_path / 'alberto_sent_embs_pooled_train.csv', index_col=0)"
   ]
  },
  {
   "cell_type": "code",
   "execution_count": 90,
   "metadata": {},
   "outputs": [
    {
     "data": {
      "text/html": [
       "<div>\n",
       "<style scoped>\n",
       "    .dataframe tbody tr th:only-of-type {\n",
       "        vertical-align: middle;\n",
       "    }\n",
       "\n",
       "    .dataframe tbody tr th {\n",
       "        vertical-align: top;\n",
       "    }\n",
       "\n",
       "    .dataframe thead th {\n",
       "        text-align: right;\n",
       "    }\n",
       "</style>\n",
       "<table border=\"1\" class=\"dataframe\">\n",
       "  <thead>\n",
       "    <tr style=\"text-align: right;\">\n",
       "      <th></th>\n",
       "      <th>0</th>\n",
       "      <th>1</th>\n",
       "      <th>2</th>\n",
       "      <th>3</th>\n",
       "      <th>4</th>\n",
       "      <th>5</th>\n",
       "      <th>6</th>\n",
       "      <th>7</th>\n",
       "      <th>8</th>\n",
       "      <th>9</th>\n",
       "      <th>...</th>\n",
       "      <th>758</th>\n",
       "      <th>759</th>\n",
       "      <th>760</th>\n",
       "      <th>761</th>\n",
       "      <th>762</th>\n",
       "      <th>763</th>\n",
       "      <th>764</th>\n",
       "      <th>765</th>\n",
       "      <th>766</th>\n",
       "      <th>767</th>\n",
       "    </tr>\n",
       "  </thead>\n",
       "  <tbody>\n",
       "    <tr>\n",
       "      <th>2066</th>\n",
       "      <td>0.644360</td>\n",
       "      <td>-0.322945</td>\n",
       "      <td>-0.067169</td>\n",
       "      <td>0.433594</td>\n",
       "      <td>-0.808968</td>\n",
       "      <td>-0.152856</td>\n",
       "      <td>-0.647717</td>\n",
       "      <td>0.184886</td>\n",
       "      <td>0.296216</td>\n",
       "      <td>0.320703</td>\n",
       "      <td>...</td>\n",
       "      <td>1.217888</td>\n",
       "      <td>-0.477606</td>\n",
       "      <td>0.415001</td>\n",
       "      <td>-0.565366</td>\n",
       "      <td>0.155336</td>\n",
       "      <td>-0.465147</td>\n",
       "      <td>0.415667</td>\n",
       "      <td>-0.456462</td>\n",
       "      <td>0.381620</td>\n",
       "      <td>-0.039221</td>\n",
       "    </tr>\n",
       "    <tr>\n",
       "      <th>2045</th>\n",
       "      <td>0.450706</td>\n",
       "      <td>-0.424301</td>\n",
       "      <td>0.411551</td>\n",
       "      <td>0.328261</td>\n",
       "      <td>0.030625</td>\n",
       "      <td>-0.186563</td>\n",
       "      <td>-0.686519</td>\n",
       "      <td>0.170887</td>\n",
       "      <td>-0.283004</td>\n",
       "      <td>0.599489</td>\n",
       "      <td>...</td>\n",
       "      <td>1.025982</td>\n",
       "      <td>-0.918605</td>\n",
       "      <td>0.689864</td>\n",
       "      <td>-0.410859</td>\n",
       "      <td>-0.162232</td>\n",
       "      <td>-0.233352</td>\n",
       "      <td>0.712453</td>\n",
       "      <td>0.026411</td>\n",
       "      <td>0.085908</td>\n",
       "      <td>0.151146</td>\n",
       "    </tr>\n",
       "    <tr>\n",
       "      <th>61</th>\n",
       "      <td>0.201871</td>\n",
       "      <td>-0.709691</td>\n",
       "      <td>0.472239</td>\n",
       "      <td>0.021727</td>\n",
       "      <td>-0.761589</td>\n",
       "      <td>-0.614881</td>\n",
       "      <td>-0.017946</td>\n",
       "      <td>-0.493089</td>\n",
       "      <td>0.020694</td>\n",
       "      <td>0.596931</td>\n",
       "      <td>...</td>\n",
       "      <td>0.950691</td>\n",
       "      <td>-0.165642</td>\n",
       "      <td>0.930925</td>\n",
       "      <td>-0.179106</td>\n",
       "      <td>-0.878670</td>\n",
       "      <td>0.208187</td>\n",
       "      <td>0.963974</td>\n",
       "      <td>0.759506</td>\n",
       "      <td>-0.602236</td>\n",
       "      <td>0.605712</td>\n",
       "    </tr>\n",
       "    <tr>\n",
       "      <th>1259</th>\n",
       "      <td>0.591678</td>\n",
       "      <td>-0.093739</td>\n",
       "      <td>0.016063</td>\n",
       "      <td>-0.190001</td>\n",
       "      <td>-1.040889</td>\n",
       "      <td>-0.339110</td>\n",
       "      <td>-0.732730</td>\n",
       "      <td>0.514930</td>\n",
       "      <td>0.003258</td>\n",
       "      <td>0.302663</td>\n",
       "      <td>...</td>\n",
       "      <td>1.096214</td>\n",
       "      <td>-0.606475</td>\n",
       "      <td>-0.055335</td>\n",
       "      <td>0.177271</td>\n",
       "      <td>-0.339264</td>\n",
       "      <td>0.044101</td>\n",
       "      <td>0.427433</td>\n",
       "      <td>0.326121</td>\n",
       "      <td>0.159303</td>\n",
       "      <td>0.334155</td>\n",
       "    </tr>\n",
       "    <tr>\n",
       "      <th>949</th>\n",
       "      <td>-0.378547</td>\n",
       "      <td>-0.582111</td>\n",
       "      <td>-0.293676</td>\n",
       "      <td>0.505529</td>\n",
       "      <td>-1.042519</td>\n",
       "      <td>1.041653</td>\n",
       "      <td>-1.042608</td>\n",
       "      <td>-0.270629</td>\n",
       "      <td>1.146068</td>\n",
       "      <td>0.159086</td>\n",
       "      <td>...</td>\n",
       "      <td>1.316795</td>\n",
       "      <td>-0.544019</td>\n",
       "      <td>0.471581</td>\n",
       "      <td>-0.037146</td>\n",
       "      <td>-0.368860</td>\n",
       "      <td>-0.030393</td>\n",
       "      <td>0.960981</td>\n",
       "      <td>-0.530280</td>\n",
       "      <td>-0.155071</td>\n",
       "      <td>-0.379835</td>\n",
       "    </tr>\n",
       "  </tbody>\n",
       "</table>\n",
       "<p>5 rows × 768 columns</p>\n",
       "</div>"
      ],
      "text/plain": [
       "             0         1         2         3         4         5         6  \\\n",
       "2066  0.644360 -0.322945 -0.067169  0.433594 -0.808968 -0.152856 -0.647717   \n",
       "2045  0.450706 -0.424301  0.411551  0.328261  0.030625 -0.186563 -0.686519   \n",
       "61    0.201871 -0.709691  0.472239  0.021727 -0.761589 -0.614881 -0.017946   \n",
       "1259  0.591678 -0.093739  0.016063 -0.190001 -1.040889 -0.339110 -0.732730   \n",
       "949  -0.378547 -0.582111 -0.293676  0.505529 -1.042519  1.041653 -1.042608   \n",
       "\n",
       "             7         8         9  ...       758       759       760  \\\n",
       "2066  0.184886  0.296216  0.320703  ...  1.217888 -0.477606  0.415001   \n",
       "2045  0.170887 -0.283004  0.599489  ...  1.025982 -0.918605  0.689864   \n",
       "61   -0.493089  0.020694  0.596931  ...  0.950691 -0.165642  0.930925   \n",
       "1259  0.514930  0.003258  0.302663  ...  1.096214 -0.606475 -0.055335   \n",
       "949  -0.270629  1.146068  0.159086  ...  1.316795 -0.544019  0.471581   \n",
       "\n",
       "           761       762       763       764       765       766       767  \n",
       "2066 -0.565366  0.155336 -0.465147  0.415667 -0.456462  0.381620 -0.039221  \n",
       "2045 -0.410859 -0.162232 -0.233352  0.712453  0.026411  0.085908  0.151146  \n",
       "61   -0.179106 -0.878670  0.208187  0.963974  0.759506 -0.602236  0.605712  \n",
       "1259  0.177271 -0.339264  0.044101  0.427433  0.326121  0.159303  0.334155  \n",
       "949  -0.037146 -0.368860 -0.030393  0.960981 -0.530280 -0.155071 -0.379835  \n",
       "\n",
       "[5 rows x 768 columns]"
      ]
     },
     "execution_count": 90,
     "metadata": {},
     "output_type": "execute_result"
    }
   ],
   "source": [
    "embeddings_df.head()"
   ]
  },
  {
   "cell_type": "code",
   "execution_count": 91,
   "metadata": {},
   "outputs": [],
   "source": [
    "train_X = embeddings_df #overwrite features"
   ]
  },
  {
   "cell_type": "code",
   "execution_count": 92,
   "metadata": {},
   "outputs": [
    {
     "name": "stdout",
     "output_type": "stream",
     "text": [
      "[Pipeline] ............ (step 1 of 2) Processing scaler, total=   0.1s\n",
      "[Pipeline] ............... (step 2 of 2) Processing clf, total=  10.7s\n"
     ]
    },
    {
     "name": "stderr",
     "output_type": "stream",
     "text": [
      "c:\\Users\\camim\\anaconda3\\Lib\\site-packages\\sklearn\\svm\\_base.py:1244: ConvergenceWarning: Liblinear failed to converge, increase the number of iterations.\n",
      "  warnings.warn(\n"
     ]
    }
   ],
   "source": [
    "MODEL = pipeline.fit(train_X, train_Y)"
   ]
  },
  {
   "cell_type": "code",
   "execution_count": null,
   "metadata": {},
   "outputs": [
    {
     "name": "stdout",
     "output_type": "stream",
     "text": [
      "[Pipeline] ............ (step 1 of 2) Processing scaler, total=   0.1s\n"
     ]
    },
    {
     "name": "stderr",
     "output_type": "stream",
     "text": [
      "c:\\Users\\camim\\anaconda3\\Lib\\site-packages\\sklearn\\svm\\_base.py:1244: ConvergenceWarning: Liblinear failed to converge, increase the number of iterations.\n",
      "  warnings.warn(\n"
     ]
    },
    {
     "name": "stdout",
     "output_type": "stream",
     "text": [
      "[Pipeline] ............... (step 2 of 2) Processing clf, total=   8.5s\n",
      "[Pipeline] ............ (step 1 of 2) Processing scaler, total=   0.1s\n"
     ]
    },
    {
     "name": "stderr",
     "output_type": "stream",
     "text": [
      "c:\\Users\\camim\\anaconda3\\Lib\\site-packages\\sklearn\\svm\\_base.py:1244: ConvergenceWarning: Liblinear failed to converge, increase the number of iterations.\n",
      "  warnings.warn(\n"
     ]
    },
    {
     "name": "stdout",
     "output_type": "stream",
     "text": [
      "[Pipeline] ............... (step 2 of 2) Processing clf, total=   8.2s\n",
      "[Pipeline] ............ (step 1 of 2) Processing scaler, total=   0.1s\n"
     ]
    },
    {
     "name": "stderr",
     "output_type": "stream",
     "text": [
      "c:\\Users\\camim\\anaconda3\\Lib\\site-packages\\sklearn\\svm\\_base.py:1244: ConvergenceWarning: Liblinear failed to converge, increase the number of iterations.\n",
      "  warnings.warn(\n"
     ]
    },
    {
     "name": "stdout",
     "output_type": "stream",
     "text": [
      "[Pipeline] ............... (step 2 of 2) Processing clf, total=   8.2s\n",
      "[Pipeline] ............ (step 1 of 2) Processing scaler, total=   0.1s\n"
     ]
    },
    {
     "name": "stderr",
     "output_type": "stream",
     "text": [
      "c:\\Users\\camim\\anaconda3\\Lib\\site-packages\\sklearn\\svm\\_base.py:1244: ConvergenceWarning: Liblinear failed to converge, increase the number of iterations.\n",
      "  warnings.warn(\n"
     ]
    },
    {
     "name": "stdout",
     "output_type": "stream",
     "text": [
      "[Pipeline] ............... (step 2 of 2) Processing clf, total=   8.6s\n",
      "[Pipeline] ............ (step 1 of 2) Processing scaler, total=   0.1s\n",
      "[Pipeline] ............... (step 2 of 2) Processing clf, total=   9.1s\n",
      "----------MODEL POOLED ALBERTO----------\n",
      "Mean macro-f1: 0.747\n",
      "Standard deviation macro-f1: 0.006\n"
     ]
    },
    {
     "name": "stderr",
     "output_type": "stream",
     "text": [
      "c:\\Users\\camim\\anaconda3\\Lib\\site-packages\\sklearn\\svm\\_base.py:1244: ConvergenceWarning: Liblinear failed to converge, increase the number of iterations.\n",
      "  warnings.warn(\n"
     ]
    }
   ],
   "source": [
    "scores = cross_validate(pipeline, train_X, train_Y, scoring=scoring, cv=splitter)\n",
    "print(\"----------MODEL POOLED ALBERTO----------\")\n",
    "print(\"Mean macro-f1:\", np.mean(scores['test_f1_macro']).round(3))\n",
    "print(\"Standard deviation macro-f1:\", np.std(scores['test_f1_macro']).round(3))"
   ]
  },
  {
   "cell_type": "code",
   "execution_count": 94,
   "metadata": {},
   "outputs": [],
   "source": [
    "scores_df = pd.DataFrame(scores)\n",
    "scores_df['model'] = 'actual model'\n",
    "scores_df['iteration'] = list(range(1, 6))\n",
    "baselines_scores_df = pd.DataFrame(baselines_scores)\n",
    "baselines_scores_df['model'] = 'dummy classifier'\n",
    "baselines_scores_df['iteration'] = list(range(1, 6))\n",
    "\n",
    "scores_df = pd.concat([scores_df, baselines_scores_df]).drop(['fit_time', 'score_time'], axis=1)\n",
    "scores_df_long = pd.melt(scores_df, id_vars=['model', 'iteration'], var_name='metric')"
   ]
  },
  {
   "cell_type": "code",
   "execution_count": null,
   "metadata": {},
   "outputs": [
    {
     "name": "stderr",
     "output_type": "stream",
     "text": [
      "c:\\Users\\camim\\anaconda3\\Lib\\site-packages\\seaborn\\_oldcore.py:1119: FutureWarning: use_inf_as_na option is deprecated and will be removed in a future version. Convert inf values to NaN before operating instead.\n",
      "  with pd.option_context('mode.use_inf_as_na', True):\n",
      "c:\\Users\\camim\\anaconda3\\Lib\\site-packages\\seaborn\\_oldcore.py:1119: FutureWarning: use_inf_as_na option is deprecated and will be removed in a future version. Convert inf values to NaN before operating instead.\n",
      "  with pd.option_context('mode.use_inf_as_na', True):\n"
     ]
    },
    {
     "data": {
      "image/png": "[encoded data removed]",
      "text/plain": [
       "<Figure size 640x480 with 1 Axes>"
      ]
     },
     "metadata": {},
     "output_type": "display_data"
    }
   ],
   "source": [
    "sns.lineplot(scores_df_long, x='iteration', y='value', hue='metric', style='model')\n",
    "plt.xticks(list(range(1, 6)))\n",
    "plt.xlabel(\"Fold\")\n",
    "plt.ylabel(\"Score\")\n",
    "plt.title(\"Accuracy, Precision, Recall, F1-Score\")\n",
    "plt.legend(loc='upper left', bbox_to_anchor=(1, 1))\n",
    "plt.show()"
   ]
  },
  {
   "cell_type": "code",
   "execution_count": null,
   "metadata": {},
   "outputs": [
    {
     "name": "stdout",
     "output_type": "stream",
     "text": [
      "[Pipeline] ............ (step 1 of 2) Processing scaler, total=   0.1s\n"
     ]
    },
    {
     "name": "stderr",
     "output_type": "stream",
     "text": [
      "c:\\Users\\camim\\anaconda3\\Lib\\site-packages\\sklearn\\svm\\_base.py:1244: ConvergenceWarning: Liblinear failed to converge, increase the number of iterations.\n",
      "  warnings.warn(\n"
     ]
    },
    {
     "name": "stdout",
     "output_type": "stream",
     "text": [
      "[Pipeline] ............... (step 2 of 2) Processing clf, total=   8.2s\n",
      "[Pipeline] ............ (step 1 of 2) Processing scaler, total=   0.1s\n"
     ]
    },
    {
     "name": "stderr",
     "output_type": "stream",
     "text": [
      "c:\\Users\\camim\\anaconda3\\Lib\\site-packages\\sklearn\\svm\\_base.py:1244: ConvergenceWarning: Liblinear failed to converge, increase the number of iterations.\n",
      "  warnings.warn(\n"
     ]
    },
    {
     "name": "stdout",
     "output_type": "stream",
     "text": [
      "[Pipeline] ............... (step 2 of 2) Processing clf, total=   8.9s\n",
      "[Pipeline] ............ (step 1 of 2) Processing scaler, total=   0.1s\n"
     ]
    },
    {
     "name": "stderr",
     "output_type": "stream",
     "text": [
      "c:\\Users\\camim\\anaconda3\\Lib\\site-packages\\sklearn\\svm\\_base.py:1244: ConvergenceWarning: Liblinear failed to converge, increase the number of iterations.\n",
      "  warnings.warn(\n"
     ]
    },
    {
     "name": "stdout",
     "output_type": "stream",
     "text": [
      "[Pipeline] ............... (step 2 of 2) Processing clf, total=   8.6s\n",
      "[Pipeline] ............ (step 1 of 2) Processing scaler, total=   0.1s\n"
     ]
    },
    {
     "name": "stderr",
     "output_type": "stream",
     "text": [
      "c:\\Users\\camim\\anaconda3\\Lib\\site-packages\\sklearn\\svm\\_base.py:1244: ConvergenceWarning: Liblinear failed to converge, increase the number of iterations.\n",
      "  warnings.warn(\n"
     ]
    },
    {
     "name": "stdout",
     "output_type": "stream",
     "text": [
      "[Pipeline] ............... (step 2 of 2) Processing clf, total=   8.6s\n",
      "[Pipeline] ............ (step 1 of 2) Processing scaler, total=   0.1s\n",
      "[Pipeline] ............... (step 2 of 2) Processing clf, total=   8.6s\n"
     ]
    },
    {
     "name": "stderr",
     "output_type": "stream",
     "text": [
      "c:\\Users\\camim\\anaconda3\\Lib\\site-packages\\sklearn\\svm\\_base.py:1244: ConvergenceWarning: Liblinear failed to converge, increase the number of iterations.\n",
      "  warnings.warn(\n"
     ]
    },
    {
     "data": {
      "image/png": "[encoded data removed]",
      "text/plain": [
       "<Figure size 640x480 with 2 Axes>"
      ]
     },
     "metadata": {},
     "output_type": "display_data"
    }
   ],
   "source": [
    "y_pred = cross_val_predict(pipeline, train_X, train_Y, cv=splitter)\n",
    "ConfusionMatrixDisplay.from_predictions(y_pred=y_pred, y_true=train_Y, cmap='Greens', normalize='true')\n",
    "plt.show()"
   ]
  },
  {
   "cell_type": "markdown",
   "metadata": {},
   "source": [
    "With a macro F1 of 0.747, the model using pooled sentence embeddings extracted from AlBERTo is the new winner."
   ]
  },
  {
   "cell_type": "code",
   "execution_count": 105,
   "metadata": {},
   "outputs": [],
   "source": [
    "\"\"\"\n",
    "#Save the model in pickle format\n",
    "results_path = Path(\"../results\")\n",
    "models_dir = \"models\"\n",
    "pickle_model = \"svm_alberto_pooled.pkl\"\n",
    "\n",
    "with open(results_path / models_dir / pickle_model, mode='bw') as outputfile:\n",
    "    pickle.dump(MODEL, outputfile)\n",
    "\"\"\""
   ]
  },
  {
   "cell_type": "markdown",
   "metadata": {},
   "source": [
    "# Evaluation on the test sets\n",
    "We'll now test our best performing SVM model (the one using sentence embeddings extracted from AlBERTo, saved in the var `MODEL`) on our test sets."
   ]
  },
  {
   "cell_type": "markdown",
   "metadata": {},
   "source": [
    "## Load the model and the test datasets (features and labels)"
   ]
  },
  {
   "cell_type": "code",
   "execution_count": null,
   "metadata": {},
   "outputs": [],
   "source": [
    "#Load the model\n",
    "results_path = Path(\"../results\")\n",
    "models_dir = \"models\"\n",
    "pickle_model = \"svm_alberto_pooled.pkl\"\n",
    "\n",
    "with open(results_path / models_dir / pickle_model, 'rb') as infile:\n",
    "    MODEL = pickle.load(infile)"
   ]
  },
  {
   "cell_type": "code",
   "execution_count": 97,
   "metadata": {},
   "outputs": [],
   "source": [
    "#import the docs → pickle files by Giulia\n",
    "'''\n",
    "Dict of dicts → Save each document in a dictionary:\n",
    "id document id: string\n",
    "raw_text document text as is (no processing): string\n",
    "hs: int\n",
    "stereotype: int\n",
    "proc_text document text processed by Stanza Pipeline: stanza Document\n",
    "'''\n",
    "#results_path = Path(\"../results\")\n",
    "pickle_test_tweets = \"stanza_proc_test-tweets.pkl\"\n",
    "pickle_test_news = \"stanza_proc_test-news.pkl\" \n",
    "\n",
    "with open(results_path / pickle_test_tweets, 'rb') as infile:\n",
    "    loaded_test_tweets = pickle.load(infile)\n",
    "\n",
    "with open(results_path / pickle_test_news, 'rb') as infile:\n",
    "    loaded_test_news = pickle.load(infile)"
   ]
  },
  {
   "cell_type": "code",
   "execution_count": 123,
   "metadata": {},
   "outputs": [
    {
     "data": {
      "text/plain": [
       "1"
      ]
     },
     "execution_count": 123,
     "metadata": {},
     "output_type": "execute_result"
    }
   ],
   "source": [
    "#loaded_test_news[0]['hs']"
   ]
  },
  {
   "cell_type": "code",
   "execution_count": 128,
   "metadata": {},
   "outputs": [],
   "source": [
    "#Features\n",
    "embeddings_df_test_tweets = pd.read_csv(results_path / 'alberto_sent_embs_pooled_test-tweets.csv', index_col=0)\n",
    "embeddings_df_test_news = pd.read_csv(results_path / 'alberto_sent_embs_pooled_test-news.csv', index_col=0)"
   ]
  },
  {
   "cell_type": "code",
   "execution_count": 129,
   "metadata": {},
   "outputs": [],
   "source": [
    "#Labels\n",
    "all_labels_test_tweets = create_label_list(loaded_test_tweets)\n",
    "all_labels_test_news = create_label_list(loaded_test_news)"
   ]
  },
  {
   "cell_type": "markdown",
   "metadata": {},
   "source": [
    "## Test: Tweets"
   ]
  },
  {
   "cell_type": "code",
   "execution_count": 133,
   "metadata": {},
   "outputs": [],
   "source": [
    "test_X = embeddings_df_test_tweets\n",
    "test_Y = all_labels_test_tweets"
   ]
  },
  {
   "cell_type": "code",
   "execution_count": 134,
   "metadata": {},
   "outputs": [],
   "source": [
    "test_preds = MODEL.predict(test_X)"
   ]
  },
  {
   "cell_type": "code",
   "execution_count": 140,
   "metadata": {},
   "outputs": [
    {
     "name": "stdout",
     "output_type": "stream",
     "text": [
      "              precision    recall  f1-score   support\n",
      "\n",
      "           0      0.741     0.718     0.729       641\n",
      "           1      0.718     0.741     0.729       622\n",
      "\n",
      "    accuracy                          0.729      1263\n",
      "   macro avg      0.729     0.729     0.729      1263\n",
      "weighted avg      0.730     0.729     0.729      1263\n",
      "\n"
     ]
    }
   ],
   "source": [
    "print(classification_report(test_Y, test_preds, digits=3))"
   ]
  },
  {
   "cell_type": "code",
   "execution_count": 139,
   "metadata": {},
   "outputs": [
    {
     "data": {
      "image/png": "[encoded data removed]",
      "text/plain": [
       "<Figure size 640x480 with 2 Axes>"
      ]
     },
     "metadata": {},
     "output_type": "display_data"
    }
   ],
   "source": [
    "ConfusionMatrixDisplay.from_predictions(y_true=test_Y, y_pred=test_preds, cmap='Greens', normalize='true')\n",
    "plt.show()"
   ]
  },
  {
   "cell_type": "markdown",
   "metadata": {},
   "source": [
    "## Test: News"
   ]
  },
  {
   "cell_type": "code",
   "execution_count": 141,
   "metadata": {},
   "outputs": [],
   "source": [
    "test_X = embeddings_df_test_news\n",
    "test_Y = all_labels_test_news"
   ]
  },
  {
   "cell_type": "code",
   "execution_count": 142,
   "metadata": {},
   "outputs": [],
   "source": [
    "test_preds = MODEL.predict(test_X)"
   ]
  },
  {
   "cell_type": "code",
   "execution_count": 143,
   "metadata": {},
   "outputs": [
    {
     "name": "stdout",
     "output_type": "stream",
     "text": [
      "              precision    recall  f1-score   support\n",
      "\n",
      "           0      0.730     0.881     0.798       319\n",
      "           1      0.670     0.425     0.520       181\n",
      "\n",
      "    accuracy                          0.716       500\n",
      "   macro avg      0.700     0.653     0.659       500\n",
      "weighted avg      0.708     0.716     0.698       500\n",
      "\n"
     ]
    }
   ],
   "source": [
    "print(classification_report(test_Y, test_preds, digits=3))"
   ]
  },
  {
   "cell_type": "code",
   "execution_count": 144,
   "metadata": {},
   "outputs": [
    {
     "data": {
      "image/png": "[encoded data removed]",
      "text/plain": [
       "<Figure size 640x480 with 2 Axes>"
      ]
     },
     "metadata": {},
     "output_type": "display_data"
    }
   ],
   "source": [
    "ConfusionMatrixDisplay.from_predictions(y_true=test_Y, y_pred=test_preds, cmap='Greens', normalize='true')\n",
    "plt.show()"
   ]
  },
  {
   "cell_type": "markdown",
   "metadata": {},
   "source": [
    "Tweets: F1 macro = 0.729 . Balanced for the two classes.\n",
    "News: F1 macro = 0.659 (significantly lower: out-of-domain) → 0: 0.798, 1:520. Unbalanced. Particularly bad recall for class 1: struggles to detect hate in news headlines."
   ]
  },
  {
   "cell_type": "markdown",
   "metadata": {},
   "source": []
  }
 ],
 "metadata": {
  "colab": {
   "include_colab_link": true,
   "provenance": [],
   "toc_visible": true
  },
  "kernelspec": {
   "display_name": "base",
   "language": "python",
   "name": "python3"
  },
  "language_info": {
   "codemirror_mode": {
    "name": "ipython",
    "version": 3
   },
   "file_extension": ".py",
   "mimetype": "text/x-python",
   "name": "python",
   "nbconvert_exporter": "python",
   "pygments_lexer": "ipython3",
   "version": "3.11.7"
  }
 },
 "nbformat": 4,
 "nbformat_minor": 0
}
